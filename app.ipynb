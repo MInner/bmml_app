{
 "metadata": {
  "name": "",
  "signature": "sha256:7c86e1982332327ab9f57233b250e5a5b8cf108bea3d11faa3cc98fd04dec107"
 },
 "nbformat": 3,
 "nbformat_minor": 0,
 "worksheets": [
  {
   "cells": [
    {
     "cell_type": "code",
     "collapsed": false,
     "input": [
      "import numpy as np\n",
      "import string\n",
      "import random\n",
      "from itertools import product\n",
      "from matplotlib.pylab import plt\n",
      "%matplotlib inline\n",
      "plt.rcParams['figure.figsize'] = (10.0, 8.0)\n",
      "np.set_printoptions(linewidth=90)"
     ],
     "language": "python",
     "metadata": {},
     "outputs": [],
     "prompt_number": 228
    },
    {
     "cell_type": "code",
     "collapsed": false,
     "input": [
      "def print_f(f):\n",
      "    for i, f_i in enumerate(f):\n",
      "        print \"%s -> %s\" % (chr(i+97), chr(f_i+97))\n",
      "        \n",
      "def print_to_f(s):\n",
      "    \"\"\" Turnes written transopition into vector\"\"\"\n",
      "    f = []\n",
      "    for line in s.split('\\n'):\n",
      "        f.append(ord(line[-1])-97)\n",
      "    return f\n",
      "\n",
      "f_real = print_to_f(\"\"\"a -> m\n",
      "b -> e\n",
      "c -> t\n",
      "d -> s\n",
      "e -> b\n",
      "f -> a\n",
      "g -> l\n",
      "h -> o\n",
      "i -> i\n",
      "j -> r\n",
      "k -> p\n",
      "l -> q\n",
      "m -> j\n",
      "n -> h\n",
      "o -> v\n",
      "p -> u\n",
      "q -> x\n",
      "r -> z\n",
      "s -> g\n",
      "t -> c\n",
      "u -> f\n",
      "v -> y\n",
      "w -> d\n",
      "x -> n\n",
      "y -> w\n",
      "z -> k\"\"\")\n",
      "\n",
      "def f_diff(f, f_):\n",
      "    \"\"\" Prints diff of two transopition in human-readable format\"\"\"\n",
      "    for a, b, c in zip(f, f_, range(97, 97+len(f))):\n",
      "        print chr(c), \" \", chr(a+97), chr(b+97), (\"<- !\" if a != b else \"\")\n",
      "        \n",
      "print f_real\n",
      "\n",
      "import inspect  \n",
      "def pv(inpt):\n",
      "    if type(inpt) == list:\n",
      "        for e in inpt:\n",
      "            pv(e)\n",
      "    else:\n",
      "        record=inspect.getouterframes(inspect.currentframe())[1]\n",
      "        frame=record[0]\n",
      "        val=eval(inpt,frame.f_globals,frame.f_locals)\n",
      "        print('{0}: {1}'.format(inpt, val))\n",
      "        \n",
      "def distance(s1, s2):\n",
      "    d = {}\n",
      "    lenstr1 = len(s1)\n",
      "    lenstr2 = len(s2)\n",
      "    for i in xrange(-1,lenstr1+1):\n",
      "        d[(i,-1)] = i+1\n",
      "    for j in xrange(-1,lenstr2+1):\n",
      "        d[(-1,j)] = j+1\n",
      " \n",
      "    for i in xrange(lenstr1):\n",
      "        for j in xrange(lenstr2):\n",
      "            if s1[i] == s2[j]:\n",
      "                cost = 0\n",
      "            else:\n",
      "                cost = 1\n",
      "            d[(i,j)] = min(\n",
      "                           d[(i-1,j)] + 1, # deletion\n",
      "                           d[(i,j-1)] + 1, # insertion\n",
      "                           d[(i-1,j-1)] + cost, # substitution\n",
      "                          )\n",
      "            if i and j and s1[i]==s2[j-1] and s1[i-1] == s2[j]:\n",
      "                d[(i,j)] = min (d[(i,j)], d[i-2,j-2] + cost) # transposition\n",
      " \n",
      "    return d[lenstr1-1,lenstr2-1]"
     ],
     "language": "python",
     "metadata": {},
     "outputs": [
      {
       "output_type": "stream",
       "stream": "stdout",
       "text": [
        " [12, 4, 19, 18, 1, 0, 11, 14, 8, 17, 15, 16, 9, 7, 21, 20, 23, 25, 6, 2, 5, 24, 3, 13, 22, 10]\n"
       ]
      }
     ],
     "prompt_number": 157
    },
    {
     "cell_type": "code",
     "collapsed": false,
     "input": [
      "def MetropolisLogModel(log_p, q_gen, x_0):\n",
      "    \"\"\" \n",
      "    Metropolis Algorythm model\n",
      "    -----\n",
      "    Returns an iterrator for generation value with log probability = log_p\n",
      "    \n",
      "    Example of usage:\n",
      "    \n",
      "        mm = MetropolisLogModel(..)\n",
      "        for x in mm:\n",
      "            print x\n",
      "            \n",
      "    or\n",
      "    \n",
      "        while True:\n",
      "            x = next(mm)\n",
      "        \n",
      "    \"\"\"\n",
      "    \n",
      "    x_t = x_0\n",
      "    log_p_x_t = log_p(x_t)\n",
      "    while True:\n",
      "        x_ = q_gen(x_t)\n",
      "        alpha = log_p(x_) - log_p_x_t\n",
      "        # why? : if alpha > 0 == p(x_) / p(x_t) > 1 or log(random) > alpha == random < p(x_) / p(x_t)\n",
      "        s = np.random.sample()\n",
      "        if alpha > 0 or np.log(s) < alpha:\n",
      "            x_t = x_\n",
      "            log_p_x_t = log_p(x_t)\n",
      "            print '.',\n",
      "        \n",
      "        yield x_t, log_p_x_t\n",
      "        \n",
      "def shuffler_M(M):\n",
      "    \"\"\" \n",
      "    Return the fuction that randomly shuffles M componens of the vector\n",
      "    \n",
      "    Example of usage:\n",
      "    \n",
      "        suffler2 = shuffler_M(2)\n",
      "        seq = [1, 2, 3, 4, 5, 6, 7]\n",
      "        print suffler2(seq) # [1, 2, 6, 4, 5, 3, 7]\n",
      "    \n",
      "    \"\"\"\n",
      "    def tmp(f):\n",
      "        indexes_to_shuffle = np.array(random.sample(np.arange(len(f)), 2))\n",
      "        shuffled_indexes = indexes_to_shuffle\n",
      "        while np.all(shuffled_indexes == indexes_to_shuffle):\n",
      "            shuffled_indexes = np.random.permutation(indexes_to_shuffle)\n",
      "        f_ = np.array(f)\n",
      "        f_[indexes_to_shuffle] = f_[shuffled_indexes]\n",
      "        return f_\n",
      "    return tmp\n",
      "\n",
      "def substrs_of_length(s, l):\n",
      "    \"\"\"\n",
      "    Returns all substrings of a string s of length l\n",
      "    \n",
      "    Example:\n",
      "        \n",
      "        substrs_of_length('abcde', 3) # ['abc', 'bce', 'cde']\n",
      "\n",
      "    \"\"\"\n",
      "    return [s[i:i+l] for i in range(len(s)-l+1)]\n",
      "\n",
      "class BayesianDecrypter:\n",
      "    \"\"\"\n",
      "    Bayesian Decrypter Model\n",
      "    -----\n",
      "    \n",
      "    Note: symbol might be substing of length N as well as single char\n",
      "    \n",
      "    How to work with it:\n",
      "    0. __init__ : \n",
      "        Init model with alphabet (all possible symbols) and mapping from symbols to codes\n",
      "        Note: mapping must pesrseve order !\n",
      "    1. load_corpus : \n",
      "        Takes some corpora and builds vector of probabilites of different symbols (codes of symbols, actually). \n",
      "        Stores it in self.symbol_prob\n",
      "    2. load_encrypted :\n",
      "        Takes some crtyped text, converts it into the seqance of codes\n",
      "    3. fit:\n",
      "        Starts te process of proper f search\n",
      "       \n",
      "    Example:\n",
      "    \n",
      "        model = BayesianDecrypter(alphabet = list(string.ascii_lowercase), symbol_code_func = lambda x: ord(x) - 97, permutations = 10)\n",
      "        model.load_corpus('/home/ben/heavy/bmdecrypt/war_and_peace.txt')\n",
      "        model.load_encrypted('/home/ben/heavy/bmdecrypt/oliver_cr.txt')\n",
      "        model.fit(gen_n = 100, warmup_n = 10, f_0=f_real, verbose=False)\n",
      "    \n",
      "    \"\"\"\n",
      "        \n",
      "    \n",
      "    def __init__(self, alphabet, symbol_code_func, permutations):\n",
      "        \"\"\"\n",
      "            Init model with alphabet (all possible symbols) and mapping from symbols to codes\n",
      "            Note: mapping must pesrseve order !\n",
      "        \n",
      "        ---\n",
      "            \n",
      "        Example (used below):\n",
      "        \n",
      "            bgmodel = BayesianDecrypter(\n",
      "                alphabet = [''.join(x) for x in product(string.ascii_lowercase, repeat=n_gram)], # ['aa', 'ab', ...]\n",
      "                symbol_code_func = nramgmode,  # 'aa' -> 0, 'ab' -> 1, ..., 'ba' -> 26 \n",
      "                permutations = 2)\n",
      "            \n",
      "        \"\"\"\n",
      "        codes = []\n",
      "        for letter in alphabet:\n",
      "            codes.append(symbol_code_func(letter))\n",
      "        if codes != range(len(alphabet)):\n",
      "            raise ValueError, \"alphabet and symbol_code_func are not aligned!\" + str(codes)\n",
      "        \n",
      "        self.alphabet = alphabet\n",
      "        self.symbol_code_func = symbol_code_func\n",
      "        self.symbol_length = len(alphabet[0])\n",
      "        self.alphabet_length = len(alphabet)\n",
      "        self.permutations = permutations\n",
      "    \n",
      "    def load_corpus(self, filename):\n",
      "        symbol_n = np.zeros(self.alphabet_length)\n",
      "        with open(filename) as f:\n",
      "            for line in f:\n",
      "                for symbol in substrs_of_length(line[:-1], self.symbol_length):\n",
      "                    symbol_n[self.symbol_code_func(symbol)] += 1\n",
      "\n",
      "\n",
      "        self.symbol_prob = symbol_n / np.sum(symbol_n, dtype = float)\n",
      "        self.symbol_prob[self.symbol_prob == 0] = 1e-300 # for numerical stabilty : need to take log(x) futher\n",
      "    \n",
      "    def load_encrypted(self, filename, f_real):\n",
      "        self.f_real = np.array(f_real)\n",
      "        x = []\n",
      "        letter_count = np.zeros(len(string.ascii_lowercase))\n",
      "        with open(filename) as f:\n",
      "            for line in f:\n",
      "                for symbol in substrs_of_length(line[:-1], self.symbol_length):\n",
      "                    x.append(self.symbol_code_func(symbol))\n",
      "                for letter in line[:-1]:\n",
      "                    letter_count[ord(letter)-97] += 1\n",
      "        \n",
      "        \n",
      "        self.letter_ratio = letter_count / np.sum(letter_count, dtype = float)\n",
      "        \n",
      "        self.x = x\n",
      "        \n",
      "    def right_ratio(self, f = None):\n",
      "        if f == None:\n",
      "            f = self.fp_opt[0]\n",
      "            \n",
      "        if type(f) != np.ndarray:\n",
      "            f = np.array(f)\n",
      "        \n",
      "        return np.sum(self.letter_ratio[self.f_real == f])\n",
      "    \n",
      "    def stats(self, f = None):\n",
      "        print 'Real loglikelihood', self.log_p_x__f(self.f_real)\n",
      "        print 'Our  loglikelihood', self.fp_opt[1]\n",
      "\n",
      "        print 'Real vector', self.f_real\n",
      "        print 'Our  vector', self.fp_opt[0]\n",
      "\n",
      "        f_diff(self.f_real, self.fp_opt[0])\n",
      "        \n",
      "        print 'Right ratio', self.right_ratio()\n",
      "    \n",
      "    def ngramf(self, f):\n",
      "        \"\"\" \n",
      "        Builds traspotition rule for any n-gram-symbols based on 1-symbol rule f\n",
      "        -----\n",
      "        \n",
      "        Builds \n",
      "            code(aa) -> code(ff), code(ab) -> code(fg) ...\n",
      "        based on\n",
      "            code(a) -> code(f)\n",
      "            code(b) -> code(g)\n",
      "            ..\n",
      "            \n",
      "        What is inside?\n",
      "           \n",
      "           symbol_code_func(ab) = N -> symbol_code_func(char(f(ord('a') - 97) + 97 ) + char(f(ord('b') - 97)  + 97 ) )\n",
      "        \"\"\"\n",
      "        new_f = []\n",
      "        for symbol in self.alphabet:\n",
      "            newsymbol = ''.join([chr(97 + f[ord(ch) - 97]) for ch in symbol])\n",
      "            new_f.append(self.symbol_code_func(newsymbol))\n",
      "        return np.array(new_f)\n",
      "    \n",
      "    def log_p_x__f(self, f):\n",
      "        \"\"\" log p(x|f)\n",
      "        x - encrypted text (as array of integers)\n",
      "        f - trasposition to get decrypted\n",
      "        p_s - parametrs (probabilities of symbols)\n",
      "\n",
      "        returns: sum_i n_s_i*log p_s_i - log probability of f being right \"\"\"\n",
      "        \n",
      "        new_f = self.ngramf(f)\n",
      "        \n",
      "        if np.max(self.x) > len(new_f)-1:\n",
      "            raise ValueError, \"X has value %d while size of f is %d\" % (np.max(self.x), len(new_f))\n",
      "            \n",
      "        n_s = np.bincount(new_f[self.x]) # numbers of symbols in \"decryted|f\" text\n",
      "        n_s.resize((len(self.symbol_prob), )) # if few \"last\" symbols are not found - extend vector of Ns with zeros \n",
      "        p_x = np.sum( np.multiply(n_s, np.log(self.symbol_prob)))\n",
      "        return p_x\n",
      "    \n",
      "    def met_argmax_log_p(self, log_p, x_0, warmup_n = 100, gen_n = 1000, verbose = False):\n",
      "        \"\"\" \n",
      "        Metropolis argmax of logarithm estimater\n",
      "        ----\n",
      "        \n",
      "        Estimates \n",
      "            argmax_x log p(x) \n",
      "        as \n",
      "            argmax_i log p(x_i), x_i ~ p(x)\n",
      "\n",
      "        Where x_i is generated via MetropolisModel with q(x|x') = q(x'|x) and x' equal to some random shuffle(M) of x\n",
      "        \"\"\"\n",
      "        \n",
      "        self.hist = []\n",
      "        logopt = self.log_p_x__f(self.f_real)\n",
      "        \n",
      "        if gen_n > 100:\n",
      "            showevery = gen_n / 100\n",
      "        else:\n",
      "            showevery = 1\n",
      "\n",
      "        mm = MetropolisLogModel(log_p, shuffler_M(self.permutations), x_0)\n",
      "        \n",
      "        if warmup_n > 0:\n",
      "            for i in range(warmup_n):\n",
      "                print i,\n",
      "                x_start, _ = next(mm) # warm up\n",
      "            print\n",
      "        else:\n",
      "            x_start = x_0\n",
      "            \n",
      "        print \"Start with\", x_start\n",
      "\n",
      "        best_x_i = x_start\n",
      "        best_log_p_i = self.log_p_x__f(x_start)\n",
      "        \n",
      "        for i in range(gen_n):\n",
      "            x_i, log_p_i = next(mm)\n",
      "\n",
      "            if log_p_i > best_log_p_i:\n",
      "                best_log_p_i = log_p_i\n",
      "                best_x_i = x_i\n",
      "                \n",
      "                self.hist.append((i, logopt - best_log_p_i, distance(self.f_real, best_x_i), 1 - self.right_ratio(best_x_i)))\n",
      "                \n",
      "                if not verbose:\n",
      "                    print \"(%.2f)\" % best_log_p_i,\n",
      "\n",
      "            if verbose:\n",
      "                print \"%d : LogLike: %.5f %s\" %(i, log_p_i, x_i) + (\" <-- gotcha!\" if best_log_p_i == log_p_i else \"\")\n",
      "            else:\n",
      "                if i % showevery == 0:\n",
      "                    print i,\n",
      "                    \n",
      "        return best_x_i, best_log_p_i\n",
      "\n",
      "    def fit(self, f_0 = None, gen_n = 100, warmup_n = 10, verbose = False):\n",
      "        \"\"\"\n",
      "            Start the process of proper f search\n",
      "            \n",
      "        f_0 - initial guess of transopition f\n",
      "        warmup_n - number of f_ that are left (warmup) before we start testing them ()\n",
      "        gen_n - number of tested f_\n",
      "        verbose - show debug info\n",
      "        \"\"\"\n",
      "        if not hasattr(self, \"symbol_prob\"):\n",
      "            raise ValueError, \"You must load text corpus first, use .load_corpus(filename)\"\n",
      "        \n",
      "        if not hasattr(self, \"x\"):\n",
      "            raise ValueError, \"You must load text for decrypring first, use .load_encrypted(filename)\"\n",
      "        \n",
      "        if f_0 == None:\n",
      "            f_0 = np.arange(len(string.ascii_lowercase))\n",
      "        \n",
      "        print \"Initial guess is\", f_0\n",
      "        \n",
      "        self.fp_opt = self.met_argmax_log_p(self.log_p_x__f, f_0, verbose=verbose, gen_n=gen_n, warmup_n=warmup_n)\n",
      "        \n",
      "        return self.fp_opt"
     ],
     "language": "python",
     "metadata": {},
     "outputs": [
      {
       "output_type": "stream",
       "stream": "stdout",
       "text": [
        "\n"
       ]
      }
     ],
     "prompt_number": 256
    },
    {
     "cell_type": "code",
     "collapsed": false,
     "input": [
      "model = BayesianDecrypter(alphabet = list(string.ascii_lowercase), symbol_code_func = lambda x: ord(x) - 97, permutations = 2)\n",
      "model.load_corpus('/home/ben/heavy/bmdecrypt/war_and_peace.txt')\n",
      "model.load_encrypted('/home/ben/heavy/bmdecrypt/oliver_cr.txt', f_real)"
     ],
     "language": "python",
     "metadata": {},
     "outputs": [],
     "prompt_number": 247
    },
    {
     "cell_type": "code",
     "collapsed": false,
     "input": [
      "model.fit(gen_n = 1000, warmup_n = 0, f_0=None, verbose=False)\n",
      "model.stats()"
     ],
     "language": "python",
     "metadata": {},
     "outputs": [
      {
       "output_type": "stream",
       "stream": "stdout",
       "text": [
        "Initial guess is [ 0  1  2  3  4  5  6  7  8  9 10 11 12 13 14 15 16 17 18 19 20 21 22 23 24 25]\n",
        "Start with"
       ]
      },
      {
       "output_type": "stream",
       "stream": "stdout",
       "text": [
        " [ 0  1  2  3  4  5  6  7  8  9 10 11 12 13 14 15 16 17 18 19 20 21 22 23 24 25]\n",
        "0"
       ]
      },
      {
       "output_type": "stream",
       "stream": "stdout",
       "text": [
        " . (-2719100.72) "
       ]
      },
      {
       "output_type": "stream",
       "stream": "stdout",
       "text": [
        ". (-2551227.08) "
       ]
      },
      {
       "output_type": "stream",
       "stream": "stdout",
       "text": [
        ". (-2537232.87) "
       ]
      },
      {
       "output_type": "stream",
       "stream": "stdout",
       "text": [
        ". (-2470918.83) "
       ]
      },
      {
       "output_type": "stream",
       "stream": "stdout",
       "text": [
        "10 "
       ]
      },
      {
       "output_type": "stream",
       "stream": "stdout",
       "text": [
        ". (-2463548.64) "
       ]
      },
      {
       "output_type": "stream",
       "stream": "stdout",
       "text": [
        ". (-2459806.26) "
       ]
      },
      {
       "output_type": "stream",
       "stream": "stdout",
       "text": [
        ". (-2441670.18) "
       ]
      },
      {
       "output_type": "stream",
       "stream": "stdout",
       "text": [
        ". (-2430643.77) "
       ]
      },
      {
       "output_type": "stream",
       "stream": "stdout",
       "text": [
        ". (-2375179.91) "
       ]
      },
      {
       "output_type": "stream",
       "stream": "stdout",
       "text": [
        ". (-2340866.95) "
       ]
      },
      {
       "output_type": "stream",
       "stream": "stdout",
       "text": [
        ". (-2323054.52) "
       ]
      },
      {
       "output_type": "stream",
       "stream": "stdout",
       "text": [
        "20 "
       ]
      },
      {
       "output_type": "stream",
       "stream": "stdout",
       "text": [
        "30 "
       ]
      },
      {
       "output_type": "stream",
       "stream": "stdout",
       "text": [
        ". (-2262341.71) "
       ]
      },
      {
       "output_type": "stream",
       "stream": "stdout",
       "text": [
        ". (-2262320.58) "
       ]
      },
      {
       "output_type": "stream",
       "stream": "stdout",
       "text": [
        ". (-2261310.42) "
       ]
      },
      {
       "output_type": "stream",
       "stream": "stdout",
       "text": [
        "40 "
       ]
      },
      {
       "output_type": "stream",
       "stream": "stdout",
       "text": [
        ". (-2236799.83) "
       ]
      },
      {
       "output_type": "stream",
       "stream": "stdout",
       "text": [
        ". (-2232424.07) "
       ]
      },
      {
       "output_type": "stream",
       "stream": "stdout",
       "text": [
        "50 "
       ]
      },
      {
       "output_type": "stream",
       "stream": "stdout",
       "text": [
        ". (-2231603.79) "
       ]
      },
      {
       "output_type": "stream",
       "stream": "stdout",
       "text": [
        ". (-2230344.87) "
       ]
      },
      {
       "output_type": "stream",
       "stream": "stdout",
       "text": [
        "60 "
       ]
      },
      {
       "output_type": "stream",
       "stream": "stdout",
       "text": [
        ". (-2180911.29) "
       ]
      },
      {
       "output_type": "stream",
       "stream": "stdout",
       "text": [
        "70 "
       ]
      },
      {
       "output_type": "stream",
       "stream": "stdout",
       "text": [
        ". (-2159505.26) "
       ]
      },
      {
       "output_type": "stream",
       "stream": "stdout",
       "text": [
        "80 "
       ]
      },
      {
       "output_type": "stream",
       "stream": "stdout",
       "text": [
        ". (-2155661.87) "
       ]
      },
      {
       "output_type": "stream",
       "stream": "stdout",
       "text": [
        "90 "
       ]
      },
      {
       "output_type": "stream",
       "stream": "stdout",
       "text": [
        ". (-2152691.36) "
       ]
      },
      {
       "output_type": "stream",
       "stream": "stdout",
       "text": [
        ". (-2142467.95) 100 "
       ]
      },
      {
       "output_type": "stream",
       "stream": "stdout",
       "text": [
        ". (-2135969.73) "
       ]
      },
      {
       "output_type": "stream",
       "stream": "stdout",
       "text": [
        "110 "
       ]
      },
      {
       "output_type": "stream",
       "stream": "stdout",
       "text": [
        "120 "
       ]
      },
      {
       "output_type": "stream",
       "stream": "stdout",
       "text": [
        ". (-2129945.89) "
       ]
      },
      {
       "output_type": "stream",
       "stream": "stdout",
       "text": [
        ". (-2129102.49) "
       ]
      },
      {
       "output_type": "stream",
       "stream": "stdout",
       "text": [
        "130 "
       ]
      },
      {
       "output_type": "stream",
       "stream": "stdout",
       "text": [
        ". (-2126038.10) "
       ]
      },
      {
       "output_type": "stream",
       "stream": "stdout",
       "text": [
        ". (-2122026.52) "
       ]
      },
      {
       "output_type": "stream",
       "stream": "stdout",
       "text": [
        ". (-2121720.27) 140 "
       ]
      },
      {
       "output_type": "stream",
       "stream": "stdout",
       "text": [
        ". (-2121191.80) "
       ]
      },
      {
       "output_type": "stream",
       "stream": "stdout",
       "text": [
        ". (-2120845.62) "
       ]
      },
      {
       "output_type": "stream",
       "stream": "stdout",
       "text": [
        "150 "
       ]
      },
      {
       "output_type": "stream",
       "stream": "stdout",
       "text": [
        ". (-2094508.79) "
       ]
      },
      {
       "output_type": "stream",
       "stream": "stdout",
       "text": [
        ". (-2094074.22) "
       ]
      },
      {
       "output_type": "stream",
       "stream": "stdout",
       "text": [
        "160 "
       ]
      },
      {
       "output_type": "stream",
       "stream": "stdout",
       "text": [
        ". (-2092315.07) 170 "
       ]
      },
      {
       "output_type": "stream",
       "stream": "stdout",
       "text": [
        "180 "
       ]
      },
      {
       "output_type": "stream",
       "stream": "stdout",
       "text": [
        "190 "
       ]
      },
      {
       "output_type": "stream",
       "stream": "stdout",
       "text": [
        ". (-2089094.55) "
       ]
      },
      {
       "output_type": "stream",
       "stream": "stdout",
       "text": [
        "200 "
       ]
      },
      {
       "output_type": "stream",
       "stream": "stdout",
       "text": [
        "210 "
       ]
      },
      {
       "output_type": "stream",
       "stream": "stdout",
       "text": [
        "220 "
       ]
      },
      {
       "output_type": "stream",
       "stream": "stdout",
       "text": [
        ". (-2068514.85) "
       ]
      },
      {
       "output_type": "stream",
       "stream": "stdout",
       "text": [
        "230 "
       ]
      },
      {
       "output_type": "stream",
       "stream": "stdout",
       "text": [
        "240 "
       ]
      },
      {
       "output_type": "stream",
       "stream": "stdout",
       "text": [
        "250 "
       ]
      },
      {
       "output_type": "stream",
       "stream": "stdout",
       "text": [
        "260 "
       ]
      },
      {
       "output_type": "stream",
       "stream": "stdout",
       "text": [
        "270 "
       ]
      },
      {
       "output_type": "stream",
       "stream": "stdout",
       "text": [
        ". (-2068381.46) "
       ]
      },
      {
       "output_type": "stream",
       "stream": "stdout",
       "text": [
        "280 "
       ]
      },
      {
       "output_type": "stream",
       "stream": "stdout",
       "text": [
        "290 "
       ]
      },
      {
       "output_type": "stream",
       "stream": "stdout",
       "text": [
        ". (-2068337.80) "
       ]
      },
      {
       "output_type": "stream",
       "stream": "stdout",
       "text": [
        "300 "
       ]
      },
      {
       "output_type": "stream",
       "stream": "stdout",
       "text": [
        "310 "
       ]
      },
      {
       "output_type": "stream",
       "stream": "stdout",
       "text": [
        ". (-2068323.19) "
       ]
      },
      {
       "output_type": "stream",
       "stream": "stdout",
       "text": [
        "320 "
       ]
      },
      {
       "output_type": "stream",
       "stream": "stdout",
       "text": [
        ". (-2065120.62) "
       ]
      },
      {
       "output_type": "stream",
       "stream": "stdout",
       "text": [
        "330 "
       ]
      },
      {
       "output_type": "stream",
       "stream": "stdout",
       "text": [
        "340 "
       ]
      },
      {
       "output_type": "stream",
       "stream": "stdout",
       "text": [
        ". (-2064479.24) "
       ]
      },
      {
       "output_type": "stream",
       "stream": "stdout",
       "text": [
        "350 "
       ]
      },
      {
       "output_type": "stream",
       "stream": "stdout",
       "text": [
        "360 "
       ]
      },
      {
       "output_type": "stream",
       "stream": "stdout",
       "text": [
        "370 "
       ]
      },
      {
       "output_type": "stream",
       "stream": "stdout",
       "text": [
        ". (-2052702.24) "
       ]
      },
      {
       "output_type": "stream",
       "stream": "stdout",
       "text": [
        ". (-2052085.20) "
       ]
      },
      {
       "output_type": "stream",
       "stream": "stdout",
       "text": [
        "380 "
       ]
      },
      {
       "output_type": "stream",
       "stream": "stdout",
       "text": [
        ". (-2051972.70) "
       ]
      },
      {
       "output_type": "stream",
       "stream": "stdout",
       "text": [
        ". (-2051925.99) "
       ]
      },
      {
       "output_type": "stream",
       "stream": "stdout",
       "text": [
        "390 "
       ]
      },
      {
       "output_type": "stream",
       "stream": "stdout",
       "text": [
        ". (-2051925.69) "
       ]
      },
      {
       "output_type": "stream",
       "stream": "stdout",
       "text": [
        "400 "
       ]
      },
      {
       "output_type": "stream",
       "stream": "stdout",
       "text": [
        ". (-2051418.94) "
       ]
      },
      {
       "output_type": "stream",
       "stream": "stdout",
       "text": [
        "410 "
       ]
      },
      {
       "output_type": "stream",
       "stream": "stdout",
       "text": [
        "420 "
       ]
      },
      {
       "output_type": "stream",
       "stream": "stdout",
       "text": [
        "430 "
       ]
      },
      {
       "output_type": "stream",
       "stream": "stdout",
       "text": [
        "440 "
       ]
      },
      {
       "output_type": "stream",
       "stream": "stdout",
       "text": [
        "450 "
       ]
      },
      {
       "output_type": "stream",
       "stream": "stdout",
       "text": [
        "460 "
       ]
      },
      {
       "output_type": "stream",
       "stream": "stdout",
       "text": [
        "470 "
       ]
      },
      {
       "output_type": "stream",
       "stream": "stdout",
       "text": [
        "480 "
       ]
      },
      {
       "output_type": "stream",
       "stream": "stdout",
       "text": [
        "490 "
       ]
      },
      {
       "output_type": "stream",
       "stream": "stdout",
       "text": [
        "500 "
       ]
      },
      {
       "output_type": "stream",
       "stream": "stdout",
       "text": [
        "510 "
       ]
      },
      {
       "output_type": "stream",
       "stream": "stdout",
       "text": [
        ". (-2050739.41) "
       ]
      },
      {
       "output_type": "stream",
       "stream": "stdout",
       "text": [
        ". (-2050540.01) 520 "
       ]
      },
      {
       "output_type": "stream",
       "stream": "stdout",
       "text": [
        ". (-2050324.27) "
       ]
      },
      {
       "output_type": "stream",
       "stream": "stdout",
       "text": [
        "530 "
       ]
      },
      {
       "output_type": "stream",
       "stream": "stdout",
       "text": [
        "540 "
       ]
      },
      {
       "output_type": "stream",
       "stream": "stdout",
       "text": [
        "550 "
       ]
      },
      {
       "output_type": "stream",
       "stream": "stdout",
       "text": [
        ". (-2050323.80) "
       ]
      },
      {
       "output_type": "stream",
       "stream": "stdout",
       "text": [
        "560 "
       ]
      },
      {
       "output_type": "stream",
       "stream": "stdout",
       "text": [
        "570 "
       ]
      },
      {
       "output_type": "stream",
       "stream": "stdout",
       "text": [
        ". "
       ]
      },
      {
       "output_type": "stream",
       "stream": "stdout",
       "text": [
        "580 "
       ]
      },
      {
       "output_type": "stream",
       "stream": "stdout",
       "text": [
        "590 "
       ]
      },
      {
       "output_type": "stream",
       "stream": "stdout",
       "text": [
        "600 "
       ]
      },
      {
       "output_type": "stream",
       "stream": "stdout",
       "text": [
        "610 "
       ]
      },
      {
       "output_type": "stream",
       "stream": "stdout",
       "text": [
        ". (-2050292.68) "
       ]
      },
      {
       "output_type": "stream",
       "stream": "stdout",
       "text": [
        "620 "
       ]
      },
      {
       "output_type": "stream",
       "stream": "stdout",
       "text": [
        "630 "
       ]
      },
      {
       "output_type": "stream",
       "stream": "stdout",
       "text": [
        ". (-2050290.55) "
       ]
      },
      {
       "output_type": "stream",
       "stream": "stdout",
       "text": [
        "640 "
       ]
      },
      {
       "output_type": "stream",
       "stream": "stdout",
       "text": [
        "650 "
       ]
      },
      {
       "output_type": "stream",
       "stream": "stdout",
       "text": [
        "660 "
       ]
      },
      {
       "output_type": "stream",
       "stream": "stdout",
       "text": [
        "670 "
       ]
      },
      {
       "output_type": "stream",
       "stream": "stdout",
       "text": [
        "680 "
       ]
      },
      {
       "output_type": "stream",
       "stream": "stdout",
       "text": [
        "690 "
       ]
      },
      {
       "output_type": "stream",
       "stream": "stdout",
       "text": [
        "700 "
       ]
      },
      {
       "output_type": "stream",
       "stream": "stdout",
       "text": [
        "710 "
       ]
      },
      {
       "output_type": "stream",
       "stream": "stdout",
       "text": [
        "720 "
       ]
      },
      {
       "output_type": "stream",
       "stream": "stdout",
       "text": [
        "730 "
       ]
      },
      {
       "output_type": "stream",
       "stream": "stdout",
       "text": [
        "740 "
       ]
      },
      {
       "output_type": "stream",
       "stream": "stdout",
       "text": [
        "750 "
       ]
      },
      {
       "output_type": "stream",
       "stream": "stdout",
       "text": [
        "760 "
       ]
      },
      {
       "output_type": "stream",
       "stream": "stdout",
       "text": [
        "770 "
       ]
      },
      {
       "output_type": "stream",
       "stream": "stdout",
       "text": [
        "780 "
       ]
      },
      {
       "output_type": "stream",
       "stream": "stdout",
       "text": [
        "790 "
       ]
      },
      {
       "output_type": "stream",
       "stream": "stdout",
       "text": [
        "800 "
       ]
      },
      {
       "output_type": "stream",
       "stream": "stdout",
       "text": [
        "810 "
       ]
      },
      {
       "output_type": "stream",
       "stream": "stdout",
       "text": [
        "820 "
       ]
      },
      {
       "output_type": "stream",
       "stream": "stdout",
       "text": [
        "830 "
       ]
      },
      {
       "output_type": "stream",
       "stream": "stdout",
       "text": [
        ". (-2039311.98) "
       ]
      },
      {
       "output_type": "stream",
       "stream": "stdout",
       "text": [
        "840 "
       ]
      },
      {
       "output_type": "stream",
       "stream": "stdout",
       "text": [
        "850 "
       ]
      },
      {
       "output_type": "stream",
       "stream": "stdout",
       "text": [
        "860 "
       ]
      },
      {
       "output_type": "stream",
       "stream": "stdout",
       "text": [
        "870 "
       ]
      },
      {
       "output_type": "stream",
       "stream": "stdout",
       "text": [
        "880 "
       ]
      },
      {
       "output_type": "stream",
       "stream": "stdout",
       "text": [
        "890 "
       ]
      },
      {
       "output_type": "stream",
       "stream": "stdout",
       "text": [
        "900 "
       ]
      },
      {
       "output_type": "stream",
       "stream": "stdout",
       "text": [
        "910 "
       ]
      },
      {
       "output_type": "stream",
       "stream": "stdout",
       "text": [
        "920 "
       ]
      },
      {
       "output_type": "stream",
       "stream": "stdout",
       "text": [
        "930 "
       ]
      },
      {
       "output_type": "stream",
       "stream": "stdout",
       "text": [
        "940 "
       ]
      },
      {
       "output_type": "stream",
       "stream": "stdout",
       "text": [
        "950 "
       ]
      },
      {
       "output_type": "stream",
       "stream": "stdout",
       "text": [
        "960 "
       ]
      },
      {
       "output_type": "stream",
       "stream": "stdout",
       "text": [
        "970 "
       ]
      },
      {
       "output_type": "stream",
       "stream": "stdout",
       "text": [
        "980 "
       ]
      },
      {
       "output_type": "stream",
       "stream": "stdout",
       "text": [
        "990 "
       ]
      },
      {
       "output_type": "stream",
       "stream": "stdout",
       "text": [
        "Real loglikelihood "
       ]
      },
      {
       "output_type": "stream",
       "stream": "stdout",
       "text": [
        "-2038663.74521\n",
        "Our  loglikelihood -2039311.97533\n",
        "Real vector [12  4 19 18  1  0 11 14  8 17 15 16  9  7 21 20 23 25  6  2  5 24  3 13 22 10]\n",
        "Our  vector [ 2  4  0 17  1 19 11 14 13  7 15 25  9 18 21 20 23 16  5 22  6 24  3  8 12 10]\n",
        "a   m c <- !\n",
        "b   e e \n",
        "c   t a <- !\n",
        "d   s r <- !\n",
        "e   b b \n",
        "f   a t <- !\n",
        "g   l l \n",
        "h   o o \n",
        "i   i n <- !\n",
        "j   r h <- !\n",
        "k   p p \n",
        "l   q z <- !\n",
        "m   j j \n",
        "n   h s <- !\n",
        "o   v v \n",
        "p   u u \n",
        "q   x x \n",
        "r   z q <- !\n",
        "s   g f <- !\n",
        "t   c w <- !\n",
        "u   f g <- !\n",
        "v   y y \n",
        "w   d d \n",
        "x   n i <- !\n",
        "y   w m <- !\n",
        "z   k k \n",
        "Right ratio 0.393507759522\n"
       ]
      }
     ],
     "prompt_number": 249
    },
    {
     "cell_type": "code",
     "collapsed": false,
     "input": [
      "allhist = []\n",
      "for _ in range(5):\n",
      "    model.fit(gen_n = 2000, warmup_n = 0, f_0=None, verbose=False)\n",
      "    allhist.append( zip(*model.hist) ) # (i, log, dist, err)\n",
      "    \n",
      "lists = zip(*allhist) # [is, logs, dists, errs]"
     ],
     "language": "python",
     "metadata": {},
     "outputs": [
      {
       "output_type": "stream",
       "stream": "stdout",
       "text": [
        "Initial guess is [ 0  1  2  3  4  5  6  7  8  9 10 11 12 13 14 15 16 17 18 19 20 21 22 23 24 25]\n",
        "Start with"
       ]
      },
      {
       "output_type": "stream",
       "stream": "stdout",
       "text": [
        " [ 0  1  2  3  4  5  6  7  8  9 10 11 12 13 14 15 16 17 18 19 20 21 22 23 24 25]\n",
        "."
       ]
      },
      {
       "output_type": "stream",
       "stream": "stdout",
       "text": [
        " (-2702761.22) 0 "
       ]
      },
      {
       "output_type": "stream",
       "stream": "stdout",
       "text": [
        ". (-2579547.52) "
       ]
      },
      {
       "output_type": "stream",
       "stream": "stdout",
       "text": [
        ". (-2539151.31) "
       ]
      },
      {
       "output_type": "stream",
       "stream": "stdout",
       "text": [
        ". (-2538927.84) "
       ]
      },
      {
       "output_type": "stream",
       "stream": "stdout",
       "text": [
        ". (-2486475.35) "
       ]
      },
      {
       "output_type": "stream",
       "stream": "stdout",
       "text": [
        ". (-2466499.28) "
       ]
      },
      {
       "output_type": "stream",
       "stream": "stdout",
       "text": [
        ". (-2458401.05) "
       ]
      },
      {
       "output_type": "stream",
       "stream": "stdout",
       "text": [
        ". (-2422587.74) "
       ]
      },
      {
       "output_type": "stream",
       "stream": "stdout",
       "text": [
        "20 "
       ]
      },
      {
       "output_type": "stream",
       "stream": "stdout",
       "text": [
        ". (-2397973.79) "
       ]
      },
      {
       "output_type": "stream",
       "stream": "stdout",
       "text": [
        ". (-2357602.73) "
       ]
      },
      {
       "output_type": "stream",
       "stream": "stdout",
       "text": [
        ". (-2340417.74) "
       ]
      },
      {
       "output_type": "stream",
       "stream": "stdout",
       "text": [
        ". (-2336082.99) "
       ]
      },
      {
       "output_type": "stream",
       "stream": "stdout",
       "text": [
        "40 "
       ]
      },
      {
       "output_type": "stream",
       "stream": "stdout",
       "text": [
        ". (-2300413.29) "
       ]
      },
      {
       "output_type": "stream",
       "stream": "stdout",
       "text": [
        ". (-2164270.73) "
       ]
      },
      {
       "output_type": "stream",
       "stream": "stdout",
       "text": [
        ". (-2153999.05) "
       ]
      },
      {
       "output_type": "stream",
       "stream": "stdout",
       "text": [
        ". (-2153132.12) "
       ]
      },
      {
       "output_type": "stream",
       "stream": "stdout",
       "text": [
        ". (-2145058.79) "
       ]
      },
      {
       "output_type": "stream",
       "stream": "stdout",
       "text": [
        ". (-2144085.25) "
       ]
      },
      {
       "output_type": "stream",
       "stream": "stdout",
       "text": [
        "60 "
       ]
      },
      {
       "output_type": "stream",
       "stream": "stdout",
       "text": [
        ". (-2142679.33) "
       ]
      },
      {
       "output_type": "stream",
       "stream": "stdout",
       "text": [
        ". (-2142105.80) "
       ]
      },
      {
       "output_type": "stream",
       "stream": "stdout",
       "text": [
        ". (-2134916.30) "
       ]
      },
      {
       "output_type": "stream",
       "stream": "stdout",
       "text": [
        ". (-2134883.89) "
       ]
      },
      {
       "output_type": "stream",
       "stream": "stdout",
       "text": [
        "80 "
       ]
      },
      {
       "output_type": "stream",
       "stream": "stdout",
       "text": [
        ". (-2134628.13) "
       ]
      },
      {
       "output_type": "stream",
       "stream": "stdout",
       "text": [
        ". (-2130425.02) "
       ]
      },
      {
       "output_type": "stream",
       "stream": "stdout",
       "text": [
        ". (-2130248.39) "
       ]
      },
      {
       "output_type": "stream",
       "stream": "stdout",
       "text": [
        "100 "
       ]
      },
      {
       "output_type": "stream",
       "stream": "stdout",
       "text": [
        ". (-2130235.45) "
       ]
      },
      {
       "output_type": "stream",
       "stream": "stdout",
       "text": [
        ". (-2129653.13) "
       ]
      },
      {
       "output_type": "stream",
       "stream": "stdout",
       "text": [
        ". (-2121077.81) "
       ]
      },
      {
       "output_type": "stream",
       "stream": "stdout",
       "text": [
        "120 "
       ]
      },
      {
       "output_type": "stream",
       "stream": "stdout",
       "text": [
        ". (-2117845.66) "
       ]
      },
      {
       "output_type": "stream",
       "stream": "stdout",
       "text": [
        ". (-2117645.82) "
       ]
      },
      {
       "output_type": "stream",
       "stream": "stdout",
       "text": [
        "140 "
       ]
      },
      {
       "output_type": "stream",
       "stream": "stdout",
       "text": [
        ". (-2104066.53) "
       ]
      },
      {
       "output_type": "stream",
       "stream": "stdout",
       "text": [
        ". (-2103612.27) "
       ]
      },
      {
       "output_type": "stream",
       "stream": "stdout",
       "text": [
        "160 "
       ]
      },
      {
       "output_type": "stream",
       "stream": "stdout",
       "text": [
        ". (-2100287.17) "
       ]
      },
      {
       "output_type": "stream",
       "stream": "stdout",
       "text": [
        "180 "
       ]
      },
      {
       "output_type": "stream",
       "stream": "stdout",
       "text": [
        "200 "
       ]
      },
      {
       "output_type": "stream",
       "stream": "stdout",
       "text": [
        ". (-2095441.72) "
       ]
      },
      {
       "output_type": "stream",
       "stream": "stdout",
       "text": [
        "220 "
       ]
      },
      {
       "output_type": "stream",
       "stream": "stdout",
       "text": [
        ". (-2093989.53) "
       ]
      },
      {
       "output_type": "stream",
       "stream": "stdout",
       "text": [
        "240 "
       ]
      },
      {
       "output_type": "stream",
       "stream": "stdout",
       "text": [
        ". (-2090576.65) "
       ]
      },
      {
       "output_type": "stream",
       "stream": "stdout",
       "text": [
        "260 "
       ]
      },
      {
       "output_type": "stream",
       "stream": "stdout",
       "text": [
        ". (-2084907.40) "
       ]
      },
      {
       "output_type": "stream",
       "stream": "stdout",
       "text": [
        "280 "
       ]
      },
      {
       "output_type": "stream",
       "stream": "stdout",
       "text": [
        ". (-2084828.09) "
       ]
      },
      {
       "output_type": "stream",
       "stream": "stdout",
       "text": [
        ". (-2076952.62) "
       ]
      },
      {
       "output_type": "stream",
       "stream": "stdout",
       "text": [
        ". (-2076737.69) 300 "
       ]
      },
      {
       "output_type": "stream",
       "stream": "stdout",
       "text": [
        ". (-2076328.40) "
       ]
      },
      {
       "output_type": "stream",
       "stream": "stdout",
       "text": [
        ". (-2075817.13) "
       ]
      },
      {
       "output_type": "stream",
       "stream": "stdout",
       "text": [
        ". (-2075809.20) "
       ]
      },
      {
       "output_type": "stream",
       "stream": "stdout",
       "text": [
        ". (-2069171.50) "
       ]
      },
      {
       "output_type": "stream",
       "stream": "stdout",
       "text": [
        "320 "
       ]
      },
      {
       "output_type": "stream",
       "stream": "stdout",
       "text": [
        ". "
       ]
      },
      {
       "output_type": "stream",
       "stream": "stdout",
       "text": [
        "340 "
       ]
      },
      {
       "output_type": "stream",
       "stream": "stdout",
       "text": [
        ". (-2059552.94) "
       ]
      },
      {
       "output_type": "stream",
       "stream": "stdout",
       "text": [
        ". (-2059498.96) "
       ]
      },
      {
       "output_type": "stream",
       "stream": "stdout",
       "text": [
        "360 "
       ]
      },
      {
       "output_type": "stream",
       "stream": "stdout",
       "text": [
        "380 "
       ]
      },
      {
       "output_type": "stream",
       "stream": "stdout",
       "text": [
        ". (-2045356.27) "
       ]
      },
      {
       "output_type": "stream",
       "stream": "stdout",
       "text": [
        "400 "
       ]
      },
      {
       "output_type": "stream",
       "stream": "stdout",
       "text": [
        ". (-2045356.01) "
       ]
      },
      {
       "output_type": "stream",
       "stream": "stdout",
       "text": [
        ". (-2045317.57) "
       ]
      },
      {
       "output_type": "stream",
       "stream": "stdout",
       "text": [
        "420 "
       ]
      },
      {
       "output_type": "stream",
       "stream": "stdout",
       "text": [
        ". (-2043023.89) "
       ]
      },
      {
       "output_type": "stream",
       "stream": "stdout",
       "text": [
        "440 "
       ]
      },
      {
       "output_type": "stream",
       "stream": "stdout",
       "text": [
        ". (-2042902.92) "
       ]
      },
      {
       "output_type": "stream",
       "stream": "stdout",
       "text": [
        ". (-2042867.75) "
       ]
      },
      {
       "output_type": "stream",
       "stream": "stdout",
       "text": [
        "460 "
       ]
      },
      {
       "output_type": "stream",
       "stream": "stdout",
       "text": [
        ". (-2042165.77) "
       ]
      },
      {
       "output_type": "stream",
       "stream": "stdout",
       "text": [
        "480 "
       ]
      },
      {
       "output_type": "stream",
       "stream": "stdout",
       "text": [
        "500 "
       ]
      },
      {
       "output_type": "stream",
       "stream": "stdout",
       "text": [
        "520 "
       ]
      },
      {
       "output_type": "stream",
       "stream": "stdout",
       "text": [
        "540 "
       ]
      },
      {
       "output_type": "stream",
       "stream": "stdout",
       "text": [
        "560 "
       ]
      },
      {
       "output_type": "stream",
       "stream": "stdout",
       "text": [
        "580 "
       ]
      },
      {
       "output_type": "stream",
       "stream": "stdout",
       "text": [
        ". (-2042053.26) "
       ]
      },
      {
       "output_type": "stream",
       "stream": "stdout",
       "text": [
        "600 "
       ]
      },
      {
       "output_type": "stream",
       "stream": "stdout",
       "text": [
        ". (-2041918.87) "
       ]
      },
      {
       "output_type": "stream",
       "stream": "stdout",
       "text": [
        "620 "
       ]
      },
      {
       "output_type": "stream",
       "stream": "stdout",
       "text": [
        ". (-2041412.12) "
       ]
      },
      {
       "output_type": "stream",
       "stream": "stdout",
       "text": [
        "640 "
       ]
      },
      {
       "output_type": "stream",
       "stream": "stdout",
       "text": [
        "660 "
       ]
      },
      {
       "output_type": "stream",
       "stream": "stdout",
       "text": [
        ". (-2041411.66) "
       ]
      },
      {
       "output_type": "stream",
       "stream": "stdout",
       "text": [
        "680 "
       ]
      },
      {
       "output_type": "stream",
       "stream": "stdout",
       "text": [
        "700 "
       ]
      },
      {
       "output_type": "stream",
       "stream": "stdout",
       "text": [
        ". (-2040705.00) "
       ]
      },
      {
       "output_type": "stream",
       "stream": "stdout",
       "text": [
        "720 "
       ]
      },
      {
       "output_type": "stream",
       "stream": "stdout",
       "text": [
        ". (-2040651.56) "
       ]
      },
      {
       "output_type": "stream",
       "stream": "stdout",
       "text": [
        "740 "
       ]
      },
      {
       "output_type": "stream",
       "stream": "stdout",
       "text": [
        "760 "
       ]
      },
      {
       "output_type": "stream",
       "stream": "stdout",
       "text": [
        "780 "
       ]
      },
      {
       "output_type": "stream",
       "stream": "stdout",
       "text": [
        "800 "
       ]
      },
      {
       "output_type": "stream",
       "stream": "stdout",
       "text": [
        "820 "
       ]
      },
      {
       "output_type": "stream",
       "stream": "stdout",
       "text": [
        "840 "
       ]
      },
      {
       "output_type": "stream",
       "stream": "stdout",
       "text": [
        "860 "
       ]
      },
      {
       "output_type": "stream",
       "stream": "stdout",
       "text": [
        ". (-2038530.04) "
       ]
      },
      {
       "output_type": "stream",
       "stream": "stdout",
       "text": [
        "880 "
       ]
      },
      {
       "output_type": "stream",
       "stream": "stdout",
       "text": [
        "900 "
       ]
      },
      {
       "output_type": "stream",
       "stream": "stdout",
       "text": [
        "920 "
       ]
      },
      {
       "output_type": "stream",
       "stream": "stdout",
       "text": [
        "940 "
       ]
      },
      {
       "output_type": "stream",
       "stream": "stdout",
       "text": [
        "960 "
       ]
      },
      {
       "output_type": "stream",
       "stream": "stdout",
       "text": [
        "980 "
       ]
      },
      {
       "output_type": "stream",
       "stream": "stdout",
       "text": [
        "1000 "
       ]
      },
      {
       "output_type": "stream",
       "stream": "stdout",
       "text": [
        "1020 "
       ]
      },
      {
       "output_type": "stream",
       "stream": "stdout",
       "text": [
        "1040 "
       ]
      },
      {
       "output_type": "stream",
       "stream": "stdout",
       "text": [
        "1060 "
       ]
      },
      {
       "output_type": "stream",
       "stream": "stdout",
       "text": [
        "1080 "
       ]
      },
      {
       "output_type": "stream",
       "stream": "stdout",
       "text": [
        "1100 "
       ]
      },
      {
       "output_type": "stream",
       "stream": "stdout",
       "text": [
        "1120 "
       ]
      },
      {
       "output_type": "stream",
       "stream": "stdout",
       "text": [
        "1140 "
       ]
      },
      {
       "output_type": "stream",
       "stream": "stdout",
       "text": [
        "1160 "
       ]
      },
      {
       "output_type": "stream",
       "stream": "stdout",
       "text": [
        "1180 "
       ]
      },
      {
       "output_type": "stream",
       "stream": "stdout",
       "text": [
        "1200 "
       ]
      },
      {
       "output_type": "stream",
       "stream": "stdout",
       "text": [
        "1220 "
       ]
      },
      {
       "output_type": "stream",
       "stream": "stdout",
       "text": [
        "1240 "
       ]
      },
      {
       "output_type": "stream",
       "stream": "stdout",
       "text": [
        "1260 "
       ]
      },
      {
       "output_type": "stream",
       "stream": "stdout",
       "text": [
        "1280 "
       ]
      },
      {
       "output_type": "stream",
       "stream": "stdout",
       "text": [
        ". 1300 "
       ]
      },
      {
       "output_type": "stream",
       "stream": "stdout",
       "text": [
        "1320 "
       ]
      },
      {
       "output_type": "stream",
       "stream": "stdout",
       "text": [
        "1340 "
       ]
      },
      {
       "output_type": "stream",
       "stream": "stdout",
       "text": [
        "1360 "
       ]
      },
      {
       "output_type": "stream",
       "stream": "stdout",
       "text": [
        "1380 "
       ]
      },
      {
       "output_type": "stream",
       "stream": "stdout",
       "text": [
        "1400 "
       ]
      },
      {
       "output_type": "stream",
       "stream": "stdout",
       "text": [
        ". "
       ]
      },
      {
       "output_type": "stream",
       "stream": "stdout",
       "text": [
        "1420 "
       ]
      },
      {
       "output_type": "stream",
       "stream": "stdout",
       "text": [
        ". (-2038505.30) "
       ]
      },
      {
       "output_type": "stream",
       "stream": "stdout",
       "text": [
        "1440 "
       ]
      },
      {
       "output_type": "stream",
       "stream": "stdout",
       "text": [
        ". "
       ]
      },
      {
       "output_type": "stream",
       "stream": "stdout",
       "text": [
        ". "
       ]
      },
      {
       "output_type": "stream",
       "stream": "stdout",
       "text": [
        "1460 "
       ]
      },
      {
       "output_type": "stream",
       "stream": "stdout",
       "text": [
        "1480 "
       ]
      },
      {
       "output_type": "stream",
       "stream": "stdout",
       "text": [
        ". "
       ]
      },
      {
       "output_type": "stream",
       "stream": "stdout",
       "text": [
        "1500 "
       ]
      },
      {
       "output_type": "stream",
       "stream": "stdout",
       "text": [
        "1520 "
       ]
      },
      {
       "output_type": "stream",
       "stream": "stdout",
       "text": [
        "1540 "
       ]
      },
      {
       "output_type": "stream",
       "stream": "stdout",
       "text": [
        "1560 "
       ]
      },
      {
       "output_type": "stream",
       "stream": "stdout",
       "text": [
        "1580 "
       ]
      },
      {
       "output_type": "stream",
       "stream": "stdout",
       "text": [
        "1600 "
       ]
      },
      {
       "output_type": "stream",
       "stream": "stdout",
       "text": [
        "1620 "
       ]
      },
      {
       "output_type": "stream",
       "stream": "stdout",
       "text": [
        "1640 "
       ]
      },
      {
       "output_type": "stream",
       "stream": "stdout",
       "text": [
        "1660 "
       ]
      },
      {
       "output_type": "stream",
       "stream": "stdout",
       "text": [
        "1680 "
       ]
      },
      {
       "output_type": "stream",
       "stream": "stdout",
       "text": [
        "1700 "
       ]
      },
      {
       "output_type": "stream",
       "stream": "stdout",
       "text": [
        "1720 "
       ]
      },
      {
       "output_type": "stream",
       "stream": "stdout",
       "text": [
        "1740 "
       ]
      },
      {
       "output_type": "stream",
       "stream": "stdout",
       "text": [
        "1760 "
       ]
      },
      {
       "output_type": "stream",
       "stream": "stdout",
       "text": [
        "1780 "
       ]
      },
      {
       "output_type": "stream",
       "stream": "stdout",
       "text": [
        "1800 "
       ]
      },
      {
       "output_type": "stream",
       "stream": "stdout",
       "text": [
        "1820 "
       ]
      },
      {
       "output_type": "stream",
       "stream": "stdout",
       "text": [
        "1840 "
       ]
      },
      {
       "output_type": "stream",
       "stream": "stdout",
       "text": [
        "1860 "
       ]
      },
      {
       "output_type": "stream",
       "stream": "stdout",
       "text": [
        "1880 "
       ]
      },
      {
       "output_type": "stream",
       "stream": "stdout",
       "text": [
        "1900 "
       ]
      },
      {
       "output_type": "stream",
       "stream": "stdout",
       "text": [
        "1920 "
       ]
      },
      {
       "output_type": "stream",
       "stream": "stdout",
       "text": [
        "1940 "
       ]
      },
      {
       "output_type": "stream",
       "stream": "stdout",
       "text": [
        "1960 "
       ]
      },
      {
       "output_type": "stream",
       "stream": "stdout",
       "text": [
        "1980 "
       ]
      },
      {
       "output_type": "stream",
       "stream": "stdout",
       "text": [
        "Initial guess is [ 0  1  2  3  4  5  6  7  8  9 10 11 12 13 14 15 16 17 18 19 20 21 22 23 24 25]\n",
        "Start with"
       ]
      },
      {
       "output_type": "stream",
       "stream": "stdout",
       "text": [
        " [ 0  1  2  3  4  5  6  7  8  9 10 11 12 13 14 15 16 17 18 19 20 21 22 23 24 25]\n",
        "0"
       ]
      },
      {
       "output_type": "stream",
       "stream": "stdout",
       "text": [
        " . (-2668567.68) "
       ]
      },
      {
       "output_type": "stream",
       "stream": "stdout",
       "text": [
        ". (-2593515.96) "
       ]
      },
      {
       "output_type": "stream",
       "stream": "stdout",
       "text": [
        ". (-2528164.77) "
       ]
      },
      {
       "output_type": "stream",
       "stream": "stdout",
       "text": [
        ". (-2466462.79) "
       ]
      },
      {
       "output_type": "stream",
       "stream": "stdout",
       "text": [
        ". (-2444803.85) "
       ]
      },
      {
       "output_type": "stream",
       "stream": "stdout",
       "text": [
        ". (-2443878.09) "
       ]
      },
      {
       "output_type": "stream",
       "stream": "stdout",
       "text": [
        ". (-2439780.48) 20 "
       ]
      },
      {
       "output_type": "stream",
       "stream": "stdout",
       "text": [
        ". (-2428265.19) "
       ]
      },
      {
       "output_type": "stream",
       "stream": "stdout",
       "text": [
        ". (-2380736.86) "
       ]
      },
      {
       "output_type": "stream",
       "stream": "stdout",
       "text": [
        ". (-2362424.69) "
       ]
      },
      {
       "output_type": "stream",
       "stream": "stdout",
       "text": [
        ". (-2340879.04) "
       ]
      },
      {
       "output_type": "stream",
       "stream": "stdout",
       "text": [
        ". (-2339563.50) "
       ]
      },
      {
       "output_type": "stream",
       "stream": "stdout",
       "text": [
        ". (-2339415.60) 40 "
       ]
      },
      {
       "output_type": "stream",
       "stream": "stdout",
       "text": [
        ". (-2336958.13) "
       ]
      },
      {
       "output_type": "stream",
       "stream": "stdout",
       "text": [
        ". (-2336946.71) "
       ]
      },
      {
       "output_type": "stream",
       "stream": "stdout",
       "text": [
        ". (-2332055.78) "
       ]
      },
      {
       "output_type": "stream",
       "stream": "stdout",
       "text": [
        ". (-2330516.91) "
       ]
      },
      {
       "output_type": "stream",
       "stream": "stdout",
       "text": [
        ". (-2324215.78) "
       ]
      },
      {
       "output_type": "stream",
       "stream": "stdout",
       "text": [
        ". (-2307030.92) "
       ]
      },
      {
       "output_type": "stream",
       "stream": "stdout",
       "text": [
        ". (-2302956.75) "
       ]
      },
      {
       "output_type": "stream",
       "stream": "stdout",
       "text": [
        ". (-2292759.87) "
       ]
      },
      {
       "output_type": "stream",
       "stream": "stdout",
       "text": [
        "60 "
       ]
      },
      {
       "output_type": "stream",
       "stream": "stdout",
       "text": [
        ". (-2292570.24) "
       ]
      },
      {
       "output_type": "stream",
       "stream": "stdout",
       "text": [
        ". (-2290712.67) "
       ]
      },
      {
       "output_type": "stream",
       "stream": "stdout",
       "text": [
        ". (-2266193.30) "
       ]
      },
      {
       "output_type": "stream",
       "stream": "stdout",
       "text": [
        "80 "
       ]
      },
      {
       "output_type": "stream",
       "stream": "stdout",
       "text": [
        ". (-2175271.75) "
       ]
      },
      {
       "output_type": "stream",
       "stream": "stdout",
       "text": [
        ". (-2171180.60) "
       ]
      },
      {
       "output_type": "stream",
       "stream": "stdout",
       "text": [
        ". (-2158107.91) "
       ]
      },
      {
       "output_type": "stream",
       "stream": "stdout",
       "text": [
        "100 "
       ]
      },
      {
       "output_type": "stream",
       "stream": "stdout",
       "text": [
        ". (-2158083.17) "
       ]
      },
      {
       "output_type": "stream",
       "stream": "stdout",
       "text": [
        ". (-2155255.63) "
       ]
      },
      {
       "output_type": "stream",
       "stream": "stdout",
       "text": [
        ". (-2132371.66) "
       ]
      },
      {
       "output_type": "stream",
       "stream": "stdout",
       "text": [
        ". (-2111398.15) 120 "
       ]
      },
      {
       "output_type": "stream",
       "stream": "stdout",
       "text": [
        ". (-2111224.67) "
       ]
      },
      {
       "output_type": "stream",
       "stream": "stdout",
       "text": [
        ". (-2104095.60) 140 "
       ]
      },
      {
       "output_type": "stream",
       "stream": "stdout",
       "text": [
        ". (-2103227.19) "
       ]
      },
      {
       "output_type": "stream",
       "stream": "stdout",
       "text": [
        ". (-2100068.65) "
       ]
      },
      {
       "output_type": "stream",
       "stream": "stdout",
       "text": [
        ". (-2088946.94) "
       ]
      },
      {
       "output_type": "stream",
       "stream": "stdout",
       "text": [
        "160 "
       ]
      },
      {
       "output_type": "stream",
       "stream": "stdout",
       "text": [
        ". (-2087323.83) "
       ]
      },
      {
       "output_type": "stream",
       "stream": "stdout",
       "text": [
        ". (-2086400.53) "
       ]
      },
      {
       "output_type": "stream",
       "stream": "stdout",
       "text": [
        ". (-2086174.50) "
       ]
      },
      {
       "output_type": "stream",
       "stream": "stdout",
       "text": [
        ". (-2084706.15) "
       ]
      },
      {
       "output_type": "stream",
       "stream": "stdout",
       "text": [
        ". (-2082871.75) "
       ]
      },
      {
       "output_type": "stream",
       "stream": "stdout",
       "text": [
        "180 "
       ]
      },
      {
       "output_type": "stream",
       "stream": "stdout",
       "text": [
        "200 "
       ]
      },
      {
       "output_type": "stream",
       "stream": "stdout",
       "text": [
        ". (-2082623.06) "
       ]
      },
      {
       "output_type": "stream",
       "stream": "stdout",
       "text": [
        ". (-2082486.38) "
       ]
      },
      {
       "output_type": "stream",
       "stream": "stdout",
       "text": [
        "220 "
       ]
      },
      {
       "output_type": "stream",
       "stream": "stdout",
       "text": [
        ". (-2061816.70) "
       ]
      },
      {
       "output_type": "stream",
       "stream": "stdout",
       "text": [
        ". (-2053375.80) "
       ]
      },
      {
       "output_type": "stream",
       "stream": "stdout",
       "text": [
        ". (-2051979.33) "
       ]
      },
      {
       "output_type": "stream",
       "stream": "stdout",
       "text": [
        "240 "
       ]
      },
      {
       "output_type": "stream",
       "stream": "stdout",
       "text": [
        ". (-2051881.29) "
       ]
      },
      {
       "output_type": "stream",
       "stream": "stdout",
       "text": [
        ". (-2051859.43) "
       ]
      },
      {
       "output_type": "stream",
       "stream": "stdout",
       "text": [
        "260 "
       ]
      },
      {
       "output_type": "stream",
       "stream": "stdout",
       "text": [
        "280 "
       ]
      },
      {
       "output_type": "stream",
       "stream": "stdout",
       "text": [
        "300 "
       ]
      },
      {
       "output_type": "stream",
       "stream": "stdout",
       "text": [
        "320 "
       ]
      },
      {
       "output_type": "stream",
       "stream": "stdout",
       "text": [
        ". (-2049919.13) "
       ]
      },
      {
       "output_type": "stream",
       "stream": "stdout",
       "text": [
        ". (-2049854.44) "
       ]
      },
      {
       "output_type": "stream",
       "stream": "stdout",
       "text": [
        "340 "
       ]
      },
      {
       "output_type": "stream",
       "stream": "stdout",
       "text": [
        ". (-2049785.55) "
       ]
      },
      {
       "output_type": "stream",
       "stream": "stdout",
       "text": [
        ". (-2047563.04) "
       ]
      },
      {
       "output_type": "stream",
       "stream": "stdout",
       "text": [
        "360 "
       ]
      },
      {
       "output_type": "stream",
       "stream": "stdout",
       "text": [
        ". (-2039036.36) "
       ]
      },
      {
       "output_type": "stream",
       "stream": "stdout",
       "text": [
        "380 "
       ]
      },
      {
       "output_type": "stream",
       "stream": "stdout",
       "text": [
        "400 "
       ]
      },
      {
       "output_type": "stream",
       "stream": "stdout",
       "text": [
        "420 "
       ]
      },
      {
       "output_type": "stream",
       "stream": "stdout",
       "text": [
        "440 "
       ]
      },
      {
       "output_type": "stream",
       "stream": "stdout",
       "text": [
        "460 "
       ]
      },
      {
       "output_type": "stream",
       "stream": "stdout",
       "text": [
        "480 "
       ]
      },
      {
       "output_type": "stream",
       "stream": "stdout",
       "text": [
        ". (-2038737.39) "
       ]
      },
      {
       "output_type": "stream",
       "stream": "stdout",
       "text": [
        "500 "
       ]
      },
      {
       "output_type": "stream",
       "stream": "stdout",
       "text": [
        "520 "
       ]
      },
      {
       "output_type": "stream",
       "stream": "stdout",
       "text": [
        "540 "
       ]
      },
      {
       "output_type": "stream",
       "stream": "stdout",
       "text": [
        "560 "
       ]
      },
      {
       "output_type": "stream",
       "stream": "stdout",
       "text": [
        ". (-2038665.05) "
       ]
      },
      {
       "output_type": "stream",
       "stream": "stdout",
       "text": [
        "580 "
       ]
      },
      {
       "output_type": "stream",
       "stream": "stdout",
       "text": [
        ". (-2038572.44) "
       ]
      },
      {
       "output_type": "stream",
       "stream": "stdout",
       "text": [
        "600 "
       ]
      },
      {
       "output_type": "stream",
       "stream": "stdout",
       "text": [
        ". (-2038539.03) "
       ]
      },
      {
       "output_type": "stream",
       "stream": "stdout",
       "text": [
        "620 "
       ]
      },
      {
       "output_type": "stream",
       "stream": "stdout",
       "text": [
        "640 "
       ]
      },
      {
       "output_type": "stream",
       "stream": "stdout",
       "text": [
        "660 "
       ]
      },
      {
       "output_type": "stream",
       "stream": "stdout",
       "text": [
        "680 "
       ]
      },
      {
       "output_type": "stream",
       "stream": "stdout",
       "text": [
        "700 "
       ]
      },
      {
       "output_type": "stream",
       "stream": "stdout",
       "text": [
        "720 "
       ]
      },
      {
       "output_type": "stream",
       "stream": "stdout",
       "text": [
        "740 "
       ]
      },
      {
       "output_type": "stream",
       "stream": "stdout",
       "text": [
        "760 "
       ]
      },
      {
       "output_type": "stream",
       "stream": "stdout",
       "text": [
        "780 "
       ]
      },
      {
       "output_type": "stream",
       "stream": "stdout",
       "text": [
        ". (-2038505.30) "
       ]
      },
      {
       "output_type": "stream",
       "stream": "stdout",
       "text": [
        "800 "
       ]
      },
      {
       "output_type": "stream",
       "stream": "stdout",
       "text": [
        "820 "
       ]
      },
      {
       "output_type": "stream",
       "stream": "stdout",
       "text": [
        "840 "
       ]
      },
      {
       "output_type": "stream",
       "stream": "stdout",
       "text": [
        "860 "
       ]
      },
      {
       "output_type": "stream",
       "stream": "stdout",
       "text": [
        "880 "
       ]
      },
      {
       "output_type": "stream",
       "stream": "stdout",
       "text": [
        "900 "
       ]
      },
      {
       "output_type": "stream",
       "stream": "stdout",
       "text": [
        "920 "
       ]
      },
      {
       "output_type": "stream",
       "stream": "stdout",
       "text": [
        "940 "
       ]
      },
      {
       "output_type": "stream",
       "stream": "stdout",
       "text": [
        "960 "
       ]
      },
      {
       "output_type": "stream",
       "stream": "stdout",
       "text": [
        "980 "
       ]
      },
      {
       "output_type": "stream",
       "stream": "stdout",
       "text": [
        "1000 "
       ]
      },
      {
       "output_type": "stream",
       "stream": "stdout",
       "text": [
        "1020 "
       ]
      },
      {
       "output_type": "stream",
       "stream": "stdout",
       "text": [
        "1040 "
       ]
      },
      {
       "output_type": "stream",
       "stream": "stdout",
       "text": [
        "1060 "
       ]
      },
      {
       "output_type": "stream",
       "stream": "stdout",
       "text": [
        "1080 "
       ]
      },
      {
       "output_type": "stream",
       "stream": "stdout",
       "text": [
        ". "
       ]
      },
      {
       "output_type": "stream",
       "stream": "stdout",
       "text": [
        "1100 "
       ]
      },
      {
       "output_type": "stream",
       "stream": "stdout",
       "text": [
        "1120 "
       ]
      },
      {
       "output_type": "stream",
       "stream": "stdout",
       "text": [
        "1140 "
       ]
      },
      {
       "output_type": "stream",
       "stream": "stdout",
       "text": [
        "1160 "
       ]
      },
      {
       "output_type": "stream",
       "stream": "stdout",
       "text": [
        "1180 "
       ]
      },
      {
       "output_type": "stream",
       "stream": "stdout",
       "text": [
        "1200 "
       ]
      },
      {
       "output_type": "stream",
       "stream": "stdout",
       "text": [
        "1220 "
       ]
      },
      {
       "output_type": "stream",
       "stream": "stdout",
       "text": [
        "1240 "
       ]
      },
      {
       "output_type": "stream",
       "stream": "stdout",
       "text": [
        "1260 "
       ]
      },
      {
       "output_type": "stream",
       "stream": "stdout",
       "text": [
        "1280 "
       ]
      },
      {
       "output_type": "stream",
       "stream": "stdout",
       "text": [
        "1300 "
       ]
      },
      {
       "output_type": "stream",
       "stream": "stdout",
       "text": [
        "1320 "
       ]
      },
      {
       "output_type": "stream",
       "stream": "stdout",
       "text": [
        ". "
       ]
      },
      {
       "output_type": "stream",
       "stream": "stdout",
       "text": [
        "1340 "
       ]
      },
      {
       "output_type": "stream",
       "stream": "stdout",
       "text": [
        "1360 "
       ]
      },
      {
       "output_type": "stream",
       "stream": "stdout",
       "text": [
        "1380 "
       ]
      },
      {
       "output_type": "stream",
       "stream": "stdout",
       "text": [
        "1400 "
       ]
      },
      {
       "output_type": "stream",
       "stream": "stdout",
       "text": [
        "1420 "
       ]
      },
      {
       "output_type": "stream",
       "stream": "stdout",
       "text": [
        "1440 "
       ]
      },
      {
       "output_type": "stream",
       "stream": "stdout",
       "text": [
        "1460 "
       ]
      },
      {
       "output_type": "stream",
       "stream": "stdout",
       "text": [
        "1480 "
       ]
      },
      {
       "output_type": "stream",
       "stream": "stdout",
       "text": [
        "1500 "
       ]
      },
      {
       "output_type": "stream",
       "stream": "stdout",
       "text": [
        "1520 "
       ]
      },
      {
       "output_type": "stream",
       "stream": "stdout",
       "text": [
        "1540 "
       ]
      },
      {
       "output_type": "stream",
       "stream": "stdout",
       "text": [
        "1560 "
       ]
      },
      {
       "output_type": "stream",
       "stream": "stdout",
       "text": [
        "1580 "
       ]
      },
      {
       "output_type": "stream",
       "stream": "stdout",
       "text": [
        "1600 "
       ]
      },
      {
       "output_type": "stream",
       "stream": "stdout",
       "text": [
        "1620 "
       ]
      },
      {
       "output_type": "stream",
       "stream": "stdout",
       "text": [
        "1640 "
       ]
      },
      {
       "output_type": "stream",
       "stream": "stdout",
       "text": [
        "1660 "
       ]
      },
      {
       "output_type": "stream",
       "stream": "stdout",
       "text": [
        "1680 "
       ]
      },
      {
       "output_type": "stream",
       "stream": "stdout",
       "text": [
        "1700 "
       ]
      },
      {
       "output_type": "stream",
       "stream": "stdout",
       "text": [
        "1720 "
       ]
      },
      {
       "output_type": "stream",
       "stream": "stdout",
       "text": [
        "1740 "
       ]
      },
      {
       "output_type": "stream",
       "stream": "stdout",
       "text": [
        "1760 "
       ]
      },
      {
       "output_type": "stream",
       "stream": "stdout",
       "text": [
        "1780 "
       ]
      },
      {
       "output_type": "stream",
       "stream": "stdout",
       "text": [
        "1800 "
       ]
      },
      {
       "output_type": "stream",
       "stream": "stdout",
       "text": [
        "1820 "
       ]
      },
      {
       "output_type": "stream",
       "stream": "stdout",
       "text": [
        "1840 "
       ]
      },
      {
       "output_type": "stream",
       "stream": "stdout",
       "text": [
        "1860 "
       ]
      },
      {
       "output_type": "stream",
       "stream": "stdout",
       "text": [
        "1880 "
       ]
      },
      {
       "output_type": "stream",
       "stream": "stdout",
       "text": [
        "1900 "
       ]
      },
      {
       "output_type": "stream",
       "stream": "stdout",
       "text": [
        "1920 "
       ]
      },
      {
       "output_type": "stream",
       "stream": "stdout",
       "text": [
        "1940 "
       ]
      },
      {
       "output_type": "stream",
       "stream": "stdout",
       "text": [
        "1960 "
       ]
      },
      {
       "output_type": "stream",
       "stream": "stdout",
       "text": [
        "1980 "
       ]
      },
      {
       "output_type": "stream",
       "stream": "stdout",
       "text": [
        "Initial guess is [ 0  1  2  3  4  5  6  7  8  9 10 11 12 13 14 15 16 17 18 19 20 21 22 23 24 25]\n",
        "Start with"
       ]
      },
      {
       "output_type": "stream",
       "stream": "stdout",
       "text": [
        " [ 0  1  2  3  4  5  6  7  8  9 10 11 12 13 14 15 16 17 18 19 20 21 22 23 24 25]\n",
        "."
       ]
      },
      {
       "output_type": "stream",
       "stream": "stdout",
       "text": [
        " (-2558595.06) 0 "
       ]
      },
      {
       "output_type": "stream",
       "stream": "stdout",
       "text": [
        ". (-2542202.85) "
       ]
      },
      {
       "output_type": "stream",
       "stream": "stdout",
       "text": [
        ". (-2469658.52) "
       ]
      },
      {
       "output_type": "stream",
       "stream": "stdout",
       "text": [
        ". (-2461179.34) "
       ]
      },
      {
       "output_type": "stream",
       "stream": "stdout",
       "text": [
        ". (-2444474.97) 20 "
       ]
      },
      {
       "output_type": "stream",
       "stream": "stdout",
       "text": [
        ". (-2426327.21) "
       ]
      },
      {
       "output_type": "stream",
       "stream": "stdout",
       "text": [
        ". (-2421276.63) "
       ]
      },
      {
       "output_type": "stream",
       "stream": "stdout",
       "text": [
        ". (-2407386.23) "
       ]
      },
      {
       "output_type": "stream",
       "stream": "stdout",
       "text": [
        ". (-2382116.73) "
       ]
      },
      {
       "output_type": "stream",
       "stream": "stdout",
       "text": [
        ". (-2315553.60) "
       ]
      },
      {
       "output_type": "stream",
       "stream": "stdout",
       "text": [
        ". (-2312028.88) "
       ]
      },
      {
       "output_type": "stream",
       "stream": "stdout",
       "text": [
        "40 "
       ]
      },
      {
       "output_type": "stream",
       "stream": "stdout",
       "text": [
        ". (-2311243.25) "
       ]
      },
      {
       "output_type": "stream",
       "stream": "stdout",
       "text": [
        ". (-2309348.21) "
       ]
      },
      {
       "output_type": "stream",
       "stream": "stdout",
       "text": [
        ". (-2309213.81) "
       ]
      },
      {
       "output_type": "stream",
       "stream": "stdout",
       "text": [
        ". (-2309032.53) "
       ]
      },
      {
       "output_type": "stream",
       "stream": "stdout",
       "text": [
        "60 "
       ]
      },
      {
       "output_type": "stream",
       "stream": "stdout",
       "text": [
        ". (-2301564.12) "
       ]
      },
      {
       "output_type": "stream",
       "stream": "stdout",
       "text": [
        ". (-2292214.24) "
       ]
      },
      {
       "output_type": "stream",
       "stream": "stdout",
       "text": [
        ". (-2284409.82) "
       ]
      },
      {
       "output_type": "stream",
       "stream": "stdout",
       "text": [
        ". (-2283922.01) "
       ]
      },
      {
       "output_type": "stream",
       "stream": "stdout",
       "text": [
        "80 "
       ]
      },
      {
       "output_type": "stream",
       "stream": "stdout",
       "text": [
        ". (-2256011.97) "
       ]
      },
      {
       "output_type": "stream",
       "stream": "stdout",
       "text": [
        ". (-2255999.60) "
       ]
      },
      {
       "output_type": "stream",
       "stream": "stdout",
       "text": [
        ". (-2255954.84) "
       ]
      },
      {
       "output_type": "stream",
       "stream": "stdout",
       "text": [
        ". (-2255392.04) "
       ]
      },
      {
       "output_type": "stream",
       "stream": "stdout",
       "text": [
        ". (-2253959.01) "
       ]
      },
      {
       "output_type": "stream",
       "stream": "stdout",
       "text": [
        ". (-2245500.09) "
       ]
      },
      {
       "output_type": "stream",
       "stream": "stdout",
       "text": [
        ". (-2241363.07) "
       ]
      },
      {
       "output_type": "stream",
       "stream": "stdout",
       "text": [
        "100 "
       ]
      },
      {
       "output_type": "stream",
       "stream": "stdout",
       "text": [
        ". (-2239389.83) "
       ]
      },
      {
       "output_type": "stream",
       "stream": "stdout",
       "text": [
        ". (-2220915.39) "
       ]
      },
      {
       "output_type": "stream",
       "stream": "stdout",
       "text": [
        ". (-2220894.37) "
       ]
      },
      {
       "output_type": "stream",
       "stream": "stdout",
       "text": [
        ". (-2218442.58) "
       ]
      },
      {
       "output_type": "stream",
       "stream": "stdout",
       "text": [
        ". (-2217673.80) "
       ]
      },
      {
       "output_type": "stream",
       "stream": "stdout",
       "text": [
        ". (-2203250.54) "
       ]
      },
      {
       "output_type": "stream",
       "stream": "stdout",
       "text": [
        ". (-2196324.65) "
       ]
      },
      {
       "output_type": "stream",
       "stream": "stdout",
       "text": [
        "120 "
       ]
      },
      {
       "output_type": "stream",
       "stream": "stdout",
       "text": [
        ". (-2190666.10) "
       ]
      },
      {
       "output_type": "stream",
       "stream": "stdout",
       "text": [
        ". (-2189170.77) "
       ]
      },
      {
       "output_type": "stream",
       "stream": "stdout",
       "text": [
        ". (-2186146.19) "
       ]
      },
      {
       "output_type": "stream",
       "stream": "stdout",
       "text": [
        ". (-2184102.40) "
       ]
      },
      {
       "output_type": "stream",
       "stream": "stdout",
       "text": [
        "140 "
       ]
      },
      {
       "output_type": "stream",
       "stream": "stdout",
       "text": [
        ". (-2159150.00) "
       ]
      },
      {
       "output_type": "stream",
       "stream": "stdout",
       "text": [
        ". (-2155076.34) "
       ]
      },
      {
       "output_type": "stream",
       "stream": "stdout",
       "text": [
        "160 "
       ]
      },
      {
       "output_type": "stream",
       "stream": "stdout",
       "text": [
        ". (-2153124.68) "
       ]
      },
      {
       "output_type": "stream",
       "stream": "stdout",
       "text": [
        ". (-2128628.93) "
       ]
      },
      {
       "output_type": "stream",
       "stream": "stdout",
       "text": [
        ". (-2116754.13) "
       ]
      },
      {
       "output_type": "stream",
       "stream": "stdout",
       "text": [
        "180 "
       ]
      },
      {
       "output_type": "stream",
       "stream": "stdout",
       "text": [
        ". (-2108666.92) "
       ]
      },
      {
       "output_type": "stream",
       "stream": "stdout",
       "text": [
        ". (-2100547.89) "
       ]
      },
      {
       "output_type": "stream",
       "stream": "stdout",
       "text": [
        "200 "
       ]
      },
      {
       "output_type": "stream",
       "stream": "stdout",
       "text": [
        ". (-2099303.96) "
       ]
      },
      {
       "output_type": "stream",
       "stream": "stdout",
       "text": [
        ". (-2095091.49) "
       ]
      },
      {
       "output_type": "stream",
       "stream": "stdout",
       "text": [
        ". (-2081386.73) "
       ]
      },
      {
       "output_type": "stream",
       "stream": "stdout",
       "text": [
        ". (-2078361.59) "
       ]
      },
      {
       "output_type": "stream",
       "stream": "stdout",
       "text": [
        "220 "
       ]
      },
      {
       "output_type": "stream",
       "stream": "stdout",
       "text": [
        ". (-2078208.20) "
       ]
      },
      {
       "output_type": "stream",
       "stream": "stdout",
       "text": [
        ". (-2078178.82) "
       ]
      },
      {
       "output_type": "stream",
       "stream": "stdout",
       "text": [
        ". (-2076422.89) 240 "
       ]
      },
      {
       "output_type": "stream",
       "stream": "stdout",
       "text": [
        ". (-2070275.03) "
       ]
      },
      {
       "output_type": "stream",
       "stream": "stdout",
       "text": [
        "260 "
       ]
      },
      {
       "output_type": "stream",
       "stream": "stdout",
       "text": [
        ". (-2070270.09) "
       ]
      },
      {
       "output_type": "stream",
       "stream": "stdout",
       "text": [
        "280 "
       ]
      },
      {
       "output_type": "stream",
       "stream": "stdout",
       "text": [
        "300 "
       ]
      },
      {
       "output_type": "stream",
       "stream": "stdout",
       "text": [
        ". (-2069488.71) "
       ]
      },
      {
       "output_type": "stream",
       "stream": "stdout",
       "text": [
        ". (-2069024.10) "
       ]
      },
      {
       "output_type": "stream",
       "stream": "stdout",
       "text": [
        ". (-2058303.27) "
       ]
      },
      {
       "output_type": "stream",
       "stream": "stdout",
       "text": [
        "320 "
       ]
      },
      {
       "output_type": "stream",
       "stream": "stdout",
       "text": [
        ". (-2058041.77) "
       ]
      },
      {
       "output_type": "stream",
       "stream": "stdout",
       "text": [
        ". (-2056189.70) "
       ]
      },
      {
       "output_type": "stream",
       "stream": "stdout",
       "text": [
        ". (-2045844.29) "
       ]
      },
      {
       "output_type": "stream",
       "stream": "stdout",
       "text": [
        "340 "
       ]
      },
      {
       "output_type": "stream",
       "stream": "stdout",
       "text": [
        ". (-2045537.89) "
       ]
      },
      {
       "output_type": "stream",
       "stream": "stdout",
       "text": [
        ". (-2045236.88) "
       ]
      },
      {
       "output_type": "stream",
       "stream": "stdout",
       "text": [
        "360 "
       ]
      },
      {
       "output_type": "stream",
       "stream": "stdout",
       "text": [
        ". (-2045020.00) "
       ]
      },
      {
       "output_type": "stream",
       "stream": "stdout",
       "text": [
        "380 "
       ]
      },
      {
       "output_type": "stream",
       "stream": "stdout",
       "text": [
        "400 "
       ]
      },
      {
       "output_type": "stream",
       "stream": "stdout",
       "text": [
        ". (-2044966.56) "
       ]
      },
      {
       "output_type": "stream",
       "stream": "stdout",
       "text": [
        ". (-2044870.93) "
       ]
      },
      {
       "output_type": "stream",
       "stream": "stdout",
       "text": [
        "420 "
       ]
      },
      {
       "output_type": "stream",
       "stream": "stdout",
       "text": [
        "440 "
       ]
      },
      {
       "output_type": "stream",
       "stream": "stdout",
       "text": [
        "460 "
       ]
      },
      {
       "output_type": "stream",
       "stream": "stdout",
       "text": [
        ". (-2044641.39) "
       ]
      },
      {
       "output_type": "stream",
       "stream": "stdout",
       "text": [
        "480 "
       ]
      },
      {
       "output_type": "stream",
       "stream": "stdout",
       "text": [
        "500 "
       ]
      },
      {
       "output_type": "stream",
       "stream": "stdout",
       "text": [
        "520 "
       ]
      },
      {
       "output_type": "stream",
       "stream": "stdout",
       "text": [
        "540 "
       ]
      },
      {
       "output_type": "stream",
       "stream": "stdout",
       "text": [
        ". (-2044432.37) "
       ]
      },
      {
       "output_type": "stream",
       "stream": "stdout",
       "text": [
        "560 "
       ]
      },
      {
       "output_type": "stream",
       "stream": "stdout",
       "text": [
        "580 "
       ]
      },
      {
       "output_type": "stream",
       "stream": "stdout",
       "text": [
        ". (-2042699.51) "
       ]
      },
      {
       "output_type": "stream",
       "stream": "stdout",
       "text": [
        "600 "
       ]
      },
      {
       "output_type": "stream",
       "stream": "stdout",
       "text": [
        "620 "
       ]
      },
      {
       "output_type": "stream",
       "stream": "stdout",
       "text": [
        ". (-2040759.21) "
       ]
      },
      {
       "output_type": "stream",
       "stream": "stdout",
       "text": [
        "640 "
       ]
      },
      {
       "output_type": "stream",
       "stream": "stdout",
       "text": [
        "660 "
       ]
      },
      {
       "output_type": "stream",
       "stream": "stdout",
       "text": [
        ". (-2040683.15) "
       ]
      },
      {
       "output_type": "stream",
       "stream": "stdout",
       "text": [
        "680 "
       ]
      },
      {
       "output_type": "stream",
       "stream": "stdout",
       "text": [
        "700 "
       ]
      },
      {
       "output_type": "stream",
       "stream": "stdout",
       "text": [
        "720 "
       ]
      },
      {
       "output_type": "stream",
       "stream": "stdout",
       "text": [
        "740 "
       ]
      },
      {
       "output_type": "stream",
       "stream": "stdout",
       "text": [
        "760 "
       ]
      },
      {
       "output_type": "stream",
       "stream": "stdout",
       "text": [
        "780 "
       ]
      },
      {
       "output_type": "stream",
       "stream": "stdout",
       "text": [
        "800 "
       ]
      },
      {
       "output_type": "stream",
       "stream": "stdout",
       "text": [
        "820 "
       ]
      },
      {
       "output_type": "stream",
       "stream": "stdout",
       "text": [
        "840 "
       ]
      },
      {
       "output_type": "stream",
       "stream": "stdout",
       "text": [
        "860 "
       ]
      },
      {
       "output_type": "stream",
       "stream": "stdout",
       "text": [
        ". (-2040658.41) "
       ]
      },
      {
       "output_type": "stream",
       "stream": "stdout",
       "text": [
        "880 "
       ]
      },
      {
       "output_type": "stream",
       "stream": "stdout",
       "text": [
        "900 "
       ]
      },
      {
       "output_type": "stream",
       "stream": "stdout",
       "text": [
        "920 "
       ]
      },
      {
       "output_type": "stream",
       "stream": "stdout",
       "text": [
        "940 "
       ]
      },
      {
       "output_type": "stream",
       "stream": "stdout",
       "text": [
        "960 "
       ]
      },
      {
       "output_type": "stream",
       "stream": "stdout",
       "text": [
        "980 "
       ]
      },
      {
       "output_type": "stream",
       "stream": "stdout",
       "text": [
        ". (-2040626.83) "
       ]
      },
      {
       "output_type": "stream",
       "stream": "stdout",
       "text": [
        "1000 "
       ]
      },
      {
       "output_type": "stream",
       "stream": "stdout",
       "text": [
        "1020 "
       ]
      },
      {
       "output_type": "stream",
       "stream": "stdout",
       "text": [
        "1040 "
       ]
      },
      {
       "output_type": "stream",
       "stream": "stdout",
       "text": [
        ". "
       ]
      },
      {
       "output_type": "stream",
       "stream": "stdout",
       "text": [
        "1060 "
       ]
      },
      {
       "output_type": "stream",
       "stream": "stdout",
       "text": [
        "1080 "
       ]
      },
      {
       "output_type": "stream",
       "stream": "stdout",
       "text": [
        "1100 "
       ]
      },
      {
       "output_type": "stream",
       "stream": "stdout",
       "text": [
        "1120 "
       ]
      },
      {
       "output_type": "stream",
       "stream": "stdout",
       "text": [
        "1140 "
       ]
      },
      {
       "output_type": "stream",
       "stream": "stdout",
       "text": [
        "1160 "
       ]
      },
      {
       "output_type": "stream",
       "stream": "stdout",
       "text": [
        ". 1180 "
       ]
      },
      {
       "output_type": "stream",
       "stream": "stdout",
       "text": [
        "1200 "
       ]
      },
      {
       "output_type": "stream",
       "stream": "stdout",
       "text": [
        "1220 "
       ]
      },
      {
       "output_type": "stream",
       "stream": "stdout",
       "text": [
        "1240 "
       ]
      },
      {
       "output_type": "stream",
       "stream": "stdout",
       "text": [
        "1260 "
       ]
      },
      {
       "output_type": "stream",
       "stream": "stdout",
       "text": [
        "1280 "
       ]
      },
      {
       "output_type": "stream",
       "stream": "stdout",
       "text": [
        "1300 "
       ]
      },
      {
       "output_type": "stream",
       "stream": "stdout",
       "text": [
        "1320 "
       ]
      },
      {
       "output_type": "stream",
       "stream": "stdout",
       "text": [
        "1340 "
       ]
      },
      {
       "output_type": "stream",
       "stream": "stdout",
       "text": [
        "1360 "
       ]
      },
      {
       "output_type": "stream",
       "stream": "stdout",
       "text": [
        "1380 "
       ]
      },
      {
       "output_type": "stream",
       "stream": "stdout",
       "text": [
        "1400 "
       ]
      },
      {
       "output_type": "stream",
       "stream": "stdout",
       "text": [
        "1420 "
       ]
      },
      {
       "output_type": "stream",
       "stream": "stdout",
       "text": [
        "1440 "
       ]
      },
      {
       "output_type": "stream",
       "stream": "stdout",
       "text": [
        "1460 "
       ]
      },
      {
       "output_type": "stream",
       "stream": "stdout",
       "text": [
        "1480 "
       ]
      },
      {
       "output_type": "stream",
       "stream": "stdout",
       "text": [
        "1500 "
       ]
      },
      {
       "output_type": "stream",
       "stream": "stdout",
       "text": [
        "1520 "
       ]
      },
      {
       "output_type": "stream",
       "stream": "stdout",
       "text": [
        "1540 "
       ]
      },
      {
       "output_type": "stream",
       "stream": "stdout",
       "text": [
        "1560 "
       ]
      },
      {
       "output_type": "stream",
       "stream": "stdout",
       "text": [
        "1580 "
       ]
      },
      {
       "output_type": "stream",
       "stream": "stdout",
       "text": [
        "1600 "
       ]
      },
      {
       "output_type": "stream",
       "stream": "stdout",
       "text": [
        "1620 "
       ]
      },
      {
       "output_type": "stream",
       "stream": "stdout",
       "text": [
        "1640 "
       ]
      },
      {
       "output_type": "stream",
       "stream": "stdout",
       "text": [
        "1660 "
       ]
      },
      {
       "output_type": "stream",
       "stream": "stdout",
       "text": [
        "1680 "
       ]
      },
      {
       "output_type": "stream",
       "stream": "stdout",
       "text": [
        "1700 "
       ]
      },
      {
       "output_type": "stream",
       "stream": "stdout",
       "text": [
        "1720 "
       ]
      },
      {
       "output_type": "stream",
       "stream": "stdout",
       "text": [
        "1740 "
       ]
      },
      {
       "output_type": "stream",
       "stream": "stdout",
       "text": [
        "1760 "
       ]
      },
      {
       "output_type": "stream",
       "stream": "stdout",
       "text": [
        "1780 "
       ]
      },
      {
       "output_type": "stream",
       "stream": "stdout",
       "text": [
        "1800 "
       ]
      },
      {
       "output_type": "stream",
       "stream": "stdout",
       "text": [
        "1820 "
       ]
      },
      {
       "output_type": "stream",
       "stream": "stdout",
       "text": [
        "1840 "
       ]
      },
      {
       "output_type": "stream",
       "stream": "stdout",
       "text": [
        ". (-2038505.30) "
       ]
      },
      {
       "output_type": "stream",
       "stream": "stdout",
       "text": [
        "1860 "
       ]
      },
      {
       "output_type": "stream",
       "stream": "stdout",
       "text": [
        "1880 "
       ]
      },
      {
       "output_type": "stream",
       "stream": "stdout",
       "text": [
        "1900 "
       ]
      },
      {
       "output_type": "stream",
       "stream": "stdout",
       "text": [
        "1920 "
       ]
      },
      {
       "output_type": "stream",
       "stream": "stdout",
       "text": [
        "1940 "
       ]
      },
      {
       "output_type": "stream",
       "stream": "stdout",
       "text": [
        "1960 "
       ]
      },
      {
       "output_type": "stream",
       "stream": "stdout",
       "text": [
        "1980 "
       ]
      },
      {
       "output_type": "stream",
       "stream": "stdout",
       "text": [
        "Initial guess is [ 0  1  2  3  4  5  6  7  8  9 10 11 12 13 14 15 16 17 18 19 20 21 22 23 24 25]\n",
        "Start with"
       ]
      },
      {
       "output_type": "stream",
       "stream": "stdout",
       "text": [
        " [ 0  1  2  3  4  5  6  7  8  9 10 11 12 13 14 15 16 17 18 19 20 21 22 23 24 25]\n",
        "0"
       ]
      },
      {
       "output_type": "stream",
       "stream": "stdout",
       "text": [
        " . (-2701669.27) "
       ]
      },
      {
       "output_type": "stream",
       "stream": "stdout",
       "text": [
        ". (-2686348.93) "
       ]
      },
      {
       "output_type": "stream",
       "stream": "stdout",
       "text": [
        ". (-2669163.94) "
       ]
      },
      {
       "output_type": "stream",
       "stream": "stdout",
       "text": [
        ". (-2630882.71) "
       ]
      },
      {
       "output_type": "stream",
       "stream": "stdout",
       "text": [
        ". (-2625872.17) "
       ]
      },
      {
       "output_type": "stream",
       "stream": "stdout",
       "text": [
        "20 "
       ]
      },
      {
       "output_type": "stream",
       "stream": "stdout",
       "text": [
        ". (-2614645.45) "
       ]
      },
      {
       "output_type": "stream",
       "stream": "stdout",
       "text": [
        ". (-2567211.99) "
       ]
      },
      {
       "output_type": "stream",
       "stream": "stdout",
       "text": [
        ". (-2566404.53) "
       ]
      },
      {
       "output_type": "stream",
       "stream": "stdout",
       "text": [
        ". (-2544539.99) "
       ]
      },
      {
       "output_type": "stream",
       "stream": "stdout",
       "text": [
        ". (-2499236.14) "
       ]
      },
      {
       "output_type": "stream",
       "stream": "stdout",
       "text": [
        ". (-2465997.21) "
       ]
      },
      {
       "output_type": "stream",
       "stream": "stdout",
       "text": [
        ". (-2465572.74) "
       ]
      },
      {
       "output_type": "stream",
       "stream": "stdout",
       "text": [
        ". (-2447110.61) "
       ]
      },
      {
       "output_type": "stream",
       "stream": "stdout",
       "text": [
        ". (-2446894.22) "
       ]
      },
      {
       "output_type": "stream",
       "stream": "stdout",
       "text": [
        ". (-2436931.39) "
       ]
      },
      {
       "output_type": "stream",
       "stream": "stdout",
       "text": [
        ". (-2350792.73) 40 "
       ]
      },
      {
       "output_type": "stream",
       "stream": "stdout",
       "text": [
        ". (-2350590.65) "
       ]
      },
      {
       "output_type": "stream",
       "stream": "stdout",
       "text": [
        ". (-2340212.24) "
       ]
      },
      {
       "output_type": "stream",
       "stream": "stdout",
       "text": [
        ". (-2336722.09) "
       ]
      },
      {
       "output_type": "stream",
       "stream": "stdout",
       "text": [
        ". (-2336206.67) "
       ]
      },
      {
       "output_type": "stream",
       "stream": "stdout",
       "text": [
        "60 "
       ]
      },
      {
       "output_type": "stream",
       "stream": "stdout",
       "text": [
        ". (-2334054.74) "
       ]
      },
      {
       "output_type": "stream",
       "stream": "stdout",
       "text": [
        ". (-2327816.49) "
       ]
      },
      {
       "output_type": "stream",
       "stream": "stdout",
       "text": [
        ". (-2321298.92) "
       ]
      },
      {
       "output_type": "stream",
       "stream": "stdout",
       "text": [
        ". (-2304112.18) "
       ]
      },
      {
       "output_type": "stream",
       "stream": "stdout",
       "text": [
        "80 "
       ]
      },
      {
       "output_type": "stream",
       "stream": "stdout",
       "text": [
        ". (-2303056.38) "
       ]
      },
      {
       "output_type": "stream",
       "stream": "stdout",
       "text": [
        ". (-2301188.52) "
       ]
      },
      {
       "output_type": "stream",
       "stream": "stdout",
       "text": [
        ". (-2290549.22) "
       ]
      },
      {
       "output_type": "stream",
       "stream": "stdout",
       "text": [
        ". (-2258404.28) "
       ]
      },
      {
       "output_type": "stream",
       "stream": "stdout",
       "text": [
        "100 "
       ]
      },
      {
       "output_type": "stream",
       "stream": "stdout",
       "text": [
        ". (-2188397.76) "
       ]
      },
      {
       "output_type": "stream",
       "stream": "stdout",
       "text": [
        ". (-2186859.14) "
       ]
      },
      {
       "output_type": "stream",
       "stream": "stdout",
       "text": [
        ". (-2183570.09) "
       ]
      },
      {
       "output_type": "stream",
       "stream": "stdout",
       "text": [
        ". (-2180908.76) "
       ]
      },
      {
       "output_type": "stream",
       "stream": "stdout",
       "text": [
        ". (-2179393.72) "
       ]
      },
      {
       "output_type": "stream",
       "stream": "stdout",
       "text": [
        ". (-2178774.60) 120 "
       ]
      },
      {
       "output_type": "stream",
       "stream": "stdout",
       "text": [
        ". (-2178211.30) "
       ]
      },
      {
       "output_type": "stream",
       "stream": "stdout",
       "text": [
        ". (-2147210.43) "
       ]
      },
      {
       "output_type": "stream",
       "stream": "stdout",
       "text": [
        "140 "
       ]
      },
      {
       "output_type": "stream",
       "stream": "stdout",
       "text": [
        ". (-2147048.74) "
       ]
      },
      {
       "output_type": "stream",
       "stream": "stdout",
       "text": [
        ". (-2146824.74) "
       ]
      },
      {
       "output_type": "stream",
       "stream": "stdout",
       "text": [
        ". (-2143534.26) "
       ]
      },
      {
       "output_type": "stream",
       "stream": "stdout",
       "text": [
        ". (-2142561.95) "
       ]
      },
      {
       "output_type": "stream",
       "stream": "stdout",
       "text": [
        "160 "
       ]
      },
      {
       "output_type": "stream",
       "stream": "stdout",
       "text": [
        ". (-2109315.96) "
       ]
      },
      {
       "output_type": "stream",
       "stream": "stdout",
       "text": [
        ". (-2109159.46) "
       ]
      },
      {
       "output_type": "stream",
       "stream": "stdout",
       "text": [
        "180 "
       ]
      },
      {
       "output_type": "stream",
       "stream": "stdout",
       "text": [
        ". (-2109159.06) "
       ]
      },
      {
       "output_type": "stream",
       "stream": "stdout",
       "text": [
        ". (-2100027.51) "
       ]
      },
      {
       "output_type": "stream",
       "stream": "stdout",
       "text": [
        ". (-2099837.48) "
       ]
      },
      {
       "output_type": "stream",
       "stream": "stdout",
       "text": [
        ". (-2099584.20) "
       ]
      },
      {
       "output_type": "stream",
       "stream": "stdout",
       "text": [
        "200 "
       ]
      },
      {
       "output_type": "stream",
       "stream": "stdout",
       "text": [
        ". (-2099576.27) "
       ]
      },
      {
       "output_type": "stream",
       "stream": "stdout",
       "text": [
        ". (-2078164.30) "
       ]
      },
      {
       "output_type": "stream",
       "stream": "stdout",
       "text": [
        ". (-2076353.73) "
       ]
      },
      {
       "output_type": "stream",
       "stream": "stdout",
       "text": [
        "220 "
       ]
      },
      {
       "output_type": "stream",
       "stream": "stdout",
       "text": [
        ". (-2075179.82) "
       ]
      },
      {
       "output_type": "stream",
       "stream": "stdout",
       "text": [
        ". (-2074225.75) "
       ]
      },
      {
       "output_type": "stream",
       "stream": "stdout",
       "text": [
        "240 "
       ]
      },
      {
       "output_type": "stream",
       "stream": "stdout",
       "text": [
        "260 "
       ]
      },
      {
       "output_type": "stream",
       "stream": "stdout",
       "text": [
        ". (-2068749.73) "
       ]
      },
      {
       "output_type": "stream",
       "stream": "stdout",
       "text": [
        "280 "
       ]
      },
      {
       "output_type": "stream",
       "stream": "stdout",
       "text": [
        ". (-2068684.11) "
       ]
      },
      {
       "output_type": "stream",
       "stream": "stdout",
       "text": [
        ". (-2067958.37) "
       ]
      },
      {
       "output_type": "stream",
       "stream": "stdout",
       "text": [
        "300 "
       ]
      },
      {
       "output_type": "stream",
       "stream": "stdout",
       "text": [
        ". (-2066711.81) "
       ]
      },
      {
       "output_type": "stream",
       "stream": "stdout",
       "text": [
        "320 "
       ]
      },
      {
       "output_type": "stream",
       "stream": "stdout",
       "text": [
        ". (-2063871.50) "
       ]
      },
      {
       "output_type": "stream",
       "stream": "stdout",
       "text": [
        ". (-2060707.38) "
       ]
      },
      {
       "output_type": "stream",
       "stream": "stdout",
       "text": [
        "340 "
       ]
      },
      {
       "output_type": "stream",
       "stream": "stdout",
       "text": [
        "360 "
       ]
      },
      {
       "output_type": "stream",
       "stream": "stdout",
       "text": [
        ". (-2060451.07) "
       ]
      },
      {
       "output_type": "stream",
       "stream": "stdout",
       "text": [
        ". (-2058779.57) "
       ]
      },
      {
       "output_type": "stream",
       "stream": "stdout",
       "text": [
        "380 "
       ]
      },
      {
       "output_type": "stream",
       "stream": "stdout",
       "text": [
        "400 "
       ]
      },
      {
       "output_type": "stream",
       "stream": "stdout",
       "text": [
        "420 "
       ]
      },
      {
       "output_type": "stream",
       "stream": "stdout",
       "text": [
        ". (-2057939.45) "
       ]
      },
      {
       "output_type": "stream",
       "stream": "stdout",
       "text": [
        ". (-2057828.42) "
       ]
      },
      {
       "output_type": "stream",
       "stream": "stdout",
       "text": [
        ". (-2049301.74) "
       ]
      },
      {
       "output_type": "stream",
       "stream": "stdout",
       "text": [
        "440 "
       ]
      },
      {
       "output_type": "stream",
       "stream": "stdout",
       "text": [
        ". (-2048429.42) "
       ]
      },
      {
       "output_type": "stream",
       "stream": "stdout",
       "text": [
        "460 "
       ]
      },
      {
       "output_type": "stream",
       "stream": "stdout",
       "text": [
        ". (-2048416.32) "
       ]
      },
      {
       "output_type": "stream",
       "stream": "stdout",
       "text": [
        "480 "
       ]
      },
      {
       "output_type": "stream",
       "stream": "stdout",
       "text": [
        "500 "
       ]
      },
      {
       "output_type": "stream",
       "stream": "stdout",
       "text": [
        ". (-2048382.91) "
       ]
      },
      {
       "output_type": "stream",
       "stream": "stdout",
       "text": [
        "520 "
       ]
      },
      {
       "output_type": "stream",
       "stream": "stdout",
       "text": [
        "540 "
       ]
      },
      {
       "output_type": "stream",
       "stream": "stdout",
       "text": [
        "560 "
       ]
      },
      {
       "output_type": "stream",
       "stream": "stdout",
       "text": [
        ". (-2048377.72) "
       ]
      },
      {
       "output_type": "stream",
       "stream": "stdout",
       "text": [
        "580 "
       ]
      },
      {
       "output_type": "stream",
       "stream": "stdout",
       "text": [
        ". (-2048325.20) "
       ]
      },
      {
       "output_type": "stream",
       "stream": "stdout",
       "text": [
        "600 "
       ]
      },
      {
       "output_type": "stream",
       "stream": "stdout",
       "text": [
        ". "
       ]
      },
      {
       "output_type": "stream",
       "stream": "stdout",
       "text": [
        "620 "
       ]
      },
      {
       "output_type": "stream",
       "stream": "stdout",
       "text": [
        "640 "
       ]
      },
      {
       "output_type": "stream",
       "stream": "stdout",
       "text": [
        "660 "
       ]
      },
      {
       "output_type": "stream",
       "stream": "stdout",
       "text": [
        "680 "
       ]
      },
      {
       "output_type": "stream",
       "stream": "stdout",
       "text": [
        "700 "
       ]
      },
      {
       "output_type": "stream",
       "stream": "stdout",
       "text": [
        "720 "
       ]
      },
      {
       "output_type": "stream",
       "stream": "stdout",
       "text": [
        "740 "
       ]
      },
      {
       "output_type": "stream",
       "stream": "stdout",
       "text": [
        ". "
       ]
      },
      {
       "output_type": "stream",
       "stream": "stdout",
       "text": [
        ". (-2048301.87) "
       ]
      },
      {
       "output_type": "stream",
       "stream": "stdout",
       "text": [
        "760 "
       ]
      },
      {
       "output_type": "stream",
       "stream": "stdout",
       "text": [
        ". (-2048062.84) "
       ]
      },
      {
       "output_type": "stream",
       "stream": "stdout",
       "text": [
        "780 "
       ]
      },
      {
       "output_type": "stream",
       "stream": "stdout",
       "text": [
        "800 "
       ]
      },
      {
       "output_type": "stream",
       "stream": "stdout",
       "text": [
        "820 "
       ]
      },
      {
       "output_type": "stream",
       "stream": "stdout",
       "text": [
        ". (-2048031.25) "
       ]
      },
      {
       "output_type": "stream",
       "stream": "stdout",
       "text": [
        "840 "
       ]
      },
      {
       "output_type": "stream",
       "stream": "stdout",
       "text": [
        "860 "
       ]
      },
      {
       "output_type": "stream",
       "stream": "stdout",
       "text": [
        "880 "
       ]
      },
      {
       "output_type": "stream",
       "stream": "stdout",
       "text": [
        "900 "
       ]
      },
      {
       "output_type": "stream",
       "stream": "stdout",
       "text": [
        "920 "
       ]
      },
      {
       "output_type": "stream",
       "stream": "stdout",
       "text": [
        "940 "
       ]
      },
      {
       "output_type": "stream",
       "stream": "stdout",
       "text": [
        "960 "
       ]
      },
      {
       "output_type": "stream",
       "stream": "stdout",
       "text": [
        "980 "
       ]
      },
      {
       "output_type": "stream",
       "stream": "stdout",
       "text": [
        "1000 "
       ]
      },
      {
       "output_type": "stream",
       "stream": "stdout",
       "text": [
        "1020 "
       ]
      },
      {
       "output_type": "stream",
       "stream": "stdout",
       "text": [
        ". (-2046634.78) "
       ]
      },
      {
       "output_type": "stream",
       "stream": "stdout",
       "text": [
        "1040 "
       ]
      },
      {
       "output_type": "stream",
       "stream": "stdout",
       "text": [
        ". (-2038505.30) "
       ]
      },
      {
       "output_type": "stream",
       "stream": "stdout",
       "text": [
        "1060 "
       ]
      },
      {
       "output_type": "stream",
       "stream": "stdout",
       "text": [
        "1080 "
       ]
      },
      {
       "output_type": "stream",
       "stream": "stdout",
       "text": [
        "1100 "
       ]
      },
      {
       "output_type": "stream",
       "stream": "stdout",
       "text": [
        "1120 "
       ]
      },
      {
       "output_type": "stream",
       "stream": "stdout",
       "text": [
        "1140 "
       ]
      },
      {
       "output_type": "stream",
       "stream": "stdout",
       "text": [
        "1160 "
       ]
      },
      {
       "output_type": "stream",
       "stream": "stdout",
       "text": [
        "1180 "
       ]
      },
      {
       "output_type": "stream",
       "stream": "stdout",
       "text": [
        "1200 "
       ]
      },
      {
       "output_type": "stream",
       "stream": "stdout",
       "text": [
        "1220 "
       ]
      },
      {
       "output_type": "stream",
       "stream": "stdout",
       "text": [
        "1240 "
       ]
      },
      {
       "output_type": "stream",
       "stream": "stdout",
       "text": [
        "1260 "
       ]
      },
      {
       "output_type": "stream",
       "stream": "stdout",
       "text": [
        "1280 "
       ]
      },
      {
       "output_type": "stream",
       "stream": "stdout",
       "text": [
        "1300 "
       ]
      },
      {
       "output_type": "stream",
       "stream": "stdout",
       "text": [
        "1320 "
       ]
      },
      {
       "output_type": "stream",
       "stream": "stdout",
       "text": [
        "1340 "
       ]
      },
      {
       "output_type": "stream",
       "stream": "stdout",
       "text": [
        "1360 "
       ]
      },
      {
       "output_type": "stream",
       "stream": "stdout",
       "text": [
        "1380 "
       ]
      },
      {
       "output_type": "stream",
       "stream": "stdout",
       "text": [
        "1400 "
       ]
      },
      {
       "output_type": "stream",
       "stream": "stdout",
       "text": [
        "1420 "
       ]
      },
      {
       "output_type": "stream",
       "stream": "stdout",
       "text": [
        "1440 "
       ]
      },
      {
       "output_type": "stream",
       "stream": "stdout",
       "text": [
        "1460 "
       ]
      },
      {
       "output_type": "stream",
       "stream": "stdout",
       "text": [
        "1480 "
       ]
      },
      {
       "output_type": "stream",
       "stream": "stdout",
       "text": [
        "1500 "
       ]
      },
      {
       "output_type": "stream",
       "stream": "stdout",
       "text": [
        "1520 "
       ]
      },
      {
       "output_type": "stream",
       "stream": "stdout",
       "text": [
        "1540 "
       ]
      },
      {
       "output_type": "stream",
       "stream": "stdout",
       "text": [
        "1560 "
       ]
      },
      {
       "output_type": "stream",
       "stream": "stdout",
       "text": [
        "1580 "
       ]
      },
      {
       "output_type": "stream",
       "stream": "stdout",
       "text": [
        "1600 "
       ]
      },
      {
       "output_type": "stream",
       "stream": "stdout",
       "text": [
        "1620 "
       ]
      },
      {
       "output_type": "stream",
       "stream": "stdout",
       "text": [
        "1640 "
       ]
      },
      {
       "output_type": "stream",
       "stream": "stdout",
       "text": [
        "1660 "
       ]
      },
      {
       "output_type": "stream",
       "stream": "stdout",
       "text": [
        "1680 "
       ]
      },
      {
       "output_type": "stream",
       "stream": "stdout",
       "text": [
        "1700 "
       ]
      },
      {
       "output_type": "stream",
       "stream": "stdout",
       "text": [
        "1720 "
       ]
      },
      {
       "output_type": "stream",
       "stream": "stdout",
       "text": [
        "1740 "
       ]
      },
      {
       "output_type": "stream",
       "stream": "stdout",
       "text": [
        "1760 "
       ]
      },
      {
       "output_type": "stream",
       "stream": "stdout",
       "text": [
        "1780 "
       ]
      },
      {
       "output_type": "stream",
       "stream": "stdout",
       "text": [
        "1800 "
       ]
      },
      {
       "output_type": "stream",
       "stream": "stdout",
       "text": [
        "1820 "
       ]
      },
      {
       "output_type": "stream",
       "stream": "stdout",
       "text": [
        "1840 "
       ]
      },
      {
       "output_type": "stream",
       "stream": "stdout",
       "text": [
        "1860 "
       ]
      },
      {
       "output_type": "stream",
       "stream": "stdout",
       "text": [
        "1880 "
       ]
      },
      {
       "output_type": "stream",
       "stream": "stdout",
       "text": [
        "1900 "
       ]
      },
      {
       "output_type": "stream",
       "stream": "stdout",
       "text": [
        "1920 "
       ]
      },
      {
       "output_type": "stream",
       "stream": "stdout",
       "text": [
        "1940 "
       ]
      },
      {
       "output_type": "stream",
       "stream": "stdout",
       "text": [
        "1960 "
       ]
      },
      {
       "output_type": "stream",
       "stream": "stdout",
       "text": [
        "1980 "
       ]
      },
      {
       "output_type": "stream",
       "stream": "stdout",
       "text": [
        "Initial guess is [ 0  1  2  3  4  5  6  7  8  9 10 11 12 13 14 15 16 17 18 19 20 21 22 23 24 25]\n",
        "Start with"
       ]
      },
      {
       "output_type": "stream",
       "stream": "stdout",
       "text": [
        " [ 0  1  2  3  4  5  6  7  8  9 10 11 12 13 14 15 16 17 18 19 20 21 22 23 24 25]\n",
        "0"
       ]
      },
      {
       "output_type": "stream",
       "stream": "stdout",
       "text": [
        " . (-2612082.88) "
       ]
      },
      {
       "output_type": "stream",
       "stream": "stdout",
       "text": [
        ". (-2609256.30) "
       ]
      },
      {
       "output_type": "stream",
       "stream": "stdout",
       "text": [
        ". (-2608470.67) "
       ]
      },
      {
       "output_type": "stream",
       "stream": "stdout",
       "text": [
        ". (-2588410.97) "
       ]
      },
      {
       "output_type": "stream",
       "stream": "stdout",
       "text": [
        ". (-2528285.35) "
       ]
      },
      {
       "output_type": "stream",
       "stream": "stdout",
       "text": [
        ". (-2513622.89) "
       ]
      },
      {
       "output_type": "stream",
       "stream": "stdout",
       "text": [
        ". (-2451920.91) "
       ]
      },
      {
       "output_type": "stream",
       "stream": "stdout",
       "text": [
        "20 "
       ]
      },
      {
       "output_type": "stream",
       "stream": "stdout",
       "text": [
        ". (-2406396.89) "
       ]
      },
      {
       "output_type": "stream",
       "stream": "stdout",
       "text": [
        ". (-2394110.89) "
       ]
      },
      {
       "output_type": "stream",
       "stream": "stdout",
       "text": [
        ". (-2375963.13) "
       ]
      },
      {
       "output_type": "stream",
       "stream": "stdout",
       "text": [
        ". (-2348818.51) "
       ]
      },
      {
       "output_type": "stream",
       "stream": "stdout",
       "text": [
        ". (-2264519.26) 40 "
       ]
      },
      {
       "output_type": "stream",
       "stream": "stdout",
       "text": [
        ". (-2236735.20) "
       ]
      },
      {
       "output_type": "stream",
       "stream": "stdout",
       "text": [
        ". (-2218120.27) "
       ]
      },
      {
       "output_type": "stream",
       "stream": "stdout",
       "text": [
        "60 "
       ]
      },
      {
       "output_type": "stream",
       "stream": "stdout",
       "text": [
        ". (-2191108.33) "
       ]
      },
      {
       "output_type": "stream",
       "stream": "stdout",
       "text": [
        ". (-2189527.98) "
       ]
      },
      {
       "output_type": "stream",
       "stream": "stdout",
       "text": [
        ". (-2187300.31) "
       ]
      },
      {
       "output_type": "stream",
       "stream": "stdout",
       "text": [
        ". (-2179966.98) "
       ]
      },
      {
       "output_type": "stream",
       "stream": "stdout",
       "text": [
        "80 "
       ]
      },
      {
       "output_type": "stream",
       "stream": "stdout",
       "text": [
        ". (-2174594.55) "
       ]
      },
      {
       "output_type": "stream",
       "stream": "stdout",
       "text": [
        ". (-2169928.09) "
       ]
      },
      {
       "output_type": "stream",
       "stream": "stdout",
       "text": [
        ". (-2169375.64) "
       ]
      },
      {
       "output_type": "stream",
       "stream": "stdout",
       "text": [
        ". (-2168949.41) "
       ]
      },
      {
       "output_type": "stream",
       "stream": "stdout",
       "text": [
        ". (-2168607.29) "
       ]
      },
      {
       "output_type": "stream",
       "stream": "stdout",
       "text": [
        ". (-2166718.52) "
       ]
      },
      {
       "output_type": "stream",
       "stream": "stdout",
       "text": [
        "100 "
       ]
      },
      {
       "output_type": "stream",
       "stream": "stdout",
       "text": [
        ". (-2165527.45) "
       ]
      },
      {
       "output_type": "stream",
       "stream": "stdout",
       "text": [
        ". (-2160000.27) "
       ]
      },
      {
       "output_type": "stream",
       "stream": "stdout",
       "text": [
        "120 "
       ]
      },
      {
       "output_type": "stream",
       "stream": "stdout",
       "text": [
        ". (-2157924.54) "
       ]
      },
      {
       "output_type": "stream",
       "stream": "stdout",
       "text": [
        ". (-2157057.73) "
       ]
      },
      {
       "output_type": "stream",
       "stream": "stdout",
       "text": [
        ". (-2156537.40) "
       ]
      },
      {
       "output_type": "stream",
       "stream": "stdout",
       "text": [
        ". (-2155303.50) "
       ]
      },
      {
       "output_type": "stream",
       "stream": "stdout",
       "text": [
        ". (-2140856.94) "
       ]
      },
      {
       "output_type": "stream",
       "stream": "stdout",
       "text": [
        "140 "
       ]
      },
      {
       "output_type": "stream",
       "stream": "stdout",
       "text": [
        ". (-2139223.89) "
       ]
      },
      {
       "output_type": "stream",
       "stream": "stdout",
       "text": [
        ". (-2113567.46) 160 "
       ]
      },
      {
       "output_type": "stream",
       "stream": "stdout",
       "text": [
        ". (-2110643.08) "
       ]
      },
      {
       "output_type": "stream",
       "stream": "stdout",
       "text": [
        "180 "
       ]
      },
      {
       "output_type": "stream",
       "stream": "stdout",
       "text": [
        ". (-2110630.68) "
       ]
      },
      {
       "output_type": "stream",
       "stream": "stdout",
       "text": [
        ". (-2103282.38) "
       ]
      },
      {
       "output_type": "stream",
       "stream": "stdout",
       "text": [
        "200 "
       ]
      },
      {
       "output_type": "stream",
       "stream": "stdout",
       "text": [
        "220 "
       ]
      },
      {
       "output_type": "stream",
       "stream": "stdout",
       "text": [
        ". (-2101352.47) "
       ]
      },
      {
       "output_type": "stream",
       "stream": "stdout",
       "text": [
        "240 "
       ]
      },
      {
       "output_type": "stream",
       "stream": "stdout",
       "text": [
        "260 "
       ]
      },
      {
       "output_type": "stream",
       "stream": "stdout",
       "text": [
        ". (-2091220.56) "
       ]
      },
      {
       "output_type": "stream",
       "stream": "stdout",
       "text": [
        ". (-2088263.90) "
       ]
      },
      {
       "output_type": "stream",
       "stream": "stdout",
       "text": [
        "280 "
       ]
      },
      {
       "output_type": "stream",
       "stream": "stdout",
       "text": [
        ". (-2079481.38) "
       ]
      },
      {
       "output_type": "stream",
       "stream": "stdout",
       "text": [
        ". (-2074248.36) "
       ]
      },
      {
       "output_type": "stream",
       "stream": "stdout",
       "text": [
        "300 "
       ]
      },
      {
       "output_type": "stream",
       "stream": "stdout",
       "text": [
        ". (-2074013.32) "
       ]
      },
      {
       "output_type": "stream",
       "stream": "stdout",
       "text": [
        ". (-2073723.19) "
       ]
      },
      {
       "output_type": "stream",
       "stream": "stdout",
       "text": [
        "320 "
       ]
      },
      {
       "output_type": "stream",
       "stream": "stdout",
       "text": [
        ". (-2070564.64) "
       ]
      },
      {
       "output_type": "stream",
       "stream": "stdout",
       "text": [
        ". (-2070289.86) "
       ]
      },
      {
       "output_type": "stream",
       "stream": "stdout",
       "text": [
        ". (-2068549.24) "
       ]
      },
      {
       "output_type": "stream",
       "stream": "stdout",
       "text": [
        "340 "
       ]
      },
      {
       "output_type": "stream",
       "stream": "stdout",
       "text": [
        "360 "
       ]
      },
      {
       "output_type": "stream",
       "stream": "stdout",
       "text": [
        "380 "
       ]
      },
      {
       "output_type": "stream",
       "stream": "stdout",
       "text": [
        "400 "
       ]
      },
      {
       "output_type": "stream",
       "stream": "stdout",
       "text": [
        ". (-2057208.70) "
       ]
      },
      {
       "output_type": "stream",
       "stream": "stdout",
       "text": [
        "420 "
       ]
      },
      {
       "output_type": "stream",
       "stream": "stdout",
       "text": [
        ". (-2057206.27) "
       ]
      },
      {
       "output_type": "stream",
       "stream": "stdout",
       "text": [
        "440 "
       ]
      },
      {
       "output_type": "stream",
       "stream": "stdout",
       "text": [
        ". (-2055357.12) "
       ]
      },
      {
       "output_type": "stream",
       "stream": "stdout",
       "text": [
        ". (-2055304.60) "
       ]
      },
      {
       "output_type": "stream",
       "stream": "stdout",
       "text": [
        "460 "
       ]
      },
      {
       "output_type": "stream",
       "stream": "stdout",
       "text": [
        ". (-2055271.19) "
       ]
      },
      {
       "output_type": "stream",
       "stream": "stdout",
       "text": [
        "480 "
       ]
      },
      {
       "output_type": "stream",
       "stream": "stdout",
       "text": [
        ". (-2055247.86) "
       ]
      },
      {
       "output_type": "stream",
       "stream": "stdout",
       "text": [
        "500 "
       ]
      },
      {
       "output_type": "stream",
       "stream": "stdout",
       "text": [
        ". (-2046721.18) "
       ]
      },
      {
       "output_type": "stream",
       "stream": "stdout",
       "text": [
        ". (-2046464.87) "
       ]
      },
      {
       "output_type": "stream",
       "stream": "stdout",
       "text": [
        "520 "
       ]
      },
      {
       "output_type": "stream",
       "stream": "stdout",
       "text": [
        ". (-2046395.97) "
       ]
      },
      {
       "output_type": "stream",
       "stream": "stdout",
       "text": [
        ". (-2046371.23) 540 "
       ]
      },
      {
       "output_type": "stream",
       "stream": "stdout",
       "text": [
        ". (-2044974.76) "
       ]
      },
      {
       "output_type": "stream",
       "stream": "stdout",
       "text": [
        "560 "
       ]
      },
      {
       "output_type": "stream",
       "stream": "stdout",
       "text": [
        "580 "
       ]
      },
      {
       "output_type": "stream",
       "stream": "stdout",
       "text": [
        "600 "
       ]
      },
      {
       "output_type": "stream",
       "stream": "stdout",
       "text": [
        "620 "
       ]
      },
      {
       "output_type": "stream",
       "stream": "stdout",
       "text": [
        "640 "
       ]
      },
      {
       "output_type": "stream",
       "stream": "stdout",
       "text": [
        "660 "
       ]
      },
      {
       "output_type": "stream",
       "stream": "stdout",
       "text": [
        "680 "
       ]
      },
      {
       "output_type": "stream",
       "stream": "stdout",
       "text": [
        "700 "
       ]
      },
      {
       "output_type": "stream",
       "stream": "stdout",
       "text": [
        "720 "
       ]
      },
      {
       "output_type": "stream",
       "stream": "stdout",
       "text": [
        "740 "
       ]
      },
      {
       "output_type": "stream",
       "stream": "stdout",
       "text": [
        "760 "
       ]
      },
      {
       "output_type": "stream",
       "stream": "stdout",
       "text": [
        ". "
       ]
      },
      {
       "output_type": "stream",
       "stream": "stdout",
       "text": [
        "780 "
       ]
      },
      {
       "output_type": "stream",
       "stream": "stdout",
       "text": [
        "800 "
       ]
      },
      {
       "output_type": "stream",
       "stream": "stdout",
       "text": [
        "820 "
       ]
      },
      {
       "output_type": "stream",
       "stream": "stdout",
       "text": [
        "840 "
       ]
      },
      {
       "output_type": "stream",
       "stream": "stdout",
       "text": [
        "860 "
       ]
      },
      {
       "output_type": "stream",
       "stream": "stdout",
       "text": [
        "880 "
       ]
      },
      {
       "output_type": "stream",
       "stream": "stdout",
       "text": [
        "900 "
       ]
      },
      {
       "output_type": "stream",
       "stream": "stdout",
       "text": [
        "920 "
       ]
      },
      {
       "output_type": "stream",
       "stream": "stdout",
       "text": [
        "940 "
       ]
      },
      {
       "output_type": "stream",
       "stream": "stdout",
       "text": [
        "960 "
       ]
      },
      {
       "output_type": "stream",
       "stream": "stdout",
       "text": [
        "980 "
       ]
      },
      {
       "output_type": "stream",
       "stream": "stdout",
       "text": [
        "1000 "
       ]
      },
      {
       "output_type": "stream",
       "stream": "stdout",
       "text": [
        ". (-2044943.16) "
       ]
      },
      {
       "output_type": "stream",
       "stream": "stdout",
       "text": [
        "1020 "
       ]
      },
      {
       "output_type": "stream",
       "stream": "stdout",
       "text": [
        "1040 "
       ]
      },
      {
       "output_type": "stream",
       "stream": "stdout",
       "text": [
        ". (-2042225.65) "
       ]
      },
      {
       "output_type": "stream",
       "stream": "stdout",
       "text": [
        "1060 "
       ]
      },
      {
       "output_type": "stream",
       "stream": "stdout",
       "text": [
        "1080 "
       ]
      },
      {
       "output_type": "stream",
       "stream": "stdout",
       "text": [
        "1100 "
       ]
      },
      {
       "output_type": "stream",
       "stream": "stdout",
       "text": [
        "1120 "
       ]
      },
      {
       "output_type": "stream",
       "stream": "stdout",
       "text": [
        "1140 "
       ]
      },
      {
       "output_type": "stream",
       "stream": "stdout",
       "text": [
        ". (-2042223.52) "
       ]
      },
      {
       "output_type": "stream",
       "stream": "stdout",
       "text": [
        "1160 "
       ]
      },
      {
       "output_type": "stream",
       "stream": "stdout",
       "text": [
        "1180 "
       ]
      },
      {
       "output_type": "stream",
       "stream": "stdout",
       "text": [
        "1200 "
       ]
      },
      {
       "output_type": "stream",
       "stream": "stdout",
       "text": [
        "1220 "
       ]
      },
      {
       "output_type": "stream",
       "stream": "stdout",
       "text": [
        "1240 "
       ]
      },
      {
       "output_type": "stream",
       "stream": "stdout",
       "text": [
        "1260 "
       ]
      },
      {
       "output_type": "stream",
       "stream": "stdout",
       "text": [
        ". (-2038505.30) "
       ]
      },
      {
       "output_type": "stream",
       "stream": "stdout",
       "text": [
        "1280 "
       ]
      },
      {
       "output_type": "stream",
       "stream": "stdout",
       "text": [
        "1300 "
       ]
      },
      {
       "output_type": "stream",
       "stream": "stdout",
       "text": [
        "1320 "
       ]
      },
      {
       "output_type": "stream",
       "stream": "stdout",
       "text": [
        "1340 "
       ]
      },
      {
       "output_type": "stream",
       "stream": "stdout",
       "text": [
        "1360 "
       ]
      },
      {
       "output_type": "stream",
       "stream": "stdout",
       "text": [
        "1380 "
       ]
      },
      {
       "output_type": "stream",
       "stream": "stdout",
       "text": [
        "1400 "
       ]
      },
      {
       "output_type": "stream",
       "stream": "stdout",
       "text": [
        "1420 "
       ]
      },
      {
       "output_type": "stream",
       "stream": "stdout",
       "text": [
        "1440 "
       ]
      },
      {
       "output_type": "stream",
       "stream": "stdout",
       "text": [
        "1460 "
       ]
      },
      {
       "output_type": "stream",
       "stream": "stdout",
       "text": [
        "1480 "
       ]
      },
      {
       "output_type": "stream",
       "stream": "stdout",
       "text": [
        "1500 "
       ]
      },
      {
       "output_type": "stream",
       "stream": "stdout",
       "text": [
        "1520 "
       ]
      },
      {
       "output_type": "stream",
       "stream": "stdout",
       "text": [
        "1540 "
       ]
      },
      {
       "output_type": "stream",
       "stream": "stdout",
       "text": [
        "1560 "
       ]
      },
      {
       "output_type": "stream",
       "stream": "stdout",
       "text": [
        "1580 "
       ]
      },
      {
       "output_type": "stream",
       "stream": "stdout",
       "text": [
        "1600 "
       ]
      },
      {
       "output_type": "stream",
       "stream": "stdout",
       "text": [
        "1620 "
       ]
      },
      {
       "output_type": "stream",
       "stream": "stdout",
       "text": [
        "1640 "
       ]
      },
      {
       "output_type": "stream",
       "stream": "stdout",
       "text": [
        "1660 "
       ]
      },
      {
       "output_type": "stream",
       "stream": "stdout",
       "text": [
        "1680 "
       ]
      },
      {
       "output_type": "stream",
       "stream": "stdout",
       "text": [
        "1700 "
       ]
      },
      {
       "output_type": "stream",
       "stream": "stdout",
       "text": [
        ". "
       ]
      },
      {
       "output_type": "stream",
       "stream": "stdout",
       "text": [
        "1720 "
       ]
      },
      {
       "output_type": "stream",
       "stream": "stdout",
       "text": [
        "1740 "
       ]
      },
      {
       "output_type": "stream",
       "stream": "stdout",
       "text": [
        "1760 "
       ]
      },
      {
       "output_type": "stream",
       "stream": "stdout",
       "text": [
        "1780 "
       ]
      },
      {
       "output_type": "stream",
       "stream": "stdout",
       "text": [
        "1800 "
       ]
      },
      {
       "output_type": "stream",
       "stream": "stdout",
       "text": [
        "1820 "
       ]
      },
      {
       "output_type": "stream",
       "stream": "stdout",
       "text": [
        "1840 "
       ]
      },
      {
       "output_type": "stream",
       "stream": "stdout",
       "text": [
        "1860 "
       ]
      },
      {
       "output_type": "stream",
       "stream": "stdout",
       "text": [
        "1880 "
       ]
      },
      {
       "output_type": "stream",
       "stream": "stdout",
       "text": [
        "1900 "
       ]
      },
      {
       "output_type": "stream",
       "stream": "stdout",
       "text": [
        "1920 "
       ]
      },
      {
       "output_type": "stream",
       "stream": "stdout",
       "text": [
        "1940 "
       ]
      },
      {
       "output_type": "stream",
       "stream": "stdout",
       "text": [
        "1960 "
       ]
      },
      {
       "output_type": "stream",
       "stream": "stdout",
       "text": [
        "1980\n"
       ]
      }
     ],
     "prompt_number": 250
    },
    {
     "cell_type": "code",
     "collapsed": false,
     "input": [
      "for i, name in zip(range(3), ['Optimal - LogLikelihood', 'TranspositionDistance', 'ErrorRatio']):\n",
      "    plt.title(name)\n",
      "    for i, c in zip(lists[0], lists[1+i]): # for i, log_i in is, logs\n",
      "        plt.plot(i, c)\n",
      "    plt.show()\n",
      "\n",
      "plt.title('Log delta')\n",
      "for i, c in zip(lists[0], lists[1]): # for i, log_i in is, logs\n",
      "    plt.plot(i, np.array(c))\n",
      "plt.yscale('symlog')\n",
      "\n",
      "plt.show()"
     ],
     "language": "python",
     "metadata": {},
     "outputs": [
      {
       "metadata": {},
       "output_type": "display_data",
       "png": "[encoded data removed]",
       "text": [
        "<matplotlib.figure.Figure at 0x7fad518ba890>"
       ]
      },
      {
       "metadata": {},
       "output_type": "display_data",
       "png": "[encoded data removed]",
       "text": [
        "<matplotlib.figure.Figure at 0x7fad519f66d0>"
       ]
      },
      {
       "metadata": {},
       "output_type": "display_data",
       "png": "[encoded data removed]",
       "text": [
        "<matplotlib.figure.Figure at 0x7fad519f96d0>"
       ]
      },
      {
       "metadata": {},
       "output_type": "display_data",
       "png": "[encoded data removed]",
       "text": [
        "<matplotlib.figure.Figure at 0x7fad573ccc90>"
       ]
      }
     ],
     "prompt_number": 253
    },
    {
     "cell_type": "code",
     "collapsed": false,
     "input": [
      "def nramgmode(sym, base = 26):\n",
      "    code = 0\n",
      "    for i, char in enumerate(sym[::-1]):\n",
      "        code += base**i*(ord(char)-97)\n",
      "    return code\n",
      "\n",
      "def bigramcode(sym):\n",
      "    return 26*(ord(sym[0]) - 97) + (ord(sym[1]) - 97)"
     ],
     "language": "python",
     "metadata": {},
     "outputs": [],
     "prompt_number": 27
    },
    {
     "cell_type": "code",
     "collapsed": false,
     "input": [
      "n_gram = 2\n",
      "bgmodel = BayesianDecrypter(\n",
      "        alphabet = [''.join(x) for x in product(string.ascii_lowercase, repeat=n_gram)], \n",
      "        symbol_code_func = nramgmode, \n",
      "        permutations = 2)\n",
      "bgmodel.load_corpus('/home/ben/heavy/bmdecrypt/war_and_peace.txt')\n",
      "bgmodel.load_encrypted('/home/ben/heavy/bmdecrypt/oliver_cr.txt', f_real)"
     ],
     "language": "python",
     "metadata": {},
     "outputs": [],
     "prompt_number": 233
    },
    {
     "cell_type": "code",
     "collapsed": false,
     "input": [
      "bgmodel.fit(verbose=False, gen_n = 4000, warmup_n = 0, f_0=None)\n",
      "print\n",
      "print bgmodel.log_p_x__f(f_real)\n",
      "print bgmodel.fp_opt[1]\n",
      "\n",
      "print bgmodel.fp_opt[0]\n",
      "print f_real\n",
      "\n",
      "f_diff(f_real, bgmodel.fp_opt[0])"
     ],
     "language": "python",
     "metadata": {},
     "outputs": [
      {
       "output_type": "stream",
       "stream": "stdout",
       "text": [
        "Initial guess is [ 0  1  2  3  4  5  6  7  8  9 10 11 12 13 14 15 16 17 18 19 20 21 22 23 24 25]\n",
        "Start with [ 0  1  2  3  4  5  6  7  8  9 10 11 12 13 14 15 16 17 18 19 20 21 22 23 24 25]\n",
        "."
       ]
      },
      {
       "output_type": "stream",
       "stream": "stdout",
       "text": [
        " (-95079565.41) 0 "
       ]
      },
      {
       "output_type": "stream",
       "stream": "stdout",
       "text": [
        ". (-79852926.70) "
       ]
      },
      {
       "output_type": "stream",
       "stream": "stdout",
       "text": [
        ". (-70838734.19) "
       ]
      },
      {
       "output_type": "stream",
       "stream": "stdout",
       "text": [
        ". (-67030421.67) "
       ]
      },
      {
       "output_type": "stream",
       "stream": "stdout",
       "text": [
        ". (-66577705.77) "
       ]
      },
      {
       "output_type": "stream",
       "stream": "stdout",
       "text": [
        ". (-50402948.67) "
       ]
      },
      {
       "output_type": "stream",
       "stream": "stdout",
       "text": [
        ". (-48804162.36) "
       ]
      },
      {
       "output_type": "stream",
       "stream": "stdout",
       "text": [
        ". (-48469213.54) "
       ]
      },
      {
       "output_type": "stream",
       "stream": "stdout",
       "text": [
        ". (-43371899.67) "
       ]
      },
      {
       "output_type": "stream",
       "stream": "stdout",
       "text": [
        ". (-38944895.68) "
       ]
      },
      {
       "output_type": "stream",
       "stream": "stdout",
       "text": [
        ". (-38663505.03) "
       ]
      },
      {
       "output_type": "stream",
       "stream": "stdout",
       "text": [
        ". (-37742256.35) "
       ]
      },
      {
       "output_type": "stream",
       "stream": "stdout",
       "text": [
        ". (-35969991.02) "
       ]
      },
      {
       "output_type": "stream",
       "stream": "stdout",
       "text": [
        ". (-29677065.58) "
       ]
      },
      {
       "output_type": "stream",
       "stream": "stdout",
       "text": [
        ". (-29481147.11) "
       ]
      },
      {
       "output_type": "stream",
       "stream": "stdout",
       "text": [
        ". (-29243617.76) "
       ]
      },
      {
       "output_type": "stream",
       "stream": "stdout",
       "text": [
        ". (-26006045.40) "
       ]
      },
      {
       "output_type": "stream",
       "stream": "stdout",
       "text": [
        "40 "
       ]
      },
      {
       "output_type": "stream",
       "stream": "stdout",
       "text": [
        ". (-25441150.64) "
       ]
      },
      {
       "output_type": "stream",
       "stream": "stdout",
       "text": [
        ". (-23916415.68) "
       ]
      },
      {
       "output_type": "stream",
       "stream": "stdout",
       "text": [
        ". (-23839221.90) "
       ]
      },
      {
       "output_type": "stream",
       "stream": "stdout",
       "text": [
        ". (-23593577.55) "
       ]
      },
      {
       "output_type": "stream",
       "stream": "stdout",
       "text": [
        ". (-22071898.39) "
       ]
      },
      {
       "output_type": "stream",
       "stream": "stdout",
       "text": [
        ". (-19662492.32) "
       ]
      },
      {
       "output_type": "stream",
       "stream": "stdout",
       "text": [
        ". (-19172748.45) "
       ]
      },
      {
       "output_type": "stream",
       "stream": "stdout",
       "text": [
        ". (-19113249.62) 80 "
       ]
      },
      {
       "output_type": "stream",
       "stream": "stdout",
       "text": [
        ". (-19065906.11) "
       ]
      },
      {
       "output_type": "stream",
       "stream": "stdout",
       "text": [
        ". (-18511731.99) "
       ]
      },
      {
       "output_type": "stream",
       "stream": "stdout",
       "text": [
        ". (-18499432.46) "
       ]
      },
      {
       "output_type": "stream",
       "stream": "stdout",
       "text": [
        ". (-17467641.65) "
       ]
      },
      {
       "output_type": "stream",
       "stream": "stdout",
       "text": [
        ". (-16353159.16) "
       ]
      },
      {
       "output_type": "stream",
       "stream": "stdout",
       "text": [
        ". (-15779454.78) "
       ]
      },
      {
       "output_type": "stream",
       "stream": "stdout",
       "text": [
        "120 "
       ]
      },
      {
       "output_type": "stream",
       "stream": "stdout",
       "text": [
        ". (-14672627.79) "
       ]
      },
      {
       "output_type": "stream",
       "stream": "stdout",
       "text": [
        ". (-13183072.44) "
       ]
      },
      {
       "output_type": "stream",
       "stream": "stdout",
       "text": [
        ". (-8760622.48) "
       ]
      },
      {
       "output_type": "stream",
       "stream": "stdout",
       "text": [
        ". (-8755112.23) "
       ]
      },
      {
       "output_type": "stream",
       "stream": "stdout",
       "text": [
        ". (-8601322.33) "
       ]
      },
      {
       "output_type": "stream",
       "stream": "stdout",
       "text": [
        ". (-7314044.48) "
       ]
      },
      {
       "output_type": "stream",
       "stream": "stdout",
       "text": [
        ". (-7269027.63) "
       ]
      },
      {
       "output_type": "stream",
       "stream": "stdout",
       "text": [
        ". (-7262504.83) "
       ]
      },
      {
       "output_type": "stream",
       "stream": "stdout",
       "text": [
        ". (-6969317.41) "
       ]
      },
      {
       "output_type": "stream",
       "stream": "stdout",
       "text": [
        ". (-6910382.72) "
       ]
      },
      {
       "output_type": "stream",
       "stream": "stdout",
       "text": [
        "160 "
       ]
      },
      {
       "output_type": "stream",
       "stream": "stdout",
       "text": [
        ". (-6809768.62) "
       ]
      },
      {
       "output_type": "stream",
       "stream": "stdout",
       "text": [
        ". (-6600294.68) "
       ]
      },
      {
       "output_type": "stream",
       "stream": "stdout",
       "text": [
        ". (-6595479.49) "
       ]
      },
      {
       "output_type": "stream",
       "stream": "stdout",
       "text": [
        ". (-6593965.07) "
       ]
      },
      {
       "output_type": "stream",
       "stream": "stdout",
       "text": [
        ". (-5730332.66) "
       ]
      },
      {
       "output_type": "stream",
       "stream": "stdout",
       "text": [
        ". (-5695624.44) "
       ]
      },
      {
       "output_type": "stream",
       "stream": "stdout",
       "text": [
        ". (-5375484.48) "
       ]
      },
      {
       "output_type": "stream",
       "stream": "stdout",
       "text": [
        ". (-5361357.96) "
       ]
      },
      {
       "output_type": "stream",
       "stream": "stdout",
       "text": [
        "200 "
       ]
      },
      {
       "output_type": "stream",
       "stream": "stdout",
       "text": [
        ". (-4926009.08) "
       ]
      },
      {
       "output_type": "stream",
       "stream": "stdout",
       "text": [
        ". (-4898739.59) "
       ]
      },
      {
       "output_type": "stream",
       "stream": "stdout",
       "text": [
        "240 "
       ]
      },
      {
       "output_type": "stream",
       "stream": "stdout",
       "text": [
        ". (-4897725.63) "
       ]
      },
      {
       "output_type": "stream",
       "stream": "stdout",
       "text": [
        ". (-4245635.95) "
       ]
      },
      {
       "output_type": "stream",
       "stream": "stdout",
       "text": [
        ". (-4177016.83) "
       ]
      },
      {
       "output_type": "stream",
       "stream": "stdout",
       "text": [
        "280 "
       ]
      },
      {
       "output_type": "stream",
       "stream": "stdout",
       "text": [
        ". (-3677199.85) "
       ]
      },
      {
       "output_type": "stream",
       "stream": "stdout",
       "text": [
        ". (-3604204.72) "
       ]
      },
      {
       "output_type": "stream",
       "stream": "stdout",
       "text": [
        ". (-3601356.54) "
       ]
      },
      {
       "output_type": "stream",
       "stream": "stdout",
       "text": [
        "320 "
       ]
      },
      {
       "output_type": "stream",
       "stream": "stdout",
       "text": [
        "360 "
       ]
      },
      {
       "output_type": "stream",
       "stream": "stdout",
       "text": [
        "400 "
       ]
      },
      {
       "output_type": "stream",
       "stream": "stdout",
       "text": [
        ". (-3600603.25) "
       ]
      },
      {
       "output_type": "stream",
       "stream": "stdout",
       "text": [
        "440 "
       ]
      },
      {
       "output_type": "stream",
       "stream": "stdout",
       "text": [
        ". (-3585304.42) "
       ]
      },
      {
       "output_type": "stream",
       "stream": "stdout",
       "text": [
        "480 "
       ]
      },
      {
       "output_type": "stream",
       "stream": "stdout",
       "text": [
        "520 "
       ]
      },
      {
       "output_type": "stream",
       "stream": "stdout",
       "text": [
        ". (-3574057.39) "
       ]
      },
      {
       "output_type": "stream",
       "stream": "stdout",
       "text": [
        ". (-3514044.51) "
       ]
      },
      {
       "output_type": "stream",
       "stream": "stdout",
       "text": [
        "560 "
       ]
      },
      {
       "output_type": "stream",
       "stream": "stdout",
       "text": [
        "600 "
       ]
      },
      {
       "output_type": "stream",
       "stream": "stdout",
       "text": [
        "640 "
       ]
      },
      {
       "output_type": "stream",
       "stream": "stdout",
       "text": [
        "680 "
       ]
      },
      {
       "output_type": "stream",
       "stream": "stdout",
       "text": [
        "720 "
       ]
      },
      {
       "output_type": "stream",
       "stream": "stdout",
       "text": [
        "760 "
       ]
      },
      {
       "output_type": "stream",
       "stream": "stdout",
       "text": [
        ". (-3509046.62) "
       ]
      },
      {
       "output_type": "stream",
       "stream": "stdout",
       "text": [
        "800 "
       ]
      },
      {
       "output_type": "stream",
       "stream": "stdout",
       "text": [
        "840 "
       ]
      },
      {
       "output_type": "stream",
       "stream": "stdout",
       "text": [
        "880 "
       ]
      },
      {
       "output_type": "stream",
       "stream": "stdout",
       "text": [
        "920 "
       ]
      },
      {
       "output_type": "stream",
       "stream": "stdout",
       "text": [
        "960 "
       ]
      },
      {
       "output_type": "stream",
       "stream": "stdout",
       "text": [
        "1000 "
       ]
      },
      {
       "output_type": "stream",
       "stream": "stdout",
       "text": [
        ". (-3455577.92) "
       ]
      },
      {
       "output_type": "stream",
       "stream": "stdout",
       "text": [
        "1040 "
       ]
      },
      {
       "output_type": "stream",
       "stream": "stdout",
       "text": [
        "1080 "
       ]
      },
      {
       "output_type": "stream",
       "stream": "stdout",
       "text": [
        "1120 "
       ]
      },
      {
       "output_type": "stream",
       "stream": "stdout",
       "text": [
        "1160 "
       ]
      },
      {
       "output_type": "stream",
       "stream": "stdout",
       "text": [
        "1200 "
       ]
      },
      {
       "output_type": "stream",
       "stream": "stdout",
       "text": [
        "1240 "
       ]
      },
      {
       "output_type": "stream",
       "stream": "stdout",
       "text": [
        "1280 "
       ]
      },
      {
       "output_type": "stream",
       "stream": "stdout",
       "text": [
        ". (-3383397.81) "
       ]
      },
      {
       "output_type": "stream",
       "stream": "stdout",
       "text": [
        "1320 "
       ]
      },
      {
       "output_type": "stream",
       "stream": "stdout",
       "text": [
        "1360 "
       ]
      },
      {
       "output_type": "stream",
       "stream": "stdout",
       "text": [
        "1400 "
       ]
      },
      {
       "output_type": "stream",
       "stream": "stdout",
       "text": [
        "1440 "
       ]
      },
      {
       "output_type": "stream",
       "stream": "stdout",
       "text": [
        "1480 "
       ]
      },
      {
       "output_type": "stream",
       "stream": "stdout",
       "text": [
        "1520 "
       ]
      },
      {
       "output_type": "stream",
       "stream": "stdout",
       "text": [
        "1560 "
       ]
      },
      {
       "output_type": "stream",
       "stream": "stdout",
       "text": [
        ". (-3378935.75) 1600 "
       ]
      },
      {
       "output_type": "stream",
       "stream": "stdout",
       "text": [
        "1640 "
       ]
      },
      {
       "output_type": "stream",
       "stream": "stdout",
       "text": [
        ". (-3372141.31) "
       ]
      },
      {
       "output_type": "stream",
       "stream": "stdout",
       "text": [
        "1680 "
       ]
      },
      {
       "output_type": "stream",
       "stream": "stdout",
       "text": [
        "1720 "
       ]
      },
      {
       "output_type": "stream",
       "stream": "stdout",
       "text": [
        "1760 "
       ]
      },
      {
       "output_type": "stream",
       "stream": "stdout",
       "text": [
        "1800 "
       ]
      },
      {
       "output_type": "stream",
       "stream": "stdout",
       "text": [
        "1840 "
       ]
      },
      {
       "output_type": "stream",
       "stream": "stdout",
       "text": [
        "1880 "
       ]
      },
      {
       "output_type": "stream",
       "stream": "stdout",
       "text": [
        "1920 "
       ]
      },
      {
       "output_type": "stream",
       "stream": "stdout",
       "text": [
        "1960 "
       ]
      },
      {
       "output_type": "stream",
       "stream": "stdout",
       "text": [
        "2000 "
       ]
      },
      {
       "output_type": "stream",
       "stream": "stdout",
       "text": [
        "2040 "
       ]
      },
      {
       "output_type": "stream",
       "stream": "stdout",
       "text": [
        "2080 "
       ]
      },
      {
       "output_type": "stream",
       "stream": "stdout",
       "text": [
        "2120 "
       ]
      },
      {
       "output_type": "stream",
       "stream": "stdout",
       "text": [
        "2160 "
       ]
      },
      {
       "output_type": "stream",
       "stream": "stdout",
       "text": [
        "2200 "
       ]
      },
      {
       "output_type": "stream",
       "stream": "stdout",
       "text": [
        "2240 "
       ]
      },
      {
       "output_type": "stream",
       "stream": "stdout",
       "text": [
        "2280 "
       ]
      },
      {
       "output_type": "stream",
       "stream": "stdout",
       "text": [
        "2320 "
       ]
      },
      {
       "output_type": "stream",
       "stream": "stdout",
       "text": [
        "2360 "
       ]
      },
      {
       "output_type": "stream",
       "stream": "stdout",
       "text": [
        "2400 "
       ]
      },
      {
       "output_type": "stream",
       "stream": "stdout",
       "text": [
        "2440 "
       ]
      },
      {
       "output_type": "stream",
       "stream": "stdout",
       "text": [
        "2480 "
       ]
      },
      {
       "output_type": "stream",
       "stream": "stdout",
       "text": [
        "2520 "
       ]
      },
      {
       "output_type": "stream",
       "stream": "stdout",
       "text": [
        "2560 "
       ]
      },
      {
       "output_type": "stream",
       "stream": "stdout",
       "text": [
        "2600"
       ]
      },
      {
       "ename": "KeyboardInterrupt",
       "evalue": "",
       "output_type": "pyerr",
       "traceback": [
        "\u001b[1;31m---------------------------------------------------------------------------\u001b[0m\n\u001b[1;31mKeyboardInterrupt\u001b[0m                         Traceback (most recent call last)",
        "\u001b[1;32m<ipython-input-156-557820a802ae>\u001b[0m in \u001b[0;36m<module>\u001b[1;34m()\u001b[0m\n\u001b[1;32m----> 1\u001b[1;33m \u001b[0mbgmodel\u001b[0m\u001b[1;33m.\u001b[0m\u001b[0mfit\u001b[0m\u001b[1;33m(\u001b[0m\u001b[0mverbose\u001b[0m\u001b[1;33m=\u001b[0m\u001b[0mFalse\u001b[0m\u001b[1;33m,\u001b[0m \u001b[0mgen_n\u001b[0m \u001b[1;33m=\u001b[0m \u001b[1;36m4000\u001b[0m\u001b[1;33m,\u001b[0m \u001b[0mwarmup_n\u001b[0m \u001b[1;33m=\u001b[0m \u001b[1;36m0\u001b[0m\u001b[1;33m,\u001b[0m \u001b[0mf_0\u001b[0m\u001b[1;33m=\u001b[0m\u001b[0mNone\u001b[0m\u001b[1;33m)\u001b[0m\u001b[1;33m\u001b[0m\u001b[0m\n\u001b[0m\u001b[0;32m      2\u001b[0m \u001b[1;32mprint\u001b[0m\u001b[1;33m\u001b[0m\u001b[0m\n\u001b[0;32m      3\u001b[0m \u001b[1;32mprint\u001b[0m \u001b[0mbgmodel\u001b[0m\u001b[1;33m.\u001b[0m\u001b[0mlog_p_x__f\u001b[0m\u001b[1;33m(\u001b[0m\u001b[0mf_real\u001b[0m\u001b[1;33m)\u001b[0m\u001b[1;33m\u001b[0m\u001b[0m\n\u001b[0;32m      4\u001b[0m \u001b[1;32mprint\u001b[0m \u001b[0mbgmodel\u001b[0m\u001b[1;33m.\u001b[0m\u001b[0mfp_opt\u001b[0m\u001b[1;33m[\u001b[0m\u001b[1;36m1\u001b[0m\u001b[1;33m]\u001b[0m\u001b[1;33m\u001b[0m\u001b[0m\n\u001b[0;32m      5\u001b[0m \u001b[1;33m\u001b[0m\u001b[0m\n",
        "\u001b[1;32m<ipython-input-151-29140495919e>\u001b[0m in \u001b[0;36mfit\u001b[1;34m(self, f_0, gen_n, warmup_n, verbose)\u001b[0m\n\u001b[0;32m    247\u001b[0m         \u001b[1;32mprint\u001b[0m \u001b[1;34m\"Initial guess is\"\u001b[0m\u001b[1;33m,\u001b[0m \u001b[0mf_0\u001b[0m\u001b[1;33m\u001b[0m\u001b[0m\n\u001b[0;32m    248\u001b[0m \u001b[1;33m\u001b[0m\u001b[0m\n\u001b[1;32m--> 249\u001b[1;33m         \u001b[0mself\u001b[0m\u001b[1;33m.\u001b[0m\u001b[0mfp_opt\u001b[0m \u001b[1;33m=\u001b[0m \u001b[0mself\u001b[0m\u001b[1;33m.\u001b[0m\u001b[0mmet_argmax_log_p\u001b[0m\u001b[1;33m(\u001b[0m\u001b[0mself\u001b[0m\u001b[1;33m.\u001b[0m\u001b[0mlog_p_x__f\u001b[0m\u001b[1;33m,\u001b[0m \u001b[0mf_0\u001b[0m\u001b[1;33m,\u001b[0m \u001b[0mverbose\u001b[0m\u001b[1;33m=\u001b[0m\u001b[0mverbose\u001b[0m\u001b[1;33m,\u001b[0m \u001b[0mgen_n\u001b[0m\u001b[1;33m=\u001b[0m\u001b[0mgen_n\u001b[0m\u001b[1;33m,\u001b[0m \u001b[0mwarmup_n\u001b[0m\u001b[1;33m=\u001b[0m\u001b[0mwarmup_n\u001b[0m\u001b[1;33m)\u001b[0m\u001b[1;33m\u001b[0m\u001b[0m\n\u001b[0m\u001b[0;32m    250\u001b[0m \u001b[1;33m\u001b[0m\u001b[0m\n\u001b[0;32m    251\u001b[0m         \u001b[1;32mreturn\u001b[0m \u001b[0mself\u001b[0m\u001b[1;33m.\u001b[0m\u001b[0mfp_opt\u001b[0m\u001b[1;33m\u001b[0m\u001b[0m\n",
        "\u001b[1;32m<ipython-input-151-29140495919e>\u001b[0m in \u001b[0;36mmet_argmax_log_p\u001b[1;34m(self, log_p, x_0, warmup_n, gen_n, verbose)\u001b[0m\n\u001b[0;32m    210\u001b[0m \u001b[1;33m\u001b[0m\u001b[0m\n\u001b[0;32m    211\u001b[0m         \u001b[1;32mfor\u001b[0m \u001b[0mi\u001b[0m \u001b[1;32min\u001b[0m \u001b[0mrange\u001b[0m\u001b[1;33m(\u001b[0m\u001b[0mgen_n\u001b[0m\u001b[1;33m)\u001b[0m\u001b[1;33m:\u001b[0m\u001b[1;33m\u001b[0m\u001b[0m\n\u001b[1;32m--> 212\u001b[1;33m             \u001b[0mx_i\u001b[0m\u001b[1;33m,\u001b[0m \u001b[0mlog_p_i\u001b[0m \u001b[1;33m=\u001b[0m \u001b[0mnext\u001b[0m\u001b[1;33m(\u001b[0m\u001b[0mmm\u001b[0m\u001b[1;33m)\u001b[0m\u001b[1;33m\u001b[0m\u001b[0m\n\u001b[0m\u001b[0;32m    213\u001b[0m \u001b[1;33m\u001b[0m\u001b[0m\n\u001b[0;32m    214\u001b[0m             \u001b[1;32mif\u001b[0m \u001b[0mlog_p_i\u001b[0m \u001b[1;33m>\u001b[0m \u001b[0mbest_log_p_i\u001b[0m\u001b[1;33m:\u001b[0m\u001b[1;33m\u001b[0m\u001b[0m\n",
        "\u001b[1;32m<ipython-input-151-29140495919e>\u001b[0m in \u001b[0;36mMetropolisLogModel\u001b[1;34m(log_p, q_gen, x_0)\u001b[0m\n\u001b[0;32m     22\u001b[0m     \u001b[1;32mwhile\u001b[0m \u001b[0mTrue\u001b[0m\u001b[1;33m:\u001b[0m\u001b[1;33m\u001b[0m\u001b[0m\n\u001b[0;32m     23\u001b[0m         \u001b[0mx_\u001b[0m \u001b[1;33m=\u001b[0m \u001b[0mq_gen\u001b[0m\u001b[1;33m(\u001b[0m\u001b[0mx_t\u001b[0m\u001b[1;33m)\u001b[0m\u001b[1;33m\u001b[0m\u001b[0m\n\u001b[1;32m---> 24\u001b[1;33m         \u001b[0malpha\u001b[0m \u001b[1;33m=\u001b[0m \u001b[0mlog_p\u001b[0m\u001b[1;33m(\u001b[0m\u001b[0mx_\u001b[0m\u001b[1;33m)\u001b[0m \u001b[1;33m-\u001b[0m \u001b[0mlog_p_x_t\u001b[0m\u001b[1;33m\u001b[0m\u001b[0m\n\u001b[0m\u001b[0;32m     25\u001b[0m         \u001b[1;31m# why? : if alpha > 0 == p(x_) / p(x_t) > 1 or log(random) > alpha == random < p(x_) / p(x_t)\u001b[0m\u001b[1;33m\u001b[0m\u001b[1;33m\u001b[0m\u001b[0m\n\u001b[0;32m     26\u001b[0m         \u001b[0ms\u001b[0m \u001b[1;33m=\u001b[0m \u001b[0mnp\u001b[0m\u001b[1;33m.\u001b[0m\u001b[0mrandom\u001b[0m\u001b[1;33m.\u001b[0m\u001b[0msample\u001b[0m\u001b[1;33m(\u001b[0m\u001b[1;33m)\u001b[0m\u001b[1;33m\u001b[0m\u001b[0m\n",
        "\u001b[1;32m<ipython-input-151-29140495919e>\u001b[0m in \u001b[0;36mlog_p_x__f\u001b[1;34m(self, f)\u001b[0m\n\u001b[0;32m    171\u001b[0m         \u001b[0mnew_f\u001b[0m \u001b[1;33m=\u001b[0m \u001b[0mself\u001b[0m\u001b[1;33m.\u001b[0m\u001b[0mngramf\u001b[0m\u001b[1;33m(\u001b[0m\u001b[0mf\u001b[0m\u001b[1;33m)\u001b[0m\u001b[1;33m\u001b[0m\u001b[0m\n\u001b[0;32m    172\u001b[0m \u001b[1;33m\u001b[0m\u001b[0m\n\u001b[1;32m--> 173\u001b[1;33m         \u001b[1;32mif\u001b[0m \u001b[0mnp\u001b[0m\u001b[1;33m.\u001b[0m\u001b[0mmax\u001b[0m\u001b[1;33m(\u001b[0m\u001b[0mself\u001b[0m\u001b[1;33m.\u001b[0m\u001b[0mx\u001b[0m\u001b[1;33m)\u001b[0m \u001b[1;33m>\u001b[0m \u001b[0mlen\u001b[0m\u001b[1;33m(\u001b[0m\u001b[0mnew_f\u001b[0m\u001b[1;33m)\u001b[0m\u001b[1;33m-\u001b[0m\u001b[1;36m1\u001b[0m\u001b[1;33m:\u001b[0m\u001b[1;33m\u001b[0m\u001b[0m\n\u001b[0m\u001b[0;32m    174\u001b[0m             \u001b[1;32mraise\u001b[0m \u001b[0mValueError\u001b[0m\u001b[1;33m,\u001b[0m \u001b[1;34m\"X has value %d while size of f is %d\"\u001b[0m \u001b[1;33m%\u001b[0m \u001b[1;33m(\u001b[0m\u001b[0mnp\u001b[0m\u001b[1;33m.\u001b[0m\u001b[0mmax\u001b[0m\u001b[1;33m(\u001b[0m\u001b[0mself\u001b[0m\u001b[1;33m.\u001b[0m\u001b[0mx\u001b[0m\u001b[1;33m)\u001b[0m\u001b[1;33m,\u001b[0m \u001b[0mlen\u001b[0m\u001b[1;33m(\u001b[0m\u001b[0mnew_f\u001b[0m\u001b[1;33m)\u001b[0m\u001b[1;33m)\u001b[0m\u001b[1;33m\u001b[0m\u001b[0m\n\u001b[0;32m    175\u001b[0m \u001b[1;33m\u001b[0m\u001b[0m\n",
        "\u001b[1;32m/home/ben/.anaconda/lib/python2.7/site-packages/numpy/core/fromnumeric.pyc\u001b[0m in \u001b[0;36mamax\u001b[1;34m(a, axis, out, keepdims)\u001b[0m\n\u001b[0;32m   2123\u001b[0m         \u001b[1;32mexcept\u001b[0m \u001b[0mAttributeError\u001b[0m\u001b[1;33m:\u001b[0m\u001b[1;33m\u001b[0m\u001b[0m\n\u001b[0;32m   2124\u001b[0m             return _methods._amax(a, axis=axis,\n\u001b[1;32m-> 2125\u001b[1;33m                                 out=out, keepdims=keepdims)\n\u001b[0m\u001b[0;32m   2126\u001b[0m         \u001b[1;31m# NOTE: Dropping the keepdims parameter\u001b[0m\u001b[1;33m\u001b[0m\u001b[1;33m\u001b[0m\u001b[0m\n\u001b[0;32m   2127\u001b[0m         \u001b[1;32mreturn\u001b[0m \u001b[0mamax\u001b[0m\u001b[1;33m(\u001b[0m\u001b[0maxis\u001b[0m\u001b[1;33m=\u001b[0m\u001b[0maxis\u001b[0m\u001b[1;33m,\u001b[0m \u001b[0mout\u001b[0m\u001b[1;33m=\u001b[0m\u001b[0mout\u001b[0m\u001b[1;33m)\u001b[0m\u001b[1;33m\u001b[0m\u001b[0m\n",
        "\u001b[1;32m/home/ben/.anaconda/lib/python2.7/site-packages/numpy/core/_methods.pyc\u001b[0m in \u001b[0;36m_amax\u001b[1;34m(a, axis, out, keepdims)\u001b[0m\n\u001b[0;32m     15\u001b[0m \u001b[1;32mdef\u001b[0m \u001b[0m_amax\u001b[0m\u001b[1;33m(\u001b[0m\u001b[0ma\u001b[0m\u001b[1;33m,\u001b[0m \u001b[0maxis\u001b[0m\u001b[1;33m=\u001b[0m\u001b[0mNone\u001b[0m\u001b[1;33m,\u001b[0m \u001b[0mout\u001b[0m\u001b[1;33m=\u001b[0m\u001b[0mNone\u001b[0m\u001b[1;33m,\u001b[0m \u001b[0mkeepdims\u001b[0m\u001b[1;33m=\u001b[0m\u001b[0mFalse\u001b[0m\u001b[1;33m)\u001b[0m\u001b[1;33m:\u001b[0m\u001b[1;33m\u001b[0m\u001b[0m\n\u001b[0;32m     16\u001b[0m     return um.maximum.reduce(a, axis=axis,\n\u001b[1;32m---> 17\u001b[1;33m                             out=out, keepdims=keepdims)\n\u001b[0m\u001b[0;32m     18\u001b[0m \u001b[1;33m\u001b[0m\u001b[0m\n\u001b[0;32m     19\u001b[0m \u001b[1;32mdef\u001b[0m \u001b[0m_amin\u001b[0m\u001b[1;33m(\u001b[0m\u001b[0ma\u001b[0m\u001b[1;33m,\u001b[0m \u001b[0maxis\u001b[0m\u001b[1;33m=\u001b[0m\u001b[0mNone\u001b[0m\u001b[1;33m,\u001b[0m \u001b[0mout\u001b[0m\u001b[1;33m=\u001b[0m\u001b[0mNone\u001b[0m\u001b[1;33m,\u001b[0m \u001b[0mkeepdims\u001b[0m\u001b[1;33m=\u001b[0m\u001b[0mFalse\u001b[0m\u001b[1;33m)\u001b[0m\u001b[1;33m:\u001b[0m\u001b[1;33m\u001b[0m\u001b[0m\n",
        "\u001b[1;31mKeyboardInterrupt\u001b[0m: "
       ]
      }
     ],
     "prompt_number": 156
    },
    {
     "cell_type": "code",
     "collapsed": false,
     "input": [
      "allhistbg = []\n",
      "for _ in range(5):\n",
      "    bgmodel.fit(gen_n = 4000, warmup_n = 0, f_0=None, verbose=False)\n",
      "    allhistbg.append( zip(*bgmodel.hist) ) # (i, log, dist, err)\n",
      "    \n",
      "lists = zip(*allhistbg) # [is, logs, dists, errs]\n",
      "for i, name in zip(range(3), ['Optimal - LogLikelihood', 'TranspositionDistance', 'ErrorRatio']):\n",
      "    plt.title(name)\n",
      "    for i, c in zip(lists[0], lists[1+i]): # for i, log_i in is, logs\n",
      "        plt.plot(i, c)\n",
      "    plt.show()\n",
      "\n",
      "plt.title('Log delta')\n",
      "for i, c in zip(lists[0], lists[1]): # for i, log_i in is, logs\n",
      "    plt.plot(i, np.array(c))\n",
      "plt.yscale('symlog')\n",
      "plt.show()"
     ],
     "language": "python",
     "metadata": {},
     "outputs": [
      {
       "output_type": "stream",
       "stream": "stdout",
       "text": [
        " Initial guess is [ 0  1  2  3  4  5  6  7  8  9 10 11 12 13 14 15 16 17 18 19 20 21 22 23 24 25]\n",
        "Start with"
       ]
      },
      {
       "output_type": "stream",
       "stream": "stdout",
       "text": [
        " [ 0  1  2  3  4  5  6  7  8  9 10 11 12 13 14 15 16 17 18 19 20 21 22 23 24 25]\n",
        "."
       ]
      },
      {
       "output_type": "stream",
       "stream": "stdout",
       "text": [
        " (-203363455.24) 0 "
       ]
      },
      {
       "output_type": "stream",
       "stream": "stdout",
       "text": [
        ". (-191818234.58) "
       ]
      },
      {
       "output_type": "stream",
       "stream": "stdout",
       "text": [
        ". (-188619926.25) "
       ]
      },
      {
       "output_type": "stream",
       "stream": "stdout",
       "text": [
        ". (-187293163.61) "
       ]
      },
      {
       "output_type": "stream",
       "stream": "stdout",
       "text": [
        ". (-187037965.34) "
       ]
      },
      {
       "output_type": "stream",
       "stream": "stdout",
       "text": [
        ". (-183637925.27) "
       ]
      },
      {
       "output_type": "stream",
       "stream": "stdout",
       "text": [
        ". (-171872419.08) "
       ]
      },
      {
       "output_type": "stream",
       "stream": "stdout",
       "text": [
        ". (-171426894.47) "
       ]
      },
      {
       "output_type": "stream",
       "stream": "stdout",
       "text": [
        ". (-136138960.01) "
       ]
      },
      {
       "output_type": "stream",
       "stream": "stdout",
       "text": [
        ". (-132315150.97) "
       ]
      },
      {
       "output_type": "stream",
       "stream": "stdout",
       "text": [
        ". (-128927983.39) "
       ]
      },
      {
       "output_type": "stream",
       "stream": "stdout",
       "text": [
        ". (-123831015.86) "
       ]
      },
      {
       "output_type": "stream",
       "stream": "stdout",
       "text": [
        ". (-122389950.20) "
       ]
      },
      {
       "output_type": "stream",
       "stream": "stdout",
       "text": [
        ". (-119997329.13) "
       ]
      },
      {
       "output_type": "stream",
       "stream": "stdout",
       "text": [
        "40 "
       ]
      },
      {
       "output_type": "stream",
       "stream": "stdout",
       "text": [
        ". (-107822793.57) "
       ]
      },
      {
       "output_type": "stream",
       "stream": "stdout",
       "text": [
        ". (-107280095.93) "
       ]
      },
      {
       "output_type": "stream",
       "stream": "stdout",
       "text": [
        ". (-106210340.57) "
       ]
      },
      {
       "output_type": "stream",
       "stream": "stdout",
       "text": [
        ". (-100271559.22) "
       ]
      },
      {
       "output_type": "stream",
       "stream": "stdout",
       "text": [
        ". (-99367253.43) "
       ]
      },
      {
       "output_type": "stream",
       "stream": "stdout",
       "text": [
        ". (-97699879.17) "
       ]
      },
      {
       "output_type": "stream",
       "stream": "stdout",
       "text": [
        ". (-97572476.46) "
       ]
      },
      {
       "output_type": "stream",
       "stream": "stdout",
       "text": [
        ". (-97136297.34) "
       ]
      },
      {
       "output_type": "stream",
       "stream": "stdout",
       "text": [
        "80 "
       ]
      },
      {
       "output_type": "stream",
       "stream": "stdout",
       "text": [
        ". (-93896421.50) "
       ]
      },
      {
       "output_type": "stream",
       "stream": "stdout",
       "text": [
        ". (-93841792.39) "
       ]
      },
      {
       "output_type": "stream",
       "stream": "stdout",
       "text": [
        ". (-92099377.83) "
       ]
      },
      {
       "output_type": "stream",
       "stream": "stdout",
       "text": [
        ". (-91388081.64) "
       ]
      },
      {
       "output_type": "stream",
       "stream": "stdout",
       "text": [
        ". (-89264263.14) "
       ]
      },
      {
       "output_type": "stream",
       "stream": "stdout",
       "text": [
        ". (-87718447.05) "
       ]
      },
      {
       "output_type": "stream",
       "stream": "stdout",
       "text": [
        ". (-83217988.15) "
       ]
      },
      {
       "output_type": "stream",
       "stream": "stdout",
       "text": [
        ". (-82657163.92) "
       ]
      },
      {
       "output_type": "stream",
       "stream": "stdout",
       "text": [
        ". (-76522034.32) "
       ]
      },
      {
       "output_type": "stream",
       "stream": "stdout",
       "text": [
        "120 "
       ]
      },
      {
       "output_type": "stream",
       "stream": "stdout",
       "text": [
        ". (-74224933.67) "
       ]
      },
      {
       "output_type": "stream",
       "stream": "stdout",
       "text": [
        ". (-73515336.62) "
       ]
      },
      {
       "output_type": "stream",
       "stream": "stdout",
       "text": [
        ". (-53865719.33) "
       ]
      },
      {
       "output_type": "stream",
       "stream": "stdout",
       "text": [
        "160 "
       ]
      },
      {
       "output_type": "stream",
       "stream": "stdout",
       "text": [
        ". (-51982620.73) "
       ]
      },
      {
       "output_type": "stream",
       "stream": "stdout",
       "text": [
        ". (-51811710.45) "
       ]
      },
      {
       "output_type": "stream",
       "stream": "stdout",
       "text": [
        "200 "
       ]
      },
      {
       "output_type": "stream",
       "stream": "stdout",
       "text": [
        ". (-49493050.27) "
       ]
      },
      {
       "output_type": "stream",
       "stream": "stdout",
       "text": [
        ". (-48687943.66) "
       ]
      },
      {
       "output_type": "stream",
       "stream": "stdout",
       "text": [
        ". (-48379327.42) "
       ]
      },
      {
       "output_type": "stream",
       "stream": "stdout",
       "text": [
        ". (-45987731.51) "
       ]
      },
      {
       "output_type": "stream",
       "stream": "stdout",
       "text": [
        ". (-45556610.42) "
       ]
      },
      {
       "output_type": "stream",
       "stream": "stdout",
       "text": [
        "240 "
       ]
      },
      {
       "output_type": "stream",
       "stream": "stdout",
       "text": [
        ". (-45030263.91) "
       ]
      },
      {
       "output_type": "stream",
       "stream": "stdout",
       "text": [
        ". (-44825448.64) "
       ]
      },
      {
       "output_type": "stream",
       "stream": "stdout",
       "text": [
        ". (-43330301.09) "
       ]
      },
      {
       "output_type": "stream",
       "stream": "stdout",
       "text": [
        "280 "
       ]
      },
      {
       "output_type": "stream",
       "stream": "stdout",
       "text": [
        "320 "
       ]
      },
      {
       "output_type": "stream",
       "stream": "stdout",
       "text": [
        ". (-42984830.61) "
       ]
      },
      {
       "output_type": "stream",
       "stream": "stdout",
       "text": [
        ". (-42929461.67) "
       ]
      },
      {
       "output_type": "stream",
       "stream": "stdout",
       "text": [
        "360 "
       ]
      },
      {
       "output_type": "stream",
       "stream": "stdout",
       "text": [
        "400 "
       ]
      },
      {
       "output_type": "stream",
       "stream": "stdout",
       "text": [
        ". (-38149608.63) "
       ]
      },
      {
       "output_type": "stream",
       "stream": "stdout",
       "text": [
        ". (-37031584.33) "
       ]
      },
      {
       "output_type": "stream",
       "stream": "stdout",
       "text": [
        "440 "
       ]
      },
      {
       "output_type": "stream",
       "stream": "stdout",
       "text": [
        ". (-36744436.16) "
       ]
      },
      {
       "output_type": "stream",
       "stream": "stdout",
       "text": [
        "480 "
       ]
      },
      {
       "output_type": "stream",
       "stream": "stdout",
       "text": [
        ". (-35887031.08) "
       ]
      },
      {
       "output_type": "stream",
       "stream": "stdout",
       "text": [
        ". (-30878523.11) "
       ]
      },
      {
       "output_type": "stream",
       "stream": "stdout",
       "text": [
        "520 "
       ]
      },
      {
       "output_type": "stream",
       "stream": "stdout",
       "text": [
        ". (-30070035.80) "
       ]
      },
      {
       "output_type": "stream",
       "stream": "stdout",
       "text": [
        ". (-29544501.45) "
       ]
      },
      {
       "output_type": "stream",
       "stream": "stdout",
       "text": [
        "560 "
       ]
      },
      {
       "output_type": "stream",
       "stream": "stdout",
       "text": [
        ". (-29496559.28) "
       ]
      },
      {
       "output_type": "stream",
       "stream": "stdout",
       "text": [
        "600 "
       ]
      },
      {
       "output_type": "stream",
       "stream": "stdout",
       "text": [
        ". (-29200957.29) "
       ]
      },
      {
       "output_type": "stream",
       "stream": "stdout",
       "text": [
        "640 "
       ]
      },
      {
       "output_type": "stream",
       "stream": "stdout",
       "text": [
        ". (-27565924.05) "
       ]
      },
      {
       "output_type": "stream",
       "stream": "stdout",
       "text": [
        "680 "
       ]
      },
      {
       "output_type": "stream",
       "stream": "stdout",
       "text": [
        ". (-22837638.37) "
       ]
      },
      {
       "output_type": "stream",
       "stream": "stdout",
       "text": [
        ". (-22722910.11) "
       ]
      },
      {
       "output_type": "stream",
       "stream": "stdout",
       "text": [
        ". (-21833885.96) "
       ]
      },
      {
       "output_type": "stream",
       "stream": "stdout",
       "text": [
        "720 "
       ]
      },
      {
       "output_type": "stream",
       "stream": "stdout",
       "text": [
        ". (-20814956.63) "
       ]
      },
      {
       "output_type": "stream",
       "stream": "stdout",
       "text": [
        "760 "
       ]
      },
      {
       "output_type": "stream",
       "stream": "stdout",
       "text": [
        "800 "
       ]
      },
      {
       "output_type": "stream",
       "stream": "stdout",
       "text": [
        ". (-20752010.65) "
       ]
      },
      {
       "output_type": "stream",
       "stream": "stdout",
       "text": [
        "840 "
       ]
      },
      {
       "output_type": "stream",
       "stream": "stdout",
       "text": [
        "880 "
       ]
      },
      {
       "output_type": "stream",
       "stream": "stdout",
       "text": [
        ". (-20242414.57) "
       ]
      },
      {
       "output_type": "stream",
       "stream": "stdout",
       "text": [
        ". (-19219906.48) "
       ]
      },
      {
       "output_type": "stream",
       "stream": "stdout",
       "text": [
        "920 "
       ]
      },
      {
       "output_type": "stream",
       "stream": "stdout",
       "text": [
        ". (-18507128.05) "
       ]
      },
      {
       "output_type": "stream",
       "stream": "stdout",
       "text": [
        "960 "
       ]
      },
      {
       "output_type": "stream",
       "stream": "stdout",
       "text": [
        ". (-16033750.06) "
       ]
      },
      {
       "output_type": "stream",
       "stream": "stdout",
       "text": [
        "1000 "
       ]
      },
      {
       "output_type": "stream",
       "stream": "stdout",
       "text": [
        "1040 "
       ]
      },
      {
       "output_type": "stream",
       "stream": "stdout",
       "text": [
        "1080 "
       ]
      },
      {
       "output_type": "stream",
       "stream": "stdout",
       "text": [
        "1120 "
       ]
      },
      {
       "output_type": "stream",
       "stream": "stdout",
       "text": [
        ". (-15593878.73) "
       ]
      },
      {
       "output_type": "stream",
       "stream": "stdout",
       "text": [
        "1160 "
       ]
      },
      {
       "output_type": "stream",
       "stream": "stdout",
       "text": [
        "1200 "
       ]
      },
      {
       "output_type": "stream",
       "stream": "stdout",
       "text": [
        "1240 "
       ]
      },
      {
       "output_type": "stream",
       "stream": "stdout",
       "text": [
        "1280 "
       ]
      },
      {
       "output_type": "stream",
       "stream": "stdout",
       "text": [
        ". (-13256988.52) "
       ]
      },
      {
       "output_type": "stream",
       "stream": "stdout",
       "text": [
        "1320 "
       ]
      },
      {
       "output_type": "stream",
       "stream": "stdout",
       "text": [
        "1360 "
       ]
      },
      {
       "output_type": "stream",
       "stream": "stdout",
       "text": [
        "1400 "
       ]
      },
      {
       "output_type": "stream",
       "stream": "stdout",
       "text": [
        "1440 "
       ]
      },
      {
       "output_type": "stream",
       "stream": "stdout",
       "text": [
        "1480 "
       ]
      },
      {
       "output_type": "stream",
       "stream": "stdout",
       "text": [
        ". (-5976543.98) "
       ]
      },
      {
       "output_type": "stream",
       "stream": "stdout",
       "text": [
        "1520 "
       ]
      },
      {
       "output_type": "stream",
       "stream": "stdout",
       "text": [
        "1560 "
       ]
      },
      {
       "output_type": "stream",
       "stream": "stdout",
       "text": [
        "1600 "
       ]
      },
      {
       "output_type": "stream",
       "stream": "stdout",
       "text": [
        "1640 "
       ]
      },
      {
       "output_type": "stream",
       "stream": "stdout",
       "text": [
        "1680 "
       ]
      },
      {
       "output_type": "stream",
       "stream": "stdout",
       "text": [
        "1720 "
       ]
      },
      {
       "output_type": "stream",
       "stream": "stdout",
       "text": [
        "1760 "
       ]
      },
      {
       "output_type": "stream",
       "stream": "stdout",
       "text": [
        ". (-3893378.68) "
       ]
      },
      {
       "output_type": "stream",
       "stream": "stdout",
       "text": [
        "1800 "
       ]
      },
      {
       "output_type": "stream",
       "stream": "stdout",
       "text": [
        "1840 "
       ]
      },
      {
       "output_type": "stream",
       "stream": "stdout",
       "text": [
        "1880 "
       ]
      },
      {
       "output_type": "stream",
       "stream": "stdout",
       "text": [
        "1920 "
       ]
      },
      {
       "output_type": "stream",
       "stream": "stdout",
       "text": [
        "1960 "
       ]
      },
      {
       "output_type": "stream",
       "stream": "stdout",
       "text": [
        "2000 "
       ]
      },
      {
       "output_type": "stream",
       "stream": "stdout",
       "text": [
        "2040 "
       ]
      },
      {
       "output_type": "stream",
       "stream": "stdout",
       "text": [
        "2080 "
       ]
      },
      {
       "output_type": "stream",
       "stream": "stdout",
       "text": [
        "2120 "
       ]
      },
      {
       "output_type": "stream",
       "stream": "stdout",
       "text": [
        "2160 "
       ]
      },
      {
       "output_type": "stream",
       "stream": "stdout",
       "text": [
        "2200 "
       ]
      },
      {
       "output_type": "stream",
       "stream": "stdout",
       "text": [
        "2240 "
       ]
      },
      {
       "output_type": "stream",
       "stream": "stdout",
       "text": [
        "2280 "
       ]
      },
      {
       "output_type": "stream",
       "stream": "stdout",
       "text": [
        "2320 "
       ]
      },
      {
       "output_type": "stream",
       "stream": "stdout",
       "text": [
        "2360 "
       ]
      },
      {
       "output_type": "stream",
       "stream": "stdout",
       "text": [
        "2400 "
       ]
      },
      {
       "output_type": "stream",
       "stream": "stdout",
       "text": [
        "2440 "
       ]
      },
      {
       "output_type": "stream",
       "stream": "stdout",
       "text": [
        "2480 "
       ]
      },
      {
       "output_type": "stream",
       "stream": "stdout",
       "text": [
        "2520 "
       ]
      },
      {
       "output_type": "stream",
       "stream": "stdout",
       "text": [
        "2560 "
       ]
      },
      {
       "output_type": "stream",
       "stream": "stdout",
       "text": [
        "2600 "
       ]
      },
      {
       "output_type": "stream",
       "stream": "stdout",
       "text": [
        "2640 "
       ]
      },
      {
       "output_type": "stream",
       "stream": "stdout",
       "text": [
        "2680 "
       ]
      },
      {
       "output_type": "stream",
       "stream": "stdout",
       "text": [
        "2720 "
       ]
      },
      {
       "output_type": "stream",
       "stream": "stdout",
       "text": [
        "2760 "
       ]
      },
      {
       "output_type": "stream",
       "stream": "stdout",
       "text": [
        "2800 "
       ]
      },
      {
       "output_type": "stream",
       "stream": "stdout",
       "text": [
        "2840 "
       ]
      },
      {
       "output_type": "stream",
       "stream": "stdout",
       "text": [
        "2880 "
       ]
      },
      {
       "output_type": "stream",
       "stream": "stdout",
       "text": [
        "2920 "
       ]
      },
      {
       "output_type": "stream",
       "stream": "stdout",
       "text": [
        "2960 "
       ]
      },
      {
       "output_type": "stream",
       "stream": "stdout",
       "text": [
        "3000 "
       ]
      },
      {
       "output_type": "stream",
       "stream": "stdout",
       "text": [
        "3040 "
       ]
      },
      {
       "output_type": "stream",
       "stream": "stdout",
       "text": [
        "3080 "
       ]
      },
      {
       "output_type": "stream",
       "stream": "stdout",
       "text": [
        "3120 "
       ]
      },
      {
       "output_type": "stream",
       "stream": "stdout",
       "text": [
        "3160 "
       ]
      },
      {
       "output_type": "stream",
       "stream": "stdout",
       "text": [
        "3200 "
       ]
      },
      {
       "output_type": "stream",
       "stream": "stdout",
       "text": [
        "3240 "
       ]
      },
      {
       "output_type": "stream",
       "stream": "stdout",
       "text": [
        "3280 "
       ]
      },
      {
       "output_type": "stream",
       "stream": "stdout",
       "text": [
        "3320 "
       ]
      },
      {
       "output_type": "stream",
       "stream": "stdout",
       "text": [
        "3360 "
       ]
      },
      {
       "output_type": "stream",
       "stream": "stdout",
       "text": [
        "3400 "
       ]
      },
      {
       "output_type": "stream",
       "stream": "stdout",
       "text": [
        "3440 "
       ]
      },
      {
       "output_type": "stream",
       "stream": "stdout",
       "text": [
        "3480 "
       ]
      },
      {
       "output_type": "stream",
       "stream": "stdout",
       "text": [
        "3520 "
       ]
      },
      {
       "output_type": "stream",
       "stream": "stdout",
       "text": [
        "3560 "
       ]
      },
      {
       "output_type": "stream",
       "stream": "stdout",
       "text": [
        "3600 "
       ]
      },
      {
       "output_type": "stream",
       "stream": "stdout",
       "text": [
        "3640 "
       ]
      },
      {
       "output_type": "stream",
       "stream": "stdout",
       "text": [
        "3680 "
       ]
      },
      {
       "output_type": "stream",
       "stream": "stdout",
       "text": [
        "3720 "
       ]
      },
      {
       "output_type": "stream",
       "stream": "stdout",
       "text": [
        "3760 "
       ]
      },
      {
       "output_type": "stream",
       "stream": "stdout",
       "text": [
        "3800 "
       ]
      },
      {
       "output_type": "stream",
       "stream": "stdout",
       "text": [
        "3840 "
       ]
      },
      {
       "output_type": "stream",
       "stream": "stdout",
       "text": [
        "3880 "
       ]
      },
      {
       "output_type": "stream",
       "stream": "stdout",
       "text": [
        "3920 "
       ]
      },
      {
       "output_type": "stream",
       "stream": "stdout",
       "text": [
        "3960 "
       ]
      },
      {
       "output_type": "stream",
       "stream": "stdout",
       "text": [
        "Initial guess is [ 0  1  2  3  4  5  6  7  8  9 10 11 12 13 14 15 16 17 18 19 20 21 22 23 24 25]\n",
        "Start with"
       ]
      },
      {
       "output_type": "stream",
       "stream": "stdout",
       "text": [
        " [ 0  1  2  3  4  5  6  7  8  9 10 11 12 13 14 15 16 17 18 19 20 21 22 23 24 25]\n",
        "0"
       ]
      },
      {
       "output_type": "stream",
       "stream": "stdout",
       "text": [
        " . (-214192472.46) "
       ]
      },
      {
       "output_type": "stream",
       "stream": "stdout",
       "text": [
        ". (-197989156.60) "
       ]
      },
      {
       "output_type": "stream",
       "stream": "stdout",
       "text": [
        ". (-194158792.80) "
       ]
      },
      {
       "output_type": "stream",
       "stream": "stdout",
       "text": [
        ". (-189971242.92) "
       ]
      },
      {
       "output_type": "stream",
       "stream": "stdout",
       "text": [
        ". (-179746944.39) "
       ]
      },
      {
       "output_type": "stream",
       "stream": "stdout",
       "text": [
        ". (-171237505.39) "
       ]
      },
      {
       "output_type": "stream",
       "stream": "stdout",
       "text": [
        ". (-169075457.63) "
       ]
      },
      {
       "output_type": "stream",
       "stream": "stdout",
       "text": [
        ". (-158611998.34) "
       ]
      },
      {
       "output_type": "stream",
       "stream": "stdout",
       "text": [
        ". (-155820565.22) "
       ]
      },
      {
       "output_type": "stream",
       "stream": "stdout",
       "text": [
        ". (-143258892.25) "
       ]
      },
      {
       "output_type": "stream",
       "stream": "stdout",
       "text": [
        ". (-132770627.24) "
       ]
      },
      {
       "output_type": "stream",
       "stream": "stdout",
       "text": [
        ". (-112819851.33) "
       ]
      },
      {
       "output_type": "stream",
       "stream": "stdout",
       "text": [
        ". (-112313676.91) "
       ]
      },
      {
       "output_type": "stream",
       "stream": "stdout",
       "text": [
        ". (-108069104.60) "
       ]
      },
      {
       "output_type": "stream",
       "stream": "stdout",
       "text": [
        ". (-106665272.36) "
       ]
      },
      {
       "output_type": "stream",
       "stream": "stdout",
       "text": [
        "40 "
       ]
      },
      {
       "output_type": "stream",
       "stream": "stdout",
       "text": [
        ". (-102871094.39) "
       ]
      },
      {
       "output_type": "stream",
       "stream": "stdout",
       "text": [
        ". (-100521025.21) "
       ]
      },
      {
       "output_type": "stream",
       "stream": "stdout",
       "text": [
        ". (-98716808.77) "
       ]
      },
      {
       "output_type": "stream",
       "stream": "stdout",
       "text": [
        ". (-98025050.87) "
       ]
      },
      {
       "output_type": "stream",
       "stream": "stdout",
       "text": [
        ". (-95927290.87) "
       ]
      },
      {
       "output_type": "stream",
       "stream": "stdout",
       "text": [
        ". (-83723922.80) "
       ]
      },
      {
       "output_type": "stream",
       "stream": "stdout",
       "text": [
        ". (-83703583.75) "
       ]
      },
      {
       "output_type": "stream",
       "stream": "stdout",
       "text": [
        ". (-82448766.35) "
       ]
      },
      {
       "output_type": "stream",
       "stream": "stdout",
       "text": [
        "80 "
       ]
      },
      {
       "output_type": "stream",
       "stream": "stdout",
       "text": [
        ". (-81923639.69) "
       ]
      },
      {
       "output_type": "stream",
       "stream": "stdout",
       "text": [
        ". (-63976923.65) "
       ]
      },
      {
       "output_type": "stream",
       "stream": "stdout",
       "text": [
        ". (-62885932.76) "
       ]
      },
      {
       "output_type": "stream",
       "stream": "stdout",
       "text": [
        "120 "
       ]
      },
      {
       "output_type": "stream",
       "stream": "stdout",
       "text": [
        ". (-58386450.26) "
       ]
      },
      {
       "output_type": "stream",
       "stream": "stdout",
       "text": [
        ". (-56465477.46) "
       ]
      },
      {
       "output_type": "stream",
       "stream": "stdout",
       "text": [
        "160 "
       ]
      },
      {
       "output_type": "stream",
       "stream": "stdout",
       "text": [
        ". (-56417580.07) "
       ]
      },
      {
       "output_type": "stream",
       "stream": "stdout",
       "text": [
        ". (-53673603.29) "
       ]
      },
      {
       "output_type": "stream",
       "stream": "stdout",
       "text": [
        ". (-51018867.29) "
       ]
      },
      {
       "output_type": "stream",
       "stream": "stdout",
       "text": [
        ". (-50279254.83) "
       ]
      },
      {
       "output_type": "stream",
       "stream": "stdout",
       "text": [
        ". (-48736500.76) "
       ]
      },
      {
       "output_type": "stream",
       "stream": "stdout",
       "text": [
        ". (-48675705.48) "
       ]
      },
      {
       "output_type": "stream",
       "stream": "stdout",
       "text": [
        "200 "
       ]
      },
      {
       "output_type": "stream",
       "stream": "stdout",
       "text": [
        ". (-47965182.60) "
       ]
      },
      {
       "output_type": "stream",
       "stream": "stdout",
       "text": [
        ". (-47932136.39) "
       ]
      },
      {
       "output_type": "stream",
       "stream": "stdout",
       "text": [
        ". (-45920585.87) "
       ]
      },
      {
       "output_type": "stream",
       "stream": "stdout",
       "text": [
        ". (-45244253.74) "
       ]
      },
      {
       "output_type": "stream",
       "stream": "stdout",
       "text": [
        "240 "
       ]
      },
      {
       "output_type": "stream",
       "stream": "stdout",
       "text": [
        ". (-45148557.04) "
       ]
      },
      {
       "output_type": "stream",
       "stream": "stdout",
       "text": [
        ". (-44261822.40) "
       ]
      },
      {
       "output_type": "stream",
       "stream": "stdout",
       "text": [
        "280 "
       ]
      },
      {
       "output_type": "stream",
       "stream": "stdout",
       "text": [
        "320 "
       ]
      },
      {
       "output_type": "stream",
       "stream": "stdout",
       "text": [
        ". (-43746155.90) "
       ]
      },
      {
       "output_type": "stream",
       "stream": "stdout",
       "text": [
        "360 "
       ]
      },
      {
       "output_type": "stream",
       "stream": "stdout",
       "text": [
        "400 "
       ]
      },
      {
       "output_type": "stream",
       "stream": "stdout",
       "text": [
        "440 "
       ]
      },
      {
       "output_type": "stream",
       "stream": "stdout",
       "text": [
        ". (-43724277.99) "
       ]
      },
      {
       "output_type": "stream",
       "stream": "stdout",
       "text": [
        ". (-36962659.45) "
       ]
      },
      {
       "output_type": "stream",
       "stream": "stdout",
       "text": [
        "480 "
       ]
      },
      {
       "output_type": "stream",
       "stream": "stdout",
       "text": [
        ". (-33138946.31) "
       ]
      },
      {
       "output_type": "stream",
       "stream": "stdout",
       "text": [
        "520 "
       ]
      },
      {
       "output_type": "stream",
       "stream": "stdout",
       "text": [
        "560 "
       ]
      },
      {
       "output_type": "stream",
       "stream": "stdout",
       "text": [
        "600 "
       ]
      },
      {
       "output_type": "stream",
       "stream": "stdout",
       "text": [
        ". (-31183791.17) "
       ]
      },
      {
       "output_type": "stream",
       "stream": "stdout",
       "text": [
        ". (-30005879.61) "
       ]
      },
      {
       "output_type": "stream",
       "stream": "stdout",
       "text": [
        ". (-26946576.77) "
       ]
      },
      {
       "output_type": "stream",
       "stream": "stdout",
       "text": [
        "640 "
       ]
      },
      {
       "output_type": "stream",
       "stream": "stdout",
       "text": [
        ". (-23279485.67) "
       ]
      },
      {
       "output_type": "stream",
       "stream": "stdout",
       "text": [
        ". (-21293025.85) "
       ]
      },
      {
       "output_type": "stream",
       "stream": "stdout",
       "text": [
        ". (-21038609.23) "
       ]
      },
      {
       "output_type": "stream",
       "stream": "stdout",
       "text": [
        "680 "
       ]
      },
      {
       "output_type": "stream",
       "stream": "stdout",
       "text": [
        "720 "
       ]
      },
      {
       "output_type": "stream",
       "stream": "stdout",
       "text": [
        ". (-20634745.90) "
       ]
      },
      {
       "output_type": "stream",
       "stream": "stdout",
       "text": [
        ". (-19249092.93) "
       ]
      },
      {
       "output_type": "stream",
       "stream": "stdout",
       "text": [
        "760 "
       ]
      },
      {
       "output_type": "stream",
       "stream": "stdout",
       "text": [
        ". (-19118376.93) "
       ]
      },
      {
       "output_type": "stream",
       "stream": "stdout",
       "text": [
        ". (-17635735.11) "
       ]
      },
      {
       "output_type": "stream",
       "stream": "stdout",
       "text": [
        "800 "
       ]
      },
      {
       "output_type": "stream",
       "stream": "stdout",
       "text": [
        ". (-17458018.65) "
       ]
      },
      {
       "output_type": "stream",
       "stream": "stdout",
       "text": [
        "840 "
       ]
      },
      {
       "output_type": "stream",
       "stream": "stdout",
       "text": [
        ". (-16401257.04) "
       ]
      },
      {
       "output_type": "stream",
       "stream": "stdout",
       "text": [
        "880 "
       ]
      },
      {
       "output_type": "stream",
       "stream": "stdout",
       "text": [
        ". (-16364330.30) "
       ]
      },
      {
       "output_type": "stream",
       "stream": "stdout",
       "text": [
        "920 "
       ]
      },
      {
       "output_type": "stream",
       "stream": "stdout",
       "text": [
        ". (-15253136.53) "
       ]
      },
      {
       "output_type": "stream",
       "stream": "stdout",
       "text": [
        "960 "
       ]
      },
      {
       "output_type": "stream",
       "stream": "stdout",
       "text": [
        "1000 "
       ]
      },
      {
       "output_type": "stream",
       "stream": "stdout",
       "text": [
        "1040 "
       ]
      },
      {
       "output_type": "stream",
       "stream": "stdout",
       "text": [
        "1080 "
       ]
      },
      {
       "output_type": "stream",
       "stream": "stdout",
       "text": [
        ". (-12213260.60) "
       ]
      },
      {
       "output_type": "stream",
       "stream": "stdout",
       "text": [
        "1120 "
       ]
      },
      {
       "output_type": "stream",
       "stream": "stdout",
       "text": [
        "1160 "
       ]
      },
      {
       "output_type": "stream",
       "stream": "stdout",
       "text": [
        "1200 "
       ]
      },
      {
       "output_type": "stream",
       "stream": "stdout",
       "text": [
        "1240 "
       ]
      },
      {
       "output_type": "stream",
       "stream": "stdout",
       "text": [
        "1280 "
       ]
      },
      {
       "output_type": "stream",
       "stream": "stdout",
       "text": [
        "1320 "
       ]
      },
      {
       "output_type": "stream",
       "stream": "stdout",
       "text": [
        ". (-8064916.31) "
       ]
      },
      {
       "output_type": "stream",
       "stream": "stdout",
       "text": [
        "1360 "
       ]
      },
      {
       "output_type": "stream",
       "stream": "stdout",
       "text": [
        "1400 "
       ]
      },
      {
       "output_type": "stream",
       "stream": "stdout",
       "text": [
        ". (-3893378.68) "
       ]
      },
      {
       "output_type": "stream",
       "stream": "stdout",
       "text": [
        "1440 "
       ]
      },
      {
       "output_type": "stream",
       "stream": "stdout",
       "text": [
        "1480 "
       ]
      },
      {
       "output_type": "stream",
       "stream": "stdout",
       "text": [
        "1520 "
       ]
      },
      {
       "output_type": "stream",
       "stream": "stdout",
       "text": [
        "1560 "
       ]
      },
      {
       "output_type": "stream",
       "stream": "stdout",
       "text": [
        "1600 "
       ]
      },
      {
       "output_type": "stream",
       "stream": "stdout",
       "text": [
        "1640 "
       ]
      },
      {
       "output_type": "stream",
       "stream": "stdout",
       "text": [
        "1680 "
       ]
      },
      {
       "output_type": "stream",
       "stream": "stdout",
       "text": [
        "1720 "
       ]
      },
      {
       "output_type": "stream",
       "stream": "stdout",
       "text": [
        "1760 "
       ]
      },
      {
       "output_type": "stream",
       "stream": "stdout",
       "text": [
        "1800 "
       ]
      },
      {
       "output_type": "stream",
       "stream": "stdout",
       "text": [
        "1840 "
       ]
      },
      {
       "output_type": "stream",
       "stream": "stdout",
       "text": [
        "1880 "
       ]
      },
      {
       "output_type": "stream",
       "stream": "stdout",
       "text": [
        "1920 "
       ]
      },
      {
       "output_type": "stream",
       "stream": "stdout",
       "text": [
        "1960 "
       ]
      },
      {
       "output_type": "stream",
       "stream": "stdout",
       "text": [
        "2000 "
       ]
      },
      {
       "output_type": "stream",
       "stream": "stdout",
       "text": [
        "2040 "
       ]
      },
      {
       "output_type": "stream",
       "stream": "stdout",
       "text": [
        "2080 "
       ]
      },
      {
       "output_type": "stream",
       "stream": "stdout",
       "text": [
        "2120 "
       ]
      },
      {
       "output_type": "stream",
       "stream": "stdout",
       "text": [
        "2160 "
       ]
      },
      {
       "output_type": "stream",
       "stream": "stdout",
       "text": [
        "2200 "
       ]
      },
      {
       "output_type": "stream",
       "stream": "stdout",
       "text": [
        "2240 "
       ]
      },
      {
       "output_type": "stream",
       "stream": "stdout",
       "text": [
        "2280 "
       ]
      },
      {
       "output_type": "stream",
       "stream": "stdout",
       "text": [
        "2320 "
       ]
      },
      {
       "output_type": "stream",
       "stream": "stdout",
       "text": [
        "2360 "
       ]
      },
      {
       "output_type": "stream",
       "stream": "stdout",
       "text": [
        "2400 "
       ]
      },
      {
       "output_type": "stream",
       "stream": "stdout",
       "text": [
        "2440 "
       ]
      },
      {
       "output_type": "stream",
       "stream": "stdout",
       "text": [
        "2480 "
       ]
      },
      {
       "output_type": "stream",
       "stream": "stdout",
       "text": [
        "2520 "
       ]
      },
      {
       "output_type": "stream",
       "stream": "stdout",
       "text": [
        "2560 "
       ]
      },
      {
       "output_type": "stream",
       "stream": "stdout",
       "text": [
        "2600 "
       ]
      },
      {
       "output_type": "stream",
       "stream": "stdout",
       "text": [
        "2640 "
       ]
      },
      {
       "output_type": "stream",
       "stream": "stdout",
       "text": [
        "2680 "
       ]
      },
      {
       "output_type": "stream",
       "stream": "stdout",
       "text": [
        "2720 "
       ]
      },
      {
       "output_type": "stream",
       "stream": "stdout",
       "text": [
        "2760 "
       ]
      },
      {
       "output_type": "stream",
       "stream": "stdout",
       "text": [
        "2800 "
       ]
      },
      {
       "output_type": "stream",
       "stream": "stdout",
       "text": [
        "2840 "
       ]
      },
      {
       "output_type": "stream",
       "stream": "stdout",
       "text": [
        "2880 "
       ]
      },
      {
       "output_type": "stream",
       "stream": "stdout",
       "text": [
        "2920 "
       ]
      },
      {
       "output_type": "stream",
       "stream": "stdout",
       "text": [
        "2960 "
       ]
      },
      {
       "output_type": "stream",
       "stream": "stdout",
       "text": [
        "3000 "
       ]
      },
      {
       "output_type": "stream",
       "stream": "stdout",
       "text": [
        "3040 "
       ]
      },
      {
       "output_type": "stream",
       "stream": "stdout",
       "text": [
        "3080 "
       ]
      },
      {
       "output_type": "stream",
       "stream": "stdout",
       "text": [
        "3120 "
       ]
      },
      {
       "output_type": "stream",
       "stream": "stdout",
       "text": [
        "3160 "
       ]
      },
      {
       "output_type": "stream",
       "stream": "stdout",
       "text": [
        "3200 "
       ]
      },
      {
       "output_type": "stream",
       "stream": "stdout",
       "text": [
        "3240 "
       ]
      },
      {
       "output_type": "stream",
       "stream": "stdout",
       "text": [
        "3280 "
       ]
      },
      {
       "output_type": "stream",
       "stream": "stdout",
       "text": [
        "3320 "
       ]
      },
      {
       "output_type": "stream",
       "stream": "stdout",
       "text": [
        "3360 "
       ]
      },
      {
       "output_type": "stream",
       "stream": "stdout",
       "text": [
        "3400 "
       ]
      },
      {
       "output_type": "stream",
       "stream": "stdout",
       "text": [
        "3440 "
       ]
      },
      {
       "output_type": "stream",
       "stream": "stdout",
       "text": [
        "3480 "
       ]
      },
      {
       "output_type": "stream",
       "stream": "stdout",
       "text": [
        "3520 "
       ]
      },
      {
       "output_type": "stream",
       "stream": "stdout",
       "text": [
        "3560 "
       ]
      },
      {
       "output_type": "stream",
       "stream": "stdout",
       "text": [
        "3600 "
       ]
      },
      {
       "output_type": "stream",
       "stream": "stdout",
       "text": [
        "3640 "
       ]
      },
      {
       "output_type": "stream",
       "stream": "stdout",
       "text": [
        "3680 "
       ]
      },
      {
       "output_type": "stream",
       "stream": "stdout",
       "text": [
        "3720 "
       ]
      },
      {
       "output_type": "stream",
       "stream": "stdout",
       "text": [
        "3760 "
       ]
      },
      {
       "output_type": "stream",
       "stream": "stdout",
       "text": [
        "3800 "
       ]
      },
      {
       "output_type": "stream",
       "stream": "stdout",
       "text": [
        "3840 "
       ]
      },
      {
       "output_type": "stream",
       "stream": "stdout",
       "text": [
        "3880 "
       ]
      },
      {
       "output_type": "stream",
       "stream": "stdout",
       "text": [
        "3920 "
       ]
      },
      {
       "output_type": "stream",
       "stream": "stdout",
       "text": [
        "3960 "
       ]
      },
      {
       "output_type": "stream",
       "stream": "stdout",
       "text": [
        "Initial guess is [ 0  1  2  3  4  5  6  7  8  9 10 11 12 13 14 15 16 17 18 19 20 21 22 23 24 25]\n",
        "Start with"
       ]
      },
      {
       "output_type": "stream",
       "stream": "stdout",
       "text": [
        " [ 0  1  2  3  4  5  6  7  8  9 10 11 12 13 14 15 16 17 18 19 20 21 22 23 24 25]\n",
        "."
       ]
      },
      {
       "output_type": "stream",
       "stream": "stdout",
       "text": [
        " (-210047562.65) 0 "
       ]
      },
      {
       "output_type": "stream",
       "stream": "stdout",
       "text": [
        ". (-208601808.46) "
       ]
      },
      {
       "output_type": "stream",
       "stream": "stdout",
       "text": [
        ". (-204519503.46) "
       ]
      },
      {
       "output_type": "stream",
       "stream": "stdout",
       "text": [
        ". (-203396554.47) "
       ]
      },
      {
       "output_type": "stream",
       "stream": "stdout",
       "text": [
        ". (-200439173.11) "
       ]
      },
      {
       "output_type": "stream",
       "stream": "stdout",
       "text": [
        ". (-199062788.02) "
       ]
      },
      {
       "output_type": "stream",
       "stream": "stdout",
       "text": [
        ". (-188247268.83) "
       ]
      },
      {
       "output_type": "stream",
       "stream": "stdout",
       "text": [
        ". (-171216825.61) "
       ]
      },
      {
       "output_type": "stream",
       "stream": "stdout",
       "text": [
        ". (-166736919.08) "
       ]
      },
      {
       "output_type": "stream",
       "stream": "stdout",
       "text": [
        ". (-165184896.17) "
       ]
      },
      {
       "output_type": "stream",
       "stream": "stdout",
       "text": [
        ". (-165175012.02) "
       ]
      },
      {
       "output_type": "stream",
       "stream": "stdout",
       "text": [
        ". (-162966479.19) "
       ]
      },
      {
       "output_type": "stream",
       "stream": "stdout",
       "text": [
        ". (-160028064.06) "
       ]
      },
      {
       "output_type": "stream",
       "stream": "stdout",
       "text": [
        ". (-150830862.60) "
       ]
      },
      {
       "output_type": "stream",
       "stream": "stdout",
       "text": [
        ". (-138261168.68) "
       ]
      },
      {
       "output_type": "stream",
       "stream": "stdout",
       "text": [
        ". (-137858891.83) "
       ]
      },
      {
       "output_type": "stream",
       "stream": "stdout",
       "text": [
        ". (-134714168.59) "
       ]
      },
      {
       "output_type": "stream",
       "stream": "stdout",
       "text": [
        ". (-132625425.18) "
       ]
      },
      {
       "output_type": "stream",
       "stream": "stdout",
       "text": [
        ". (-132031939.95) 40 "
       ]
      },
      {
       "output_type": "stream",
       "stream": "stdout",
       "text": [
        ". (-131802858.70) "
       ]
      },
      {
       "output_type": "stream",
       "stream": "stdout",
       "text": [
        ". (-120959086.57) "
       ]
      },
      {
       "output_type": "stream",
       "stream": "stdout",
       "text": [
        ". (-119774778.54) "
       ]
      },
      {
       "output_type": "stream",
       "stream": "stdout",
       "text": [
        ". (-118151178.22) "
       ]
      },
      {
       "output_type": "stream",
       "stream": "stdout",
       "text": [
        ". (-115856557.63) "
       ]
      },
      {
       "output_type": "stream",
       "stream": "stdout",
       "text": [
        ". (-106038561.29) "
       ]
      },
      {
       "output_type": "stream",
       "stream": "stdout",
       "text": [
        ". (-101002134.36) "
       ]
      },
      {
       "output_type": "stream",
       "stream": "stdout",
       "text": [
        ". (-100285161.40) "
       ]
      },
      {
       "output_type": "stream",
       "stream": "stdout",
       "text": [
        "80 "
       ]
      },
      {
       "output_type": "stream",
       "stream": "stdout",
       "text": [
        ". (-96477271.45) "
       ]
      },
      {
       "output_type": "stream",
       "stream": "stdout",
       "text": [
        ". (-94610454.47) "
       ]
      },
      {
       "output_type": "stream",
       "stream": "stdout",
       "text": [
        ". (-92724231.95) "
       ]
      },
      {
       "output_type": "stream",
       "stream": "stdout",
       "text": [
        ". (-92632541.58) "
       ]
      },
      {
       "output_type": "stream",
       "stream": "stdout",
       "text": [
        "120 "
       ]
      },
      {
       "output_type": "stream",
       "stream": "stdout",
       "text": [
        ". (-91859372.04) "
       ]
      },
      {
       "output_type": "stream",
       "stream": "stdout",
       "text": [
        ". (-90650511.40) "
       ]
      },
      {
       "output_type": "stream",
       "stream": "stdout",
       "text": [
        ". (-89263951.23) "
       ]
      },
      {
       "output_type": "stream",
       "stream": "stdout",
       "text": [
        "160 "
       ]
      },
      {
       "output_type": "stream",
       "stream": "stdout",
       "text": [
        ". (-81248478.59) "
       ]
      },
      {
       "output_type": "stream",
       "stream": "stdout",
       "text": [
        ". (-81005478.40) "
       ]
      },
      {
       "output_type": "stream",
       "stream": "stdout",
       "text": [
        ". (-80961182.46) "
       ]
      },
      {
       "output_type": "stream",
       "stream": "stdout",
       "text": [
        ". (-80676890.61) "
       ]
      },
      {
       "output_type": "stream",
       "stream": "stdout",
       "text": [
        "200 "
       ]
      },
      {
       "output_type": "stream",
       "stream": "stdout",
       "text": [
        ". (-80398501.35) "
       ]
      },
      {
       "output_type": "stream",
       "stream": "stdout",
       "text": [
        ". (-79480326.98) "
       ]
      },
      {
       "output_type": "stream",
       "stream": "stdout",
       "text": [
        "240 "
       ]
      },
      {
       "output_type": "stream",
       "stream": "stdout",
       "text": [
        ". (-77831328.28) "
       ]
      },
      {
       "output_type": "stream",
       "stream": "stdout",
       "text": [
        ". (-77687341.34) "
       ]
      },
      {
       "output_type": "stream",
       "stream": "stdout",
       "text": [
        ". (-76889637.70) "
       ]
      },
      {
       "output_type": "stream",
       "stream": "stdout",
       "text": [
        "280 "
       ]
      },
      {
       "output_type": "stream",
       "stream": "stdout",
       "text": [
        ". (-76342903.28) "
       ]
      },
      {
       "output_type": "stream",
       "stream": "stdout",
       "text": [
        "320 "
       ]
      },
      {
       "output_type": "stream",
       "stream": "stdout",
       "text": [
        ". (-75062110.16) "
       ]
      },
      {
       "output_type": "stream",
       "stream": "stdout",
       "text": [
        "360 "
       ]
      },
      {
       "output_type": "stream",
       "stream": "stdout",
       "text": [
        "400 "
       ]
      },
      {
       "output_type": "stream",
       "stream": "stdout",
       "text": [
        "440 "
       ]
      },
      {
       "output_type": "stream",
       "stream": "stdout",
       "text": [
        "480 "
       ]
      },
      {
       "output_type": "stream",
       "stream": "stdout",
       "text": [
        "520 "
       ]
      },
      {
       "output_type": "stream",
       "stream": "stdout",
       "text": [
        ". (-74274491.86) "
       ]
      },
      {
       "output_type": "stream",
       "stream": "stdout",
       "text": [
        "560 "
       ]
      },
      {
       "output_type": "stream",
       "stream": "stdout",
       "text": [
        "600 "
       ]
      },
      {
       "output_type": "stream",
       "stream": "stdout",
       "text": [
        "640 "
       ]
      },
      {
       "output_type": "stream",
       "stream": "stdout",
       "text": [
        "680 "
       ]
      },
      {
       "output_type": "stream",
       "stream": "stdout",
       "text": [
        "720 "
       ]
      },
      {
       "output_type": "stream",
       "stream": "stdout",
       "text": [
        "760 "
       ]
      },
      {
       "output_type": "stream",
       "stream": "stdout",
       "text": [
        "800 "
       ]
      },
      {
       "output_type": "stream",
       "stream": "stdout",
       "text": [
        "840 "
       ]
      },
      {
       "output_type": "stream",
       "stream": "stdout",
       "text": [
        "880 "
       ]
      },
      {
       "output_type": "stream",
       "stream": "stdout",
       "text": [
        "920 "
       ]
      },
      {
       "output_type": "stream",
       "stream": "stdout",
       "text": [
        "960 "
       ]
      },
      {
       "output_type": "stream",
       "stream": "stdout",
       "text": [
        "1000 "
       ]
      },
      {
       "output_type": "stream",
       "stream": "stdout",
       "text": [
        "1040 "
       ]
      },
      {
       "output_type": "stream",
       "stream": "stdout",
       "text": [
        "1080 "
       ]
      },
      {
       "output_type": "stream",
       "stream": "stdout",
       "text": [
        "1120 "
       ]
      },
      {
       "output_type": "stream",
       "stream": "stdout",
       "text": [
        "1160 "
       ]
      },
      {
       "output_type": "stream",
       "stream": "stdout",
       "text": [
        "1200 "
       ]
      },
      {
       "output_type": "stream",
       "stream": "stdout",
       "text": [
        "1240 "
       ]
      },
      {
       "output_type": "stream",
       "stream": "stdout",
       "text": [
        "1280 "
       ]
      },
      {
       "output_type": "stream",
       "stream": "stdout",
       "text": [
        ". (-74268633.31) "
       ]
      },
      {
       "output_type": "stream",
       "stream": "stdout",
       "text": [
        "1320 "
       ]
      },
      {
       "output_type": "stream",
       "stream": "stdout",
       "text": [
        "1360 "
       ]
      },
      {
       "output_type": "stream",
       "stream": "stdout",
       "text": [
        "1400 "
       ]
      },
      {
       "output_type": "stream",
       "stream": "stdout",
       "text": [
        "1440 "
       ]
      },
      {
       "output_type": "stream",
       "stream": "stdout",
       "text": [
        "1480 "
       ]
      },
      {
       "output_type": "stream",
       "stream": "stdout",
       "text": [
        "1520 "
       ]
      },
      {
       "output_type": "stream",
       "stream": "stdout",
       "text": [
        "1560 "
       ]
      },
      {
       "output_type": "stream",
       "stream": "stdout",
       "text": [
        "1600 "
       ]
      },
      {
       "output_type": "stream",
       "stream": "stdout",
       "text": [
        "1640 "
       ]
      },
      {
       "output_type": "stream",
       "stream": "stdout",
       "text": [
        "1680 "
       ]
      },
      {
       "output_type": "stream",
       "stream": "stdout",
       "text": [
        "1720 "
       ]
      },
      {
       "output_type": "stream",
       "stream": "stdout",
       "text": [
        "1760 "
       ]
      },
      {
       "output_type": "stream",
       "stream": "stdout",
       "text": [
        "1800 "
       ]
      },
      {
       "output_type": "stream",
       "stream": "stdout",
       "text": [
        "1840 "
       ]
      },
      {
       "output_type": "stream",
       "stream": "stdout",
       "text": [
        "1880 "
       ]
      },
      {
       "output_type": "stream",
       "stream": "stdout",
       "text": [
        "1920 "
       ]
      },
      {
       "output_type": "stream",
       "stream": "stdout",
       "text": [
        "1960 "
       ]
      },
      {
       "output_type": "stream",
       "stream": "stdout",
       "text": [
        "2000 "
       ]
      },
      {
       "output_type": "stream",
       "stream": "stdout",
       "text": [
        "2040 "
       ]
      },
      {
       "output_type": "stream",
       "stream": "stdout",
       "text": [
        "2080 "
       ]
      },
      {
       "output_type": "stream",
       "stream": "stdout",
       "text": [
        "2120 "
       ]
      },
      {
       "output_type": "stream",
       "stream": "stdout",
       "text": [
        "2160 "
       ]
      },
      {
       "output_type": "stream",
       "stream": "stdout",
       "text": [
        "2200 "
       ]
      },
      {
       "output_type": "stream",
       "stream": "stdout",
       "text": [
        "2240 "
       ]
      },
      {
       "output_type": "stream",
       "stream": "stdout",
       "text": [
        "2280 "
       ]
      },
      {
       "output_type": "stream",
       "stream": "stdout",
       "text": [
        "2320 "
       ]
      },
      {
       "output_type": "stream",
       "stream": "stdout",
       "text": [
        "2360 "
       ]
      },
      {
       "output_type": "stream",
       "stream": "stdout",
       "text": [
        "2400 "
       ]
      },
      {
       "output_type": "stream",
       "stream": "stdout",
       "text": [
        "2440 "
       ]
      },
      {
       "output_type": "stream",
       "stream": "stdout",
       "text": [
        "2480 "
       ]
      },
      {
       "output_type": "stream",
       "stream": "stdout",
       "text": [
        "2520 "
       ]
      },
      {
       "output_type": "stream",
       "stream": "stdout",
       "text": [
        "2560 "
       ]
      },
      {
       "output_type": "stream",
       "stream": "stdout",
       "text": [
        "2600 "
       ]
      },
      {
       "output_type": "stream",
       "stream": "stdout",
       "text": [
        "2640 "
       ]
      },
      {
       "output_type": "stream",
       "stream": "stdout",
       "text": [
        "2680 "
       ]
      },
      {
       "output_type": "stream",
       "stream": "stdout",
       "text": [
        "2720 "
       ]
      },
      {
       "output_type": "stream",
       "stream": "stdout",
       "text": [
        "2760 "
       ]
      },
      {
       "output_type": "stream",
       "stream": "stdout",
       "text": [
        "2800 "
       ]
      },
      {
       "output_type": "stream",
       "stream": "stdout",
       "text": [
        "2840 "
       ]
      },
      {
       "output_type": "stream",
       "stream": "stdout",
       "text": [
        "2880 "
       ]
      },
      {
       "output_type": "stream",
       "stream": "stdout",
       "text": [
        "2920 "
       ]
      },
      {
       "output_type": "stream",
       "stream": "stdout",
       "text": [
        "2960 "
       ]
      },
      {
       "output_type": "stream",
       "stream": "stdout",
       "text": [
        "3000 "
       ]
      },
      {
       "output_type": "stream",
       "stream": "stdout",
       "text": [
        "3040 "
       ]
      },
      {
       "output_type": "stream",
       "stream": "stdout",
       "text": [
        "3080 "
       ]
      },
      {
       "output_type": "stream",
       "stream": "stdout",
       "text": [
        "3120 "
       ]
      },
      {
       "output_type": "stream",
       "stream": "stdout",
       "text": [
        "3160 "
       ]
      },
      {
       "output_type": "stream",
       "stream": "stdout",
       "text": [
        "3200 "
       ]
      },
      {
       "output_type": "stream",
       "stream": "stdout",
       "text": [
        "3240 "
       ]
      },
      {
       "output_type": "stream",
       "stream": "stdout",
       "text": [
        "3280 "
       ]
      },
      {
       "output_type": "stream",
       "stream": "stdout",
       "text": [
        "3320 "
       ]
      },
      {
       "output_type": "stream",
       "stream": "stdout",
       "text": [
        "3360 "
       ]
      },
      {
       "output_type": "stream",
       "stream": "stdout",
       "text": [
        "3400 "
       ]
      },
      {
       "output_type": "stream",
       "stream": "stdout",
       "text": [
        "3440 "
       ]
      },
      {
       "output_type": "stream",
       "stream": "stdout",
       "text": [
        "3480 "
       ]
      },
      {
       "output_type": "stream",
       "stream": "stdout",
       "text": [
        "3520 "
       ]
      },
      {
       "output_type": "stream",
       "stream": "stdout",
       "text": [
        "3560 "
       ]
      },
      {
       "output_type": "stream",
       "stream": "stdout",
       "text": [
        "3600 "
       ]
      },
      {
       "output_type": "stream",
       "stream": "stdout",
       "text": [
        "3640 "
       ]
      },
      {
       "output_type": "stream",
       "stream": "stdout",
       "text": [
        "3680 "
       ]
      },
      {
       "output_type": "stream",
       "stream": "stdout",
       "text": [
        "3720 "
       ]
      },
      {
       "output_type": "stream",
       "stream": "stdout",
       "text": [
        "3760 "
       ]
      },
      {
       "output_type": "stream",
       "stream": "stdout",
       "text": [
        "3800 "
       ]
      },
      {
       "output_type": "stream",
       "stream": "stdout",
       "text": [
        "3840 "
       ]
      },
      {
       "output_type": "stream",
       "stream": "stdout",
       "text": [
        "3880 "
       ]
      },
      {
       "output_type": "stream",
       "stream": "stdout",
       "text": [
        "3920 "
       ]
      },
      {
       "output_type": "stream",
       "stream": "stdout",
       "text": [
        "3960 "
       ]
      },
      {
       "output_type": "stream",
       "stream": "stdout",
       "text": [
        "Initial guess is [ 0  1  2  3  4  5  6  7  8  9 10 11 12 13 14 15 16 17 18 19 20 21 22 23 24 25]\n",
        "Start with"
       ]
      },
      {
       "output_type": "stream",
       "stream": "stdout",
       "text": [
        " [ 0  1  2  3  4  5  6  7  8  9 10 11 12 13 14 15 16 17 18 19 20 21 22 23 24 25]\n",
        "."
       ]
      },
      {
       "output_type": "stream",
       "stream": "stdout",
       "text": [
        " (-216878273.61) 0 "
       ]
      },
      {
       "output_type": "stream",
       "stream": "stdout",
       "text": [
        ". (-214371398.67) "
       ]
      },
      {
       "output_type": "stream",
       "stream": "stdout",
       "text": [
        ". (-202203403.62) "
       ]
      },
      {
       "output_type": "stream",
       "stream": "stdout",
       "text": [
        ". (-197032943.06) "
       ]
      },
      {
       "output_type": "stream",
       "stream": "stdout",
       "text": [
        ". (-183378010.62) "
       ]
      },
      {
       "output_type": "stream",
       "stream": "stdout",
       "text": [
        ". (-183193306.24) "
       ]
      },
      {
       "output_type": "stream",
       "stream": "stdout",
       "text": [
        ". (-182966136.47) "
       ]
      },
      {
       "output_type": "stream",
       "stream": "stdout",
       "text": [
        ". (-173860004.39) "
       ]
      },
      {
       "output_type": "stream",
       "stream": "stdout",
       "text": [
        ". (-166960818.98) "
       ]
      },
      {
       "output_type": "stream",
       "stream": "stdout",
       "text": [
        ". (-162719155.09) "
       ]
      },
      {
       "output_type": "stream",
       "stream": "stdout",
       "text": [
        ". (-158080025.04) "
       ]
      },
      {
       "output_type": "stream",
       "stream": "stdout",
       "text": [
        ". (-153166166.96) "
       ]
      },
      {
       "output_type": "stream",
       "stream": "stdout",
       "text": [
        ". (-147337347.59) "
       ]
      },
      {
       "output_type": "stream",
       "stream": "stdout",
       "text": [
        ". (-135514969.78) "
       ]
      },
      {
       "output_type": "stream",
       "stream": "stdout",
       "text": [
        ". (-133441484.35) "
       ]
      },
      {
       "output_type": "stream",
       "stream": "stdout",
       "text": [
        ". (-123061332.54) "
       ]
      },
      {
       "output_type": "stream",
       "stream": "stdout",
       "text": [
        ". (-119767607.41) "
       ]
      },
      {
       "output_type": "stream",
       "stream": "stdout",
       "text": [
        "40 "
       ]
      },
      {
       "output_type": "stream",
       "stream": "stdout",
       "text": [
        ". (-117580284.81) "
       ]
      },
      {
       "output_type": "stream",
       "stream": "stdout",
       "text": [
        ". (-117400391.00) "
       ]
      },
      {
       "output_type": "stream",
       "stream": "stdout",
       "text": [
        ". (-107526774.54) "
       ]
      },
      {
       "output_type": "stream",
       "stream": "stdout",
       "text": [
        ". (-102179891.81) "
       ]
      },
      {
       "output_type": "stream",
       "stream": "stdout",
       "text": [
        ". (-99300093.96) "
       ]
      },
      {
       "output_type": "stream",
       "stream": "stdout",
       "text": [
        ". (-98229914.14) "
       ]
      },
      {
       "output_type": "stream",
       "stream": "stdout",
       "text": [
        ". (-96067359.55) "
       ]
      },
      {
       "output_type": "stream",
       "stream": "stdout",
       "text": [
        ". (-93964709.02) "
       ]
      },
      {
       "output_type": "stream",
       "stream": "stdout",
       "text": [
        "80 "
       ]
      },
      {
       "output_type": "stream",
       "stream": "stdout",
       "text": [
        ". (-93749199.25) "
       ]
      },
      {
       "output_type": "stream",
       "stream": "stdout",
       "text": [
        ". (-91868940.00) "
       ]
      },
      {
       "output_type": "stream",
       "stream": "stdout",
       "text": [
        ". (-88115237.92) "
       ]
      },
      {
       "output_type": "stream",
       "stream": "stdout",
       "text": [
        ". (-83605378.59) "
       ]
      },
      {
       "output_type": "stream",
       "stream": "stdout",
       "text": [
        "120 "
       ]
      },
      {
       "output_type": "stream",
       "stream": "stdout",
       "text": [
        ". (-83163842.62) "
       ]
      },
      {
       "output_type": "stream",
       "stream": "stdout",
       "text": [
        ". (-80527827.41) "
       ]
      },
      {
       "output_type": "stream",
       "stream": "stdout",
       "text": [
        ". (-74181595.92) "
       ]
      },
      {
       "output_type": "stream",
       "stream": "stdout",
       "text": [
        ". (-64340024.65) "
       ]
      },
      {
       "output_type": "stream",
       "stream": "stdout",
       "text": [
        ". (-64195476.43) "
       ]
      },
      {
       "output_type": "stream",
       "stream": "stdout",
       "text": [
        ". (-61335333.11) "
       ]
      },
      {
       "output_type": "stream",
       "stream": "stdout",
       "text": [
        ". (-60466452.36) "
       ]
      },
      {
       "output_type": "stream",
       "stream": "stdout",
       "text": [
        "160 "
       ]
      },
      {
       "output_type": "stream",
       "stream": "stdout",
       "text": [
        ". (-56093356.88) "
       ]
      },
      {
       "output_type": "stream",
       "stream": "stdout",
       "text": [
        ". (-55550049.25) "
       ]
      },
      {
       "output_type": "stream",
       "stream": "stdout",
       "text": [
        ". (-50049962.64) "
       ]
      },
      {
       "output_type": "stream",
       "stream": "stdout",
       "text": [
        ". (-49150484.35) "
       ]
      },
      {
       "output_type": "stream",
       "stream": "stdout",
       "text": [
        ". (-48482635.13) "
       ]
      },
      {
       "output_type": "stream",
       "stream": "stdout",
       "text": [
        ". (-48290373.66) "
       ]
      },
      {
       "output_type": "stream",
       "stream": "stdout",
       "text": [
        "200 "
       ]
      },
      {
       "output_type": "stream",
       "stream": "stdout",
       "text": [
        ". (-47104143.81) "
       ]
      },
      {
       "output_type": "stream",
       "stream": "stdout",
       "text": [
        ". (-42568683.14) "
       ]
      },
      {
       "output_type": "stream",
       "stream": "stdout",
       "text": [
        ". (-41066953.00) "
       ]
      },
      {
       "output_type": "stream",
       "stream": "stdout",
       "text": [
        "240 "
       ]
      },
      {
       "output_type": "stream",
       "stream": "stdout",
       "text": [
        ". (-40512272.21) "
       ]
      },
      {
       "output_type": "stream",
       "stream": "stdout",
       "text": [
        "280 "
       ]
      },
      {
       "output_type": "stream",
       "stream": "stdout",
       "text": [
        ". (-40475148.43) "
       ]
      },
      {
       "output_type": "stream",
       "stream": "stdout",
       "text": [
        ". (-40233159.50) "
       ]
      },
      {
       "output_type": "stream",
       "stream": "stdout",
       "text": [
        "320 "
       ]
      },
      {
       "output_type": "stream",
       "stream": "stdout",
       "text": [
        ". (-39241878.48) "
       ]
      },
      {
       "output_type": "stream",
       "stream": "stdout",
       "text": [
        "360 "
       ]
      },
      {
       "output_type": "stream",
       "stream": "stdout",
       "text": [
        ". (-39015633.91) "
       ]
      },
      {
       "output_type": "stream",
       "stream": "stdout",
       "text": [
        ". (-38674953.04) "
       ]
      },
      {
       "output_type": "stream",
       "stream": "stdout",
       "text": [
        "400 "
       ]
      },
      {
       "output_type": "stream",
       "stream": "stdout",
       "text": [
        ". (-38095512.68) "
       ]
      },
      {
       "output_type": "stream",
       "stream": "stdout",
       "text": [
        "440 "
       ]
      },
      {
       "output_type": "stream",
       "stream": "stdout",
       "text": [
        ". (-38046568.79) "
       ]
      },
      {
       "output_type": "stream",
       "stream": "stdout",
       "text": [
        "480 "
       ]
      },
      {
       "output_type": "stream",
       "stream": "stdout",
       "text": [
        "520 "
       ]
      },
      {
       "output_type": "stream",
       "stream": "stdout",
       "text": [
        ". (-37514599.19) 560 "
       ]
      },
      {
       "output_type": "stream",
       "stream": "stdout",
       "text": [
        ". (-37039439.57) "
       ]
      },
      {
       "output_type": "stream",
       "stream": "stdout",
       "text": [
        "600 "
       ]
      },
      {
       "output_type": "stream",
       "stream": "stdout",
       "text": [
        ". (-35073194.60) "
       ]
      },
      {
       "output_type": "stream",
       "stream": "stdout",
       "text": [
        "640 "
       ]
      },
      {
       "output_type": "stream",
       "stream": "stdout",
       "text": [
        ". (-34344385.70) "
       ]
      },
      {
       "output_type": "stream",
       "stream": "stdout",
       "text": [
        "680 "
       ]
      },
      {
       "output_type": "stream",
       "stream": "stdout",
       "text": [
        ". (-31752918.31) "
       ]
      },
      {
       "output_type": "stream",
       "stream": "stdout",
       "text": [
        "720 "
       ]
      },
      {
       "output_type": "stream",
       "stream": "stdout",
       "text": [
        ". (-31516439.28) "
       ]
      },
      {
       "output_type": "stream",
       "stream": "stdout",
       "text": [
        ". (-29229410.72) "
       ]
      },
      {
       "output_type": "stream",
       "stream": "stdout",
       "text": [
        "760 "
       ]
      },
      {
       "output_type": "stream",
       "stream": "stdout",
       "text": [
        ". (-28637077.43) "
       ]
      },
      {
       "output_type": "stream",
       "stream": "stdout",
       "text": [
        "800 "
       ]
      },
      {
       "output_type": "stream",
       "stream": "stdout",
       "text": [
        ". (-27371586.93) "
       ]
      },
      {
       "output_type": "stream",
       "stream": "stdout",
       "text": [
        "840 "
       ]
      },
      {
       "output_type": "stream",
       "stream": "stdout",
       "text": [
        "880 "
       ]
      },
      {
       "output_type": "stream",
       "stream": "stdout",
       "text": [
        ". (-26439984.48) "
       ]
      },
      {
       "output_type": "stream",
       "stream": "stdout",
       "text": [
        "920 "
       ]
      },
      {
       "output_type": "stream",
       "stream": "stdout",
       "text": [
        ". (-23288461.62) "
       ]
      },
      {
       "output_type": "stream",
       "stream": "stdout",
       "text": [
        "960 "
       ]
      },
      {
       "output_type": "stream",
       "stream": "stdout",
       "text": [
        ". (-22781036.21) "
       ]
      },
      {
       "output_type": "stream",
       "stream": "stdout",
       "text": [
        "1000 "
       ]
      },
      {
       "output_type": "stream",
       "stream": "stdout",
       "text": [
        ". (-22536936.15) "
       ]
      },
      {
       "output_type": "stream",
       "stream": "stdout",
       "text": [
        "1040 "
       ]
      },
      {
       "output_type": "stream",
       "stream": "stdout",
       "text": [
        "1080 "
       ]
      },
      {
       "output_type": "stream",
       "stream": "stdout",
       "text": [
        ". (-22306825.90) "
       ]
      },
      {
       "output_type": "stream",
       "stream": "stdout",
       "text": [
        "1120 "
       ]
      },
      {
       "output_type": "stream",
       "stream": "stdout",
       "text": [
        "1160 "
       ]
      },
      {
       "output_type": "stream",
       "stream": "stdout",
       "text": [
        ". (-22256330.31) "
       ]
      },
      {
       "output_type": "stream",
       "stream": "stdout",
       "text": [
        "1200 "
       ]
      },
      {
       "output_type": "stream",
       "stream": "stdout",
       "text": [
        "1240 "
       ]
      },
      {
       "output_type": "stream",
       "stream": "stdout",
       "text": [
        ". (-21849569.95) "
       ]
      },
      {
       "output_type": "stream",
       "stream": "stdout",
       "text": [
        "1280 "
       ]
      },
      {
       "output_type": "stream",
       "stream": "stdout",
       "text": [
        "1320 "
       ]
      },
      {
       "output_type": "stream",
       "stream": "stdout",
       "text": [
        "1360 "
       ]
      },
      {
       "output_type": "stream",
       "stream": "stdout",
       "text": [
        "1400 "
       ]
      },
      {
       "output_type": "stream",
       "stream": "stdout",
       "text": [
        ". (-20415144.48) "
       ]
      },
      {
       "output_type": "stream",
       "stream": "stdout",
       "text": [
        "1440 "
       ]
      },
      {
       "output_type": "stream",
       "stream": "stdout",
       "text": [
        "1480 "
       ]
      },
      {
       "output_type": "stream",
       "stream": "stdout",
       "text": [
        "1520 "
       ]
      },
      {
       "output_type": "stream",
       "stream": "stdout",
       "text": [
        ". (-19174886.65) "
       ]
      },
      {
       "output_type": "stream",
       "stream": "stdout",
       "text": [
        "1560 "
       ]
      },
      {
       "output_type": "stream",
       "stream": "stdout",
       "text": [
        "1600 "
       ]
      },
      {
       "output_type": "stream",
       "stream": "stdout",
       "text": [
        "1640 "
       ]
      },
      {
       "output_type": "stream",
       "stream": "stdout",
       "text": [
        "1680 "
       ]
      },
      {
       "output_type": "stream",
       "stream": "stdout",
       "text": [
        ". (-16310989.51) "
       ]
      },
      {
       "output_type": "stream",
       "stream": "stdout",
       "text": [
        ". (-16287602.37) "
       ]
      },
      {
       "output_type": "stream",
       "stream": "stdout",
       "text": [
        "1720 "
       ]
      },
      {
       "output_type": "stream",
       "stream": "stdout",
       "text": [
        "1760 "
       ]
      },
      {
       "output_type": "stream",
       "stream": "stdout",
       "text": [
        ". (-16278942.26) "
       ]
      },
      {
       "output_type": "stream",
       "stream": "stdout",
       "text": [
        "1800 "
       ]
      },
      {
       "output_type": "stream",
       "stream": "stdout",
       "text": [
        "1840 "
       ]
      },
      {
       "output_type": "stream",
       "stream": "stdout",
       "text": [
        "1880 "
       ]
      },
      {
       "output_type": "stream",
       "stream": "stdout",
       "text": [
        "1920 "
       ]
      },
      {
       "output_type": "stream",
       "stream": "stdout",
       "text": [
        "1960 "
       ]
      },
      {
       "output_type": "stream",
       "stream": "stdout",
       "text": [
        ". (-13658293.92) "
       ]
      },
      {
       "output_type": "stream",
       "stream": "stdout",
       "text": [
        "2000 "
       ]
      },
      {
       "output_type": "stream",
       "stream": "stdout",
       "text": [
        "2040 "
       ]
      },
      {
       "output_type": "stream",
       "stream": "stdout",
       "text": [
        "2080 "
       ]
      },
      {
       "output_type": "stream",
       "stream": "stdout",
       "text": [
        "2120 "
       ]
      },
      {
       "output_type": "stream",
       "stream": "stdout",
       "text": [
        ". (-12665902.77) "
       ]
      },
      {
       "output_type": "stream",
       "stream": "stdout",
       "text": [
        "2160 "
       ]
      },
      {
       "output_type": "stream",
       "stream": "stdout",
       "text": [
        "2200 "
       ]
      },
      {
       "output_type": "stream",
       "stream": "stdout",
       "text": [
        ". (-3893378.68) "
       ]
      },
      {
       "output_type": "stream",
       "stream": "stdout",
       "text": [
        "2240 "
       ]
      },
      {
       "output_type": "stream",
       "stream": "stdout",
       "text": [
        "2280 "
       ]
      },
      {
       "output_type": "stream",
       "stream": "stdout",
       "text": [
        "2320 "
       ]
      },
      {
       "output_type": "stream",
       "stream": "stdout",
       "text": [
        "2360 "
       ]
      },
      {
       "output_type": "stream",
       "stream": "stdout",
       "text": [
        "2400 "
       ]
      },
      {
       "output_type": "stream",
       "stream": "stdout",
       "text": [
        "2440 "
       ]
      },
      {
       "output_type": "stream",
       "stream": "stdout",
       "text": [
        "2480 "
       ]
      },
      {
       "output_type": "stream",
       "stream": "stdout",
       "text": [
        "2520 "
       ]
      },
      {
       "output_type": "stream",
       "stream": "stdout",
       "text": [
        "2560 "
       ]
      },
      {
       "output_type": "stream",
       "stream": "stdout",
       "text": [
        "2600 "
       ]
      },
      {
       "output_type": "stream",
       "stream": "stdout",
       "text": [
        "2640 "
       ]
      },
      {
       "output_type": "stream",
       "stream": "stdout",
       "text": [
        "2680 "
       ]
      },
      {
       "output_type": "stream",
       "stream": "stdout",
       "text": [
        "2720 "
       ]
      },
      {
       "output_type": "stream",
       "stream": "stdout",
       "text": [
        "2760 "
       ]
      },
      {
       "output_type": "stream",
       "stream": "stdout",
       "text": [
        "2800 "
       ]
      },
      {
       "output_type": "stream",
       "stream": "stdout",
       "text": [
        "2840 "
       ]
      },
      {
       "output_type": "stream",
       "stream": "stdout",
       "text": [
        "2880 "
       ]
      },
      {
       "output_type": "stream",
       "stream": "stdout",
       "text": [
        "2920 "
       ]
      },
      {
       "output_type": "stream",
       "stream": "stdout",
       "text": [
        "2960 "
       ]
      },
      {
       "output_type": "stream",
       "stream": "stdout",
       "text": [
        "3000 "
       ]
      },
      {
       "output_type": "stream",
       "stream": "stdout",
       "text": [
        "3040 "
       ]
      },
      {
       "output_type": "stream",
       "stream": "stdout",
       "text": [
        "3080 "
       ]
      },
      {
       "output_type": "stream",
       "stream": "stdout",
       "text": [
        "3120 "
       ]
      },
      {
       "output_type": "stream",
       "stream": "stdout",
       "text": [
        "3160 "
       ]
      },
      {
       "output_type": "stream",
       "stream": "stdout",
       "text": [
        "3200 "
       ]
      },
      {
       "output_type": "stream",
       "stream": "stdout",
       "text": [
        "3240 "
       ]
      },
      {
       "output_type": "stream",
       "stream": "stdout",
       "text": [
        "3280 "
       ]
      },
      {
       "output_type": "stream",
       "stream": "stdout",
       "text": [
        "3320 "
       ]
      },
      {
       "output_type": "stream",
       "stream": "stdout",
       "text": [
        "3360 "
       ]
      },
      {
       "output_type": "stream",
       "stream": "stdout",
       "text": [
        "3400 "
       ]
      },
      {
       "output_type": "stream",
       "stream": "stdout",
       "text": [
        "3440 "
       ]
      },
      {
       "output_type": "stream",
       "stream": "stdout",
       "text": [
        "3480 "
       ]
      },
      {
       "output_type": "stream",
       "stream": "stdout",
       "text": [
        "3520 "
       ]
      },
      {
       "output_type": "stream",
       "stream": "stdout",
       "text": [
        "3560 "
       ]
      },
      {
       "output_type": "stream",
       "stream": "stdout",
       "text": [
        "3600 "
       ]
      },
      {
       "output_type": "stream",
       "stream": "stdout",
       "text": [
        "3640 "
       ]
      },
      {
       "output_type": "stream",
       "stream": "stdout",
       "text": [
        "3680 "
       ]
      },
      {
       "output_type": "stream",
       "stream": "stdout",
       "text": [
        "3720 "
       ]
      },
      {
       "output_type": "stream",
       "stream": "stdout",
       "text": [
        "3760 "
       ]
      },
      {
       "output_type": "stream",
       "stream": "stdout",
       "text": [
        "3800 "
       ]
      },
      {
       "output_type": "stream",
       "stream": "stdout",
       "text": [
        "3840 "
       ]
      },
      {
       "output_type": "stream",
       "stream": "stdout",
       "text": [
        "3880 "
       ]
      },
      {
       "output_type": "stream",
       "stream": "stdout",
       "text": [
        "3920 "
       ]
      },
      {
       "output_type": "stream",
       "stream": "stdout",
       "text": [
        "3960 "
       ]
      },
      {
       "output_type": "stream",
       "stream": "stdout",
       "text": [
        "Initial guess is [ 0  1  2  3  4  5  6  7  8  9 10 11 12 13 14 15 16 17 18 19 20 21 22 23 24 25]\n",
        "Start with"
       ]
      },
      {
       "output_type": "stream",
       "stream": "stdout",
       "text": [
        " [ 0  1  2  3  4  5  6  7  8  9 10 11 12 13 14 15 16 17 18 19 20 21 22 23 24 25]\n",
        "."
       ]
      },
      {
       "output_type": "stream",
       "stream": "stdout",
       "text": [
        " (-219170634.39) 0 "
       ]
      },
      {
       "output_type": "stream",
       "stream": "stdout",
       "text": [
        ". (-219138473.61) "
       ]
      },
      {
       "output_type": "stream",
       "stream": "stdout",
       "text": [
        ". (-215054679.99) "
       ]
      },
      {
       "output_type": "stream",
       "stream": "stdout",
       "text": [
        ". (-208046213.85) "
       ]
      },
      {
       "output_type": "stream",
       "stream": "stdout",
       "text": [
        ". (-198606412.59) "
       ]
      },
      {
       "output_type": "stream",
       "stream": "stdout",
       "text": [
        ". (-181025827.50) "
       ]
      },
      {
       "output_type": "stream",
       "stream": "stdout",
       "text": [
        ". (-180923521.49) "
       ]
      },
      {
       "output_type": "stream",
       "stream": "stdout",
       "text": [
        ". (-177549070.09) "
       ]
      },
      {
       "output_type": "stream",
       "stream": "stdout",
       "text": [
        ". (-176677986.34) "
       ]
      },
      {
       "output_type": "stream",
       "stream": "stdout",
       "text": [
        ". (-150530647.15) "
       ]
      },
      {
       "output_type": "stream",
       "stream": "stdout",
       "text": [
        ". (-149428273.19) "
       ]
      },
      {
       "output_type": "stream",
       "stream": "stdout",
       "text": [
        ". (-140136338.46) "
       ]
      },
      {
       "output_type": "stream",
       "stream": "stdout",
       "text": [
        ". (-140080020.11) "
       ]
      },
      {
       "output_type": "stream",
       "stream": "stdout",
       "text": [
        "40 "
       ]
      },
      {
       "output_type": "stream",
       "stream": "stdout",
       "text": [
        ". (-133117996.29) "
       ]
      },
      {
       "output_type": "stream",
       "stream": "stdout",
       "text": [
        ". (-122043603.02) "
       ]
      },
      {
       "output_type": "stream",
       "stream": "stdout",
       "text": [
        ". (-121892275.97) "
       ]
      },
      {
       "output_type": "stream",
       "stream": "stdout",
       "text": [
        ". (-121497442.44) "
       ]
      },
      {
       "output_type": "stream",
       "stream": "stdout",
       "text": [
        ". (-120400339.68) "
       ]
      },
      {
       "output_type": "stream",
       "stream": "stdout",
       "text": [
        ". (-120153446.42) "
       ]
      },
      {
       "output_type": "stream",
       "stream": "stdout",
       "text": [
        ". (-118477461.01) "
       ]
      },
      {
       "output_type": "stream",
       "stream": "stdout",
       "text": [
        "80 "
       ]
      },
      {
       "output_type": "stream",
       "stream": "stdout",
       "text": [
        ". (-117044596.26) "
       ]
      },
      {
       "output_type": "stream",
       "stream": "stdout",
       "text": [
        ". (-116935602.01) "
       ]
      },
      {
       "output_type": "stream",
       "stream": "stdout",
       "text": [
        ". (-115098607.14) "
       ]
      },
      {
       "output_type": "stream",
       "stream": "stdout",
       "text": [
        ". (-113769094.05) "
       ]
      },
      {
       "output_type": "stream",
       "stream": "stdout",
       "text": [
        "120 "
       ]
      },
      {
       "output_type": "stream",
       "stream": "stdout",
       "text": [
        ". (-109663961.88) "
       ]
      },
      {
       "output_type": "stream",
       "stream": "stdout",
       "text": [
        ". (-109382772.00) "
       ]
      },
      {
       "output_type": "stream",
       "stream": "stdout",
       "text": [
        ". (-108932751.80) "
       ]
      },
      {
       "output_type": "stream",
       "stream": "stdout",
       "text": [
        ". (-108702991.60) "
       ]
      },
      {
       "output_type": "stream",
       "stream": "stdout",
       "text": [
        ". (-105424454.59) "
       ]
      },
      {
       "output_type": "stream",
       "stream": "stdout",
       "text": [
        ". (-103272744.93) "
       ]
      },
      {
       "output_type": "stream",
       "stream": "stdout",
       "text": [
        "160 "
       ]
      },
      {
       "output_type": "stream",
       "stream": "stdout",
       "text": [
        ". (-97352113.36) "
       ]
      },
      {
       "output_type": "stream",
       "stream": "stdout",
       "text": [
        ". (-95836019.12) "
       ]
      },
      {
       "output_type": "stream",
       "stream": "stdout",
       "text": [
        ". (-90786411.34) "
       ]
      },
      {
       "output_type": "stream",
       "stream": "stdout",
       "text": [
        ". (-90543086.54) "
       ]
      },
      {
       "output_type": "stream",
       "stream": "stdout",
       "text": [
        ". (-89714383.30) "
       ]
      },
      {
       "output_type": "stream",
       "stream": "stdout",
       "text": [
        "200 "
       ]
      },
      {
       "output_type": "stream",
       "stream": "stdout",
       "text": [
        ". (-86496925.21) "
       ]
      },
      {
       "output_type": "stream",
       "stream": "stdout",
       "text": [
        ". (-86046449.80) "
       ]
      },
      {
       "output_type": "stream",
       "stream": "stdout",
       "text": [
        ". (-85411918.62) "
       ]
      },
      {
       "output_type": "stream",
       "stream": "stdout",
       "text": [
        ". (-82705575.74) "
       ]
      },
      {
       "output_type": "stream",
       "stream": "stdout",
       "text": [
        ". (-81705141.36) "
       ]
      },
      {
       "output_type": "stream",
       "stream": "stdout",
       "text": [
        "240 "
       ]
      },
      {
       "output_type": "stream",
       "stream": "stdout",
       "text": [
        ". (-74910161.69) "
       ]
      },
      {
       "output_type": "stream",
       "stream": "stdout",
       "text": [
        ". (-74814748.30) "
       ]
      },
      {
       "output_type": "stream",
       "stream": "stdout",
       "text": [
        "280 "
       ]
      },
      {
       "output_type": "stream",
       "stream": "stdout",
       "text": [
        "320 "
       ]
      },
      {
       "output_type": "stream",
       "stream": "stdout",
       "text": [
        ". (-70434713.24) "
       ]
      },
      {
       "output_type": "stream",
       "stream": "stdout",
       "text": [
        ". (-70285566.37) "
       ]
      },
      {
       "output_type": "stream",
       "stream": "stdout",
       "text": [
        ". (-70003398.04) "
       ]
      },
      {
       "output_type": "stream",
       "stream": "stdout",
       "text": [
        "360 "
       ]
      },
      {
       "output_type": "stream",
       "stream": "stdout",
       "text": [
        "400 "
       ]
      },
      {
       "output_type": "stream",
       "stream": "stdout",
       "text": [
        ". (-69224182.55) "
       ]
      },
      {
       "output_type": "stream",
       "stream": "stdout",
       "text": [
        "440 "
       ]
      },
      {
       "output_type": "stream",
       "stream": "stdout",
       "text": [
        "480 "
       ]
      },
      {
       "output_type": "stream",
       "stream": "stdout",
       "text": [
        ". (-68956784.38) "
       ]
      },
      {
       "output_type": "stream",
       "stream": "stdout",
       "text": [
        ". (-68433996.40) "
       ]
      },
      {
       "output_type": "stream",
       "stream": "stdout",
       "text": [
        ". (-68207444.62) "
       ]
      },
      {
       "output_type": "stream",
       "stream": "stdout",
       "text": [
        "520 "
       ]
      },
      {
       "output_type": "stream",
       "stream": "stdout",
       "text": [
        "560 "
       ]
      },
      {
       "output_type": "stream",
       "stream": "stdout",
       "text": [
        "600 "
       ]
      },
      {
       "output_type": "stream",
       "stream": "stdout",
       "text": [
        ". (-66349311.17) "
       ]
      },
      {
       "output_type": "stream",
       "stream": "stdout",
       "text": [
        ". (-65703715.01) "
       ]
      },
      {
       "output_type": "stream",
       "stream": "stdout",
       "text": [
        "640 "
       ]
      },
      {
       "output_type": "stream",
       "stream": "stdout",
       "text": [
        ". (-65227588.17) "
       ]
      },
      {
       "output_type": "stream",
       "stream": "stdout",
       "text": [
        "680 "
       ]
      },
      {
       "output_type": "stream",
       "stream": "stdout",
       "text": [
        ". (-65211916.15) "
       ]
      },
      {
       "output_type": "stream",
       "stream": "stdout",
       "text": [
        ". (-65170828.53) "
       ]
      },
      {
       "output_type": "stream",
       "stream": "stdout",
       "text": [
        "720 "
       ]
      },
      {
       "output_type": "stream",
       "stream": "stdout",
       "text": [
        ". (-65040034.80) "
       ]
      },
      {
       "output_type": "stream",
       "stream": "stdout",
       "text": [
        "760 "
       ]
      },
      {
       "output_type": "stream",
       "stream": "stdout",
       "text": [
        ". (-63994673.90) "
       ]
      },
      {
       "output_type": "stream",
       "stream": "stdout",
       "text": [
        "800 "
       ]
      },
      {
       "output_type": "stream",
       "stream": "stdout",
       "text": [
        "840 "
       ]
      },
      {
       "output_type": "stream",
       "stream": "stdout",
       "text": [
        ". (-63601102.59) "
       ]
      },
      {
       "output_type": "stream",
       "stream": "stdout",
       "text": [
        "880 "
       ]
      },
      {
       "output_type": "stream",
       "stream": "stdout",
       "text": [
        "920 "
       ]
      },
      {
       "output_type": "stream",
       "stream": "stdout",
       "text": [
        ". (-62155771.60) "
       ]
      },
      {
       "output_type": "stream",
       "stream": "stdout",
       "text": [
        "960 "
       ]
      },
      {
       "output_type": "stream",
       "stream": "stdout",
       "text": [
        "1000 "
       ]
      },
      {
       "output_type": "stream",
       "stream": "stdout",
       "text": [
        "1040 "
       ]
      },
      {
       "output_type": "stream",
       "stream": "stdout",
       "text": [
        ". (-62013074.74) "
       ]
      },
      {
       "output_type": "stream",
       "stream": "stdout",
       "text": [
        "1080 "
       ]
      },
      {
       "output_type": "stream",
       "stream": "stdout",
       "text": [
        "1120 "
       ]
      },
      {
       "output_type": "stream",
       "stream": "stdout",
       "text": [
        ". (-61999330.84) "
       ]
      },
      {
       "output_type": "stream",
       "stream": "stdout",
       "text": [
        "1160 "
       ]
      },
      {
       "output_type": "stream",
       "stream": "stdout",
       "text": [
        "1200 "
       ]
      },
      {
       "output_type": "stream",
       "stream": "stdout",
       "text": [
        "1240 "
       ]
      },
      {
       "output_type": "stream",
       "stream": "stdout",
       "text": [
        "1280 "
       ]
      },
      {
       "output_type": "stream",
       "stream": "stdout",
       "text": [
        "1320 "
       ]
      },
      {
       "output_type": "stream",
       "stream": "stdout",
       "text": [
        "1360 "
       ]
      },
      {
       "output_type": "stream",
       "stream": "stdout",
       "text": [
        "1400 "
       ]
      },
      {
       "output_type": "stream",
       "stream": "stdout",
       "text": [
        "1440 "
       ]
      },
      {
       "output_type": "stream",
       "stream": "stdout",
       "text": [
        "1480 "
       ]
      },
      {
       "output_type": "stream",
       "stream": "stdout",
       "text": [
        "1520 "
       ]
      },
      {
       "output_type": "stream",
       "stream": "stdout",
       "text": [
        "1560 "
       ]
      },
      {
       "output_type": "stream",
       "stream": "stdout",
       "text": [
        "1600 "
       ]
      },
      {
       "output_type": "stream",
       "stream": "stdout",
       "text": [
        "1640 "
       ]
      },
      {
       "output_type": "stream",
       "stream": "stdout",
       "text": [
        "1680 "
       ]
      },
      {
       "output_type": "stream",
       "stream": "stdout",
       "text": [
        "1720 "
       ]
      },
      {
       "output_type": "stream",
       "stream": "stdout",
       "text": [
        "1760 "
       ]
      },
      {
       "output_type": "stream",
       "stream": "stdout",
       "text": [
        "1800 "
       ]
      },
      {
       "output_type": "stream",
       "stream": "stdout",
       "text": [
        "1840 "
       ]
      },
      {
       "output_type": "stream",
       "stream": "stdout",
       "text": [
        "1880 "
       ]
      },
      {
       "output_type": "stream",
       "stream": "stdout",
       "text": [
        "1920 "
       ]
      },
      {
       "output_type": "stream",
       "stream": "stdout",
       "text": [
        "1960 "
       ]
      },
      {
       "output_type": "stream",
       "stream": "stdout",
       "text": [
        "2000 "
       ]
      },
      {
       "output_type": "stream",
       "stream": "stdout",
       "text": [
        "2040 "
       ]
      },
      {
       "output_type": "stream",
       "stream": "stdout",
       "text": [
        "2080 "
       ]
      },
      {
       "output_type": "stream",
       "stream": "stdout",
       "text": [
        "2120 "
       ]
      },
      {
       "output_type": "stream",
       "stream": "stdout",
       "text": [
        "2160 "
       ]
      },
      {
       "output_type": "stream",
       "stream": "stdout",
       "text": [
        "2200 "
       ]
      },
      {
       "output_type": "stream",
       "stream": "stdout",
       "text": [
        "2240 "
       ]
      },
      {
       "output_type": "stream",
       "stream": "stdout",
       "text": [
        "2280 "
       ]
      },
      {
       "output_type": "stream",
       "stream": "stdout",
       "text": [
        "2320 "
       ]
      },
      {
       "output_type": "stream",
       "stream": "stdout",
       "text": [
        "2360 "
       ]
      },
      {
       "output_type": "stream",
       "stream": "stdout",
       "text": [
        ". (-60505561.29) "
       ]
      },
      {
       "output_type": "stream",
       "stream": "stdout",
       "text": [
        "2400 "
       ]
      },
      {
       "output_type": "stream",
       "stream": "stdout",
       "text": [
        "2440 "
       ]
      },
      {
       "output_type": "stream",
       "stream": "stdout",
       "text": [
        "2480 "
       ]
      },
      {
       "output_type": "stream",
       "stream": "stdout",
       "text": [
        "2520 "
       ]
      },
      {
       "output_type": "stream",
       "stream": "stdout",
       "text": [
        "2560 "
       ]
      },
      {
       "output_type": "stream",
       "stream": "stdout",
       "text": [
        ". (-60094756.96) "
       ]
      },
      {
       "output_type": "stream",
       "stream": "stdout",
       "text": [
        "2600 "
       ]
      },
      {
       "output_type": "stream",
       "stream": "stdout",
       "text": [
        "2640 "
       ]
      },
      {
       "output_type": "stream",
       "stream": "stdout",
       "text": [
        ". (-59787251.78) "
       ]
      },
      {
       "output_type": "stream",
       "stream": "stdout",
       "text": [
        "2680 "
       ]
      },
      {
       "output_type": "stream",
       "stream": "stdout",
       "text": [
        "2720 "
       ]
      },
      {
       "output_type": "stream",
       "stream": "stdout",
       "text": [
        "2760 "
       ]
      },
      {
       "output_type": "stream",
       "stream": "stdout",
       "text": [
        ". (-59682170.81) "
       ]
      },
      {
       "output_type": "stream",
       "stream": "stdout",
       "text": [
        "2800 "
       ]
      },
      {
       "output_type": "stream",
       "stream": "stdout",
       "text": [
        "2840 "
       ]
      },
      {
       "output_type": "stream",
       "stream": "stdout",
       "text": [
        "2880 "
       ]
      },
      {
       "output_type": "stream",
       "stream": "stdout",
       "text": [
        "2920 "
       ]
      },
      {
       "output_type": "stream",
       "stream": "stdout",
       "text": [
        "2960 "
       ]
      },
      {
       "output_type": "stream",
       "stream": "stdout",
       "text": [
        "3000 "
       ]
      },
      {
       "output_type": "stream",
       "stream": "stdout",
       "text": [
        "3040 "
       ]
      },
      {
       "output_type": "stream",
       "stream": "stdout",
       "text": [
        "3080 "
       ]
      },
      {
       "output_type": "stream",
       "stream": "stdout",
       "text": [
        "3120 "
       ]
      },
      {
       "output_type": "stream",
       "stream": "stdout",
       "text": [
        "3160 "
       ]
      },
      {
       "output_type": "stream",
       "stream": "stdout",
       "text": [
        "3200 "
       ]
      },
      {
       "output_type": "stream",
       "stream": "stdout",
       "text": [
        "3240 "
       ]
      },
      {
       "output_type": "stream",
       "stream": "stdout",
       "text": [
        "3280 "
       ]
      },
      {
       "output_type": "stream",
       "stream": "stdout",
       "text": [
        "3320 "
       ]
      },
      {
       "output_type": "stream",
       "stream": "stdout",
       "text": [
        "3360 "
       ]
      },
      {
       "output_type": "stream",
       "stream": "stdout",
       "text": [
        "3400 "
       ]
      },
      {
       "output_type": "stream",
       "stream": "stdout",
       "text": [
        "3440 "
       ]
      },
      {
       "output_type": "stream",
       "stream": "stdout",
       "text": [
        "3480 "
       ]
      },
      {
       "output_type": "stream",
       "stream": "stdout",
       "text": [
        "3520 "
       ]
      },
      {
       "output_type": "stream",
       "stream": "stdout",
       "text": [
        "3560 "
       ]
      },
      {
       "output_type": "stream",
       "stream": "stdout",
       "text": [
        "3600 "
       ]
      },
      {
       "output_type": "stream",
       "stream": "stdout",
       "text": [
        "3640 "
       ]
      },
      {
       "output_type": "stream",
       "stream": "stdout",
       "text": [
        "3680 "
       ]
      },
      {
       "output_type": "stream",
       "stream": "stdout",
       "text": [
        "3720 "
       ]
      },
      {
       "output_type": "stream",
       "stream": "stdout",
       "text": [
        "3760 "
       ]
      },
      {
       "output_type": "stream",
       "stream": "stdout",
       "text": [
        "3800 "
       ]
      },
      {
       "output_type": "stream",
       "stream": "stdout",
       "text": [
        "3840 "
       ]
      },
      {
       "output_type": "stream",
       "stream": "stdout",
       "text": [
        "3880 "
       ]
      },
      {
       "output_type": "stream",
       "stream": "stdout",
       "text": [
        "3920 "
       ]
      },
      {
       "output_type": "stream",
       "stream": "stdout",
       "text": [
        "3960"
       ]
      },
      {
       "metadata": {},
       "output_type": "display_data",
       "png": "[encoded data removed]",
       "text": [
        "<matplotlib.figure.Figure at 0x7fad51a1dad0>"
       ]
      },
      {
       "metadata": {},
       "output_type": "display_data",
       "png": "[encoded data removed]",
       "text": [
        "<matplotlib.figure.Figure at 0x7fad519e7a10>"
       ]
      },
      {
       "metadata": {},
       "output_type": "display_data",
       "png": "[encoded data removed]",
       "text": [
        "<matplotlib.figure.Figure at 0x7fad51b6d5d0>"
       ]
      },
      {
       "metadata": {},
       "output_type": "display_data",
       "png": "[encoded data removed]",
       "text": [
        "<matplotlib.figure.Figure at 0x7fad519dd590>"
       ]
      },
      {
       "output_type": "stream",
       "stream": "stdout",
       "text": [
        "\n"
       ]
      }
     ],
     "prompt_number": 259
    },
    {
     "cell_type": "code",
     "collapsed": false,
     "input": [
      "for P in [2, 3, 5, 7]:\n",
      "    for n_gram in [3, 4]:\n",
      "        print 'P\\G = ', P, n_gram\n",
      "        bgmodel = BayesianDecrypter(\n",
      "                alphabet = [''.join(x) for x in product(string.ascii_lowercase, repeat=n_gram)], \n",
      "                symbol_code_func = nramgmode, \n",
      "                permutations = P)\n",
      "        bgmodel.load_corpus('/home/ben/heavy/bmdecrypt/war_and_peace.txt')\n",
      "        bgmodel.load_encrypted('/home/ben/heavy/bmdecrypt/oliver_cr.txt', f_real)\n",
      "        allhistbg = []\n",
      "        for _ in range(5):\n",
      "            bgmodel.fit(gen_n = 4000, warmup_n = 0, f_0=None, verbose=False)\n",
      "            allhistbg.append( zip(*bgmodel.hist) ) # (i, log, dist, err)\n",
      "\n",
      "        lists = zip(*allhistbg) # [is, logs, dists, errs]\n",
      "        for i, name in zip(range(3), ['Optimal - LogLikelihood', 'Transposition Distance', 'Error Ratio']):\n",
      "            plt.title(name + '[permut_M = %d, n_gram = %d]' % (P, n_gram))\n",
      "            for i, c in zip(lists[0], lists[1+i]): # for i, log_i in is, logs\n",
      "                plt.plot(i, c)\n",
      "            plt.show()\n",
      "\n",
      "        plt.title('Optimal - Loglikelihood (log scale)' + 'P = %d, G = %d' % (P, n_gram))\n",
      "        for i, c in zip(lists[0], lists[1]): # for i, log_i in is, logs\n",
      "            plt.plot(i, np.array(c))\n",
      "        plt.yscale('symlog')\n",
      "        plt.show()"
     ],
     "language": "python",
     "metadata": {},
     "outputs": [
      {
       "output_type": "stream",
       "stream": "stdout",
       "text": [
        "P\\G =  2 3\n",
        "Initial guess is"
       ]
      },
      {
       "output_type": "stream",
       "stream": "stdout",
       "text": [
        " [ 0  1  2  3  4  5  6  7  8  9 10 11 12 13 14 15 16 17 18 19 20 21 22 23 24 25]\n",
        "Start with"
       ]
      },
      {
       "output_type": "stream",
       "stream": "stdout",
       "text": [
        " [ 0  1  2  3  4  5  6  7  8  9 10 11 12 13 14 15 16 17 18 19 20 21 22 23 24 25]\n",
        "."
       ]
      },
      {
       "output_type": "stream",
       "stream": "stdout",
       "text": [
        " (-217752037.95) 0 "
       ]
      },
      {
       "output_type": "stream",
       "stream": "stdout",
       "text": [
        ". (-212430830.81) "
       ]
      },
      {
       "output_type": "stream",
       "stream": "stdout",
       "text": [
        ". (-205994682.48) "
       ]
      },
      {
       "output_type": "stream",
       "stream": "stdout",
       "text": [
        ". (-204668998.77) "
       ]
      },
      {
       "output_type": "stream",
       "stream": "stdout",
       "text": [
        ". (-204579373.57) "
       ]
      },
      {
       "output_type": "stream",
       "stream": "stdout",
       "text": [
        ". (-203156828.14) "
       ]
      },
      {
       "output_type": "stream",
       "stream": "stdout",
       "text": [
        ". (-202808682.66) "
       ]
      },
      {
       "output_type": "stream",
       "stream": "stdout",
       "text": [
        ". (-197244931.80) "
       ]
      },
      {
       "output_type": "stream",
       "stream": "stdout",
       "text": [
        ". (-186456247.31) "
       ]
      },
      {
       "output_type": "stream",
       "stream": "stdout",
       "text": [
        ". (-185329642.85) "
       ]
      },
      {
       "output_type": "stream",
       "stream": "stdout",
       "text": [
        ". (-183585081.63) "
       ]
      },
      {
       "output_type": "stream",
       "stream": "stdout",
       "text": [
        ". (-163422063.19) "
       ]
      },
      {
       "output_type": "stream",
       "stream": "stdout",
       "text": [
        ". (-163190461.75) "
       ]
      },
      {
       "output_type": "stream",
       "stream": "stdout",
       "text": [
        ". (-161524421.34) "
       ]
      },
      {
       "output_type": "stream",
       "stream": "stdout",
       "text": [
        ". (-141491537.51) "
       ]
      },
      {
       "output_type": "stream",
       "stream": "stdout",
       "text": [
        ". (-141443413.69) "
       ]
      },
      {
       "output_type": "stream",
       "stream": "stdout",
       "text": [
        ". (-140387675.36) "
       ]
      },
      {
       "output_type": "stream",
       "stream": "stdout",
       "text": [
        ". (-139937344.54) "
       ]
      },
      {
       "output_type": "stream",
       "stream": "stdout",
       "text": [
        ". (-137208389.95) "
       ]
      },
      {
       "output_type": "stream",
       "stream": "stdout",
       "text": [
        ". (-134825373.68) "
       ]
      },
      {
       "output_type": "stream",
       "stream": "stdout",
       "text": [
        ". (-134542814.76) "
       ]
      },
      {
       "output_type": "stream",
       "stream": "stdout",
       "text": [
        ". (-117790968.67) "
       ]
      },
      {
       "output_type": "stream",
       "stream": "stdout",
       "text": [
        ". (-117064195.40) "
       ]
      },
      {
       "output_type": "stream",
       "stream": "stdout",
       "text": [
        ". (-115827267.83) "
       ]
      },
      {
       "output_type": "stream",
       "stream": "stdout",
       "text": [
        ". (-114692736.04) "
       ]
      },
      {
       "output_type": "stream",
       "stream": "stdout",
       "text": [
        "40 "
       ]
      },
      {
       "output_type": "stream",
       "stream": "stdout",
       "text": [
        ". (-114649463.42) "
       ]
      },
      {
       "output_type": "stream",
       "stream": "stdout",
       "text": [
        ". (-113964602.88) "
       ]
      },
      {
       "output_type": "stream",
       "stream": "stdout",
       "text": [
        ". (-110798212.02) "
       ]
      },
      {
       "output_type": "stream",
       "stream": "stdout",
       "text": [
        ". (-108789537.21) "
       ]
      },
      {
       "output_type": "stream",
       "stream": "stdout",
       "text": [
        ". (-107149457.92) "
       ]
      },
      {
       "output_type": "stream",
       "stream": "stdout",
       "text": [
        "80 "
       ]
      },
      {
       "output_type": "stream",
       "stream": "stdout",
       "text": [
        ". (-105178281.70) "
       ]
      },
      {
       "output_type": "stream",
       "stream": "stdout",
       "text": [
        ". (-104866137.31) "
       ]
      },
      {
       "output_type": "stream",
       "stream": "stdout",
       "text": [
        ". (-104686141.54) "
       ]
      },
      {
       "output_type": "stream",
       "stream": "stdout",
       "text": [
        ". (-103446705.14) "
       ]
      },
      {
       "output_type": "stream",
       "stream": "stdout",
       "text": [
        "120 "
       ]
      },
      {
       "output_type": "stream",
       "stream": "stdout",
       "text": [
        ". (-103246743.22) "
       ]
      },
      {
       "output_type": "stream",
       "stream": "stdout",
       "text": [
        ". (-102515213.86) "
       ]
      },
      {
       "output_type": "stream",
       "stream": "stdout",
       "text": [
        ". (-95970617.36) "
       ]
      },
      {
       "output_type": "stream",
       "stream": "stdout",
       "text": [
        ". (-94758426.90) "
       ]
      },
      {
       "output_type": "stream",
       "stream": "stdout",
       "text": [
        ". (-94514501.17) "
       ]
      },
      {
       "output_type": "stream",
       "stream": "stdout",
       "text": [
        ". (-86044879.62) "
       ]
      },
      {
       "output_type": "stream",
       "stream": "stdout",
       "text": [
        "160 "
       ]
      },
      {
       "output_type": "stream",
       "stream": "stdout",
       "text": [
        ". (-84260590.72) "
       ]
      },
      {
       "output_type": "stream",
       "stream": "stdout",
       "text": [
        ". (-83764354.31) "
       ]
      },
      {
       "output_type": "stream",
       "stream": "stdout",
       "text": [
        ". (-83734473.75) "
       ]
      },
      {
       "output_type": "stream",
       "stream": "stdout",
       "text": [
        ". (-80718980.23) "
       ]
      },
      {
       "output_type": "stream",
       "stream": "stdout",
       "text": [
        "200 "
       ]
      },
      {
       "output_type": "stream",
       "stream": "stdout",
       "text": [
        ". (-80515567.71) "
       ]
      },
      {
       "output_type": "stream",
       "stream": "stdout",
       "text": [
        ". (-78030437.65) "
       ]
      },
      {
       "output_type": "stream",
       "stream": "stdout",
       "text": [
        "240 "
       ]
      },
      {
       "output_type": "stream",
       "stream": "stdout",
       "text": [
        ". (-76681490.41) "
       ]
      },
      {
       "output_type": "stream",
       "stream": "stdout",
       "text": [
        ". (-75181272.86) "
       ]
      },
      {
       "output_type": "stream",
       "stream": "stdout",
       "text": [
        ". (-71949488.25) "
       ]
      },
      {
       "output_type": "stream",
       "stream": "stdout",
       "text": [
        "280 "
       ]
      },
      {
       "output_type": "stream",
       "stream": "stdout",
       "text": [
        ". (-71890696.07) "
       ]
      },
      {
       "output_type": "stream",
       "stream": "stdout",
       "text": [
        "320 "
       ]
      },
      {
       "output_type": "stream",
       "stream": "stdout",
       "text": [
        ". (-70037524.55) "
       ]
      },
      {
       "output_type": "stream",
       "stream": "stdout",
       "text": [
        ". (-68799582.19) "
       ]
      },
      {
       "output_type": "stream",
       "stream": "stdout",
       "text": [
        "360 "
       ]
      },
      {
       "output_type": "stream",
       "stream": "stdout",
       "text": [
        ". (-68747299.63) "
       ]
      },
      {
       "output_type": "stream",
       "stream": "stdout",
       "text": [
        ". (-68614702.70) "
       ]
      },
      {
       "output_type": "stream",
       "stream": "stdout",
       "text": [
        ". (-67192996.57) "
       ]
      },
      {
       "output_type": "stream",
       "stream": "stdout",
       "text": [
        ". (-65464632.70) "
       ]
      },
      {
       "output_type": "stream",
       "stream": "stdout",
       "text": [
        ". (-65446114.53) "
       ]
      },
      {
       "output_type": "stream",
       "stream": "stdout",
       "text": [
        ". (-65369104.59) 400 "
       ]
      },
      {
       "output_type": "stream",
       "stream": "stdout",
       "text": [
        ". (-64961526.64) "
       ]
      },
      {
       "output_type": "stream",
       "stream": "stdout",
       "text": [
        ". (-64632508.31) "
       ]
      },
      {
       "output_type": "stream",
       "stream": "stdout",
       "text": [
        ". (-62057463.42) "
       ]
      },
      {
       "output_type": "stream",
       "stream": "stdout",
       "text": [
        "440 "
       ]
      },
      {
       "output_type": "stream",
       "stream": "stdout",
       "text": [
        ". (-60331759.75) "
       ]
      },
      {
       "output_type": "stream",
       "stream": "stdout",
       "text": [
        ". (-59567443.34) "
       ]
      },
      {
       "output_type": "stream",
       "stream": "stdout",
       "text": [
        "480 "
       ]
      },
      {
       "output_type": "stream",
       "stream": "stdout",
       "text": [
        ". (-59217732.87) "
       ]
      },
      {
       "output_type": "stream",
       "stream": "stdout",
       "text": [
        ". (-58931379.08) "
       ]
      },
      {
       "output_type": "stream",
       "stream": "stdout",
       "text": [
        "520 "
       ]
      },
      {
       "output_type": "stream",
       "stream": "stdout",
       "text": [
        "560 "
       ]
      },
      {
       "output_type": "stream",
       "stream": "stdout",
       "text": [
        ". (-58084540.31) "
       ]
      },
      {
       "output_type": "stream",
       "stream": "stdout",
       "text": [
        "600 "
       ]
      },
      {
       "output_type": "stream",
       "stream": "stdout",
       "text": [
        ". (-57693331.29) "
       ]
      },
      {
       "output_type": "stream",
       "stream": "stdout",
       "text": [
        ". (-55146917.66) "
       ]
      },
      {
       "output_type": "stream",
       "stream": "stdout",
       "text": [
        "640 "
       ]
      },
      {
       "output_type": "stream",
       "stream": "stdout",
       "text": [
        ". (-55038926.49) "
       ]
      },
      {
       "output_type": "stream",
       "stream": "stdout",
       "text": [
        ". (-54125164.69) "
       ]
      },
      {
       "output_type": "stream",
       "stream": "stdout",
       "text": [
        "680 "
       ]
      },
      {
       "output_type": "stream",
       "stream": "stdout",
       "text": [
        ". (-53699384.48) "
       ]
      },
      {
       "output_type": "stream",
       "stream": "stdout",
       "text": [
        "720 "
       ]
      },
      {
       "output_type": "stream",
       "stream": "stdout",
       "text": [
        ". (-53684223.81) "
       ]
      },
      {
       "output_type": "stream",
       "stream": "stdout",
       "text": [
        "760 "
       ]
      },
      {
       "output_type": "stream",
       "stream": "stdout",
       "text": [
        "800 "
       ]
      },
      {
       "output_type": "stream",
       "stream": "stdout",
       "text": [
        ". (-50315333.38) "
       ]
      },
      {
       "output_type": "stream",
       "stream": "stdout",
       "text": [
        "840 "
       ]
      },
      {
       "output_type": "stream",
       "stream": "stdout",
       "text": [
        "880 "
       ]
      },
      {
       "output_type": "stream",
       "stream": "stdout",
       "text": [
        ". (-49093792.96) "
       ]
      },
      {
       "output_type": "stream",
       "stream": "stdout",
       "text": [
        ". (-48867635.07) "
       ]
      },
      {
       "output_type": "stream",
       "stream": "stdout",
       "text": [
        "920 "
       ]
      },
      {
       "output_type": "stream",
       "stream": "stdout",
       "text": [
        ". (-48825201.61) "
       ]
      },
      {
       "output_type": "stream",
       "stream": "stdout",
       "text": [
        "960 "
       ]
      },
      {
       "output_type": "stream",
       "stream": "stdout",
       "text": [
        ". (-44337167.68) "
       ]
      },
      {
       "output_type": "stream",
       "stream": "stdout",
       "text": [
        ". (-43904703.10) "
       ]
      },
      {
       "output_type": "stream",
       "stream": "stdout",
       "text": [
        ". (-43781979.15) "
       ]
      },
      {
       "output_type": "stream",
       "stream": "stdout",
       "text": [
        "1000 "
       ]
      },
      {
       "output_type": "stream",
       "stream": "stdout",
       "text": [
        ". (-43315649.04) "
       ]
      },
      {
       "output_type": "stream",
       "stream": "stdout",
       "text": [
        "1040 "
       ]
      },
      {
       "output_type": "stream",
       "stream": "stdout",
       "text": [
        ". (-41669924.52) "
       ]
      },
      {
       "output_type": "stream",
       "stream": "stdout",
       "text": [
        ". (-36688592.88) "
       ]
      },
      {
       "output_type": "stream",
       "stream": "stdout",
       "text": [
        ". (-36386459.73) "
       ]
      },
      {
       "output_type": "stream",
       "stream": "stdout",
       "text": [
        ". (-36304513.26) "
       ]
      },
      {
       "output_type": "stream",
       "stream": "stdout",
       "text": [
        ". (-35241918.90) "
       ]
      },
      {
       "output_type": "stream",
       "stream": "stdout",
       "text": [
        "1080 "
       ]
      },
      {
       "output_type": "stream",
       "stream": "stdout",
       "text": [
        ". (-34858133.06) "
       ]
      },
      {
       "output_type": "stream",
       "stream": "stdout",
       "text": [
        ". (-34438354.66) "
       ]
      },
      {
       "output_type": "stream",
       "stream": "stdout",
       "text": [
        ". (-33623443.74) "
       ]
      },
      {
       "output_type": "stream",
       "stream": "stdout",
       "text": [
        ". (-33018403.78) "
       ]
      },
      {
       "output_type": "stream",
       "stream": "stdout",
       "text": [
        "1120 "
       ]
      },
      {
       "output_type": "stream",
       "stream": "stdout",
       "text": [
        ". (-32766283.06) "
       ]
      },
      {
       "output_type": "stream",
       "stream": "stdout",
       "text": [
        ". (-31917391.45) "
       ]
      },
      {
       "output_type": "stream",
       "stream": "stdout",
       "text": [
        ". (-31005720.76) "
       ]
      },
      {
       "output_type": "stream",
       "stream": "stdout",
       "text": [
        "1160 "
       ]
      },
      {
       "output_type": "stream",
       "stream": "stdout",
       "text": [
        ". (-30324668.13) "
       ]
      },
      {
       "output_type": "stream",
       "stream": "stdout",
       "text": [
        "1200 "
       ]
      },
      {
       "output_type": "stream",
       "stream": "stdout",
       "text": [
        "1240 "
       ]
      },
      {
       "output_type": "stream",
       "stream": "stdout",
       "text": [
        "1280 "
       ]
      },
      {
       "output_type": "stream",
       "stream": "stdout",
       "text": [
        "1320 "
       ]
      },
      {
       "output_type": "stream",
       "stream": "stdout",
       "text": [
        ". (-30067636.34) "
       ]
      },
      {
       "output_type": "stream",
       "stream": "stdout",
       "text": [
        "1360 "
       ]
      },
      {
       "output_type": "stream",
       "stream": "stdout",
       "text": [
        ". (-28414651.65) "
       ]
      },
      {
       "output_type": "stream",
       "stream": "stdout",
       "text": [
        "1400 "
       ]
      },
      {
       "output_type": "stream",
       "stream": "stdout",
       "text": [
        "1440 "
       ]
      },
      {
       "output_type": "stream",
       "stream": "stdout",
       "text": [
        ". (-25911240.34) "
       ]
      },
      {
       "output_type": "stream",
       "stream": "stdout",
       "text": [
        ". (-25619436.80) "
       ]
      },
      {
       "output_type": "stream",
       "stream": "stdout",
       "text": [
        ". (-24966787.72) "
       ]
      },
      {
       "output_type": "stream",
       "stream": "stdout",
       "text": [
        ". (-24839346.10) "
       ]
      },
      {
       "output_type": "stream",
       "stream": "stdout",
       "text": [
        "1480 "
       ]
      },
      {
       "output_type": "stream",
       "stream": "stdout",
       "text": [
        "1520 "
       ]
      },
      {
       "output_type": "stream",
       "stream": "stdout",
       "text": [
        ". (-24042554.91) "
       ]
      },
      {
       "output_type": "stream",
       "stream": "stdout",
       "text": [
        "1560 "
       ]
      },
      {
       "output_type": "stream",
       "stream": "stdout",
       "text": [
        ". (-21885826.52) "
       ]
      },
      {
       "output_type": "stream",
       "stream": "stdout",
       "text": [
        ". (-19115131.93) "
       ]
      },
      {
       "output_type": "stream",
       "stream": "stdout",
       "text": [
        ". (-19064470.05) "
       ]
      },
      {
       "output_type": "stream",
       "stream": "stdout",
       "text": [
        "1600 "
       ]
      },
      {
       "output_type": "stream",
       "stream": "stdout",
       "text": [
        "1640 "
       ]
      },
      {
       "output_type": "stream",
       "stream": "stdout",
       "text": [
        "1680 "
       ]
      },
      {
       "output_type": "stream",
       "stream": "stdout",
       "text": [
        ". (-18665695.67) "
       ]
      },
      {
       "output_type": "stream",
       "stream": "stdout",
       "text": [
        "1720 "
       ]
      },
      {
       "output_type": "stream",
       "stream": "stdout",
       "text": [
        "1760 "
       ]
      },
      {
       "output_type": "stream",
       "stream": "stdout",
       "text": [
        ". (-18250374.19) "
       ]
      },
      {
       "output_type": "stream",
       "stream": "stdout",
       "text": [
        "1800 "
       ]
      },
      {
       "output_type": "stream",
       "stream": "stdout",
       "text": [
        ". (-18088964.69) "
       ]
      },
      {
       "output_type": "stream",
       "stream": "stdout",
       "text": [
        ". (-16111184.44) "
       ]
      },
      {
       "output_type": "stream",
       "stream": "stdout",
       "text": [
        "1840 "
       ]
      },
      {
       "output_type": "stream",
       "stream": "stdout",
       "text": [
        "1880 "
       ]
      },
      {
       "output_type": "stream",
       "stream": "stdout",
       "text": [
        ". (-13838481.28) "
       ]
      },
      {
       "output_type": "stream",
       "stream": "stdout",
       "text": [
        ". (-12785357.71) "
       ]
      },
      {
       "output_type": "stream",
       "stream": "stdout",
       "text": [
        "1920 "
       ]
      },
      {
       "output_type": "stream",
       "stream": "stdout",
       "text": [
        "1960 "
       ]
      },
      {
       "output_type": "stream",
       "stream": "stdout",
       "text": [
        ". (-12155231.26) "
       ]
      },
      {
       "output_type": "stream",
       "stream": "stdout",
       "text": [
        "2000 "
       ]
      },
      {
       "output_type": "stream",
       "stream": "stdout",
       "text": [
        "2040 "
       ]
      },
      {
       "output_type": "stream",
       "stream": "stdout",
       "text": [
        "2080 "
       ]
      },
      {
       "output_type": "stream",
       "stream": "stdout",
       "text": [
        "2120 "
       ]
      },
      {
       "output_type": "stream",
       "stream": "stdout",
       "text": [
        "2160 "
       ]
      },
      {
       "output_type": "stream",
       "stream": "stdout",
       "text": [
        "2200 "
       ]
      },
      {
       "output_type": "stream",
       "stream": "stdout",
       "text": [
        "2240 "
       ]
      },
      {
       "output_type": "stream",
       "stream": "stdout",
       "text": [
        "2280 "
       ]
      },
      {
       "output_type": "stream",
       "stream": "stdout",
       "text": [
        ". (-11140017.50) "
       ]
      },
      {
       "output_type": "stream",
       "stream": "stdout",
       "text": [
        "2320 "
       ]
      },
      {
       "output_type": "stream",
       "stream": "stdout",
       "text": [
        "2360 "
       ]
      },
      {
       "output_type": "stream",
       "stream": "stdout",
       "text": [
        "2400 "
       ]
      },
      {
       "output_type": "stream",
       "stream": "stdout",
       "text": [
        "2440 "
       ]
      },
      {
       "output_type": "stream",
       "stream": "stdout",
       "text": [
        "2480 "
       ]
      },
      {
       "output_type": "stream",
       "stream": "stdout",
       "text": [
        "2520 "
       ]
      },
      {
       "output_type": "stream",
       "stream": "stdout",
       "text": [
        "2560 "
       ]
      },
      {
       "output_type": "stream",
       "stream": "stdout",
       "text": [
        "2600 "
       ]
      },
      {
       "output_type": "stream",
       "stream": "stdout",
       "text": [
        "2640 "
       ]
      },
      {
       "output_type": "stream",
       "stream": "stdout",
       "text": [
        "2680 "
       ]
      },
      {
       "output_type": "stream",
       "stream": "stdout",
       "text": [
        "2720 "
       ]
      },
      {
       "output_type": "stream",
       "stream": "stdout",
       "text": [
        "2760 "
       ]
      },
      {
       "output_type": "stream",
       "stream": "stdout",
       "text": [
        "2800 "
       ]
      },
      {
       "output_type": "stream",
       "stream": "stdout",
       "text": [
        "2840 "
       ]
      },
      {
       "output_type": "stream",
       "stream": "stdout",
       "text": [
        "2880 "
       ]
      },
      {
       "output_type": "stream",
       "stream": "stdout",
       "text": [
        "2920 "
       ]
      },
      {
       "output_type": "stream",
       "stream": "stdout",
       "text": [
        "2960 "
       ]
      },
      {
       "output_type": "stream",
       "stream": "stdout",
       "text": [
        "3000 "
       ]
      },
      {
       "output_type": "stream",
       "stream": "stdout",
       "text": [
        "3040 "
       ]
      },
      {
       "output_type": "stream",
       "stream": "stdout",
       "text": [
        "3080 "
       ]
      },
      {
       "output_type": "stream",
       "stream": "stdout",
       "text": [
        "3120 "
       ]
      },
      {
       "output_type": "stream",
       "stream": "stdout",
       "text": [
        "3160 "
       ]
      },
      {
       "output_type": "stream",
       "stream": "stdout",
       "text": [
        "3200 "
       ]
      },
      {
       "output_type": "stream",
       "stream": "stdout",
       "text": [
        "3240 "
       ]
      },
      {
       "output_type": "stream",
       "stream": "stdout",
       "text": [
        "3280 "
       ]
      },
      {
       "output_type": "stream",
       "stream": "stdout",
       "text": [
        "3320 "
       ]
      },
      {
       "output_type": "stream",
       "stream": "stdout",
       "text": [
        "3360 "
       ]
      },
      {
       "output_type": "stream",
       "stream": "stdout",
       "text": [
        "3400 "
       ]
      },
      {
       "output_type": "stream",
       "stream": "stdout",
       "text": [
        "3440 "
       ]
      },
      {
       "output_type": "stream",
       "stream": "stdout",
       "text": [
        "3480 "
       ]
      },
      {
       "output_type": "stream",
       "stream": "stdout",
       "text": [
        "3520 "
       ]
      },
      {
       "output_type": "stream",
       "stream": "stdout",
       "text": [
        "3560 "
       ]
      },
      {
       "output_type": "stream",
       "stream": "stdout",
       "text": [
        "3600 "
       ]
      },
      {
       "output_type": "stream",
       "stream": "stdout",
       "text": [
        "3640 "
       ]
      },
      {
       "output_type": "stream",
       "stream": "stdout",
       "text": [
        "3680 "
       ]
      },
      {
       "output_type": "stream",
       "stream": "stdout",
       "text": [
        "3720 "
       ]
      },
      {
       "output_type": "stream",
       "stream": "stdout",
       "text": [
        "3760 "
       ]
      },
      {
       "output_type": "stream",
       "stream": "stdout",
       "text": [
        "3800 "
       ]
      },
      {
       "output_type": "stream",
       "stream": "stdout",
       "text": [
        "3840 "
       ]
      },
      {
       "output_type": "stream",
       "stream": "stdout",
       "text": [
        "3880 "
       ]
      },
      {
       "output_type": "stream",
       "stream": "stdout",
       "text": [
        "3920 "
       ]
      },
      {
       "output_type": "stream",
       "stream": "stdout",
       "text": [
        "3960 "
       ]
      },
      {
       "output_type": "stream",
       "stream": "stdout",
       "text": [
        "Initial guess is [ 0  1  2  3  4  5  6  7  8  9 10 11 12 13 14 15 16 17 18 19 20 21 22 23 24 25]\n",
        "Start with"
       ]
      },
      {
       "output_type": "stream",
       "stream": "stdout",
       "text": [
        " [ 0  1  2  3  4  5  6  7  8  9 10 11 12 13 14 15 16 17 18 19 20 21 22 23 24 25]\n",
        "0"
       ]
      },
      {
       "output_type": "stream",
       "stream": "stdout",
       "text": [
        " . (-212920096.29) "
       ]
      },
      {
       "output_type": "stream",
       "stream": "stdout",
       "text": [
        ". (-207841622.33) "
       ]
      },
      {
       "output_type": "stream",
       "stream": "stdout",
       "text": [
        ". (-207603957.36) "
       ]
      },
      {
       "output_type": "stream",
       "stream": "stdout",
       "text": [
        ". (-205599049.42) "
       ]
      },
      {
       "output_type": "stream",
       "stream": "stdout",
       "text": [
        ". (-202249907.24) "
       ]
      },
      {
       "output_type": "stream",
       "stream": "stdout",
       "text": [
        ". (-192199936.14) "
       ]
      },
      {
       "output_type": "stream",
       "stream": "stdout",
       "text": [
        ". (-183814484.26) "
       ]
      },
      {
       "output_type": "stream",
       "stream": "stdout",
       "text": [
        ". (-181530261.28) "
       ]
      },
      {
       "output_type": "stream",
       "stream": "stdout",
       "text": [
        ". (-172866460.83) "
       ]
      },
      {
       "output_type": "stream",
       "stream": "stdout",
       "text": [
        ". (-172375003.02) "
       ]
      },
      {
       "output_type": "stream",
       "stream": "stdout",
       "text": [
        ". (-168125704.77) "
       ]
      },
      {
       "output_type": "stream",
       "stream": "stdout",
       "text": [
        ". (-140280336.03) "
       ]
      },
      {
       "output_type": "stream",
       "stream": "stdout",
       "text": [
        ". (-136245854.80) "
       ]
      },
      {
       "output_type": "stream",
       "stream": "stdout",
       "text": [
        ". (-135980387.58) "
       ]
      },
      {
       "output_type": "stream",
       "stream": "stdout",
       "text": [
        ". (-135927029.89) 40 "
       ]
      },
      {
       "output_type": "stream",
       "stream": "stdout",
       "text": [
        ". (-128206972.29) "
       ]
      },
      {
       "output_type": "stream",
       "stream": "stdout",
       "text": [
        ". (-123931247.44) "
       ]
      },
      {
       "output_type": "stream",
       "stream": "stdout",
       "text": [
        ". (-123921765.25) "
       ]
      },
      {
       "output_type": "stream",
       "stream": "stdout",
       "text": [
        ". (-123149249.14) "
       ]
      },
      {
       "output_type": "stream",
       "stream": "stdout",
       "text": [
        ". (-120145559.76) "
       ]
      },
      {
       "output_type": "stream",
       "stream": "stdout",
       "text": [
        ". (-119957095.84) "
       ]
      },
      {
       "output_type": "stream",
       "stream": "stdout",
       "text": [
        ". (-117826502.16) "
       ]
      },
      {
       "output_type": "stream",
       "stream": "stdout",
       "text": [
        ". (-115292099.46) "
       ]
      },
      {
       "output_type": "stream",
       "stream": "stdout",
       "text": [
        ". (-114897716.24) 80 "
       ]
      },
      {
       "output_type": "stream",
       "stream": "stdout",
       "text": [
        ". (-112092417.96) "
       ]
      },
      {
       "output_type": "stream",
       "stream": "stdout",
       "text": [
        ". (-106365363.45) "
       ]
      },
      {
       "output_type": "stream",
       "stream": "stdout",
       "text": [
        ". (-102907650.90) "
       ]
      },
      {
       "output_type": "stream",
       "stream": "stdout",
       "text": [
        ". (-101346374.38) "
       ]
      },
      {
       "output_type": "stream",
       "stream": "stdout",
       "text": [
        ". (-100506076.78) "
       ]
      },
      {
       "output_type": "stream",
       "stream": "stdout",
       "text": [
        ". (-93680982.61) "
       ]
      },
      {
       "output_type": "stream",
       "stream": "stdout",
       "text": [
        "120 "
       ]
      },
      {
       "output_type": "stream",
       "stream": "stdout",
       "text": [
        ". (-93673585.84) "
       ]
      },
      {
       "output_type": "stream",
       "stream": "stdout",
       "text": [
        ". (-93475079.21) "
       ]
      },
      {
       "output_type": "stream",
       "stream": "stdout",
       "text": [
        ". (-91449819.60) "
       ]
      },
      {
       "output_type": "stream",
       "stream": "stdout",
       "text": [
        ". (-91311368.87) "
       ]
      },
      {
       "output_type": "stream",
       "stream": "stdout",
       "text": [
        ". (-88881318.06) "
       ]
      },
      {
       "output_type": "stream",
       "stream": "stdout",
       "text": [
        "160 "
       ]
      },
      {
       "output_type": "stream",
       "stream": "stdout",
       "text": [
        ". (-88034910.40) "
       ]
      },
      {
       "output_type": "stream",
       "stream": "stdout",
       "text": [
        ". (-87861040.02) "
       ]
      },
      {
       "output_type": "stream",
       "stream": "stdout",
       "text": [
        ". (-87654947.84) "
       ]
      },
      {
       "output_type": "stream",
       "stream": "stdout",
       "text": [
        ". (-85055941.80) "
       ]
      },
      {
       "output_type": "stream",
       "stream": "stdout",
       "text": [
        "200 "
       ]
      },
      {
       "output_type": "stream",
       "stream": "stdout",
       "text": [
        ". (-84396114.80) "
       ]
      },
      {
       "output_type": "stream",
       "stream": "stdout",
       "text": [
        ". (-83355771.67) "
       ]
      },
      {
       "output_type": "stream",
       "stream": "stdout",
       "text": [
        ". (-80109795.62) "
       ]
      },
      {
       "output_type": "stream",
       "stream": "stdout",
       "text": [
        ". (-79479382.15) "
       ]
      },
      {
       "output_type": "stream",
       "stream": "stdout",
       "text": [
        ". (-79086050.00) "
       ]
      },
      {
       "output_type": "stream",
       "stream": "stdout",
       "text": [
        "240 "
       ]
      },
      {
       "output_type": "stream",
       "stream": "stdout",
       "text": [
        "280 "
       ]
      },
      {
       "output_type": "stream",
       "stream": "stdout",
       "text": [
        ". (-77387108.90) "
       ]
      },
      {
       "output_type": "stream",
       "stream": "stdout",
       "text": [
        ". (-77345581.49) "
       ]
      },
      {
       "output_type": "stream",
       "stream": "stdout",
       "text": [
        "320 "
       ]
      },
      {
       "output_type": "stream",
       "stream": "stdout",
       "text": [
        ". (-75388111.65) "
       ]
      },
      {
       "output_type": "stream",
       "stream": "stdout",
       "text": [
        "360 "
       ]
      },
      {
       "output_type": "stream",
       "stream": "stdout",
       "text": [
        "400 "
       ]
      },
      {
       "output_type": "stream",
       "stream": "stdout",
       "text": [
        ". (-62654978.13) "
       ]
      },
      {
       "output_type": "stream",
       "stream": "stdout",
       "text": [
        "440 "
       ]
      },
      {
       "output_type": "stream",
       "stream": "stdout",
       "text": [
        ". (-62400304.82) "
       ]
      },
      {
       "output_type": "stream",
       "stream": "stdout",
       "text": [
        ". (-62384122.83) "
       ]
      },
      {
       "output_type": "stream",
       "stream": "stdout",
       "text": [
        "480 "
       ]
      },
      {
       "output_type": "stream",
       "stream": "stdout",
       "text": [
        ". (-62078568.44) "
       ]
      },
      {
       "output_type": "stream",
       "stream": "stdout",
       "text": [
        ". (-58588837.09) "
       ]
      },
      {
       "output_type": "stream",
       "stream": "stdout",
       "text": [
        "520 "
       ]
      },
      {
       "output_type": "stream",
       "stream": "stdout",
       "text": [
        ". (-57721316.02) "
       ]
      },
      {
       "output_type": "stream",
       "stream": "stdout",
       "text": [
        ". (-55799800.22) "
       ]
      },
      {
       "output_type": "stream",
       "stream": "stdout",
       "text": [
        "560 "
       ]
      },
      {
       "output_type": "stream",
       "stream": "stdout",
       "text": [
        ". (-55792932.62) "
       ]
      },
      {
       "output_type": "stream",
       "stream": "stdout",
       "text": [
        ". (-55453208.25) "
       ]
      },
      {
       "output_type": "stream",
       "stream": "stdout",
       "text": [
        "600 "
       ]
      },
      {
       "output_type": "stream",
       "stream": "stdout",
       "text": [
        ". (-51296412.11) "
       ]
      },
      {
       "output_type": "stream",
       "stream": "stdout",
       "text": [
        ". (-50714050.62) "
       ]
      },
      {
       "output_type": "stream",
       "stream": "stdout",
       "text": [
        "640 "
       ]
      },
      {
       "output_type": "stream",
       "stream": "stdout",
       "text": [
        ". (-50442802.60) "
       ]
      },
      {
       "output_type": "stream",
       "stream": "stdout",
       "text": [
        ". (-49460123.11) "
       ]
      },
      {
       "output_type": "stream",
       "stream": "stdout",
       "text": [
        ". (-48534543.12) "
       ]
      },
      {
       "output_type": "stream",
       "stream": "stdout",
       "text": [
        "680 "
       ]
      },
      {
       "output_type": "stream",
       "stream": "stdout",
       "text": [
        ". (-45202899.81) "
       ]
      },
      {
       "output_type": "stream",
       "stream": "stdout",
       "text": [
        ". (-44151747.11) "
       ]
      },
      {
       "output_type": "stream",
       "stream": "stdout",
       "text": [
        "720 "
       ]
      },
      {
       "output_type": "stream",
       "stream": "stdout",
       "text": [
        ". (-43661088.95) "
       ]
      },
      {
       "output_type": "stream",
       "stream": "stdout",
       "text": [
        "760 "
       ]
      },
      {
       "output_type": "stream",
       "stream": "stdout",
       "text": [
        ". (-42946506.32) "
       ]
      },
      {
       "output_type": "stream",
       "stream": "stdout",
       "text": [
        "800 "
       ]
      },
      {
       "output_type": "stream",
       "stream": "stdout",
       "text": [
        ". (-42642404.34) "
       ]
      },
      {
       "output_type": "stream",
       "stream": "stdout",
       "text": [
        ". (-38704110.40) "
       ]
      },
      {
       "output_type": "stream",
       "stream": "stdout",
       "text": [
        "840 "
       ]
      },
      {
       "output_type": "stream",
       "stream": "stdout",
       "text": [
        "880 "
       ]
      },
      {
       "output_type": "stream",
       "stream": "stdout",
       "text": [
        ". (-38634642.96) "
       ]
      },
      {
       "output_type": "stream",
       "stream": "stdout",
       "text": [
        ". (-38172287.57) "
       ]
      },
      {
       "output_type": "stream",
       "stream": "stdout",
       "text": [
        "920 "
       ]
      },
      {
       "output_type": "stream",
       "stream": "stdout",
       "text": [
        ". (-36002345.95) "
       ]
      },
      {
       "output_type": "stream",
       "stream": "stdout",
       "text": [
        ". (-35138178.91) "
       ]
      },
      {
       "output_type": "stream",
       "stream": "stdout",
       "text": [
        "960 "
       ]
      },
      {
       "output_type": "stream",
       "stream": "stdout",
       "text": [
        ". (-30337852.94) "
       ]
      },
      {
       "output_type": "stream",
       "stream": "stdout",
       "text": [
        "1000 "
       ]
      },
      {
       "output_type": "stream",
       "stream": "stdout",
       "text": [
        "1040 "
       ]
      },
      {
       "output_type": "stream",
       "stream": "stdout",
       "text": [
        "1080 "
       ]
      },
      {
       "output_type": "stream",
       "stream": "stdout",
       "text": [
        "1120 "
       ]
      },
      {
       "output_type": "stream",
       "stream": "stdout",
       "text": [
        "1160 "
       ]
      },
      {
       "output_type": "stream",
       "stream": "stdout",
       "text": [
        "1200 "
       ]
      },
      {
       "output_type": "stream",
       "stream": "stdout",
       "text": [
        ". (-29020922.76) "
       ]
      },
      {
       "output_type": "stream",
       "stream": "stdout",
       "text": [
        "1240 "
       ]
      },
      {
       "output_type": "stream",
       "stream": "stdout",
       "text": [
        ". (-28711357.31) "
       ]
      },
      {
       "output_type": "stream",
       "stream": "stdout",
       "text": [
        ". (-27291060.09) "
       ]
      },
      {
       "output_type": "stream",
       "stream": "stdout",
       "text": [
        "1280 "
       ]
      },
      {
       "output_type": "stream",
       "stream": "stdout",
       "text": [
        "1320 "
       ]
      },
      {
       "output_type": "stream",
       "stream": "stdout",
       "text": [
        "1360 "
       ]
      },
      {
       "output_type": "stream",
       "stream": "stdout",
       "text": [
        "1400 "
       ]
      },
      {
       "output_type": "stream",
       "stream": "stdout",
       "text": [
        "1440 "
       ]
      },
      {
       "output_type": "stream",
       "stream": "stdout",
       "text": [
        ". (-27229833.71) "
       ]
      },
      {
       "output_type": "stream",
       "stream": "stdout",
       "text": [
        "1480 "
       ]
      },
      {
       "output_type": "stream",
       "stream": "stdout",
       "text": [
        "1520 "
       ]
      },
      {
       "output_type": "stream",
       "stream": "stdout",
       "text": [
        "1560 "
       ]
      },
      {
       "output_type": "stream",
       "stream": "stdout",
       "text": [
        "1600 "
       ]
      },
      {
       "output_type": "stream",
       "stream": "stdout",
       "text": [
        ". (-25582632.76) "
       ]
      },
      {
       "output_type": "stream",
       "stream": "stdout",
       "text": [
        ". (-25453902.30) "
       ]
      },
      {
       "output_type": "stream",
       "stream": "stdout",
       "text": [
        ". (-25267626.34) "
       ]
      },
      {
       "output_type": "stream",
       "stream": "stdout",
       "text": [
        ". (-20265522.53) "
       ]
      },
      {
       "output_type": "stream",
       "stream": "stdout",
       "text": [
        "1640 "
       ]
      },
      {
       "output_type": "stream",
       "stream": "stdout",
       "text": [
        "1680 "
       ]
      },
      {
       "output_type": "stream",
       "stream": "stdout",
       "text": [
        "1720 "
       ]
      },
      {
       "output_type": "stream",
       "stream": "stdout",
       "text": [
        "1760 "
       ]
      },
      {
       "output_type": "stream",
       "stream": "stdout",
       "text": [
        ". (-18706694.50) "
       ]
      },
      {
       "output_type": "stream",
       "stream": "stdout",
       "text": [
        "1800 "
       ]
      },
      {
       "output_type": "stream",
       "stream": "stdout",
       "text": [
        "1840 "
       ]
      },
      {
       "output_type": "stream",
       "stream": "stdout",
       "text": [
        "1880 "
       ]
      },
      {
       "output_type": "stream",
       "stream": "stdout",
       "text": [
        ". (-16174251.76) "
       ]
      },
      {
       "output_type": "stream",
       "stream": "stdout",
       "text": [
        ". (-5786252.27) "
       ]
      },
      {
       "output_type": "stream",
       "stream": "stdout",
       "text": [
        "1920 "
       ]
      },
      {
       "output_type": "stream",
       "stream": "stdout",
       "text": [
        "1960 "
       ]
      },
      {
       "output_type": "stream",
       "stream": "stdout",
       "text": [
        "2000 "
       ]
      },
      {
       "output_type": "stream",
       "stream": "stdout",
       "text": [
        ". (-4870545.43) "
       ]
      },
      {
       "output_type": "stream",
       "stream": "stdout",
       "text": [
        "2040 "
       ]
      },
      {
       "output_type": "stream",
       "stream": "stdout",
       "text": [
        "2080 "
       ]
      },
      {
       "output_type": "stream",
       "stream": "stdout",
       "text": [
        "2120 "
       ]
      },
      {
       "output_type": "stream",
       "stream": "stdout",
       "text": [
        "2160 "
       ]
      },
      {
       "output_type": "stream",
       "stream": "stdout",
       "text": [
        "2200 "
       ]
      },
      {
       "output_type": "stream",
       "stream": "stdout",
       "text": [
        "2240 "
       ]
      },
      {
       "output_type": "stream",
       "stream": "stdout",
       "text": [
        ". (-3893378.68) "
       ]
      },
      {
       "output_type": "stream",
       "stream": "stdout",
       "text": [
        "2280 "
       ]
      },
      {
       "output_type": "stream",
       "stream": "stdout",
       "text": [
        "2320 "
       ]
      },
      {
       "output_type": "stream",
       "stream": "stdout",
       "text": [
        "2360 "
       ]
      },
      {
       "output_type": "stream",
       "stream": "stdout",
       "text": [
        "2400 "
       ]
      },
      {
       "output_type": "stream",
       "stream": "stdout",
       "text": [
        "2440 "
       ]
      },
      {
       "output_type": "stream",
       "stream": "stdout",
       "text": [
        "2480 "
       ]
      },
      {
       "output_type": "stream",
       "stream": "stdout",
       "text": [
        "2520 "
       ]
      },
      {
       "output_type": "stream",
       "stream": "stdout",
       "text": [
        "2560 "
       ]
      },
      {
       "output_type": "stream",
       "stream": "stdout",
       "text": [
        "2600 "
       ]
      },
      {
       "output_type": "stream",
       "stream": "stdout",
       "text": [
        "2640 "
       ]
      },
      {
       "output_type": "stream",
       "stream": "stdout",
       "text": [
        "2680 "
       ]
      },
      {
       "output_type": "stream",
       "stream": "stdout",
       "text": [
        "2720 "
       ]
      },
      {
       "output_type": "stream",
       "stream": "stdout",
       "text": [
        "2760 "
       ]
      },
      {
       "output_type": "stream",
       "stream": "stdout",
       "text": [
        "2800 "
       ]
      },
      {
       "output_type": "stream",
       "stream": "stdout",
       "text": [
        "2840 "
       ]
      },
      {
       "output_type": "stream",
       "stream": "stdout",
       "text": [
        "2880 "
       ]
      },
      {
       "output_type": "stream",
       "stream": "stdout",
       "text": [
        "2920 "
       ]
      },
      {
       "output_type": "stream",
       "stream": "stdout",
       "text": [
        "2960 "
       ]
      },
      {
       "output_type": "stream",
       "stream": "stdout",
       "text": [
        "3000 "
       ]
      },
      {
       "output_type": "stream",
       "stream": "stdout",
       "text": [
        "3040 "
       ]
      },
      {
       "output_type": "stream",
       "stream": "stdout",
       "text": [
        "3080 "
       ]
      },
      {
       "output_type": "stream",
       "stream": "stdout",
       "text": [
        "3120 "
       ]
      },
      {
       "output_type": "stream",
       "stream": "stdout",
       "text": [
        "3160 "
       ]
      },
      {
       "output_type": "stream",
       "stream": "stdout",
       "text": [
        "3200 "
       ]
      },
      {
       "output_type": "stream",
       "stream": "stdout",
       "text": [
        "3240 "
       ]
      },
      {
       "output_type": "stream",
       "stream": "stdout",
       "text": [
        "3280 "
       ]
      },
      {
       "output_type": "stream",
       "stream": "stdout",
       "text": [
        "3320 "
       ]
      },
      {
       "output_type": "stream",
       "stream": "stdout",
       "text": [
        "3360 "
       ]
      },
      {
       "output_type": "stream",
       "stream": "stdout",
       "text": [
        "3400 "
       ]
      },
      {
       "output_type": "stream",
       "stream": "stdout",
       "text": [
        "3440 "
       ]
      },
      {
       "output_type": "stream",
       "stream": "stdout",
       "text": [
        "3480 "
       ]
      },
      {
       "output_type": "stream",
       "stream": "stdout",
       "text": [
        "3520 "
       ]
      },
      {
       "output_type": "stream",
       "stream": "stdout",
       "text": [
        "3560 "
       ]
      },
      {
       "output_type": "stream",
       "stream": "stdout",
       "text": [
        "3600 "
       ]
      },
      {
       "output_type": "stream",
       "stream": "stdout",
       "text": [
        "3640 "
       ]
      },
      {
       "output_type": "stream",
       "stream": "stdout",
       "text": [
        "3680 "
       ]
      },
      {
       "output_type": "stream",
       "stream": "stdout",
       "text": [
        "3720 "
       ]
      },
      {
       "output_type": "stream",
       "stream": "stdout",
       "text": [
        "3760 "
       ]
      },
      {
       "output_type": "stream",
       "stream": "stdout",
       "text": [
        "3800 "
       ]
      },
      {
       "output_type": "stream",
       "stream": "stdout",
       "text": [
        "3840 "
       ]
      },
      {
       "output_type": "stream",
       "stream": "stdout",
       "text": [
        "3880 "
       ]
      },
      {
       "output_type": "stream",
       "stream": "stdout",
       "text": [
        "3920 "
       ]
      },
      {
       "output_type": "stream",
       "stream": "stdout",
       "text": [
        "3960 "
       ]
      },
      {
       "output_type": "stream",
       "stream": "stdout",
       "text": [
        "Initial guess is [ 0  1  2  3  4  5  6  7  8  9 10 11 12 13 14 15 16 17 18 19 20 21 22 23 24 25]\n",
        "Start with"
       ]
      },
      {
       "output_type": "stream",
       "stream": "stdout",
       "text": [
        " [ 0  1  2  3  4  5  6  7  8  9 10 11 12 13 14 15 16 17 18 19 20 21 22 23 24 25]\n",
        "."
       ]
      },
      {
       "output_type": "stream",
       "stream": "stdout",
       "text": [
        " (-196602855.81) 0 "
       ]
      },
      {
       "output_type": "stream",
       "stream": "stdout",
       "text": [
        ". (-196124325.47) "
       ]
      },
      {
       "output_type": "stream",
       "stream": "stdout",
       "text": [
        ". (-191992362.17) "
       ]
      },
      {
       "output_type": "stream",
       "stream": "stdout",
       "text": [
        ". (-188307713.95) "
       ]
      },
      {
       "output_type": "stream",
       "stream": "stdout",
       "text": [
        ". (-186835999.42) "
       ]
      },
      {
       "output_type": "stream",
       "stream": "stdout",
       "text": [
        ". (-184971085.15) "
       ]
      },
      {
       "output_type": "stream",
       "stream": "stdout",
       "text": [
        ". (-180919342.21) "
       ]
      },
      {
       "output_type": "stream",
       "stream": "stdout",
       "text": [
        ". (-179656045.78) "
       ]
      },
      {
       "output_type": "stream",
       "stream": "stdout",
       "text": [
        ". (-172366544.54) "
       ]
      },
      {
       "output_type": "stream",
       "stream": "stdout",
       "text": [
        ". (-171345357.06) "
       ]
      },
      {
       "output_type": "stream",
       "stream": "stdout",
       "text": [
        ". (-170269355.06) "
       ]
      },
      {
       "output_type": "stream",
       "stream": "stdout",
       "text": [
        ". (-164395516.58) "
       ]
      },
      {
       "output_type": "stream",
       "stream": "stdout",
       "text": [
        ". (-147929344.13) "
       ]
      },
      {
       "output_type": "stream",
       "stream": "stdout",
       "text": [
        ". (-140188168.62) "
       ]
      },
      {
       "output_type": "stream",
       "stream": "stdout",
       "text": [
        ". (-138284000.81) "
       ]
      },
      {
       "output_type": "stream",
       "stream": "stdout",
       "text": [
        ". (-137423232.29) "
       ]
      },
      {
       "output_type": "stream",
       "stream": "stdout",
       "text": [
        ". (-134428539.92) "
       ]
      },
      {
       "output_type": "stream",
       "stream": "stdout",
       "text": [
        ". (-130569820.74) "
       ]
      },
      {
       "output_type": "stream",
       "stream": "stdout",
       "text": [
        "40 "
       ]
      },
      {
       "output_type": "stream",
       "stream": "stdout",
       "text": [
        ". (-128008500.30) "
       ]
      },
      {
       "output_type": "stream",
       "stream": "stdout",
       "text": [
        ". (-122467640.49) "
       ]
      },
      {
       "output_type": "stream",
       "stream": "stdout",
       "text": [
        ". (-119420545.86) "
       ]
      },
      {
       "output_type": "stream",
       "stream": "stdout",
       "text": [
        ". (-118422268.52) "
       ]
      },
      {
       "output_type": "stream",
       "stream": "stdout",
       "text": [
        ". (-111144518.14) "
       ]
      },
      {
       "output_type": "stream",
       "stream": "stdout",
       "text": [
        "80 "
       ]
      },
      {
       "output_type": "stream",
       "stream": "stdout",
       "text": [
        ". (-102120129.55) "
       ]
      },
      {
       "output_type": "stream",
       "stream": "stdout",
       "text": [
        ". (-99668262.68) "
       ]
      },
      {
       "output_type": "stream",
       "stream": "stdout",
       "text": [
        ". (-96906941.16) "
       ]
      },
      {
       "output_type": "stream",
       "stream": "stdout",
       "text": [
        ". (-85590994.10) "
       ]
      },
      {
       "output_type": "stream",
       "stream": "stdout",
       "text": [
        ". (-80558256.88) "
       ]
      },
      {
       "output_type": "stream",
       "stream": "stdout",
       "text": [
        ". (-80178879.54) "
       ]
      },
      {
       "output_type": "stream",
       "stream": "stdout",
       "text": [
        ". (-58173121.26) "
       ]
      },
      {
       "output_type": "stream",
       "stream": "stdout",
       "text": [
        "120 "
       ]
      },
      {
       "output_type": "stream",
       "stream": "stdout",
       "text": [
        ". (-57979594.56) "
       ]
      },
      {
       "output_type": "stream",
       "stream": "stdout",
       "text": [
        ". (-57940677.47) "
       ]
      },
      {
       "output_type": "stream",
       "stream": "stdout",
       "text": [
        ". (-57452072.41) "
       ]
      },
      {
       "output_type": "stream",
       "stream": "stdout",
       "text": [
        ". (-54462045.42) "
       ]
      },
      {
       "output_type": "stream",
       "stream": "stdout",
       "text": [
        "160 "
       ]
      },
      {
       "output_type": "stream",
       "stream": "stdout",
       "text": [
        "200 "
       ]
      },
      {
       "output_type": "stream",
       "stream": "stdout",
       "text": [
        ". (-53544277.90) "
       ]
      },
      {
       "output_type": "stream",
       "stream": "stdout",
       "text": [
        ". (-52263449.17) "
       ]
      },
      {
       "output_type": "stream",
       "stream": "stdout",
       "text": [
        ". (-51967012.09) "
       ]
      },
      {
       "output_type": "stream",
       "stream": "stdout",
       "text": [
        "240 "
       ]
      },
      {
       "output_type": "stream",
       "stream": "stdout",
       "text": [
        "280 "
       ]
      },
      {
       "output_type": "stream",
       "stream": "stdout",
       "text": [
        ". (-49429541.03) "
       ]
      },
      {
       "output_type": "stream",
       "stream": "stdout",
       "text": [
        ". (-48465505.01) "
       ]
      },
      {
       "output_type": "stream",
       "stream": "stdout",
       "text": [
        "320 "
       ]
      },
      {
       "output_type": "stream",
       "stream": "stdout",
       "text": [
        ". (-39801177.61) "
       ]
      },
      {
       "output_type": "stream",
       "stream": "stdout",
       "text": [
        "360 "
       ]
      },
      {
       "output_type": "stream",
       "stream": "stdout",
       "text": [
        ". (-37268839.03) "
       ]
      },
      {
       "output_type": "stream",
       "stream": "stdout",
       "text": [
        "400 "
       ]
      },
      {
       "output_type": "stream",
       "stream": "stdout",
       "text": [
        ". (-36797261.79) "
       ]
      },
      {
       "output_type": "stream",
       "stream": "stdout",
       "text": [
        ". (-36707431.05) "
       ]
      },
      {
       "output_type": "stream",
       "stream": "stdout",
       "text": [
        ". (-36465323.34) "
       ]
      },
      {
       "output_type": "stream",
       "stream": "stdout",
       "text": [
        "440 "
       ]
      },
      {
       "output_type": "stream",
       "stream": "stdout",
       "text": [
        ". (-34968371.40) "
       ]
      },
      {
       "output_type": "stream",
       "stream": "stdout",
       "text": [
        ". (-34548066.01) "
       ]
      },
      {
       "output_type": "stream",
       "stream": "stdout",
       "text": [
        "480 "
       ]
      },
      {
       "output_type": "stream",
       "stream": "stdout",
       "text": [
        "520 "
       ]
      },
      {
       "output_type": "stream",
       "stream": "stdout",
       "text": [
        ". (-30517265.89) "
       ]
      },
      {
       "output_type": "stream",
       "stream": "stdout",
       "text": [
        ". (-27738844.05) "
       ]
      },
      {
       "output_type": "stream",
       "stream": "stdout",
       "text": [
        ". (-27251175.19) "
       ]
      },
      {
       "output_type": "stream",
       "stream": "stdout",
       "text": [
        "560 "
       ]
      },
      {
       "output_type": "stream",
       "stream": "stdout",
       "text": [
        ". (-25661036.61) "
       ]
      },
      {
       "output_type": "stream",
       "stream": "stdout",
       "text": [
        ". (-21723950.78) "
       ]
      },
      {
       "output_type": "stream",
       "stream": "stdout",
       "text": [
        "600 "
       ]
      },
      {
       "output_type": "stream",
       "stream": "stdout",
       "text": [
        ". (-21721161.52) "
       ]
      },
      {
       "output_type": "stream",
       "stream": "stdout",
       "text": [
        "640 "
       ]
      },
      {
       "output_type": "stream",
       "stream": "stdout",
       "text": [
        "680 "
       ]
      },
      {
       "output_type": "stream",
       "stream": "stdout",
       "text": [
        ". (-20539896.95) "
       ]
      },
      {
       "output_type": "stream",
       "stream": "stdout",
       "text": [
        "720 "
       ]
      },
      {
       "output_type": "stream",
       "stream": "stdout",
       "text": [
        ". (-16473367.71) "
       ]
      },
      {
       "output_type": "stream",
       "stream": "stdout",
       "text": [
        "760 "
       ]
      },
      {
       "output_type": "stream",
       "stream": "stdout",
       "text": [
        ". (-15668940.01) "
       ]
      },
      {
       "output_type": "stream",
       "stream": "stdout",
       "text": [
        "800 "
       ]
      },
      {
       "output_type": "stream",
       "stream": "stdout",
       "text": [
        ". (-12153764.39) "
       ]
      },
      {
       "output_type": "stream",
       "stream": "stdout",
       "text": [
        "840 "
       ]
      },
      {
       "output_type": "stream",
       "stream": "stdout",
       "text": [
        "880 "
       ]
      },
      {
       "output_type": "stream",
       "stream": "stdout",
       "text": [
        "920 "
       ]
      },
      {
       "output_type": "stream",
       "stream": "stdout",
       "text": [
        "960 "
       ]
      },
      {
       "output_type": "stream",
       "stream": "stdout",
       "text": [
        "1000 "
       ]
      },
      {
       "output_type": "stream",
       "stream": "stdout",
       "text": [
        "1040 "
       ]
      },
      {
       "output_type": "stream",
       "stream": "stdout",
       "text": [
        ". (-10422404.18) "
       ]
      },
      {
       "output_type": "stream",
       "stream": "stdout",
       "text": [
        "1080 "
       ]
      },
      {
       "output_type": "stream",
       "stream": "stdout",
       "text": [
        "1120 "
       ]
      },
      {
       "output_type": "stream",
       "stream": "stdout",
       "text": [
        ". (-4497386.02) "
       ]
      },
      {
       "output_type": "stream",
       "stream": "stdout",
       "text": [
        "1160 "
       ]
      },
      {
       "output_type": "stream",
       "stream": "stdout",
       "text": [
        "1200 "
       ]
      },
      {
       "output_type": "stream",
       "stream": "stdout",
       "text": [
        "1240 "
       ]
      },
      {
       "output_type": "stream",
       "stream": "stdout",
       "text": [
        "1280 "
       ]
      },
      {
       "output_type": "stream",
       "stream": "stdout",
       "text": [
        "1320 "
       ]
      },
      {
       "output_type": "stream",
       "stream": "stdout",
       "text": [
        "1360 "
       ]
      },
      {
       "output_type": "stream",
       "stream": "stdout",
       "text": [
        ". (-3893378.68) "
       ]
      },
      {
       "output_type": "stream",
       "stream": "stdout",
       "text": [
        "1400 "
       ]
      },
      {
       "output_type": "stream",
       "stream": "stdout",
       "text": [
        "1440 "
       ]
      },
      {
       "output_type": "stream",
       "stream": "stdout",
       "text": [
        "1480 "
       ]
      },
      {
       "output_type": "stream",
       "stream": "stdout",
       "text": [
        "1520 "
       ]
      },
      {
       "output_type": "stream",
       "stream": "stdout",
       "text": [
        "1560 "
       ]
      },
      {
       "output_type": "stream",
       "stream": "stdout",
       "text": [
        "1600 "
       ]
      },
      {
       "output_type": "stream",
       "stream": "stdout",
       "text": [
        "1640 "
       ]
      },
      {
       "output_type": "stream",
       "stream": "stdout",
       "text": [
        "1680 "
       ]
      },
      {
       "output_type": "stream",
       "stream": "stdout",
       "text": [
        "1720 "
       ]
      },
      {
       "output_type": "stream",
       "stream": "stdout",
       "text": [
        "1760 "
       ]
      },
      {
       "output_type": "stream",
       "stream": "stdout",
       "text": [
        "1800 "
       ]
      },
      {
       "output_type": "stream",
       "stream": "stdout",
       "text": [
        "1840 "
       ]
      },
      {
       "output_type": "stream",
       "stream": "stdout",
       "text": [
        "1880 "
       ]
      },
      {
       "output_type": "stream",
       "stream": "stdout",
       "text": [
        "1920 "
       ]
      },
      {
       "output_type": "stream",
       "stream": "stdout",
       "text": [
        "1960 "
       ]
      },
      {
       "output_type": "stream",
       "stream": "stdout",
       "text": [
        "2000 "
       ]
      },
      {
       "output_type": "stream",
       "stream": "stdout",
       "text": [
        "2040 "
       ]
      },
      {
       "output_type": "stream",
       "stream": "stdout",
       "text": [
        "2080 "
       ]
      },
      {
       "output_type": "stream",
       "stream": "stdout",
       "text": [
        "2120 "
       ]
      },
      {
       "output_type": "stream",
       "stream": "stdout",
       "text": [
        "2160 "
       ]
      },
      {
       "output_type": "stream",
       "stream": "stdout",
       "text": [
        "2200 "
       ]
      },
      {
       "output_type": "stream",
       "stream": "stdout",
       "text": [
        "2240 "
       ]
      },
      {
       "output_type": "stream",
       "stream": "stdout",
       "text": [
        "2280 "
       ]
      },
      {
       "output_type": "stream",
       "stream": "stdout",
       "text": [
        "2320 "
       ]
      },
      {
       "output_type": "stream",
       "stream": "stdout",
       "text": [
        "2360 "
       ]
      },
      {
       "output_type": "stream",
       "stream": "stdout",
       "text": [
        "2400 "
       ]
      },
      {
       "output_type": "stream",
       "stream": "stdout",
       "text": [
        "2440 "
       ]
      },
      {
       "output_type": "stream",
       "stream": "stdout",
       "text": [
        "2480 "
       ]
      },
      {
       "output_type": "stream",
       "stream": "stdout",
       "text": [
        "2520 "
       ]
      },
      {
       "output_type": "stream",
       "stream": "stdout",
       "text": [
        "2560 "
       ]
      },
      {
       "output_type": "stream",
       "stream": "stdout",
       "text": [
        "2600 "
       ]
      },
      {
       "output_type": "stream",
       "stream": "stdout",
       "text": [
        "2640 "
       ]
      },
      {
       "output_type": "stream",
       "stream": "stdout",
       "text": [
        "2680 "
       ]
      },
      {
       "output_type": "stream",
       "stream": "stdout",
       "text": [
        "2720 "
       ]
      },
      {
       "output_type": "stream",
       "stream": "stdout",
       "text": [
        "2760 "
       ]
      },
      {
       "output_type": "stream",
       "stream": "stdout",
       "text": [
        "2800 "
       ]
      },
      {
       "output_type": "stream",
       "stream": "stdout",
       "text": [
        "2840 "
       ]
      },
      {
       "output_type": "stream",
       "stream": "stdout",
       "text": [
        "2880 "
       ]
      },
      {
       "output_type": "stream",
       "stream": "stdout",
       "text": [
        "2920 "
       ]
      },
      {
       "output_type": "stream",
       "stream": "stdout",
       "text": [
        "2960 "
       ]
      },
      {
       "output_type": "stream",
       "stream": "stdout",
       "text": [
        "3000 "
       ]
      },
      {
       "output_type": "stream",
       "stream": "stdout",
       "text": [
        "3040 "
       ]
      },
      {
       "output_type": "stream",
       "stream": "stdout",
       "text": [
        "3080 "
       ]
      },
      {
       "output_type": "stream",
       "stream": "stdout",
       "text": [
        "3120 "
       ]
      },
      {
       "output_type": "stream",
       "stream": "stdout",
       "text": [
        "3160 "
       ]
      },
      {
       "output_type": "stream",
       "stream": "stdout",
       "text": [
        "3200 "
       ]
      },
      {
       "output_type": "stream",
       "stream": "stdout",
       "text": [
        "3240 "
       ]
      },
      {
       "output_type": "stream",
       "stream": "stdout",
       "text": [
        "3280 "
       ]
      },
      {
       "output_type": "stream",
       "stream": "stdout",
       "text": [
        "3320 "
       ]
      },
      {
       "output_type": "stream",
       "stream": "stdout",
       "text": [
        "3360 "
       ]
      },
      {
       "output_type": "stream",
       "stream": "stdout",
       "text": [
        "3400 "
       ]
      },
      {
       "output_type": "stream",
       "stream": "stdout",
       "text": [
        "3440 "
       ]
      },
      {
       "output_type": "stream",
       "stream": "stdout",
       "text": [
        "3480 "
       ]
      },
      {
       "output_type": "stream",
       "stream": "stdout",
       "text": [
        "3520 "
       ]
      },
      {
       "output_type": "stream",
       "stream": "stdout",
       "text": [
        "3560 "
       ]
      },
      {
       "output_type": "stream",
       "stream": "stdout",
       "text": [
        "3600 "
       ]
      },
      {
       "output_type": "stream",
       "stream": "stdout",
       "text": [
        "3640 "
       ]
      },
      {
       "output_type": "stream",
       "stream": "stdout",
       "text": [
        "3680 "
       ]
      },
      {
       "output_type": "stream",
       "stream": "stdout",
       "text": [
        "3720 "
       ]
      },
      {
       "output_type": "stream",
       "stream": "stdout",
       "text": [
        "3760 "
       ]
      },
      {
       "output_type": "stream",
       "stream": "stdout",
       "text": [
        "3800 "
       ]
      },
      {
       "output_type": "stream",
       "stream": "stdout",
       "text": [
        "3840 "
       ]
      },
      {
       "output_type": "stream",
       "stream": "stdout",
       "text": [
        "3880 "
       ]
      },
      {
       "output_type": "stream",
       "stream": "stdout",
       "text": [
        "3920 "
       ]
      },
      {
       "output_type": "stream",
       "stream": "stdout",
       "text": [
        "3960 "
       ]
      },
      {
       "output_type": "stream",
       "stream": "stdout",
       "text": [
        "Initial guess is [ 0  1  2  3  4  5  6  7  8  9 10 11 12 13 14 15 16 17 18 19 20 21 22 23 24 25]\n",
        "Start with"
       ]
      },
      {
       "output_type": "stream",
       "stream": "stdout",
       "text": [
        " [ 0  1  2  3  4  5  6  7  8  9 10 11 12 13 14 15 16 17 18 19 20 21 22 23 24 25]\n",
        "0"
       ]
      },
      {
       "output_type": "stream",
       "stream": "stdout",
       "text": [
        " . (-219488877.98) "
       ]
      },
      {
       "output_type": "stream",
       "stream": "stdout",
       "text": [
        ". (-216630677.41) "
       ]
      },
      {
       "output_type": "stream",
       "stream": "stdout",
       "text": [
        ". (-214271285.45) "
       ]
      },
      {
       "output_type": "stream",
       "stream": "stdout",
       "text": [
        ". (-212292141.10) "
       ]
      },
      {
       "output_type": "stream",
       "stream": "stdout",
       "text": [
        ". (-203831553.37) "
       ]
      },
      {
       "output_type": "stream",
       "stream": "stdout",
       "text": [
        ". (-186234081.23) "
       ]
      },
      {
       "output_type": "stream",
       "stream": "stdout",
       "text": [
        ". (-185486720.84) "
       ]
      },
      {
       "output_type": "stream",
       "stream": "stdout",
       "text": [
        ". (-183281218.57) "
       ]
      },
      {
       "output_type": "stream",
       "stream": "stdout",
       "text": [
        ". (-183146819.83) "
       ]
      },
      {
       "output_type": "stream",
       "stream": "stdout",
       "text": [
        ". (-180614382.30) "
       ]
      },
      {
       "output_type": "stream",
       "stream": "stdout",
       "text": [
        ". (-161188472.06) "
       ]
      },
      {
       "output_type": "stream",
       "stream": "stdout",
       "text": [
        ". (-161149202.77) "
       ]
      },
      {
       "output_type": "stream",
       "stream": "stdout",
       "text": [
        ". (-139056478.69) "
       ]
      },
      {
       "output_type": "stream",
       "stream": "stdout",
       "text": [
        ". (-138735852.63) "
       ]
      },
      {
       "output_type": "stream",
       "stream": "stdout",
       "text": [
        ". (-138411245.29) "
       ]
      },
      {
       "output_type": "stream",
       "stream": "stdout",
       "text": [
        ". (-129325249.14) "
       ]
      },
      {
       "output_type": "stream",
       "stream": "stdout",
       "text": [
        ". (-125631401.74) "
       ]
      },
      {
       "output_type": "stream",
       "stream": "stdout",
       "text": [
        "40 "
       ]
      },
      {
       "output_type": "stream",
       "stream": "stdout",
       "text": [
        ". (-124924571.03) "
       ]
      },
      {
       "output_type": "stream",
       "stream": "stdout",
       "text": [
        ". (-118999574.07) "
       ]
      },
      {
       "output_type": "stream",
       "stream": "stdout",
       "text": [
        ". (-117755792.45) "
       ]
      },
      {
       "output_type": "stream",
       "stream": "stdout",
       "text": [
        ". (-117023211.71) "
       ]
      },
      {
       "output_type": "stream",
       "stream": "stdout",
       "text": [
        ". (-100465104.75) "
       ]
      },
      {
       "output_type": "stream",
       "stream": "stdout",
       "text": [
        ". (-99567220.63) "
       ]
      },
      {
       "output_type": "stream",
       "stream": "stdout",
       "text": [
        ". (-97377766.94) "
       ]
      },
      {
       "output_type": "stream",
       "stream": "stdout",
       "text": [
        ". (-96144816.08) "
       ]
      },
      {
       "output_type": "stream",
       "stream": "stdout",
       "text": [
        ". (-94653849.92) 80 "
       ]
      },
      {
       "output_type": "stream",
       "stream": "stdout",
       "text": [
        ". (-84978484.45) "
       ]
      },
      {
       "output_type": "stream",
       "stream": "stdout",
       "text": [
        ". (-83847729.95) "
       ]
      },
      {
       "output_type": "stream",
       "stream": "stdout",
       "text": [
        ". (-82507976.69) "
       ]
      },
      {
       "output_type": "stream",
       "stream": "stdout",
       "text": [
        ". (-80504092.29) "
       ]
      },
      {
       "output_type": "stream",
       "stream": "stdout",
       "text": [
        ". (-79668285.49) "
       ]
      },
      {
       "output_type": "stream",
       "stream": "stdout",
       "text": [
        "120 "
       ]
      },
      {
       "output_type": "stream",
       "stream": "stdout",
       "text": [
        ". (-77377382.68) "
       ]
      },
      {
       "output_type": "stream",
       "stream": "stdout",
       "text": [
        ". (-75971078.61) "
       ]
      },
      {
       "output_type": "stream",
       "stream": "stdout",
       "text": [
        ". (-71894839.45) "
       ]
      },
      {
       "output_type": "stream",
       "stream": "stdout",
       "text": [
        "160 "
       ]
      },
      {
       "output_type": "stream",
       "stream": "stdout",
       "text": [
        ". (-71865157.43) "
       ]
      },
      {
       "output_type": "stream",
       "stream": "stdout",
       "text": [
        "200 "
       ]
      },
      {
       "output_type": "stream",
       "stream": "stdout",
       "text": [
        ". (-69913306.50) "
       ]
      },
      {
       "output_type": "stream",
       "stream": "stdout",
       "text": [
        ". (-69372874.88) "
       ]
      },
      {
       "output_type": "stream",
       "stream": "stdout",
       "text": [
        ". (-69233462.86) "
       ]
      },
      {
       "output_type": "stream",
       "stream": "stdout",
       "text": [
        "240 "
       ]
      },
      {
       "output_type": "stream",
       "stream": "stdout",
       "text": [
        ". (-67313900.18) "
       ]
      },
      {
       "output_type": "stream",
       "stream": "stdout",
       "text": [
        ". (-61928577.21) "
       ]
      },
      {
       "output_type": "stream",
       "stream": "stdout",
       "text": [
        "280 "
       ]
      },
      {
       "output_type": "stream",
       "stream": "stdout",
       "text": [
        ". (-61643140.99) "
       ]
      },
      {
       "output_type": "stream",
       "stream": "stdout",
       "text": [
        ". (-61095255.69) "
       ]
      },
      {
       "output_type": "stream",
       "stream": "stdout",
       "text": [
        ". (-60019899.99) "
       ]
      },
      {
       "output_type": "stream",
       "stream": "stdout",
       "text": [
        ". (-59990223.25) "
       ]
      },
      {
       "output_type": "stream",
       "stream": "stdout",
       "text": [
        ". (-52932441.91) "
       ]
      },
      {
       "output_type": "stream",
       "stream": "stdout",
       "text": [
        ". (-44440771.11) "
       ]
      },
      {
       "output_type": "stream",
       "stream": "stdout",
       "text": [
        "320 "
       ]
      },
      {
       "output_type": "stream",
       "stream": "stdout",
       "text": [
        ". (-44400115.41) "
       ]
      },
      {
       "output_type": "stream",
       "stream": "stdout",
       "text": [
        ". (-43767044.88) "
       ]
      },
      {
       "output_type": "stream",
       "stream": "stdout",
       "text": [
        ". (-43613959.39) "
       ]
      },
      {
       "output_type": "stream",
       "stream": "stdout",
       "text": [
        "360 "
       ]
      },
      {
       "output_type": "stream",
       "stream": "stdout",
       "text": [
        ". (-42405033.55) "
       ]
      },
      {
       "output_type": "stream",
       "stream": "stdout",
       "text": [
        "400 "
       ]
      },
      {
       "output_type": "stream",
       "stream": "stdout",
       "text": [
        ". (-41016507.33) "
       ]
      },
      {
       "output_type": "stream",
       "stream": "stdout",
       "text": [
        ". (-38958590.33) "
       ]
      },
      {
       "output_type": "stream",
       "stream": "stdout",
       "text": [
        "440 "
       ]
      },
      {
       "output_type": "stream",
       "stream": "stdout",
       "text": [
        "480 "
       ]
      },
      {
       "output_type": "stream",
       "stream": "stdout",
       "text": [
        ". (-38828188.13) "
       ]
      },
      {
       "output_type": "stream",
       "stream": "stdout",
       "text": [
        ". (-38434013.20) "
       ]
      },
      {
       "output_type": "stream",
       "stream": "stdout",
       "text": [
        "520 "
       ]
      },
      {
       "output_type": "stream",
       "stream": "stdout",
       "text": [
        ". (-37341298.21) "
       ]
      },
      {
       "output_type": "stream",
       "stream": "stdout",
       "text": [
        ". (-36917020.64) "
       ]
      },
      {
       "output_type": "stream",
       "stream": "stdout",
       "text": [
        ". (-35217057.60) "
       ]
      },
      {
       "output_type": "stream",
       "stream": "stdout",
       "text": [
        "560 "
       ]
      },
      {
       "output_type": "stream",
       "stream": "stdout",
       "text": [
        ". (-24874139.53) "
       ]
      },
      {
       "output_type": "stream",
       "stream": "stdout",
       "text": [
        "600 "
       ]
      },
      {
       "output_type": "stream",
       "stream": "stdout",
       "text": [
        ". (-24190041.40) "
       ]
      },
      {
       "output_type": "stream",
       "stream": "stdout",
       "text": [
        "640 "
       ]
      },
      {
       "output_type": "stream",
       "stream": "stdout",
       "text": [
        ". (-24038580.68) "
       ]
      },
      {
       "output_type": "stream",
       "stream": "stdout",
       "text": [
        ". (-18768669.18) "
       ]
      },
      {
       "output_type": "stream",
       "stream": "stdout",
       "text": [
        ". (-18430276.11) "
       ]
      },
      {
       "output_type": "stream",
       "stream": "stdout",
       "text": [
        "680 "
       ]
      },
      {
       "output_type": "stream",
       "stream": "stdout",
       "text": [
        ". (-16714984.98) "
       ]
      },
      {
       "output_type": "stream",
       "stream": "stdout",
       "text": [
        "720 "
       ]
      },
      {
       "output_type": "stream",
       "stream": "stdout",
       "text": [
        "760 "
       ]
      },
      {
       "output_type": "stream",
       "stream": "stdout",
       "text": [
        "800 "
       ]
      },
      {
       "output_type": "stream",
       "stream": "stdout",
       "text": [
        "840 "
       ]
      },
      {
       "output_type": "stream",
       "stream": "stdout",
       "text": [
        "880 "
       ]
      },
      {
       "output_type": "stream",
       "stream": "stdout",
       "text": [
        "920 "
       ]
      },
      {
       "output_type": "stream",
       "stream": "stdout",
       "text": [
        "960 "
       ]
      },
      {
       "output_type": "stream",
       "stream": "stdout",
       "text": [
        "1000 "
       ]
      },
      {
       "output_type": "stream",
       "stream": "stdout",
       "text": [
        ". (-10655359.12) "
       ]
      },
      {
       "output_type": "stream",
       "stream": "stdout",
       "text": [
        "1040 "
       ]
      },
      {
       "output_type": "stream",
       "stream": "stdout",
       "text": [
        "1080 "
       ]
      },
      {
       "output_type": "stream",
       "stream": "stdout",
       "text": [
        "1120 "
       ]
      },
      {
       "output_type": "stream",
       "stream": "stdout",
       "text": [
        "1160 "
       ]
      },
      {
       "output_type": "stream",
       "stream": "stdout",
       "text": [
        "1200 "
       ]
      },
      {
       "output_type": "stream",
       "stream": "stdout",
       "text": [
        "1240 "
       ]
      },
      {
       "output_type": "stream",
       "stream": "stdout",
       "text": [
        "1280 "
       ]
      },
      {
       "output_type": "stream",
       "stream": "stdout",
       "text": [
        "1320 "
       ]
      },
      {
       "output_type": "stream",
       "stream": "stdout",
       "text": [
        "1360 "
       ]
      },
      {
       "output_type": "stream",
       "stream": "stdout",
       "text": [
        "1400 "
       ]
      },
      {
       "output_type": "stream",
       "stream": "stdout",
       "text": [
        "1440 "
       ]
      },
      {
       "output_type": "stream",
       "stream": "stdout",
       "text": [
        "1480 "
       ]
      },
      {
       "output_type": "stream",
       "stream": "stdout",
       "text": [
        ". (-3893378.68) "
       ]
      },
      {
       "output_type": "stream",
       "stream": "stdout",
       "text": [
        "1520 "
       ]
      },
      {
       "output_type": "stream",
       "stream": "stdout",
       "text": [
        "1560 "
       ]
      },
      {
       "output_type": "stream",
       "stream": "stdout",
       "text": [
        "1600 "
       ]
      },
      {
       "output_type": "stream",
       "stream": "stdout",
       "text": [
        "1640 "
       ]
      },
      {
       "output_type": "stream",
       "stream": "stdout",
       "text": [
        "1680 "
       ]
      },
      {
       "output_type": "stream",
       "stream": "stdout",
       "text": [
        "1720 "
       ]
      },
      {
       "output_type": "stream",
       "stream": "stdout",
       "text": [
        "1760 "
       ]
      },
      {
       "output_type": "stream",
       "stream": "stdout",
       "text": [
        "1800 "
       ]
      },
      {
       "output_type": "stream",
       "stream": "stdout",
       "text": [
        "1840 "
       ]
      },
      {
       "output_type": "stream",
       "stream": "stdout",
       "text": [
        "1880 "
       ]
      },
      {
       "output_type": "stream",
       "stream": "stdout",
       "text": [
        "1920 "
       ]
      },
      {
       "output_type": "stream",
       "stream": "stdout",
       "text": [
        "1960 "
       ]
      },
      {
       "output_type": "stream",
       "stream": "stdout",
       "text": [
        "2000 "
       ]
      },
      {
       "output_type": "stream",
       "stream": "stdout",
       "text": [
        "2040 "
       ]
      },
      {
       "output_type": "stream",
       "stream": "stdout",
       "text": [
        "2080 "
       ]
      },
      {
       "output_type": "stream",
       "stream": "stdout",
       "text": [
        "2120 "
       ]
      },
      {
       "output_type": "stream",
       "stream": "stdout",
       "text": [
        "2160 "
       ]
      },
      {
       "output_type": "stream",
       "stream": "stdout",
       "text": [
        "2200 "
       ]
      },
      {
       "output_type": "stream",
       "stream": "stdout",
       "text": [
        "2240 "
       ]
      },
      {
       "output_type": "stream",
       "stream": "stdout",
       "text": [
        "2280 "
       ]
      },
      {
       "output_type": "stream",
       "stream": "stdout",
       "text": [
        "2320 "
       ]
      },
      {
       "output_type": "stream",
       "stream": "stdout",
       "text": [
        "2360 "
       ]
      },
      {
       "output_type": "stream",
       "stream": "stdout",
       "text": [
        "2400 "
       ]
      },
      {
       "output_type": "stream",
       "stream": "stdout",
       "text": [
        "2440 "
       ]
      },
      {
       "output_type": "stream",
       "stream": "stdout",
       "text": [
        "2480 "
       ]
      },
      {
       "output_type": "stream",
       "stream": "stdout",
       "text": [
        "2520 "
       ]
      },
      {
       "output_type": "stream",
       "stream": "stdout",
       "text": [
        "2560 "
       ]
      },
      {
       "output_type": "stream",
       "stream": "stdout",
       "text": [
        "2600 "
       ]
      },
      {
       "output_type": "stream",
       "stream": "stdout",
       "text": [
        "2640 "
       ]
      },
      {
       "output_type": "stream",
       "stream": "stdout",
       "text": [
        "2680 "
       ]
      },
      {
       "output_type": "stream",
       "stream": "stdout",
       "text": [
        "2720 "
       ]
      },
      {
       "output_type": "stream",
       "stream": "stdout",
       "text": [
        "2760 "
       ]
      },
      {
       "output_type": "stream",
       "stream": "stdout",
       "text": [
        "2800 "
       ]
      },
      {
       "output_type": "stream",
       "stream": "stdout",
       "text": [
        "2840 "
       ]
      },
      {
       "output_type": "stream",
       "stream": "stdout",
       "text": [
        "2880 "
       ]
      },
      {
       "output_type": "stream",
       "stream": "stdout",
       "text": [
        "2920 "
       ]
      },
      {
       "output_type": "stream",
       "stream": "stdout",
       "text": [
        "2960 "
       ]
      },
      {
       "output_type": "stream",
       "stream": "stdout",
       "text": [
        "3000 "
       ]
      },
      {
       "output_type": "stream",
       "stream": "stdout",
       "text": [
        "3040 "
       ]
      },
      {
       "output_type": "stream",
       "stream": "stdout",
       "text": [
        "3080 "
       ]
      },
      {
       "output_type": "stream",
       "stream": "stdout",
       "text": [
        "3120 "
       ]
      },
      {
       "output_type": "stream",
       "stream": "stdout",
       "text": [
        "3160 "
       ]
      },
      {
       "output_type": "stream",
       "stream": "stdout",
       "text": [
        "3200 "
       ]
      },
      {
       "output_type": "stream",
       "stream": "stdout",
       "text": [
        "3240 "
       ]
      },
      {
       "output_type": "stream",
       "stream": "stdout",
       "text": [
        "3280 "
       ]
      },
      {
       "output_type": "stream",
       "stream": "stdout",
       "text": [
        "3320 "
       ]
      },
      {
       "output_type": "stream",
       "stream": "stdout",
       "text": [
        "3360 "
       ]
      },
      {
       "output_type": "stream",
       "stream": "stdout",
       "text": [
        "3400 "
       ]
      },
      {
       "output_type": "stream",
       "stream": "stdout",
       "text": [
        "3440 "
       ]
      },
      {
       "output_type": "stream",
       "stream": "stdout",
       "text": [
        "3480 "
       ]
      },
      {
       "output_type": "stream",
       "stream": "stdout",
       "text": [
        "3520 "
       ]
      },
      {
       "output_type": "stream",
       "stream": "stdout",
       "text": [
        "3560 "
       ]
      },
      {
       "output_type": "stream",
       "stream": "stdout",
       "text": [
        "3600 "
       ]
      },
      {
       "output_type": "stream",
       "stream": "stdout",
       "text": [
        "3640 "
       ]
      },
      {
       "output_type": "stream",
       "stream": "stdout",
       "text": [
        "3680 "
       ]
      },
      {
       "output_type": "stream",
       "stream": "stdout",
       "text": [
        "3720 "
       ]
      },
      {
       "output_type": "stream",
       "stream": "stdout",
       "text": [
        "3760 "
       ]
      },
      {
       "output_type": "stream",
       "stream": "stdout",
       "text": [
        "3800 "
       ]
      },
      {
       "output_type": "stream",
       "stream": "stdout",
       "text": [
        "3840 "
       ]
      },
      {
       "output_type": "stream",
       "stream": "stdout",
       "text": [
        "3880 "
       ]
      },
      {
       "output_type": "stream",
       "stream": "stdout",
       "text": [
        "3920 "
       ]
      },
      {
       "output_type": "stream",
       "stream": "stdout",
       "text": [
        "3960 "
       ]
      },
      {
       "output_type": "stream",
       "stream": "stdout",
       "text": [
        "Initial guess is [ 0  1  2  3  4  5  6  7  8  9 10 11 12 13 14 15 16 17 18 19 20 21 22 23 24 25]\n",
        "Start with"
       ]
      },
      {
       "output_type": "stream",
       "stream": "stdout",
       "text": [
        " [ 0  1  2  3  4  5  6  7  8  9 10 11 12 13 14 15 16 17 18 19 20 21 22 23 24 25]\n",
        "0"
       ]
      },
      {
       "output_type": "stream",
       "stream": "stdout",
       "text": [
        " . (-208236098.63) "
       ]
      },
      {
       "output_type": "stream",
       "stream": "stdout",
       "text": [
        ". (-207580055.45) "
       ]
      },
      {
       "output_type": "stream",
       "stream": "stdout",
       "text": [
        ". (-206141635.68) "
       ]
      },
      {
       "output_type": "stream",
       "stream": "stdout",
       "text": [
        ". (-205196093.41) "
       ]
      },
      {
       "output_type": "stream",
       "stream": "stdout",
       "text": [
        ". (-204043699.40) "
       ]
      },
      {
       "output_type": "stream",
       "stream": "stdout",
       "text": [
        ". (-202251806.95) "
       ]
      },
      {
       "output_type": "stream",
       "stream": "stdout",
       "text": [
        ". (-198582121.52) "
       ]
      },
      {
       "output_type": "stream",
       "stream": "stdout",
       "text": [
        ". (-166323474.39) "
       ]
      },
      {
       "output_type": "stream",
       "stream": "stdout",
       "text": [
        ". (-160876186.55) "
       ]
      },
      {
       "output_type": "stream",
       "stream": "stdout",
       "text": [
        ". (-154409510.01) "
       ]
      },
      {
       "output_type": "stream",
       "stream": "stdout",
       "text": [
        ". (-143948396.79) "
       ]
      },
      {
       "output_type": "stream",
       "stream": "stdout",
       "text": [
        ". (-140968812.64) "
       ]
      },
      {
       "output_type": "stream",
       "stream": "stdout",
       "text": [
        ". (-137165515.86) "
       ]
      },
      {
       "output_type": "stream",
       "stream": "stdout",
       "text": [
        ". (-136214566.64) "
       ]
      },
      {
       "output_type": "stream",
       "stream": "stdout",
       "text": [
        ". (-135630457.25) "
       ]
      },
      {
       "output_type": "stream",
       "stream": "stdout",
       "text": [
        "40 "
       ]
      },
      {
       "output_type": "stream",
       "stream": "stdout",
       "text": [
        ". (-132328601.80) "
       ]
      },
      {
       "output_type": "stream",
       "stream": "stdout",
       "text": [
        ". (-129302688.98) "
       ]
      },
      {
       "output_type": "stream",
       "stream": "stdout",
       "text": [
        ". (-128818873.60) "
       ]
      },
      {
       "output_type": "stream",
       "stream": "stdout",
       "text": [
        ". (-127428642.46) "
       ]
      },
      {
       "output_type": "stream",
       "stream": "stdout",
       "text": [
        ". (-106394333.12) "
       ]
      },
      {
       "output_type": "stream",
       "stream": "stdout",
       "text": [
        ". (-104698783.30) "
       ]
      },
      {
       "output_type": "stream",
       "stream": "stdout",
       "text": [
        ". (-101784753.00) "
       ]
      },
      {
       "output_type": "stream",
       "stream": "stdout",
       "text": [
        ". (-97337040.03) "
       ]
      },
      {
       "output_type": "stream",
       "stream": "stdout",
       "text": [
        ". (-97241366.72) 80 "
       ]
      },
      {
       "output_type": "stream",
       "stream": "stdout",
       "text": [
        ". (-95694496.48) "
       ]
      },
      {
       "output_type": "stream",
       "stream": "stdout",
       "text": [
        ". (-92157157.09) "
       ]
      },
      {
       "output_type": "stream",
       "stream": "stdout",
       "text": [
        "120 "
       ]
      },
      {
       "output_type": "stream",
       "stream": "stdout",
       "text": [
        "160 "
       ]
      },
      {
       "output_type": "stream",
       "stream": "stdout",
       "text": [
        ". (-89485743.83) "
       ]
      },
      {
       "output_type": "stream",
       "stream": "stdout",
       "text": [
        ". (-88881590.13) "
       ]
      },
      {
       "output_type": "stream",
       "stream": "stdout",
       "text": [
        ". (-87757850.64) "
       ]
      },
      {
       "output_type": "stream",
       "stream": "stdout",
       "text": [
        ". (-87104737.13) "
       ]
      },
      {
       "output_type": "stream",
       "stream": "stdout",
       "text": [
        ". (-86934167.45) "
       ]
      },
      {
       "output_type": "stream",
       "stream": "stdout",
       "text": [
        ". (-86798621.06) "
       ]
      },
      {
       "output_type": "stream",
       "stream": "stdout",
       "text": [
        ". (-86709350.47) "
       ]
      },
      {
       "output_type": "stream",
       "stream": "stdout",
       "text": [
        ". (-84555164.37) "
       ]
      },
      {
       "output_type": "stream",
       "stream": "stdout",
       "text": [
        "200 "
       ]
      },
      {
       "output_type": "stream",
       "stream": "stdout",
       "text": [
        ". (-81516578.57) "
       ]
      },
      {
       "output_type": "stream",
       "stream": "stdout",
       "text": [
        ". (-81457129.78) "
       ]
      },
      {
       "output_type": "stream",
       "stream": "stdout",
       "text": [
        ". (-59427172.95) "
       ]
      },
      {
       "output_type": "stream",
       "stream": "stdout",
       "text": [
        ". (-59260087.22) "
       ]
      },
      {
       "output_type": "stream",
       "stream": "stdout",
       "text": [
        "240 "
       ]
      },
      {
       "output_type": "stream",
       "stream": "stdout",
       "text": [
        ". (-58924289.46) "
       ]
      },
      {
       "output_type": "stream",
       "stream": "stdout",
       "text": [
        ". (-57623924.21) "
       ]
      },
      {
       "output_type": "stream",
       "stream": "stdout",
       "text": [
        ". (-57383060.39) "
       ]
      },
      {
       "output_type": "stream",
       "stream": "stdout",
       "text": [
        ". (-55271260.13) "
       ]
      },
      {
       "output_type": "stream",
       "stream": "stdout",
       "text": [
        ". (-53659349.27) "
       ]
      },
      {
       "output_type": "stream",
       "stream": "stdout",
       "text": [
        ". (-51641026.62) "
       ]
      },
      {
       "output_type": "stream",
       "stream": "stdout",
       "text": [
        "280 "
       ]
      },
      {
       "output_type": "stream",
       "stream": "stdout",
       "text": [
        ". (-49127963.44) "
       ]
      },
      {
       "output_type": "stream",
       "stream": "stdout",
       "text": [
        ". (-48674911.04) "
       ]
      },
      {
       "output_type": "stream",
       "stream": "stdout",
       "text": [
        ". (-45250709.67) "
       ]
      },
      {
       "output_type": "stream",
       "stream": "stdout",
       "text": [
        ". (-44470524.67) "
       ]
      },
      {
       "output_type": "stream",
       "stream": "stdout",
       "text": [
        "320 "
       ]
      },
      {
       "output_type": "stream",
       "stream": "stdout",
       "text": [
        ". (-42948159.06) "
       ]
      },
      {
       "output_type": "stream",
       "stream": "stdout",
       "text": [
        ". (-40072112.02) "
       ]
      },
      {
       "output_type": "stream",
       "stream": "stdout",
       "text": [
        ". (-37283112.55) "
       ]
      },
      {
       "output_type": "stream",
       "stream": "stdout",
       "text": [
        "360 "
       ]
      },
      {
       "output_type": "stream",
       "stream": "stdout",
       "text": [
        "400 "
       ]
      },
      {
       "output_type": "stream",
       "stream": "stdout",
       "text": [
        ". (-35540658.04) "
       ]
      },
      {
       "output_type": "stream",
       "stream": "stdout",
       "text": [
        ". (-34677020.40) "
       ]
      },
      {
       "output_type": "stream",
       "stream": "stdout",
       "text": [
        "440 "
       ]
      },
      {
       "output_type": "stream",
       "stream": "stdout",
       "text": [
        ". (-32615523.96) "
       ]
      },
      {
       "output_type": "stream",
       "stream": "stdout",
       "text": [
        "480 "
       ]
      },
      {
       "output_type": "stream",
       "stream": "stdout",
       "text": [
        ". (-32508092.78) "
       ]
      },
      {
       "output_type": "stream",
       "stream": "stdout",
       "text": [
        ". (-31140767.46) "
       ]
      },
      {
       "output_type": "stream",
       "stream": "stdout",
       "text": [
        "520 "
       ]
      },
      {
       "output_type": "stream",
       "stream": "stdout",
       "text": [
        ". (-29792592.40) "
       ]
      },
      {
       "output_type": "stream",
       "stream": "stdout",
       "text": [
        ". (-29047254.72) "
       ]
      },
      {
       "output_type": "stream",
       "stream": "stdout",
       "text": [
        "560 "
       ]
      },
      {
       "output_type": "stream",
       "stream": "stdout",
       "text": [
        ". (-28790728.12) "
       ]
      },
      {
       "output_type": "stream",
       "stream": "stdout",
       "text": [
        "600 "
       ]
      },
      {
       "output_type": "stream",
       "stream": "stdout",
       "text": [
        "640 "
       ]
      },
      {
       "output_type": "stream",
       "stream": "stdout",
       "text": [
        ". (-28784268.41) "
       ]
      },
      {
       "output_type": "stream",
       "stream": "stdout",
       "text": [
        "680 "
       ]
      },
      {
       "output_type": "stream",
       "stream": "stdout",
       "text": [
        ". (-28581642.32) "
       ]
      },
      {
       "output_type": "stream",
       "stream": "stdout",
       "text": [
        "720 "
       ]
      },
      {
       "output_type": "stream",
       "stream": "stdout",
       "text": [
        ". (-20552838.09) "
       ]
      },
      {
       "output_type": "stream",
       "stream": "stdout",
       "text": [
        "760 "
       ]
      },
      {
       "output_type": "stream",
       "stream": "stdout",
       "text": [
        "800 "
       ]
      },
      {
       "output_type": "stream",
       "stream": "stdout",
       "text": [
        "840 "
       ]
      },
      {
       "output_type": "stream",
       "stream": "stdout",
       "text": [
        ". (-20410466.86) "
       ]
      },
      {
       "output_type": "stream",
       "stream": "stdout",
       "text": [
        "880 "
       ]
      },
      {
       "output_type": "stream",
       "stream": "stdout",
       "text": [
        "920 "
       ]
      },
      {
       "output_type": "stream",
       "stream": "stdout",
       "text": [
        "960 "
       ]
      },
      {
       "output_type": "stream",
       "stream": "stdout",
       "text": [
        "1000 "
       ]
      },
      {
       "output_type": "stream",
       "stream": "stdout",
       "text": [
        ". (-18692373.92) "
       ]
      },
      {
       "output_type": "stream",
       "stream": "stdout",
       "text": [
        ". (-15603286.87) "
       ]
      },
      {
       "output_type": "stream",
       "stream": "stdout",
       "text": [
        "1040 "
       ]
      },
      {
       "output_type": "stream",
       "stream": "stdout",
       "text": [
        ". (-15139269.67) "
       ]
      },
      {
       "output_type": "stream",
       "stream": "stdout",
       "text": [
        ". (-15028011.03) "
       ]
      },
      {
       "output_type": "stream",
       "stream": "stdout",
       "text": [
        "1080 "
       ]
      },
      {
       "output_type": "stream",
       "stream": "stdout",
       "text": [
        ". (-14478836.51) "
       ]
      },
      {
       "output_type": "stream",
       "stream": "stdout",
       "text": [
        "1120 "
       ]
      },
      {
       "output_type": "stream",
       "stream": "stdout",
       "text": [
        "1160 "
       ]
      },
      {
       "output_type": "stream",
       "stream": "stdout",
       "text": [
        "1200 "
       ]
      },
      {
       "output_type": "stream",
       "stream": "stdout",
       "text": [
        "1240 "
       ]
      },
      {
       "output_type": "stream",
       "stream": "stdout",
       "text": [
        "1280 "
       ]
      },
      {
       "output_type": "stream",
       "stream": "stdout",
       "text": [
        "1320 "
       ]
      },
      {
       "output_type": "stream",
       "stream": "stdout",
       "text": [
        "1360 "
       ]
      },
      {
       "output_type": "stream",
       "stream": "stdout",
       "text": [
        ". (-11616236.23) "
       ]
      },
      {
       "output_type": "stream",
       "stream": "stdout",
       "text": [
        "1400 "
       ]
      },
      {
       "output_type": "stream",
       "stream": "stdout",
       "text": [
        "1440 "
       ]
      },
      {
       "output_type": "stream",
       "stream": "stdout",
       "text": [
        ". (-9375689.96) "
       ]
      },
      {
       "output_type": "stream",
       "stream": "stdout",
       "text": [
        "1480 "
       ]
      },
      {
       "output_type": "stream",
       "stream": "stdout",
       "text": [
        "1520 "
       ]
      },
      {
       "output_type": "stream",
       "stream": "stdout",
       "text": [
        "1560 "
       ]
      },
      {
       "output_type": "stream",
       "stream": "stdout",
       "text": [
        ". (-9053255.68) "
       ]
      },
      {
       "output_type": "stream",
       "stream": "stdout",
       "text": [
        "1600 "
       ]
      },
      {
       "output_type": "stream",
       "stream": "stdout",
       "text": [
        "1640 "
       ]
      },
      {
       "output_type": "stream",
       "stream": "stdout",
       "text": [
        "1680 "
       ]
      },
      {
       "output_type": "stream",
       "stream": "stdout",
       "text": [
        "1720 "
       ]
      },
      {
       "output_type": "stream",
       "stream": "stdout",
       "text": [
        "1760 "
       ]
      },
      {
       "output_type": "stream",
       "stream": "stdout",
       "text": [
        ". (-8705981.22) "
       ]
      },
      {
       "output_type": "stream",
       "stream": "stdout",
       "text": [
        ". (-3893378.68) 1800 "
       ]
      },
      {
       "output_type": "stream",
       "stream": "stdout",
       "text": [
        "1840 "
       ]
      },
      {
       "output_type": "stream",
       "stream": "stdout",
       "text": [
        "1880 "
       ]
      },
      {
       "output_type": "stream",
       "stream": "stdout",
       "text": [
        "1920 "
       ]
      },
      {
       "output_type": "stream",
       "stream": "stdout",
       "text": [
        "1960 "
       ]
      },
      {
       "output_type": "stream",
       "stream": "stdout",
       "text": [
        "2000 "
       ]
      },
      {
       "output_type": "stream",
       "stream": "stdout",
       "text": [
        "2040 "
       ]
      },
      {
       "output_type": "stream",
       "stream": "stdout",
       "text": [
        "2080 "
       ]
      },
      {
       "output_type": "stream",
       "stream": "stdout",
       "text": [
        "2120 "
       ]
      },
      {
       "output_type": "stream",
       "stream": "stdout",
       "text": [
        "2160 "
       ]
      },
      {
       "output_type": "stream",
       "stream": "stdout",
       "text": [
        "2200 "
       ]
      },
      {
       "output_type": "stream",
       "stream": "stdout",
       "text": [
        "2240 "
       ]
      },
      {
       "output_type": "stream",
       "stream": "stdout",
       "text": [
        "2280 "
       ]
      },
      {
       "output_type": "stream",
       "stream": "stdout",
       "text": [
        "2320 "
       ]
      },
      {
       "output_type": "stream",
       "stream": "stdout",
       "text": [
        "2360 "
       ]
      },
      {
       "output_type": "stream",
       "stream": "stdout",
       "text": [
        "2400 "
       ]
      },
      {
       "output_type": "stream",
       "stream": "stdout",
       "text": [
        "2440 "
       ]
      },
      {
       "output_type": "stream",
       "stream": "stdout",
       "text": [
        "2480 "
       ]
      },
      {
       "output_type": "stream",
       "stream": "stdout",
       "text": [
        "2520 "
       ]
      },
      {
       "output_type": "stream",
       "stream": "stdout",
       "text": [
        "2560 "
       ]
      },
      {
       "output_type": "stream",
       "stream": "stdout",
       "text": [
        "2600 "
       ]
      },
      {
       "output_type": "stream",
       "stream": "stdout",
       "text": [
        "2640 "
       ]
      },
      {
       "output_type": "stream",
       "stream": "stdout",
       "text": [
        "2680 "
       ]
      },
      {
       "output_type": "stream",
       "stream": "stdout",
       "text": [
        "2720 "
       ]
      },
      {
       "output_type": "stream",
       "stream": "stdout",
       "text": [
        "2760 "
       ]
      },
      {
       "output_type": "stream",
       "stream": "stdout",
       "text": [
        "2800 "
       ]
      },
      {
       "output_type": "stream",
       "stream": "stdout",
       "text": [
        "2840 "
       ]
      },
      {
       "output_type": "stream",
       "stream": "stdout",
       "text": [
        "2880 "
       ]
      },
      {
       "output_type": "stream",
       "stream": "stdout",
       "text": [
        "2920 "
       ]
      },
      {
       "output_type": "stream",
       "stream": "stdout",
       "text": [
        "2960 "
       ]
      },
      {
       "output_type": "stream",
       "stream": "stdout",
       "text": [
        "3000 "
       ]
      },
      {
       "output_type": "stream",
       "stream": "stdout",
       "text": [
        "3040 "
       ]
      },
      {
       "output_type": "stream",
       "stream": "stdout",
       "text": [
        "3080 "
       ]
      },
      {
       "output_type": "stream",
       "stream": "stdout",
       "text": [
        "3120 "
       ]
      },
      {
       "output_type": "stream",
       "stream": "stdout",
       "text": [
        "3160 "
       ]
      },
      {
       "output_type": "stream",
       "stream": "stdout",
       "text": [
        "3200 "
       ]
      },
      {
       "output_type": "stream",
       "stream": "stdout",
       "text": [
        "3240 "
       ]
      },
      {
       "output_type": "stream",
       "stream": "stdout",
       "text": [
        "3280 "
       ]
      },
      {
       "output_type": "stream",
       "stream": "stdout",
       "text": [
        "3320 "
       ]
      },
      {
       "output_type": "stream",
       "stream": "stdout",
       "text": [
        "3360 "
       ]
      },
      {
       "output_type": "stream",
       "stream": "stdout",
       "text": [
        "3400 "
       ]
      },
      {
       "output_type": "stream",
       "stream": "stdout",
       "text": [
        "3440 "
       ]
      },
      {
       "output_type": "stream",
       "stream": "stdout",
       "text": [
        "3480 "
       ]
      },
      {
       "output_type": "stream",
       "stream": "stdout",
       "text": [
        "3520 "
       ]
      },
      {
       "output_type": "stream",
       "stream": "stdout",
       "text": [
        "3560 "
       ]
      },
      {
       "output_type": "stream",
       "stream": "stdout",
       "text": [
        "3600 "
       ]
      },
      {
       "output_type": "stream",
       "stream": "stdout",
       "text": [
        "3640 "
       ]
      },
      {
       "output_type": "stream",
       "stream": "stdout",
       "text": [
        "3680 "
       ]
      },
      {
       "output_type": "stream",
       "stream": "stdout",
       "text": [
        "3720 "
       ]
      },
      {
       "output_type": "stream",
       "stream": "stdout",
       "text": [
        "3760 "
       ]
      },
      {
       "output_type": "stream",
       "stream": "stdout",
       "text": [
        "3800 "
       ]
      },
      {
       "output_type": "stream",
       "stream": "stdout",
       "text": [
        "3840 "
       ]
      },
      {
       "output_type": "stream",
       "stream": "stdout",
       "text": [
        "3880 "
       ]
      },
      {
       "output_type": "stream",
       "stream": "stdout",
       "text": [
        "3920 "
       ]
      },
      {
       "output_type": "stream",
       "stream": "stdout",
       "text": [
        "3960"
       ]
      },
      {
       "metadata": {},
       "output_type": "display_data",
       "png": "[encoded data removed]",
       "text": [
        "<matplotlib.figure.Figure at 0x7fad519d0dd0>"
       ]
      },
      {
       "metadata": {},
       "output_type": "display_data",
       "png": "[encoded data removed]",
       "text": [
        "<matplotlib.figure.Figure at 0x7fad51853d50>"
       ]
      },
      {
       "metadata": {},
       "output_type": "display_data",
       "png": "[encoded data removed]",
       "text": [
        "<matplotlib.figure.Figure at 0x7fad518ea410>"
       ]
      },
      {
       "metadata": {},
       "output_type": "display_data",
       "png": "[encoded data removed]",
       "text": [
        "<matplotlib.figure.Figure at 0x7fad51974a10>"
       ]
      },
      {
       "output_type": "stream",
       "stream": "stdout",
       "text": [
        " P\\G =  2 4\n",
        "Initial guess is"
       ]
      },
      {
       "output_type": "stream",
       "stream": "stdout",
       "text": [
        " [ 0  1  2  3  4  5  6  7  8  9 10 11 12 13 14 15 16 17 18 19 20 21 22 23 24 25]\n",
        "Start with"
       ]
      },
      {
       "output_type": "stream",
       "stream": "stdout",
       "text": [
        " [ 0  1  2  3  4  5  6  7  8  9 10 11 12 13 14 15 16 17 18 19 20 21 22 23 24 25]\n",
        "."
       ]
      },
      {
       "output_type": "stream",
       "stream": "stdout",
       "text": [
        " (-172740396.90) 0 "
       ]
      },
      {
       "output_type": "stream",
       "stream": "stdout",
       "text": [
        ". (-172478185.90) "
       ]
      },
      {
       "output_type": "stream",
       "stream": "stdout",
       "text": [
        ". (-171675411.73) "
       ]
      },
      {
       "output_type": "stream",
       "stream": "stdout",
       "text": [
        ". (-171301239.12) "
       ]
      },
      {
       "output_type": "stream",
       "stream": "stdout",
       "text": [
        ". (-167603677.95) "
       ]
      },
      {
       "output_type": "stream",
       "stream": "stdout",
       "text": [
        ". (-167137954.47) "
       ]
      },
      {
       "output_type": "stream",
       "stream": "stdout",
       "text": [
        ". (-166975671.39) "
       ]
      },
      {
       "output_type": "stream",
       "stream": "stdout",
       "text": [
        ". (-166450770.27) "
       ]
      },
      {
       "output_type": "stream",
       "stream": "stdout",
       "text": [
        ". (-166047746.25) "
       ]
      },
      {
       "output_type": "stream",
       "stream": "stdout",
       "text": [
        ". (-165970999.38) "
       ]
      },
      {
       "output_type": "stream",
       "stream": "stdout",
       "text": [
        ". (-165750177.77) "
       ]
      },
      {
       "output_type": "stream",
       "stream": "stdout",
       "text": [
        ". (-164219205.98) "
       ]
      },
      {
       "output_type": "stream",
       "stream": "stdout",
       "text": [
        ". (-163833001.24) "
       ]
      },
      {
       "output_type": "stream",
       "stream": "stdout",
       "text": [
        ". (-161789699.09) "
       ]
      },
      {
       "output_type": "stream",
       "stream": "stdout",
       "text": [
        ". (-161598766.88) "
       ]
      },
      {
       "output_type": "stream",
       "stream": "stdout",
       "text": [
        ". (-159567358.70) "
       ]
      },
      {
       "output_type": "stream",
       "stream": "stdout",
       "text": [
        ". (-158894218.20) "
       ]
      },
      {
       "output_type": "stream",
       "stream": "stdout",
       "text": [
        ". (-158890827.38) "
       ]
      },
      {
       "output_type": "stream",
       "stream": "stdout",
       "text": [
        "40 "
       ]
      },
      {
       "output_type": "stream",
       "stream": "stdout",
       "text": [
        ". (-153541159.97) "
       ]
      },
      {
       "output_type": "stream",
       "stream": "stdout",
       "text": [
        ". (-152827256.16) "
       ]
      },
      {
       "output_type": "stream",
       "stream": "stdout",
       "text": [
        ". (-152505584.81) "
       ]
      },
      {
       "output_type": "stream",
       "stream": "stdout",
       "text": [
        ". (-152346133.19) "
       ]
      },
      {
       "output_type": "stream",
       "stream": "stdout",
       "text": [
        ". (-148171435.70) "
       ]
      },
      {
       "output_type": "stream",
       "stream": "stdout",
       "text": [
        ". (-147906132.72) "
       ]
      },
      {
       "output_type": "stream",
       "stream": "stdout",
       "text": [
        ". (-147381075.84) "
       ]
      },
      {
       "output_type": "stream",
       "stream": "stdout",
       "text": [
        ". (-139287294.29) "
       ]
      },
      {
       "output_type": "stream",
       "stream": "stdout",
       "text": [
        ". (-136627846.61) "
       ]
      },
      {
       "output_type": "stream",
       "stream": "stdout",
       "text": [
        "80 "
       ]
      },
      {
       "output_type": "stream",
       "stream": "stdout",
       "text": [
        ". (-135740264.89) "
       ]
      },
      {
       "output_type": "stream",
       "stream": "stdout",
       "text": [
        ". (-134564664.89) "
       ]
      },
      {
       "output_type": "stream",
       "stream": "stdout",
       "text": [
        ". (-134484520.48) "
       ]
      },
      {
       "output_type": "stream",
       "stream": "stdout",
       "text": [
        ". (-134019627.88) "
       ]
      },
      {
       "output_type": "stream",
       "stream": "stdout",
       "text": [
        ". (-133642411.44) "
       ]
      },
      {
       "output_type": "stream",
       "stream": "stdout",
       "text": [
        ". (-133615968.94) "
       ]
      },
      {
       "output_type": "stream",
       "stream": "stdout",
       "text": [
        ". (-131644572.84) "
       ]
      },
      {
       "output_type": "stream",
       "stream": "stdout",
       "text": [
        ". (-131552838.48) "
       ]
      },
      {
       "output_type": "stream",
       "stream": "stdout",
       "text": [
        "120 "
       ]
      },
      {
       "output_type": "stream",
       "stream": "stdout",
       "text": [
        ". (-131066243.00) "
       ]
      },
      {
       "output_type": "stream",
       "stream": "stdout",
       "text": [
        ". (-129974848.05) "
       ]
      },
      {
       "output_type": "stream",
       "stream": "stdout",
       "text": [
        ". (-129940864.83) "
       ]
      },
      {
       "output_type": "stream",
       "stream": "stdout",
       "text": [
        ". (-129892170.03) "
       ]
      },
      {
       "output_type": "stream",
       "stream": "stdout",
       "text": [
        ". (-129660109.32) "
       ]
      },
      {
       "output_type": "stream",
       "stream": "stdout",
       "text": [
        ". (-128555692.75) 160 "
       ]
      },
      {
       "output_type": "stream",
       "stream": "stdout",
       "text": [
        ". (-123682109.81) "
       ]
      },
      {
       "output_type": "stream",
       "stream": "stdout",
       "text": [
        ". (-121187889.27) "
       ]
      },
      {
       "output_type": "stream",
       "stream": "stdout",
       "text": [
        ". (-119506074.55) "
       ]
      },
      {
       "output_type": "stream",
       "stream": "stdout",
       "text": [
        ". (-117827954.19) "
       ]
      },
      {
       "output_type": "stream",
       "stream": "stdout",
       "text": [
        "200 "
       ]
      },
      {
       "output_type": "stream",
       "stream": "stdout",
       "text": [
        ". (-117761354.52) "
       ]
      },
      {
       "output_type": "stream",
       "stream": "stdout",
       "text": [
        ". (-113308645.85) "
       ]
      },
      {
       "output_type": "stream",
       "stream": "stdout",
       "text": [
        "240 "
       ]
      },
      {
       "output_type": "stream",
       "stream": "stdout",
       "text": [
        ". (-113299869.17) "
       ]
      },
      {
       "output_type": "stream",
       "stream": "stdout",
       "text": [
        ". (-112699459.49) "
       ]
      },
      {
       "output_type": "stream",
       "stream": "stdout",
       "text": [
        "280 "
       ]
      },
      {
       "output_type": "stream",
       "stream": "stdout",
       "text": [
        ". (-112372429.39) "
       ]
      },
      {
       "output_type": "stream",
       "stream": "stdout",
       "text": [
        "320 "
       ]
      },
      {
       "output_type": "stream",
       "stream": "stdout",
       "text": [
        ". (-93079043.27) "
       ]
      },
      {
       "output_type": "stream",
       "stream": "stdout",
       "text": [
        "360 "
       ]
      },
      {
       "output_type": "stream",
       "stream": "stdout",
       "text": [
        ". (-92973056.86) "
       ]
      },
      {
       "output_type": "stream",
       "stream": "stdout",
       "text": [
        ". (-87125133.19) "
       ]
      },
      {
       "output_type": "stream",
       "stream": "stdout",
       "text": [
        ". (-84893516.88) "
       ]
      },
      {
       "output_type": "stream",
       "stream": "stdout",
       "text": [
        ". (-84767883.71) "
       ]
      },
      {
       "output_type": "stream",
       "stream": "stdout",
       "text": [
        "400 "
       ]
      },
      {
       "output_type": "stream",
       "stream": "stdout",
       "text": [
        "440 "
       ]
      },
      {
       "output_type": "stream",
       "stream": "stdout",
       "text": [
        ". (-84120233.97) "
       ]
      },
      {
       "output_type": "stream",
       "stream": "stdout",
       "text": [
        "480 "
       ]
      },
      {
       "output_type": "stream",
       "stream": "stdout",
       "text": [
        ". (-82044001.35) "
       ]
      },
      {
       "output_type": "stream",
       "stream": "stdout",
       "text": [
        "520 "
       ]
      },
      {
       "output_type": "stream",
       "stream": "stdout",
       "text": [
        "560 "
       ]
      },
      {
       "output_type": "stream",
       "stream": "stdout",
       "text": [
        "600"
       ]
      },
      {
       "ename": "KeyboardInterrupt",
       "evalue": "",
       "output_type": "pyerr",
       "traceback": [
        "\u001b[1;31m---------------------------------------------------------------------------\u001b[0m\n\u001b[1;31mKeyboardInterrupt\u001b[0m                         Traceback (most recent call last)",
        "\u001b[1;32m<ipython-input-260-719ba1bcd754>\u001b[0m in \u001b[0;36m<module>\u001b[1;34m()\u001b[0m\n\u001b[0;32m     10\u001b[0m         \u001b[0mallhistbg\u001b[0m \u001b[1;33m=\u001b[0m \u001b[1;33m[\u001b[0m\u001b[1;33m]\u001b[0m\u001b[1;33m\u001b[0m\u001b[0m\n\u001b[0;32m     11\u001b[0m         \u001b[1;32mfor\u001b[0m \u001b[0m_\u001b[0m \u001b[1;32min\u001b[0m \u001b[0mrange\u001b[0m\u001b[1;33m(\u001b[0m\u001b[1;36m5\u001b[0m\u001b[1;33m)\u001b[0m\u001b[1;33m:\u001b[0m\u001b[1;33m\u001b[0m\u001b[0m\n\u001b[1;32m---> 12\u001b[1;33m             \u001b[0mbgmodel\u001b[0m\u001b[1;33m.\u001b[0m\u001b[0mfit\u001b[0m\u001b[1;33m(\u001b[0m\u001b[0mgen_n\u001b[0m \u001b[1;33m=\u001b[0m \u001b[1;36m4000\u001b[0m\u001b[1;33m,\u001b[0m \u001b[0mwarmup_n\u001b[0m \u001b[1;33m=\u001b[0m \u001b[1;36m0\u001b[0m\u001b[1;33m,\u001b[0m \u001b[0mf_0\u001b[0m\u001b[1;33m=\u001b[0m\u001b[0mNone\u001b[0m\u001b[1;33m,\u001b[0m \u001b[0mverbose\u001b[0m\u001b[1;33m=\u001b[0m\u001b[0mFalse\u001b[0m\u001b[1;33m)\u001b[0m\u001b[1;33m\u001b[0m\u001b[0m\n\u001b[0m\u001b[0;32m     13\u001b[0m             \u001b[0mallhistbg\u001b[0m\u001b[1;33m.\u001b[0m\u001b[0mappend\u001b[0m\u001b[1;33m(\u001b[0m \u001b[0mzip\u001b[0m\u001b[1;33m(\u001b[0m\u001b[1;33m*\u001b[0m\u001b[0mbgmodel\u001b[0m\u001b[1;33m.\u001b[0m\u001b[0mhist\u001b[0m\u001b[1;33m)\u001b[0m \u001b[1;33m)\u001b[0m \u001b[1;31m# (i, log, dist, err)\u001b[0m\u001b[1;33m\u001b[0m\u001b[0m\n\u001b[0;32m     14\u001b[0m \u001b[1;33m\u001b[0m\u001b[0m\n",
        "\u001b[1;32m<ipython-input-256-3867f80ca432>\u001b[0m in \u001b[0;36mfit\u001b[1;34m(self, f_0, gen_n, warmup_n, verbose)\u001b[0m\n\u001b[0;32m    283\u001b[0m         \u001b[1;32mprint\u001b[0m \u001b[1;34m\"Initial guess is\"\u001b[0m\u001b[1;33m,\u001b[0m \u001b[0mf_0\u001b[0m\u001b[1;33m\u001b[0m\u001b[0m\n\u001b[0;32m    284\u001b[0m \u001b[1;33m\u001b[0m\u001b[0m\n\u001b[1;32m--> 285\u001b[1;33m         \u001b[0mself\u001b[0m\u001b[1;33m.\u001b[0m\u001b[0mfp_opt\u001b[0m \u001b[1;33m=\u001b[0m \u001b[0mself\u001b[0m\u001b[1;33m.\u001b[0m\u001b[0mmet_argmax_log_p\u001b[0m\u001b[1;33m(\u001b[0m\u001b[0mself\u001b[0m\u001b[1;33m.\u001b[0m\u001b[0mlog_p_x__f\u001b[0m\u001b[1;33m,\u001b[0m \u001b[0mf_0\u001b[0m\u001b[1;33m,\u001b[0m \u001b[0mverbose\u001b[0m\u001b[1;33m=\u001b[0m\u001b[0mverbose\u001b[0m\u001b[1;33m,\u001b[0m \u001b[0mgen_n\u001b[0m\u001b[1;33m=\u001b[0m\u001b[0mgen_n\u001b[0m\u001b[1;33m,\u001b[0m \u001b[0mwarmup_n\u001b[0m\u001b[1;33m=\u001b[0m\u001b[0mwarmup_n\u001b[0m\u001b[1;33m)\u001b[0m\u001b[1;33m\u001b[0m\u001b[0m\n\u001b[0m\u001b[0;32m    286\u001b[0m \u001b[1;33m\u001b[0m\u001b[0m\n\u001b[0;32m    287\u001b[0m         \u001b[1;32mreturn\u001b[0m \u001b[0mself\u001b[0m\u001b[1;33m.\u001b[0m\u001b[0mfp_opt\u001b[0m\u001b[1;33m\u001b[0m\u001b[0m\n",
        "\u001b[1;32m<ipython-input-256-3867f80ca432>\u001b[0m in \u001b[0;36mmet_argmax_log_p\u001b[1;34m(self, log_p, x_0, warmup_n, gen_n, verbose)\u001b[0m\n\u001b[0;32m    244\u001b[0m \u001b[1;33m\u001b[0m\u001b[0m\n\u001b[0;32m    245\u001b[0m         \u001b[1;32mfor\u001b[0m \u001b[0mi\u001b[0m \u001b[1;32min\u001b[0m \u001b[0mrange\u001b[0m\u001b[1;33m(\u001b[0m\u001b[0mgen_n\u001b[0m\u001b[1;33m)\u001b[0m\u001b[1;33m:\u001b[0m\u001b[1;33m\u001b[0m\u001b[0m\n\u001b[1;32m--> 246\u001b[1;33m             \u001b[0mx_i\u001b[0m\u001b[1;33m,\u001b[0m \u001b[0mlog_p_i\u001b[0m \u001b[1;33m=\u001b[0m \u001b[0mnext\u001b[0m\u001b[1;33m(\u001b[0m\u001b[0mmm\u001b[0m\u001b[1;33m)\u001b[0m\u001b[1;33m\u001b[0m\u001b[0m\n\u001b[0m\u001b[0;32m    247\u001b[0m \u001b[1;33m\u001b[0m\u001b[0m\n\u001b[0;32m    248\u001b[0m             \u001b[1;32mif\u001b[0m \u001b[0mlog_p_i\u001b[0m \u001b[1;33m>\u001b[0m \u001b[0mbest_log_p_i\u001b[0m\u001b[1;33m:\u001b[0m\u001b[1;33m\u001b[0m\u001b[0m\n",
        "\u001b[1;32m<ipython-input-256-3867f80ca432>\u001b[0m in \u001b[0;36mMetropolisLogModel\u001b[1;34m(log_p, q_gen, x_0)\u001b[0m\n\u001b[0;32m     22\u001b[0m     \u001b[1;32mwhile\u001b[0m \u001b[0mTrue\u001b[0m\u001b[1;33m:\u001b[0m\u001b[1;33m\u001b[0m\u001b[0m\n\u001b[0;32m     23\u001b[0m         \u001b[0mx_\u001b[0m \u001b[1;33m=\u001b[0m \u001b[0mq_gen\u001b[0m\u001b[1;33m(\u001b[0m\u001b[0mx_t\u001b[0m\u001b[1;33m)\u001b[0m\u001b[1;33m\u001b[0m\u001b[0m\n\u001b[1;32m---> 24\u001b[1;33m         \u001b[0malpha\u001b[0m \u001b[1;33m=\u001b[0m \u001b[0mlog_p\u001b[0m\u001b[1;33m(\u001b[0m\u001b[0mx_\u001b[0m\u001b[1;33m)\u001b[0m \u001b[1;33m-\u001b[0m \u001b[0mlog_p_x_t\u001b[0m\u001b[1;33m\u001b[0m\u001b[0m\n\u001b[0m\u001b[0;32m     25\u001b[0m         \u001b[1;31m# why? : if alpha > 0 == p(x_) / p(x_t) > 1 or log(random) > alpha == random < p(x_) / p(x_t)\u001b[0m\u001b[1;33m\u001b[0m\u001b[1;33m\u001b[0m\u001b[0m\n\u001b[0;32m     26\u001b[0m         \u001b[0ms\u001b[0m \u001b[1;33m=\u001b[0m \u001b[0mnp\u001b[0m\u001b[1;33m.\u001b[0m\u001b[0mrandom\u001b[0m\u001b[1;33m.\u001b[0m\u001b[0msample\u001b[0m\u001b[1;33m(\u001b[0m\u001b[1;33m)\u001b[0m\u001b[1;33m\u001b[0m\u001b[0m\n",
        "\u001b[1;32m<ipython-input-256-3867f80ca432>\u001b[0m in \u001b[0;36mlog_p_x__f\u001b[1;34m(self, f)\u001b[0m\n\u001b[0;32m    197\u001b[0m         returns: sum_i n_s_i*log p_s_i - log probability of f being right \"\"\"\n\u001b[0;32m    198\u001b[0m \u001b[1;33m\u001b[0m\u001b[0m\n\u001b[1;32m--> 199\u001b[1;33m         \u001b[0mnew_f\u001b[0m \u001b[1;33m=\u001b[0m \u001b[0mself\u001b[0m\u001b[1;33m.\u001b[0m\u001b[0mngramf\u001b[0m\u001b[1;33m(\u001b[0m\u001b[0mf\u001b[0m\u001b[1;33m)\u001b[0m\u001b[1;33m\u001b[0m\u001b[0m\n\u001b[0m\u001b[0;32m    200\u001b[0m \u001b[1;33m\u001b[0m\u001b[0m\n\u001b[0;32m    201\u001b[0m         \u001b[1;32mif\u001b[0m \u001b[0mnp\u001b[0m\u001b[1;33m.\u001b[0m\u001b[0mmax\u001b[0m\u001b[1;33m(\u001b[0m\u001b[0mself\u001b[0m\u001b[1;33m.\u001b[0m\u001b[0mx\u001b[0m\u001b[1;33m)\u001b[0m \u001b[1;33m>\u001b[0m \u001b[0mlen\u001b[0m\u001b[1;33m(\u001b[0m\u001b[0mnew_f\u001b[0m\u001b[1;33m)\u001b[0m\u001b[1;33m-\u001b[0m\u001b[1;36m1\u001b[0m\u001b[1;33m:\u001b[0m\u001b[1;33m\u001b[0m\u001b[0m\n",
        "\u001b[1;32m<ipython-input-256-3867f80ca432>\u001b[0m in \u001b[0;36mngramf\u001b[1;34m(self, f)\u001b[0m\n\u001b[0;32m    185\u001b[0m         \u001b[0mnew_f\u001b[0m \u001b[1;33m=\u001b[0m \u001b[1;33m[\u001b[0m\u001b[1;33m]\u001b[0m\u001b[1;33m\u001b[0m\u001b[0m\n\u001b[0;32m    186\u001b[0m         \u001b[1;32mfor\u001b[0m \u001b[0msymbol\u001b[0m \u001b[1;32min\u001b[0m \u001b[0mself\u001b[0m\u001b[1;33m.\u001b[0m\u001b[0malphabet\u001b[0m\u001b[1;33m:\u001b[0m\u001b[1;33m\u001b[0m\u001b[0m\n\u001b[1;32m--> 187\u001b[1;33m             \u001b[0mnewsymbol\u001b[0m \u001b[1;33m=\u001b[0m \u001b[1;34m''\u001b[0m\u001b[1;33m.\u001b[0m\u001b[0mjoin\u001b[0m\u001b[1;33m(\u001b[0m\u001b[1;33m[\u001b[0m\u001b[0mchr\u001b[0m\u001b[1;33m(\u001b[0m\u001b[1;36m97\u001b[0m \u001b[1;33m+\u001b[0m \u001b[0mf\u001b[0m\u001b[1;33m[\u001b[0m\u001b[0mord\u001b[0m\u001b[1;33m(\u001b[0m\u001b[0mch\u001b[0m\u001b[1;33m)\u001b[0m \u001b[1;33m-\u001b[0m \u001b[1;36m97\u001b[0m\u001b[1;33m]\u001b[0m\u001b[1;33m)\u001b[0m \u001b[1;32mfor\u001b[0m \u001b[0mch\u001b[0m \u001b[1;32min\u001b[0m \u001b[0msymbol\u001b[0m\u001b[1;33m]\u001b[0m\u001b[1;33m)\u001b[0m\u001b[1;33m\u001b[0m\u001b[0m\n\u001b[0m\u001b[0;32m    188\u001b[0m             \u001b[0mnew_f\u001b[0m\u001b[1;33m.\u001b[0m\u001b[0mappend\u001b[0m\u001b[1;33m(\u001b[0m\u001b[0mself\u001b[0m\u001b[1;33m.\u001b[0m\u001b[0msymbol_code_func\u001b[0m\u001b[1;33m(\u001b[0m\u001b[0mnewsymbol\u001b[0m\u001b[1;33m)\u001b[0m\u001b[1;33m)\u001b[0m\u001b[1;33m\u001b[0m\u001b[0m\n\u001b[0;32m    189\u001b[0m         \u001b[1;32mreturn\u001b[0m \u001b[0mnp\u001b[0m\u001b[1;33m.\u001b[0m\u001b[0marray\u001b[0m\u001b[1;33m(\u001b[0m\u001b[0mnew_f\u001b[0m\u001b[1;33m)\u001b[0m\u001b[1;33m\u001b[0m\u001b[0m\n",
        "\u001b[1;31mKeyboardInterrupt\u001b[0m: "
       ]
      }
     ],
     "prompt_number": 260
    },
    {
     "cell_type": "code",
     "collapsed": false,
     "input": [
      "for P in [3, 5, 7]:\n",
      "    for n_gram in [3]:\n",
      "        print 'P\\G = ', P, n_gram\n",
      "        bgmodel = BayesianDecrypter(\n",
      "                alphabet = [''.join(x) for x in product(string.ascii_lowercase, repeat=n_gram)], \n",
      "                symbol_code_func = nramgmode, \n",
      "                permutations = P)\n",
      "        bgmodel.load_corpus('/home/ben/heavy/bmdecrypt/war_and_peace.txt')\n",
      "        bgmodel.load_encrypted('/home/ben/heavy/bmdecrypt/oliver_cr.txt', f_real)\n",
      "        allhistbg = []\n",
      "        for _ in range(5):\n",
      "            bgmodel.fit(gen_n = 3000, warmup_n = 0, f_0=None, verbose=False)\n",
      "            allhistbg.append( zip(*bgmodel.hist) ) # (i, log, dist, err)\n",
      "\n",
      "        lists = zip(*allhistbg) # [is, logs, dists, errs]\n",
      "        for i, name in zip(range(3), ['Optimal - LogLikelihood', 'Transposition Distance', 'Error Ratio']):\n",
      "            plt.title(name + '[permut_M = %d, n_gram = %d]' % (P, n_gram))\n",
      "            for i, c in zip(lists[0], lists[1+i]): # for i, log_i in is, logs\n",
      "                plt.plot(i, c)\n",
      "            plt.show()\n",
      "\n",
      "        plt.title('Optimal - Loglikelihood (log scale)' + 'P = %d, G = %d' % (P, n_gram))\n",
      "        for i, c in zip(lists[0], lists[1]): # for i, log_i in is, logs\n",
      "            plt.plot(i, np.array(c))\n",
      "        plt.yscale('symlog')\n",
      "        plt.show()"
     ],
     "language": "python",
     "metadata": {},
     "outputs": [
      {
       "output_type": "stream",
       "stream": "stdout",
       "text": [
        " P\\G =  3 3\n",
        "Initial guess is"
       ]
      },
      {
       "output_type": "stream",
       "stream": "stdout",
       "text": [
        " [ 0  1  2  3  4  5  6  7  8  9 10 11 12 13 14 15 16 17 18 19 20 21 22 23 24 25]\n",
        "Start with"
       ]
      },
      {
       "output_type": "stream",
       "stream": "stdout",
       "text": [
        " [ 0  1  2  3  4  5  6  7  8  9 10 11 12 13 14 15 16 17 18 19 20 21 22 23 24 25]\n",
        "."
       ]
      },
      {
       "output_type": "stream",
       "stream": "stdout",
       "text": [
        " (-215723928.11) 0 "
       ]
      },
      {
       "output_type": "stream",
       "stream": "stdout",
       "text": [
        ". (-207050768.83) "
       ]
      },
      {
       "output_type": "stream",
       "stream": "stdout",
       "text": [
        ". (-200638951.45) "
       ]
      },
      {
       "output_type": "stream",
       "stream": "stdout",
       "text": [
        ". (-200333138.52) "
       ]
      },
      {
       "output_type": "stream",
       "stream": "stdout",
       "text": [
        ". (-197077722.85) "
       ]
      },
      {
       "output_type": "stream",
       "stream": "stdout",
       "text": [
        ". (-193926495.12) "
       ]
      },
      {
       "output_type": "stream",
       "stream": "stdout",
       "text": [
        ". (-188878994.23) "
       ]
      },
      {
       "output_type": "stream",
       "stream": "stdout",
       "text": [
        ". (-181251884.87) "
       ]
      },
      {
       "output_type": "stream",
       "stream": "stdout",
       "text": [
        ". (-167942292.43) "
       ]
      },
      {
       "output_type": "stream",
       "stream": "stdout",
       "text": [
        ". (-137428260.80) "
       ]
      },
      {
       "output_type": "stream",
       "stream": "stdout",
       "text": [
        ". (-137377201.36) "
       ]
      },
      {
       "output_type": "stream",
       "stream": "stdout",
       "text": [
        ". (-121738308.92) "
       ]
      },
      {
       "output_type": "stream",
       "stream": "stdout",
       "text": [
        ". (-116146914.91) "
       ]
      },
      {
       "output_type": "stream",
       "stream": "stdout",
       "text": [
        ". (-115937758.44) "
       ]
      },
      {
       "output_type": "stream",
       "stream": "stdout",
       "text": [
        "30 "
       ]
      },
      {
       "output_type": "stream",
       "stream": "stdout",
       "text": [
        ". (-108853134.08) "
       ]
      },
      {
       "output_type": "stream",
       "stream": "stdout",
       "text": [
        ". (-107080131.95) "
       ]
      },
      {
       "output_type": "stream",
       "stream": "stdout",
       "text": [
        ". (-106082778.87) "
       ]
      },
      {
       "output_type": "stream",
       "stream": "stdout",
       "text": [
        ". (-102473875.18) "
       ]
      },
      {
       "output_type": "stream",
       "stream": "stdout",
       "text": [
        ". (-100837369.71) "
       ]
      },
      {
       "output_type": "stream",
       "stream": "stdout",
       "text": [
        ". (-100063664.06) "
       ]
      },
      {
       "output_type": "stream",
       "stream": "stdout",
       "text": [
        ". (-98018593.00) 60 "
       ]
      },
      {
       "output_type": "stream",
       "stream": "stdout",
       "text": [
        ". (-96736103.98) "
       ]
      },
      {
       "output_type": "stream",
       "stream": "stdout",
       "text": [
        ". (-95969288.80) "
       ]
      },
      {
       "output_type": "stream",
       "stream": "stdout",
       "text": [
        ". (-95349586.69) "
       ]
      },
      {
       "output_type": "stream",
       "stream": "stdout",
       "text": [
        ". (-93410640.95) "
       ]
      },
      {
       "output_type": "stream",
       "stream": "stdout",
       "text": [
        ". (-93222612.90) "
       ]
      },
      {
       "output_type": "stream",
       "stream": "stdout",
       "text": [
        ". (-91622848.14) 90 "
       ]
      },
      {
       "output_type": "stream",
       "stream": "stdout",
       "text": [
        ". (-89454166.73) "
       ]
      },
      {
       "output_type": "stream",
       "stream": "stdout",
       "text": [
        ". (-85519927.95) "
       ]
      },
      {
       "output_type": "stream",
       "stream": "stdout",
       "text": [
        ". (-83766762.90) "
       ]
      }
     ]
    },
    {
     "cell_type": "code",
     "collapsed": false,
     "input": [
      "N = 4\n",
      "\n",
      "seen = set([])\n",
      "tosee = set([tuple(range(N))])\n",
      "edges = set([])\n",
      "\n",
      "def permute(t, i, j):\n",
      "\tl2 = list(t)\n",
      "\tl2[i], l2[j] = l2[j], l2[i]\n",
      "\treturn tuple(l2)\n",
      "\n",
      "while len(tosee) != 0:\n",
      "\tcurrent = tosee.pop()\n",
      "\tseen.add(current)\n",
      "\tfor i in range(N):\n",
      "\t\tfor j in range(i, N):\n",
      "\t\t\tpm = permute(current, i, j)\n",
      "\t\t\tif (not pm in seen) and (not pm in tosee):\n",
      "\t\t\t\ttosee.add(pm)\n",
      "\t\t\t\t# print 'add', pm\n",
      "\t\t\tif pm > current:\n",
      "\t\t\t\tedges.add((pm, current))\n",
      "\t\t\t\t# print 'edge', pm, current\n",
      "\n",
      "# with open('graph.dot', 'w') as f:\n",
      "# \tf.write('graph G {\\n')\n",
      "# \tfor fr, to in edges:\n",
      "# \t\tf.write('\\t\"%s\" -- \"%s\";\\n' % (fr, to))\n",
      "# \tf.write('}\\n')\n",
      "\n",
      "# import os\n",
      "# os.system('dot -Tpng graph.dot > pic%d.png && rm graph.dot' % N)"
     ],
     "language": "python",
     "metadata": {},
     "outputs": [
      {
       "metadata": {},
       "output_type": "pyout",
       "prompt_number": 146,
       "text": [
        "<matplotlib.image.AxesImage at 0x7fad575e58d0>"
       ]
      },
      {
       "metadata": {},
       "output_type": "display_data",
       "png": "[encoded data removed]",
       "text": [
        "<matplotlib.figure.Figure at 0x7fad6095d2d0>"
       ]
      }
     ],
     "prompt_number": 146
    },
    {
     "cell_type": "code",
     "collapsed": false,
     "input": [
      "import numpy as np\n",
      "\n",
      "M = np.zeros((len(seen), len(seen)))\n",
      "seenl = list(seen)\n",
      "print seenl\n",
      "for fr, to in edges:\n",
      "\ti = seenl.index(fr)\n",
      "\tj = seenl.index(to)\n",
      "\tM[i, j] = 1\n",
      "\tM[j, i] = 1\n",
      "\n",
      "matshow(M)"
     ],
     "language": "python",
     "metadata": {},
     "outputs": [
      {
       "output_type": "stream",
       "stream": "stdout",
       "text": [
        "[(3, 1, 2, 0), (3, 0, 2, 1), (1, 0, 3, 2), (1, 2, 3, 0), (2, 0, 1, 3), (3, 0, 1, 2), (0, 1, 3, 2), (0, 2, 1, 3), (3, 2, 1, 0), (1, 0, 2, 3), (1, 3, 2, 0), (0, 3, 2, 1), (3, 1, 0, 2), (2, 3, 1, 0), (2, 0, 3, 1), (3, 2, 0, 1), (0, 2, 3, 1), (0, 3, 1, 2), (1, 3, 0, 2), (2, 3, 0, 1), (1, 2, 0, 3), (2, 1, 0, 3), (0, 1, 2, 3), (2, 1, 3, 0)]\n"
       ]
      },
      {
       "metadata": {},
       "output_type": "pyout",
       "prompt_number": 148,
       "text": [
        "<matplotlib.image.AxesImage at 0x7fad51d6f950>"
       ]
      },
      {
       "metadata": {},
       "output_type": "display_data",
       "png": "[encoded data removed]",
       "text": [
        "<matplotlib.figure.Figure at 0x7fad81740fd0>"
       ]
      }
     ],
     "prompt_number": 148
    }
   ],
   "metadata": {}
  }
 ]
}