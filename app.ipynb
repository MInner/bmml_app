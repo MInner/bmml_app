{
 "metadata": {
  "name": "",
  "signature": "sha256:c7701781b4b0718ea3cd674f630c5271a463d8272501d203a59d4e72d2ad5c76"
 },
 "nbformat": 3,
 "nbformat_minor": 0,
 "worksheets": [
  {
   "cells": [
    {
     "cell_type": "code",
     "collapsed": false,
     "input": [
      "import numpy as np\n",
      "import string\n",
      "from itertools import product\n",
      "np.set_printoptions(linewidth=90)"
     ],
     "language": "python",
     "metadata": {},
     "outputs": [],
     "prompt_number": 1
    },
    {
     "cell_type": "code",
     "collapsed": false,
     "input": [
      "def print_f(f):\n",
      "    for i, f_i in enumerate(f):\n",
      "        print \"%s -> %s\" % (chr(i+97), chr(f_i+97))\n",
      "        \n",
      "def print_to_f(s):\n",
      "    \"\"\" Turnes written transopition into vector\"\"\"\n",
      "    f = []\n",
      "    for line in s.split('\\n'):\n",
      "        f.append(ord(line[-1])-97)\n",
      "    return f\n",
      "\n",
      "f_real = print_to_f(\"\"\"a -> m\n",
      "b -> e\n",
      "c -> t\n",
      "d -> s\n",
      "e -> b\n",
      "f -> a\n",
      "g -> l\n",
      "h -> o\n",
      "i -> i\n",
      "j -> r\n",
      "k -> p\n",
      "l -> q\n",
      "m -> j\n",
      "n -> h\n",
      "o -> v\n",
      "p -> u\n",
      "q -> x\n",
      "r -> z\n",
      "s -> g\n",
      "t -> c\n",
      "u -> f\n",
      "v -> y\n",
      "w -> d\n",
      "x -> n\n",
      "y -> w\n",
      "z -> k\"\"\")\n",
      "\n",
      "def f_diff(f, f_):\n",
      "    \"\"\" Prints diff of two transopition in human-readable format\"\"\"\n",
      "    for a, b, c in zip(f, f_, range(97, 97+len(f))):\n",
      "        print chr(c), \" \", chr(a+97), chr(b+97), (\"<- !\" if a != b else \"\")\n",
      "        \n",
      "print f_real"
     ],
     "language": "python",
     "metadata": {},
     "outputs": [
      {
       "output_type": "stream",
       "stream": "stdout",
       "text": [
        "[12, 4, 19, 18, 1, 0, 11, 14, 8, 17, 15, 16, 9, 7, 21, 20, 23, 25, 6, 2, 5, 24, 3, 13, 22, 10]\n"
       ]
      }
     ],
     "prompt_number": 8
    },
    {
     "cell_type": "code",
     "collapsed": false,
     "input": [
      "def MetropolisLogModel(log_p, q_gen, x_0):\n",
      "    \"\"\" \n",
      "    Metropolis Algorythm model\n",
      "    -----\n",
      "    Returns an iterrator for generation value with log probability = log_p\n",
      "    \n",
      "    Example of usage:\n",
      "    \n",
      "        mm = MetropolisLogModel(..)\n",
      "        for x in mm:\n",
      "            print x\n",
      "            \n",
      "    or\n",
      "    \n",
      "        while True:\n",
      "            x = next(mm)\n",
      "        \n",
      "    \"\"\"\n",
      "    \n",
      "    x_t = x_0\n",
      "    log_p_x_t = log_p(x_t)\n",
      "    while True:\n",
      "        x_ = q_gen(x_t)\n",
      "        alpha = log_p(x_) - log_p_x_t\n",
      "        # why? : if alpha > 0 == p(x_) / p(x_t) > 1 or log(random) > alpha == random > p(x_) / p(x_t)\n",
      "        if alpha > 0 or np.log(np.random.sample()) > alpha:\n",
      "            x_t = x_\n",
      "            log_p_x_t = log_p(x_t)\n",
      "        \n",
      "        yield x_t, log_p_x_t\n",
      "        \n",
      "def shuffler_M(M):\n",
      "    \"\"\" \n",
      "    Return the fuction that randomly shuffles M componens of the vector\n",
      "    \n",
      "    Example of usage:\n",
      "    \n",
      "        suffler2 = shuffler_M(2)\n",
      "        seq = [1, 2, 3, 4, 5, 6, 7]\n",
      "        print suffler2(seq) # [1, 2, 6, 4, 5, 3, 7]\n",
      "    \n",
      "    \"\"\"\n",
      "    def tmp(f):\n",
      "        indexes_to_shuffle = np.random.choice(np.arange(len(f)), size = M, replace = False)\n",
      "        shuffled_indexes = np.random.permutation(indexes_to_shuffle)\n",
      "        f_ = np.array(f)\n",
      "        f_[indexes_to_shuffle] = f_[shuffled_indexes]\n",
      "        return f_\n",
      "    return tmp\n",
      "\n",
      "def substrs_of_length(s, l):\n",
      "    \"\"\"\n",
      "    Returns all substrings of a string s of length l\n",
      "    \n",
      "    Example:\n",
      "        \n",
      "        substrs_of_length('abcde', 3) # ['abc', 'bce', 'cde']\n",
      "\n",
      "    \"\"\"\n",
      "    return [s[i:i+l] for i in range(len(s)-l+1)]\n",
      "\n",
      "class BayesianDecrypter:\n",
      "    \"\"\"\n",
      "    Bayesian Decrypter Model\n",
      "    -----\n",
      "    \n",
      "    Note: symbol might be substing of length N as well as single char\n",
      "    \n",
      "    How to work with it:\n",
      "    0. __init__ : \n",
      "        Init model with alphabet (all possible symbols) and mapping from symbols to codes\n",
      "        Note: mapping must pesrseve order !\n",
      "    1. load_corpus : \n",
      "        Takes some corpora and builds vector of probabilites of different symbols (codes of symbols, actually). \n",
      "        Stores it in self.symbol_prob\n",
      "    2. load_encrypted :\n",
      "        Takes some crtyped text, converts it into the seqance of codes\n",
      "    3. fit:\n",
      "        Starts te process of proper f search\n",
      "       \n",
      "    Example:\n",
      "    \n",
      "        model = BayesianDecrypter(alphabet = list(string.ascii_lowercase), symbol_code_func = lambda x: ord(x) - 97, permutations = 10)\n",
      "        model.load_corpus('/home/ben/heavy/bmdecrypt/war_and_peace.txt')\n",
      "        model.load_encrypted('/home/ben/heavy/bmdecrypt/oliver_cr.txt')\n",
      "        model.fit(gen_n = 100, warmup_n = 10, f_0=f_real, verbose=False)\n",
      "    \n",
      "    \"\"\"\n",
      "        \n",
      "    \n",
      "    def __init__(self, alphabet, symbol_code_func, permutations):\n",
      "        \"\"\"\n",
      "            Init model with alphabet (all possible symbols) and mapping from symbols to codes\n",
      "            Note: mapping must pesrseve order !\n",
      "        \n",
      "        ---\n",
      "            \n",
      "        Example (used below):\n",
      "        \n",
      "            bgmodel = BayesianDecrypter(\n",
      "                alphabet = [''.join(x) for x in product(string.ascii_lowercase, repeat=n_gram)], # ['aa', 'ab', ...]\n",
      "                symbol_code_func = nramgmode,  # 'aa' -> 0, 'ab' -> 1, ..., 'ba' -> 26 \n",
      "                permutations = 2)\n",
      "            \n",
      "        \"\"\"\n",
      "        codes = []\n",
      "        for letter in alphabet:\n",
      "            codes.append(symbol_code_func(letter))\n",
      "        if codes != range(len(alphabet)):\n",
      "            raise ValueError, \"alphabet and symbol_code_func are not aligned!\" + str(codes)\n",
      "        \n",
      "        self.alphabet = alphabet\n",
      "        self.symbol_code_func = symbol_code_func\n",
      "        self.symbol_length = len(alphabet[0])\n",
      "        self.alphabet_length = len(alphabet)\n",
      "        self.permutations = permutations\n",
      "    \n",
      "    def load_corpus(self, filename):\n",
      "        symbol_n = np.zeros(self.alphabet_length)\n",
      "        with open(filename) as f:\n",
      "            for line in f:\n",
      "                for symbol in substrs_of_length(line[:-1], self.symbol_length):\n",
      "                    symbol_n[self.symbol_code_func(symbol)] += 1\n",
      "\n",
      "\n",
      "        self.symbol_prob = symbol_n / np.sum(symbol_n, dtype = float)\n",
      "        self.symbol_prob[self.symbol_prob == 0] = 1e-300 # for numerical stabilty : need to take log(x) futher\n",
      "    \n",
      "    def load_encrypted(self, filename):\n",
      "        x = []\n",
      "        with open(filename) as f:\n",
      "            for line in f:\n",
      "                for symbol in substrs_of_length(line[:-1], self.symbol_length):\n",
      "                    x.append(self.symbol_code_func(symbol))\n",
      "        self.x = x\n",
      "    \n",
      "    def ngramf(self, f):\n",
      "        \"\"\" \n",
      "        Builds traspotition rule for any n-gram-symbols based on 1-symbol rule f\n",
      "        -----\n",
      "        \n",
      "        Builds \n",
      "            code(aa) -> code(ff), code(ab) -> code(fg) ...\n",
      "        based on\n",
      "            code(a) -> code(f)\n",
      "            code(b) -> code(g)\n",
      "            ..\n",
      "            \n",
      "        What is inside?\n",
      "           \n",
      "           symbol_code_func(ab) = N -> symbol_code_func(char(f(ord('a') - 97) + 97 ) + char(f(ord('b') - 97)  + 97 ) )\n",
      "        \"\"\"\n",
      "        new_f = []\n",
      "        for symbol in self.alphabet:\n",
      "            newsymbol = ''.join([chr(97 + f[ord(ch) - 97]) for ch in symbol])\n",
      "            new_f.append(self.symbol_code_func(newsymbol))\n",
      "        return np.array(new_f)\n",
      "    \n",
      "    def log_p_x__f(self, f):\n",
      "        \"\"\" log p(x|f)\n",
      "        x - encrypted text (as array of integers)\n",
      "        f - trasposition to get decrypted\n",
      "        p_s - parametrs (probabilities of symbols)\n",
      "\n",
      "        returns: sum_i n_s_i*log p_s_i - log probability of f being right \"\"\"\n",
      "        \n",
      "        new_f = self.ngramf(f)\n",
      "        \n",
      "        if np.max(self.x) > len(new_f)-1:\n",
      "            raise ValueError, \"X has value %d while size of f is %d\" % (np.max(self.x), len(new_f))\n",
      "            \n",
      "        n_s = np.bincount(new_f[self.x]) # numbers of symbols in \"decryted|f\" text\n",
      "        n_s.resize((len(self.symbol_prob), ))\n",
      "        p_x = np.sum( np.multiply(n_s, np.log(self.symbol_prob)))\n",
      "        return p_x\n",
      "    \n",
      "    def met_argmax_log_p(self, log_p, x_0, warmup_n = 100, gen_n = 1000, verbose = False):\n",
      "        \"\"\" \n",
      "        Estimates \n",
      "            argmax_x p(x) \n",
      "        as \n",
      "            argmax_i p(x_i), x_i ~ p(x)\n",
      "\n",
      "        Where x_i is generated via MetropolisModel with q(x|x') = q(x'|x) and x' equal to some random shuffle(M) of x\n",
      "        \"\"\"\n",
      "        \n",
      "        showevery = gen_n / 100\n",
      "\n",
      "        mm = MetropolisLogModel(log_p, shuffler_M(self.permutations), x_0)\n",
      "        \n",
      "        if warmup_n > 0:\n",
      "            for i in range(warmup_n):\n",
      "                print i,\n",
      "                x_start, _ = next(mm) # warm up\n",
      "            print\n",
      "        else:\n",
      "            x_start = x_0\n",
      "            \n",
      "        print \"Start with\", x_start\n",
      "\n",
      "        best_x_i = x_start\n",
      "        best_log_p_i = self.log_p_x__f(x_start)\n",
      "        \n",
      "        for i in range(gen_n):\n",
      "            x_i, log_p_i = next(mm)\n",
      "\n",
      "            if log_p_i > best_log_p_i:\n",
      "                best_log_p_i = log_p_i\n",
      "                best_x_i = x_i\n",
      "\n",
      "            if verbose:\n",
      "                print \"%d : LogLike: %.5f %s\" %(i, log_p_i, x_i) + (\" <-- gotcha!\" if best_log_p_i == log_p_i else \"\")\n",
      "            else:\n",
      "                if i % showevery == 0:\n",
      "                    print i,\n",
      "                    \n",
      "                if best_log_p_i == log_p_i:\n",
      "                    print \"(%.2f)\" % best_log_p_i,\n",
      "\n",
      "        return best_x_i, best_log_p_i\n",
      "\n",
      "    def fit(self, f_0 = None, gen_n = 100, warmup_n = 10, verbose = False):\n",
      "        \"\"\"\n",
      "            Start the process of proper f search\n",
      "            \n",
      "        f_0 - initial guess of transopition f\n",
      "        warmup_n - number of f_ that are left (warmup) before we start testing them ()\n",
      "        gen_n - number of tested f_\n",
      "        verbose - show debug info\n",
      "        \"\"\"\n",
      "        if not hasattr(self, \"symbol_prob\"):\n",
      "            raise ValueError, \"You must load text corpus first, use .load_corpus(filename)\"\n",
      "        \n",
      "        if not hasattr(self, \"x\"):\n",
      "            raise ValueError, \"You must load text for decrypring first, use .load_encrypted(filename)\"\n",
      "        \n",
      "        if f_0 == None:\n",
      "            f_0 = np.arange(len(string.ascii_lowercase))\n",
      "        \n",
      "        print \"Initial guess is\", f_0\n",
      "        \n",
      "        self.fp_opt = self.met_argmax_log_p(self.log_p_x__f, f_0, verbose=verbose, gen_n=gen_n, warmup_n=warmup_n)\n",
      "        \n",
      "        return self.fp_opt"
     ],
     "language": "python",
     "metadata": {},
     "outputs": [
      {
       "output_type": "stream",
       "stream": "stdout",
       "text": [
        "\n"
       ]
      }
     ],
     "prompt_number": 79
    },
    {
     "cell_type": "code",
     "collapsed": false,
     "input": [
      "model = BayesianDecrypter(alphabet = list(string.ascii_lowercase), symbol_code_func = lambda x: ord(x) - 97, permutations = 10)\n",
      "model.load_corpus('/home/ben/heavy/bmdecrypt/war_and_peace.txt')\n",
      "model.load_encrypted('/home/ben/heavy/bmdecrypt/oliver_cr.txt')"
     ],
     "language": "python",
     "metadata": {},
     "outputs": [],
     "prompt_number": 36
    },
    {
     "cell_type": "code",
     "collapsed": false,
     "input": [
      "model.fit(gen_n = 100, warmup_n = 10, f_0=f_real, verbose=False)"
     ],
     "language": "python",
     "metadata": {},
     "outputs": [
      {
       "output_type": "stream",
       "stream": "stdout",
       "text": [
        "Initial guess is [12, 4, 19, 18, 1, 0, 11, 14, 8, 17, 15, 16, 9, 7, 21, 20, 23, 25, 6, 2, 5, 24, 3, 13, 22, 10]\n",
        "0 "
       ]
      },
      {
       "output_type": "stream",
       "stream": "stdout",
       "text": [
        "1 "
       ]
      },
      {
       "output_type": "stream",
       "stream": "stdout",
       "text": [
        "2 "
       ]
      },
      {
       "output_type": "stream",
       "stream": "stdout",
       "text": [
        "3 "
       ]
      },
      {
       "output_type": "stream",
       "stream": "stdout",
       "text": [
        "4 "
       ]
      },
      {
       "output_type": "stream",
       "stream": "stdout",
       "text": [
        "5 "
       ]
      },
      {
       "output_type": "stream",
       "stream": "stdout",
       "text": [
        "6 "
       ]
      },
      {
       "output_type": "stream",
       "stream": "stdout",
       "text": [
        "7 "
       ]
      },
      {
       "output_type": "stream",
       "stream": "stdout",
       "text": [
        "8 "
       ]
      },
      {
       "output_type": "stream",
       "stream": "stdout",
       "text": [
        "9 "
       ]
      },
      {
       "output_type": "stream",
       "stream": "stdout",
       "text": [
        "Start with [ 8 11 20  3  6  5 21 23 22 16 12 19 13 15  2  0 14  9 18 25  7  1  4 10 17 24]\n",
        "0"
       ]
      },
      {
       "output_type": "stream",
       "stream": "stdout",
       "text": [
        " (-2728481.87) "
       ]
      },
      {
       "output_type": "stream",
       "stream": "stdout",
       "text": [
        "1 (-2722386.96) "
       ]
      },
      {
       "output_type": "stream",
       "stream": "stdout",
       "text": [
        "2 (-2648862.49) "
       ]
      },
      {
       "output_type": "stream",
       "stream": "stdout",
       "text": [
        "3  "
       ]
      },
      {
       "output_type": "stream",
       "stream": "stdout",
       "text": [
        "4  "
       ]
      },
      {
       "output_type": "stream",
       "stream": "stdout",
       "text": [
        "5  "
       ]
      },
      {
       "output_type": "stream",
       "stream": "stdout",
       "text": [
        "6  "
       ]
      },
      {
       "output_type": "stream",
       "stream": "stdout",
       "text": [
        "7 (-2592080.90) "
       ]
      },
      {
       "output_type": "stream",
       "stream": "stdout",
       "text": [
        "8  "
       ]
      },
      {
       "output_type": "stream",
       "stream": "stdout",
       "text": [
        "9  "
       ]
      },
      {
       "output_type": "stream",
       "stream": "stdout",
       "text": [
        "10  "
       ]
      },
      {
       "output_type": "stream",
       "stream": "stdout",
       "text": [
        "11  "
       ]
      },
      {
       "output_type": "stream",
       "stream": "stdout",
       "text": [
        "12  "
       ]
      },
      {
       "output_type": "stream",
       "stream": "stdout",
       "text": [
        "13 (-2515800.30) "
       ]
      },
      {
       "output_type": "stream",
       "stream": "stdout",
       "text": [
        "14 (-2472102.89) "
       ]
      },
      {
       "output_type": "stream",
       "stream": "stdout",
       "text": [
        "15  "
       ]
      },
      {
       "output_type": "stream",
       "stream": "stdout",
       "text": [
        "16  "
       ]
      },
      {
       "output_type": "stream",
       "stream": "stdout",
       "text": [
        "17  "
       ]
      },
      {
       "output_type": "stream",
       "stream": "stdout",
       "text": [
        "18  "
       ]
      },
      {
       "output_type": "stream",
       "stream": "stdout",
       "text": [
        "19  "
       ]
      },
      {
       "output_type": "stream",
       "stream": "stdout",
       "text": [
        "20  "
       ]
      },
      {
       "output_type": "stream",
       "stream": "stdout",
       "text": [
        "21  "
       ]
      },
      {
       "output_type": "stream",
       "stream": "stdout",
       "text": [
        "22  "
       ]
      },
      {
       "output_type": "stream",
       "stream": "stdout",
       "text": [
        "23  "
       ]
      },
      {
       "output_type": "stream",
       "stream": "stdout",
       "text": [
        "24 (-2449487.52) "
       ]
      },
      {
       "output_type": "stream",
       "stream": "stdout",
       "text": [
        "25  "
       ]
      },
      {
       "output_type": "stream",
       "stream": "stdout",
       "text": [
        "26  "
       ]
      },
      {
       "output_type": "stream",
       "stream": "stdout",
       "text": [
        "27  "
       ]
      },
      {
       "output_type": "stream",
       "stream": "stdout",
       "text": [
        "28  "
       ]
      },
      {
       "output_type": "stream",
       "stream": "stdout",
       "text": [
        "29  "
       ]
      },
      {
       "output_type": "stream",
       "stream": "stdout",
       "text": [
        "30  "
       ]
      },
      {
       "output_type": "stream",
       "stream": "stdout",
       "text": [
        "31  "
       ]
      },
      {
       "output_type": "stream",
       "stream": "stdout",
       "text": [
        "32  "
       ]
      },
      {
       "output_type": "stream",
       "stream": "stdout",
       "text": [
        "33  "
       ]
      },
      {
       "output_type": "stream",
       "stream": "stdout",
       "text": [
        "34  "
       ]
      },
      {
       "output_type": "stream",
       "stream": "stdout",
       "text": [
        "35  "
       ]
      },
      {
       "output_type": "stream",
       "stream": "stdout",
       "text": [
        "36  "
       ]
      },
      {
       "output_type": "stream",
       "stream": "stdout",
       "text": [
        "37  "
       ]
      },
      {
       "output_type": "stream",
       "stream": "stdout",
       "text": [
        "38  "
       ]
      },
      {
       "output_type": "stream",
       "stream": "stdout",
       "text": [
        "39  "
       ]
      },
      {
       "output_type": "stream",
       "stream": "stdout",
       "text": [
        "40  "
       ]
      },
      {
       "output_type": "stream",
       "stream": "stdout",
       "text": [
        "41  "
       ]
      },
      {
       "output_type": "stream",
       "stream": "stdout",
       "text": [
        "42  "
       ]
      },
      {
       "output_type": "stream",
       "stream": "stdout",
       "text": [
        "43  "
       ]
      },
      {
       "output_type": "stream",
       "stream": "stdout",
       "text": [
        "44  "
       ]
      },
      {
       "output_type": "stream",
       "stream": "stdout",
       "text": [
        "45  "
       ]
      },
      {
       "output_type": "stream",
       "stream": "stdout",
       "text": [
        "46  "
       ]
      },
      {
       "output_type": "stream",
       "stream": "stdout",
       "text": [
        "47  "
       ]
      },
      {
       "output_type": "stream",
       "stream": "stdout",
       "text": [
        "48  "
       ]
      },
      {
       "output_type": "stream",
       "stream": "stdout",
       "text": [
        "49  "
       ]
      },
      {
       "output_type": "stream",
       "stream": "stdout",
       "text": [
        "50  "
       ]
      },
      {
       "output_type": "stream",
       "stream": "stdout",
       "text": [
        "51  "
       ]
      },
      {
       "output_type": "stream",
       "stream": "stdout",
       "text": [
        "52  "
       ]
      },
      {
       "output_type": "stream",
       "stream": "stdout",
       "text": [
        "53  "
       ]
      },
      {
       "output_type": "stream",
       "stream": "stdout",
       "text": [
        "54  "
       ]
      },
      {
       "output_type": "stream",
       "stream": "stdout",
       "text": [
        "55  "
       ]
      },
      {
       "output_type": "stream",
       "stream": "stdout",
       "text": [
        "56  "
       ]
      },
      {
       "output_type": "stream",
       "stream": "stdout",
       "text": [
        "57  "
       ]
      },
      {
       "output_type": "stream",
       "stream": "stdout",
       "text": [
        "58  "
       ]
      },
      {
       "output_type": "stream",
       "stream": "stdout",
       "text": [
        "59  "
       ]
      },
      {
       "output_type": "stream",
       "stream": "stdout",
       "text": [
        "60  "
       ]
      },
      {
       "output_type": "stream",
       "stream": "stdout",
       "text": [
        "61  "
       ]
      },
      {
       "output_type": "stream",
       "stream": "stdout",
       "text": [
        "62  "
       ]
      },
      {
       "output_type": "stream",
       "stream": "stdout",
       "text": [
        "63  "
       ]
      },
      {
       "output_type": "stream",
       "stream": "stdout",
       "text": [
        "64  "
       ]
      },
      {
       "output_type": "stream",
       "stream": "stdout",
       "text": [
        "65  "
       ]
      },
      {
       "output_type": "stream",
       "stream": "stdout",
       "text": [
        "66  "
       ]
      },
      {
       "output_type": "stream",
       "stream": "stdout",
       "text": [
        "67  "
       ]
      },
      {
       "output_type": "stream",
       "stream": "stdout",
       "text": [
        "68  "
       ]
      },
      {
       "output_type": "stream",
       "stream": "stdout",
       "text": [
        "69  "
       ]
      },
      {
       "output_type": "stream",
       "stream": "stdout",
       "text": [
        "70  "
       ]
      },
      {
       "output_type": "stream",
       "stream": "stdout",
       "text": [
        "71  "
       ]
      },
      {
       "output_type": "stream",
       "stream": "stdout",
       "text": [
        "72  "
       ]
      },
      {
       "output_type": "stream",
       "stream": "stdout",
       "text": [
        "73  "
       ]
      },
      {
       "output_type": "stream",
       "stream": "stdout",
       "text": [
        "74  "
       ]
      },
      {
       "output_type": "stream",
       "stream": "stdout",
       "text": [
        "75  "
       ]
      },
      {
       "output_type": "stream",
       "stream": "stdout",
       "text": [
        "76  "
       ]
      },
      {
       "output_type": "stream",
       "stream": "stdout",
       "text": [
        "77  "
       ]
      },
      {
       "output_type": "stream",
       "stream": "stdout",
       "text": [
        "78  "
       ]
      },
      {
       "output_type": "stream",
       "stream": "stdout",
       "text": [
        "79 (-2420403.11) "
       ]
      },
      {
       "output_type": "stream",
       "stream": "stdout",
       "text": [
        "80 (-2413884.00) "
       ]
      },
      {
       "output_type": "stream",
       "stream": "stdout",
       "text": [
        "81  "
       ]
      },
      {
       "output_type": "stream",
       "stream": "stdout",
       "text": [
        "82  "
       ]
      },
      {
       "output_type": "stream",
       "stream": "stdout",
       "text": [
        "83  "
       ]
      },
      {
       "output_type": "stream",
       "stream": "stdout",
       "text": [
        "84  "
       ]
      },
      {
       "output_type": "stream",
       "stream": "stdout",
       "text": [
        "85  "
       ]
      },
      {
       "output_type": "stream",
       "stream": "stdout",
       "text": [
        "86  "
       ]
      },
      {
       "output_type": "stream",
       "stream": "stdout",
       "text": [
        "87  "
       ]
      },
      {
       "output_type": "stream",
       "stream": "stdout",
       "text": [
        "88  "
       ]
      },
      {
       "output_type": "stream",
       "stream": "stdout",
       "text": [
        "89  "
       ]
      },
      {
       "output_type": "stream",
       "stream": "stdout",
       "text": [
        "90  "
       ]
      },
      {
       "output_type": "stream",
       "stream": "stdout",
       "text": [
        "91  "
       ]
      },
      {
       "output_type": "stream",
       "stream": "stdout",
       "text": [
        "92  "
       ]
      },
      {
       "output_type": "stream",
       "stream": "stdout",
       "text": [
        "93  "
       ]
      },
      {
       "output_type": "stream",
       "stream": "stdout",
       "text": [
        "94  "
       ]
      },
      {
       "output_type": "stream",
       "stream": "stdout",
       "text": [
        "95  "
       ]
      },
      {
       "output_type": "stream",
       "stream": "stdout",
       "text": [
        "96  "
       ]
      },
      {
       "output_type": "stream",
       "stream": "stdout",
       "text": [
        "97  "
       ]
      },
      {
       "output_type": "stream",
       "stream": "stdout",
       "text": [
        "98  "
       ]
      },
      {
       "output_type": "stream",
       "stream": "stdout",
       "text": [
        "99 "
       ]
      },
      {
       "metadata": {},
       "output_type": "pyout",
       "prompt_number": 37,
       "text": [
        "(array([22,  4, 17,  6,  8,  5,  0, 13, 21, 19, 23, 16, 24, 12, 18, 11,  2,  3,  7,  1, 15,\n",
        "        10, 25, 14, 20,  9]), -2413883.9957087864)"
       ]
      },
      {
       "output_type": "stream",
       "stream": "stdout",
       "text": [
        "\n"
       ]
      }
     ],
     "prompt_number": 37
    },
    {
     "cell_type": "code",
     "collapsed": false,
     "input": [
      "print model.log_p_x__f(f_real)\n",
      "print model.fp_opt[1]\n",
      "\n",
      "print f_real\n",
      "\n",
      "f_diff(f_real, model.fp_opt[0])"
     ],
     "language": "python",
     "metadata": {},
     "outputs": [
      {
       "output_type": "stream",
       "stream": "stdout",
       "text": [
        "-2038663.74521\n",
        "-2413883.99571\n",
        "[12, 4, 19, 18, 1, 0, 11, 14, 8, 17, 15, 16, 9, 7, 21, 20, 23, 25, 6, 2, 5, 24, 3, 13, 22, 10]\n",
        "a   m w <- !\n",
        "b   e e \n",
        "c   t r <- !\n",
        "d   s g <- !\n",
        "e   b i <- !\n",
        "f   a f <- !\n",
        "g   l a <- !\n",
        "h   o n <- !\n",
        "i   i v <- !\n",
        "j   r t <- !\n",
        "k   p x <- !\n",
        "l   q q \n",
        "m   j y <- !\n",
        "n   h m <- !\n",
        "o   v s <- !\n",
        "p   u l <- !\n",
        "q   x c <- !\n",
        "r   z d <- !\n",
        "s   g h <- !\n",
        "t   c b <- !\n",
        "u   f p <- !\n",
        "v   y k <- !\n",
        "w   d z <- !\n",
        "x   n o <- !\n",
        "y   w u <- !\n",
        "z   k j <- !\n"
       ]
      }
     ],
     "prompt_number": 38
    },
    {
     "cell_type": "code",
     "collapsed": false,
     "input": [
      "def nramgmode(sym, base = 26):\n",
      "    code = 0\n",
      "    for i, char in enumerate(sym[::-1]):\n",
      "        code += base**i*(ord(char)-97)\n",
      "    return code\n",
      "\n",
      "def bigramcode(sym):\n",
      "    return 26*(ord(sym[0]) - 97) + (ord(sym[1]) - 97)"
     ],
     "language": "python",
     "metadata": {},
     "outputs": [],
     "prompt_number": 27
    },
    {
     "cell_type": "code",
     "collapsed": false,
     "input": [
      "n_gram = 2\n",
      "bgmodel = BayesianDecrypter(\n",
      "        alphabet = [''.join(x) for x in product(string.ascii_lowercase, repeat=n_gram)], \n",
      "        symbol_code_func = nramgmode, \n",
      "        permutations = 2)\n",
      "bgmodel.load_corpus('/home/ben/heavy/bmdecrypt/war_and_peace.txt')\n",
      "bgmodel.load_encrypted('/home/ben/heavy/bmdecrypt/oliver_cr.txt')"
     ],
     "language": "python",
     "metadata": {},
     "outputs": [],
     "prompt_number": 80
    },
    {
     "cell_type": "code",
     "collapsed": false,
     "input": [
      "bgmodel.fit(verbose=False, gen_n = 1000, warmup_n = 2, f_0=f_real)\n",
      "print\n",
      "print bgmodel.log_p_x__f(f_real)\n",
      "print bgmodel.fp_opt[1]\n",
      "\n",
      "print bgmodel.fp_opt[0]\n",
      "print f_real\n",
      "\n",
      "f_diff(f_real, bgmodel.fp_opt[0])"
     ],
     "language": "python",
     "metadata": {},
     "outputs": [
      {
       "output_type": "stream",
       "stream": "stdout",
       "text": [
        "Initial guess is [12, 4, 19, 18, 1, 0, 11, 14, 8, 17, 15, 16, 9, 7, 21, 20, 23, 25, 6, 2, 5, 24, 3, 13, 22, 10]\n",
        "0 "
       ]
      },
      {
       "output_type": "stream",
       "stream": "stdout",
       "text": [
        "1 "
       ]
      },
      {
       "output_type": "stream",
       "stream": "stdout",
       "text": [
        "Start with [ 8  4 19 18  1  0 11 14  9 17 15 16 12  7 21 20 23 25  6  2  5 24  3 13 22 10]\n",
        "0"
       ]
      },
      {
       "output_type": "stream",
       "stream": "stdout",
       "text": [
        " (-32078057.90) "
       ]
      },
      {
       "output_type": "stream",
       "stream": "stdout",
       "text": [
        "10 "
       ]
      },
      {
       "output_type": "stream",
       "stream": "stdout",
       "text": [
        "20 "
       ]
      },
      {
       "output_type": "stream",
       "stream": "stdout",
       "text": [
        "30 "
       ]
      },
      {
       "output_type": "stream",
       "stream": "stdout",
       "text": [
        "40 "
       ]
      },
      {
       "output_type": "stream",
       "stream": "stdout",
       "text": [
        "50 "
       ]
      },
      {
       "output_type": "stream",
       "stream": "stdout",
       "text": [
        "60 "
       ]
      },
      {
       "output_type": "stream",
       "stream": "stdout",
       "text": [
        "70 "
       ]
      },
      {
       "output_type": "stream",
       "stream": "stdout",
       "text": [
        "80 "
       ]
      },
      {
       "output_type": "stream",
       "stream": "stdout",
       "text": [
        "90 "
       ]
      },
      {
       "output_type": "stream",
       "stream": "stdout",
       "text": [
        "100 "
       ]
      },
      {
       "output_type": "stream",
       "stream": "stdout",
       "text": [
        "110 "
       ]
      },
      {
       "output_type": "stream",
       "stream": "stdout",
       "text": [
        "120 "
       ]
      },
      {
       "output_type": "stream",
       "stream": "stdout",
       "text": [
        "130 "
       ]
      },
      {
       "output_type": "stream",
       "stream": "stdout",
       "text": [
        "140 "
       ]
      },
      {
       "output_type": "stream",
       "stream": "stdout",
       "text": [
        "150 "
       ]
      },
      {
       "output_type": "stream",
       "stream": "stdout",
       "text": [
        "160 "
       ]
      },
      {
       "output_type": "stream",
       "stream": "stdout",
       "text": [
        "170 "
       ]
      },
      {
       "output_type": "stream",
       "stream": "stdout",
       "text": [
        "180 "
       ]
      },
      {
       "output_type": "stream",
       "stream": "stdout",
       "text": [
        "190 "
       ]
      },
      {
       "output_type": "stream",
       "stream": "stdout",
       "text": [
        "200 "
       ]
      },
      {
       "output_type": "stream",
       "stream": "stdout",
       "text": [
        "210 "
       ]
      },
      {
       "output_type": "stream",
       "stream": "stdout",
       "text": [
        "220 "
       ]
      },
      {
       "output_type": "stream",
       "stream": "stdout",
       "text": [
        "230 "
       ]
      },
      {
       "output_type": "stream",
       "stream": "stdout",
       "text": [
        "240 "
       ]
      },
      {
       "output_type": "stream",
       "stream": "stdout",
       "text": [
        "250 "
       ]
      },
      {
       "output_type": "stream",
       "stream": "stdout",
       "text": [
        "260 "
       ]
      },
      {
       "output_type": "stream",
       "stream": "stdout",
       "text": [
        "270 "
       ]
      },
      {
       "output_type": "stream",
       "stream": "stdout",
       "text": [
        "280 "
       ]
      },
      {
       "output_type": "stream",
       "stream": "stdout",
       "text": [
        "290 "
       ]
      },
      {
       "output_type": "stream",
       "stream": "stdout",
       "text": [
        "300 "
       ]
      },
      {
       "output_type": "stream",
       "stream": "stdout",
       "text": [
        "310 "
       ]
      },
      {
       "output_type": "stream",
       "stream": "stdout",
       "text": [
        "320 "
       ]
      },
      {
       "output_type": "stream",
       "stream": "stdout",
       "text": [
        "330 "
       ]
      },
      {
       "output_type": "stream",
       "stream": "stdout",
       "text": [
        "340 "
       ]
      },
      {
       "output_type": "stream",
       "stream": "stdout",
       "text": [
        "350 "
       ]
      },
      {
       "output_type": "stream",
       "stream": "stdout",
       "text": [
        "360 "
       ]
      },
      {
       "output_type": "stream",
       "stream": "stdout",
       "text": [
        "370 "
       ]
      },
      {
       "output_type": "stream",
       "stream": "stdout",
       "text": [
        "380 "
       ]
      },
      {
       "output_type": "stream",
       "stream": "stdout",
       "text": [
        "390 "
       ]
      },
      {
       "output_type": "stream",
       "stream": "stdout",
       "text": [
        "400 "
       ]
      },
      {
       "output_type": "stream",
       "stream": "stdout",
       "text": [
        "410 "
       ]
      },
      {
       "output_type": "stream",
       "stream": "stdout",
       "text": [
        "420 "
       ]
      },
      {
       "output_type": "stream",
       "stream": "stdout",
       "text": [
        "430 "
       ]
      },
      {
       "output_type": "stream",
       "stream": "stdout",
       "text": [
        "440 "
       ]
      },
      {
       "output_type": "stream",
       "stream": "stdout",
       "text": [
        "450 "
       ]
      },
      {
       "output_type": "stream",
       "stream": "stdout",
       "text": [
        "460 "
       ]
      },
      {
       "output_type": "stream",
       "stream": "stdout",
       "text": [
        "470 "
       ]
      },
      {
       "output_type": "stream",
       "stream": "stdout",
       "text": [
        "480 "
       ]
      },
      {
       "output_type": "stream",
       "stream": "stdout",
       "text": [
        "490 "
       ]
      },
      {
       "output_type": "stream",
       "stream": "stdout",
       "text": [
        "500 "
       ]
      },
      {
       "output_type": "stream",
       "stream": "stdout",
       "text": [
        "510 "
       ]
      },
      {
       "output_type": "stream",
       "stream": "stdout",
       "text": [
        "520 "
       ]
      },
      {
       "output_type": "stream",
       "stream": "stdout",
       "text": [
        "530 "
       ]
      },
      {
       "output_type": "stream",
       "stream": "stdout",
       "text": [
        "540 "
       ]
      },
      {
       "output_type": "stream",
       "stream": "stdout",
       "text": [
        "550 "
       ]
      },
      {
       "output_type": "stream",
       "stream": "stdout",
       "text": [
        "560 "
       ]
      },
      {
       "output_type": "stream",
       "stream": "stdout",
       "text": [
        "570 "
       ]
      },
      {
       "output_type": "stream",
       "stream": "stdout",
       "text": [
        "580 "
       ]
      },
      {
       "output_type": "stream",
       "stream": "stdout",
       "text": [
        "590 "
       ]
      },
      {
       "output_type": "stream",
       "stream": "stdout",
       "text": [
        "600 "
       ]
      },
      {
       "output_type": "stream",
       "stream": "stdout",
       "text": [
        "610 "
       ]
      },
      {
       "output_type": "stream",
       "stream": "stdout",
       "text": [
        "620 "
       ]
      },
      {
       "output_type": "stream",
       "stream": "stdout",
       "text": [
        "630 "
       ]
      },
      {
       "output_type": "stream",
       "stream": "stdout",
       "text": [
        "640 "
       ]
      },
      {
       "output_type": "stream",
       "stream": "stdout",
       "text": [
        "650 "
       ]
      },
      {
       "output_type": "stream",
       "stream": "stdout",
       "text": [
        "660 "
       ]
      },
      {
       "output_type": "stream",
       "stream": "stdout",
       "text": [
        "670 "
       ]
      },
      {
       "output_type": "stream",
       "stream": "stdout",
       "text": [
        "680 "
       ]
      },
      {
       "output_type": "stream",
       "stream": "stdout",
       "text": [
        "690 "
       ]
      },
      {
       "output_type": "stream",
       "stream": "stdout",
       "text": [
        "700 "
       ]
      },
      {
       "output_type": "stream",
       "stream": "stdout",
       "text": [
        "710 "
       ]
      },
      {
       "output_type": "stream",
       "stream": "stdout",
       "text": [
        "720 "
       ]
      },
      {
       "output_type": "stream",
       "stream": "stdout",
       "text": [
        "730 "
       ]
      },
      {
       "output_type": "stream",
       "stream": "stdout",
       "text": [
        "740 "
       ]
      },
      {
       "output_type": "stream",
       "stream": "stdout",
       "text": [
        "750 "
       ]
      },
      {
       "output_type": "stream",
       "stream": "stdout",
       "text": [
        "760 "
       ]
      },
      {
       "output_type": "stream",
       "stream": "stdout",
       "text": [
        "770 "
       ]
      },
      {
       "output_type": "stream",
       "stream": "stdout",
       "text": [
        "780 "
       ]
      },
      {
       "output_type": "stream",
       "stream": "stdout",
       "text": [
        "790 "
       ]
      },
      {
       "output_type": "stream",
       "stream": "stdout",
       "text": [
        "800 "
       ]
      },
      {
       "output_type": "stream",
       "stream": "stdout",
       "text": [
        "810 "
       ]
      },
      {
       "output_type": "stream",
       "stream": "stdout",
       "text": [
        "820 "
       ]
      },
      {
       "output_type": "stream",
       "stream": "stdout",
       "text": [
        "830 "
       ]
      },
      {
       "output_type": "stream",
       "stream": "stdout",
       "text": [
        "840 "
       ]
      },
      {
       "output_type": "stream",
       "stream": "stdout",
       "text": [
        "850 "
       ]
      },
      {
       "output_type": "stream",
       "stream": "stdout",
       "text": [
        "860 "
       ]
      },
      {
       "output_type": "stream",
       "stream": "stdout",
       "text": [
        "870 "
       ]
      },
      {
       "output_type": "stream",
       "stream": "stdout",
       "text": [
        "880 "
       ]
      },
      {
       "output_type": "stream",
       "stream": "stdout",
       "text": [
        "890 "
       ]
      },
      {
       "output_type": "stream",
       "stream": "stdout",
       "text": [
        "900 "
       ]
      },
      {
       "output_type": "stream",
       "stream": "stdout",
       "text": [
        "(-29512293.34) "
       ]
      },
      {
       "output_type": "stream",
       "stream": "stdout",
       "text": [
        "(-27953768.98) "
       ]
      },
      {
       "output_type": "stream",
       "stream": "stdout",
       "text": [
        "(-25489184.87) "
       ]
      },
      {
       "output_type": "stream",
       "stream": "stdout",
       "text": [
        "910 (-25489184.87) "
       ]
      },
      {
       "output_type": "stream",
       "stream": "stdout",
       "text": [
        "(-25489184.87) "
       ]
      },
      {
       "output_type": "stream",
       "stream": "stdout",
       "text": [
        "(-25489184.87) "
       ]
      },
      {
       "output_type": "stream",
       "stream": "stdout",
       "text": [
        "(-25489184.87) "
       ]
      },
      {
       "output_type": "stream",
       "stream": "stdout",
       "text": [
        "(-24862795.20) "
       ]
      },
      {
       "output_type": "stream",
       "stream": "stdout",
       "text": [
        "920 "
       ]
      },
      {
       "output_type": "stream",
       "stream": "stdout",
       "text": [
        "(-21630364.55) "
       ]
      },
      {
       "output_type": "stream",
       "stream": "stdout",
       "text": [
        "(-18995777.69) "
       ]
      },
      {
       "output_type": "stream",
       "stream": "stdout",
       "text": [
        "(-18825459.20) "
       ]
      },
      {
       "output_type": "stream",
       "stream": "stdout",
       "text": [
        "(-18825459.20) "
       ]
      },
      {
       "output_type": "stream",
       "stream": "stdout",
       "text": [
        "(-18825459.20) "
       ]
      },
      {
       "output_type": "stream",
       "stream": "stdout",
       "text": [
        "930 (-18825459.20) "
       ]
      },
      {
       "output_type": "stream",
       "stream": "stdout",
       "text": [
        "(-18152982.27) "
       ]
      },
      {
       "output_type": "stream",
       "stream": "stdout",
       "text": [
        "(-17877509.77) "
       ]
      },
      {
       "output_type": "stream",
       "stream": "stdout",
       "text": [
        "(-14587315.21) "
       ]
      },
      {
       "output_type": "stream",
       "stream": "stdout",
       "text": [
        "(-14587315.21) "
       ]
      },
      {
       "output_type": "stream",
       "stream": "stdout",
       "text": [
        "940 "
       ]
      },
      {
       "output_type": "stream",
       "stream": "stdout",
       "text": [
        "950 "
       ]
      },
      {
       "output_type": "stream",
       "stream": "stdout",
       "text": [
        "960 "
       ]
      },
      {
       "output_type": "stream",
       "stream": "stdout",
       "text": [
        "970 "
       ]
      },
      {
       "output_type": "stream",
       "stream": "stdout",
       "text": [
        "980 "
       ]
      },
      {
       "output_type": "stream",
       "stream": "stdout",
       "text": [
        "990\n"
       ]
      },
      {
       "output_type": "stream",
       "stream": "stdout",
       "text": [
        "-2789463.94922\n",
        "-14587315.2117\n",
        "[ 1  0  8 11 12 18 17 13  7  3  2 23 15 20  9  6  5 24 19 10 21  4 22 14 25 16]\n",
        "[12, 4, 19, 18, 1, 0, 11, 14, 8, 17, 15, 16, 9, 7, 21, 20, 23, 25, 6, 2, 5, 24, 3, 13, 22, 10]\n",
        "a   m b <- !\n",
        "b   e a <- !\n",
        "c   t i <- !\n",
        "d   s l <- !\n",
        "e   b m <- !\n",
        "f   a s <- !\n",
        "g   l r <- !\n",
        "h   o n <- !\n",
        "i   i h <- !\n",
        "j   r d <- !\n",
        "k   p c <- !\n",
        "l   q x <- !\n",
        "m   j p <- !\n",
        "n   h u <- !\n",
        "o   v j <- !\n",
        "p   u g <- !\n",
        "q   x f <- !\n",
        "r   z y <- !\n",
        "s   g t <- !\n",
        "t   c k <- !\n",
        "u   f v <- !\n",
        "v   y e <- !\n",
        "w   d w <- !\n",
        "x   n o <- !\n",
        "y   w z <- !\n",
        "z   k q <- !\n"
       ]
      }
     ],
     "prompt_number": 82
    },
    {
     "cell_type": "code",
     "collapsed": false,
     "input": [],
     "language": "python",
     "metadata": {},
     "outputs": []
    }
   ],
   "metadata": {}
  }
 ]
}